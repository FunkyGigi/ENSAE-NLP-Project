{
  "cells": [
    {
      "cell_type": "code",
      "source": [
        "import pandas as pd\n",
        "import os.path as op\n",
        "import re \n",
        "import numpy as np\n",
        "import matplotlib.pyplot as plt\n",
        "import nltk\n",
        "from gensim.models import Word2Vec\n",
        "import pandas as pd\n",
        "from glob import glob\n",
        "\n",
        "from sklearn.feature_extraction.text import CountVectorizer\n",
        "from sklearn.linear_model import LogisticRegression\n",
        "from sklearn.decomposition import PCA\n",
        "from sklearn.feature_extraction.text import TfidfTransformer\n",
        "from sklearn.pipeline import Pipeline\n",
        "from sklearn.metrics import confusion_matrix, ConfusionMatrixDisplay, classification_report\n",
        "from sklearn.naive_bayes import MultinomialNB\n",
        "\n",
        "from nltk import pos_tag, word_tokenize\n",
        "from nltk import SnowballStemmer\n",
        "from nltk import word_tokenize"
      ],
      "metadata": {
        "id": "TBefhk4vDyxX"
      },
      "execution_count": null,
      "outputs": []
    },
    {
      "cell_type": "code",
      "execution_count": null,
      "metadata": {
        "id": "Vk8hocq48Png",
        "colab": {
          "base_uri": "https://localhost:8080/",
          "height": 424
        },
        "outputId": "bfaff892-701a-473b-8963-af1082a6fc8b"
      },
      "outputs": [
        {
          "output_type": "execute_result",
          "data": {
            "text/plain": [
              "                                               Sentence Sentiment\n",
              "0     Technopolis plans to develop in stages an area...   neutral\n",
              "1     The international electronic industry company ...  negative\n",
              "2     With the new production plant the company woul...  positive\n",
              "3     According to the company 's updated strategy f...  positive\n",
              "4     FINANCING OF ASPOCOMP 'S GROWTH Aspocomp is ag...  positive\n",
              "...                                                 ...       ...\n",
              "4840  LONDON MarketWatch -- Share prices ended lower...  negative\n",
              "4841  Rinkuskiai 's beer sales fell by 6.5 per cent ...   neutral\n",
              "4842  Operating profit fell to EUR 35.4 mn from EUR ...  negative\n",
              "4843  Net sales of the Paper segment decreased to EU...  negative\n",
              "4844  Sales in Finland decreased by 10.5 % in Januar...  negative\n",
              "\n",
              "[4845 rows x 2 columns]"
            ],
            "text/html": [
              "\n",
              "  <div id=\"df-44498faa-3e13-4e7b-a457-25497f212653\">\n",
              "    <div class=\"colab-df-container\">\n",
              "      <div>\n",
              "<style scoped>\n",
              "    .dataframe tbody tr th:only-of-type {\n",
              "        vertical-align: middle;\n",
              "    }\n",
              "\n",
              "    .dataframe tbody tr th {\n",
              "        vertical-align: top;\n",
              "    }\n",
              "\n",
              "    .dataframe thead th {\n",
              "        text-align: right;\n",
              "    }\n",
              "</style>\n",
              "<table border=\"1\" class=\"dataframe\">\n",
              "  <thead>\n",
              "    <tr style=\"text-align: right;\">\n",
              "      <th></th>\n",
              "      <th>Sentence</th>\n",
              "      <th>Sentiment</th>\n",
              "    </tr>\n",
              "  </thead>\n",
              "  <tbody>\n",
              "    <tr>\n",
              "      <th>0</th>\n",
              "      <td>Technopolis plans to develop in stages an area...</td>\n",
              "      <td>neutral</td>\n",
              "    </tr>\n",
              "    <tr>\n",
              "      <th>1</th>\n",
              "      <td>The international electronic industry company ...</td>\n",
              "      <td>negative</td>\n",
              "    </tr>\n",
              "    <tr>\n",
              "      <th>2</th>\n",
              "      <td>With the new production plant the company woul...</td>\n",
              "      <td>positive</td>\n",
              "    </tr>\n",
              "    <tr>\n",
              "      <th>3</th>\n",
              "      <td>According to the company 's updated strategy f...</td>\n",
              "      <td>positive</td>\n",
              "    </tr>\n",
              "    <tr>\n",
              "      <th>4</th>\n",
              "      <td>FINANCING OF ASPOCOMP 'S GROWTH Aspocomp is ag...</td>\n",
              "      <td>positive</td>\n",
              "    </tr>\n",
              "    <tr>\n",
              "      <th>...</th>\n",
              "      <td>...</td>\n",
              "      <td>...</td>\n",
              "    </tr>\n",
              "    <tr>\n",
              "      <th>4840</th>\n",
              "      <td>LONDON MarketWatch -- Share prices ended lower...</td>\n",
              "      <td>negative</td>\n",
              "    </tr>\n",
              "    <tr>\n",
              "      <th>4841</th>\n",
              "      <td>Rinkuskiai 's beer sales fell by 6.5 per cent ...</td>\n",
              "      <td>neutral</td>\n",
              "    </tr>\n",
              "    <tr>\n",
              "      <th>4842</th>\n",
              "      <td>Operating profit fell to EUR 35.4 mn from EUR ...</td>\n",
              "      <td>negative</td>\n",
              "    </tr>\n",
              "    <tr>\n",
              "      <th>4843</th>\n",
              "      <td>Net sales of the Paper segment decreased to EU...</td>\n",
              "      <td>negative</td>\n",
              "    </tr>\n",
              "    <tr>\n",
              "      <th>4844</th>\n",
              "      <td>Sales in Finland decreased by 10.5 % in Januar...</td>\n",
              "      <td>negative</td>\n",
              "    </tr>\n",
              "  </tbody>\n",
              "</table>\n",
              "<p>4845 rows × 2 columns</p>\n",
              "</div>\n",
              "      <button class=\"colab-df-convert\" onclick=\"convertToInteractive('df-44498faa-3e13-4e7b-a457-25497f212653')\"\n",
              "              title=\"Convert this dataframe to an interactive table.\"\n",
              "              style=\"display:none;\">\n",
              "        \n",
              "  <svg xmlns=\"http://www.w3.org/2000/svg\" height=\"24px\"viewBox=\"0 0 24 24\"\n",
              "       width=\"24px\">\n",
              "    <path d=\"M0 0h24v24H0V0z\" fill=\"none\"/>\n",
              "    <path d=\"M18.56 5.44l.94 2.06.94-2.06 2.06-.94-2.06-.94-.94-2.06-.94 2.06-2.06.94zm-11 1L8.5 8.5l.94-2.06 2.06-.94-2.06-.94L8.5 2.5l-.94 2.06-2.06.94zm10 10l.94 2.06.94-2.06 2.06-.94-2.06-.94-.94-2.06-.94 2.06-2.06.94z\"/><path d=\"M17.41 7.96l-1.37-1.37c-.4-.4-.92-.59-1.43-.59-.52 0-1.04.2-1.43.59L10.3 9.45l-7.72 7.72c-.78.78-.78 2.05 0 2.83L4 21.41c.39.39.9.59 1.41.59.51 0 1.02-.2 1.41-.59l7.78-7.78 2.81-2.81c.8-.78.8-2.07 0-2.86zM5.41 20L4 18.59l7.72-7.72 1.47 1.35L5.41 20z\"/>\n",
              "  </svg>\n",
              "      </button>\n",
              "      \n",
              "  <style>\n",
              "    .colab-df-container {\n",
              "      display:flex;\n",
              "      flex-wrap:wrap;\n",
              "      gap: 12px;\n",
              "    }\n",
              "\n",
              "    .colab-df-convert {\n",
              "      background-color: #E8F0FE;\n",
              "      border: none;\n",
              "      border-radius: 50%;\n",
              "      cursor: pointer;\n",
              "      display: none;\n",
              "      fill: #1967D2;\n",
              "      height: 32px;\n",
              "      padding: 0 0 0 0;\n",
              "      width: 32px;\n",
              "    }\n",
              "\n",
              "    .colab-df-convert:hover {\n",
              "      background-color: #E2EBFA;\n",
              "      box-shadow: 0px 1px 2px rgba(60, 64, 67, 0.3), 0px 1px 3px 1px rgba(60, 64, 67, 0.15);\n",
              "      fill: #174EA6;\n",
              "    }\n",
              "\n",
              "    [theme=dark] .colab-df-convert {\n",
              "      background-color: #3B4455;\n",
              "      fill: #D2E3FC;\n",
              "    }\n",
              "\n",
              "    [theme=dark] .colab-df-convert:hover {\n",
              "      background-color: #434B5C;\n",
              "      box-shadow: 0px 1px 3px 1px rgba(0, 0, 0, 0.15);\n",
              "      filter: drop-shadow(0px 1px 2px rgba(0, 0, 0, 0.3));\n",
              "      fill: #FFFFFF;\n",
              "    }\n",
              "  </style>\n",
              "\n",
              "      <script>\n",
              "        const buttonEl =\n",
              "          document.querySelector('#df-44498faa-3e13-4e7b-a457-25497f212653 button.colab-df-convert');\n",
              "        buttonEl.style.display =\n",
              "          google.colab.kernel.accessAllowed ? 'block' : 'none';\n",
              "\n",
              "        async function convertToInteractive(key) {\n",
              "          const element = document.querySelector('#df-44498faa-3e13-4e7b-a457-25497f212653');\n",
              "          const dataTable =\n",
              "            await google.colab.kernel.invokeFunction('convertToInteractive',\n",
              "                                                     [key], {});\n",
              "          if (!dataTable) return;\n",
              "\n",
              "          const docLinkHtml = 'Like what you see? Visit the ' +\n",
              "            '<a target=\"_blank\" href=https://colab.research.google.com/notebooks/data_table.ipynb>data table notebook</a>'\n",
              "            + ' to learn more about interactive tables.';\n",
              "          element.innerHTML = '';\n",
              "          dataTable['output_type'] = 'display_data';\n",
              "          await google.colab.output.renderOutput(dataTable, element);\n",
              "          const docLink = document.createElement('div');\n",
              "          docLink.innerHTML = docLinkHtml;\n",
              "          element.appendChild(docLink);\n",
              "        }\n",
              "      </script>\n",
              "    </div>\n",
              "  </div>\n",
              "  "
            ]
          },
          "metadata": {},
          "execution_count": 4
        }
      ],
      "source": [
        "path = \"../Sentences_50Agree.xlsx\"\n",
        "df = pd.read_excel(path)\n",
        "df.columns = ['Sentence','Sentiment']\n",
        "df"
      ]
    },
    {
      "cell_type": "code",
      "source": [
        "def conv(x):\n",
        "  if x == 'negative' : \n",
        "    return(-1)\n",
        "  if x == 'neutral':\n",
        "    return(0)\n",
        "  else : \n",
        "    return(1)"
      ],
      "metadata": {
        "id": "tTX3zMWoD3I_"
      },
      "execution_count": null,
      "outputs": []
    },
    {
      "cell_type": "code",
      "source": [
        "df['Sentiment'] = df.apply(lambda r : conv(r['Sentiment']), axis=1)\n",
        "df = df.drop_duplicates()\n",
        "df"
      ],
      "metadata": {
        "colab": {
          "base_uri": "https://localhost:8080/",
          "height": 424
        },
        "id": "INiHBgfr_ZIh",
        "outputId": "c35ca4ac-f3d0-466c-83f9-5c914323f916"
      },
      "execution_count": null,
      "outputs": [
        {
          "output_type": "execute_result",
          "data": {
            "text/plain": [
              "                                               Sentence  Sentiment\n",
              "0     Technopolis plans to develop in stages an area...          0\n",
              "1     The international electronic industry company ...         -1\n",
              "2     With the new production plant the company woul...          1\n",
              "3     According to the company 's updated strategy f...          1\n",
              "4     FINANCING OF ASPOCOMP 'S GROWTH Aspocomp is ag...          1\n",
              "...                                                 ...        ...\n",
              "4840  LONDON MarketWatch -- Share prices ended lower...         -1\n",
              "4841  Rinkuskiai 's beer sales fell by 6.5 per cent ...          0\n",
              "4842  Operating profit fell to EUR 35.4 mn from EUR ...         -1\n",
              "4843  Net sales of the Paper segment decreased to EU...         -1\n",
              "4844  Sales in Finland decreased by 10.5 % in Januar...         -1\n",
              "\n",
              "[4839 rows x 2 columns]"
            ],
            "text/html": [
              "\n",
              "  <div id=\"df-341bee03-4d72-4306-8d19-0530c6578241\">\n",
              "    <div class=\"colab-df-container\">\n",
              "      <div>\n",
              "<style scoped>\n",
              "    .dataframe tbody tr th:only-of-type {\n",
              "        vertical-align: middle;\n",
              "    }\n",
              "\n",
              "    .dataframe tbody tr th {\n",
              "        vertical-align: top;\n",
              "    }\n",
              "\n",
              "    .dataframe thead th {\n",
              "        text-align: right;\n",
              "    }\n",
              "</style>\n",
              "<table border=\"1\" class=\"dataframe\">\n",
              "  <thead>\n",
              "    <tr style=\"text-align: right;\">\n",
              "      <th></th>\n",
              "      <th>Sentence</th>\n",
              "      <th>Sentiment</th>\n",
              "    </tr>\n",
              "  </thead>\n",
              "  <tbody>\n",
              "    <tr>\n",
              "      <th>0</th>\n",
              "      <td>Technopolis plans to develop in stages an area...</td>\n",
              "      <td>0</td>\n",
              "    </tr>\n",
              "    <tr>\n",
              "      <th>1</th>\n",
              "      <td>The international electronic industry company ...</td>\n",
              "      <td>-1</td>\n",
              "    </tr>\n",
              "    <tr>\n",
              "      <th>2</th>\n",
              "      <td>With the new production plant the company woul...</td>\n",
              "      <td>1</td>\n",
              "    </tr>\n",
              "    <tr>\n",
              "      <th>3</th>\n",
              "      <td>According to the company 's updated strategy f...</td>\n",
              "      <td>1</td>\n",
              "    </tr>\n",
              "    <tr>\n",
              "      <th>4</th>\n",
              "      <td>FINANCING OF ASPOCOMP 'S GROWTH Aspocomp is ag...</td>\n",
              "      <td>1</td>\n",
              "    </tr>\n",
              "    <tr>\n",
              "      <th>...</th>\n",
              "      <td>...</td>\n",
              "      <td>...</td>\n",
              "    </tr>\n",
              "    <tr>\n",
              "      <th>4840</th>\n",
              "      <td>LONDON MarketWatch -- Share prices ended lower...</td>\n",
              "      <td>-1</td>\n",
              "    </tr>\n",
              "    <tr>\n",
              "      <th>4841</th>\n",
              "      <td>Rinkuskiai 's beer sales fell by 6.5 per cent ...</td>\n",
              "      <td>0</td>\n",
              "    </tr>\n",
              "    <tr>\n",
              "      <th>4842</th>\n",
              "      <td>Operating profit fell to EUR 35.4 mn from EUR ...</td>\n",
              "      <td>-1</td>\n",
              "    </tr>\n",
              "    <tr>\n",
              "      <th>4843</th>\n",
              "      <td>Net sales of the Paper segment decreased to EU...</td>\n",
              "      <td>-1</td>\n",
              "    </tr>\n",
              "    <tr>\n",
              "      <th>4844</th>\n",
              "      <td>Sales in Finland decreased by 10.5 % in Januar...</td>\n",
              "      <td>-1</td>\n",
              "    </tr>\n",
              "  </tbody>\n",
              "</table>\n",
              "<p>4839 rows × 2 columns</p>\n",
              "</div>\n",
              "      <button class=\"colab-df-convert\" onclick=\"convertToInteractive('df-341bee03-4d72-4306-8d19-0530c6578241')\"\n",
              "              title=\"Convert this dataframe to an interactive table.\"\n",
              "              style=\"display:none;\">\n",
              "        \n",
              "  <svg xmlns=\"http://www.w3.org/2000/svg\" height=\"24px\"viewBox=\"0 0 24 24\"\n",
              "       width=\"24px\">\n",
              "    <path d=\"M0 0h24v24H0V0z\" fill=\"none\"/>\n",
              "    <path d=\"M18.56 5.44l.94 2.06.94-2.06 2.06-.94-2.06-.94-.94-2.06-.94 2.06-2.06.94zm-11 1L8.5 8.5l.94-2.06 2.06-.94-2.06-.94L8.5 2.5l-.94 2.06-2.06.94zm10 10l.94 2.06.94-2.06 2.06-.94-2.06-.94-.94-2.06-.94 2.06-2.06.94z\"/><path d=\"M17.41 7.96l-1.37-1.37c-.4-.4-.92-.59-1.43-.59-.52 0-1.04.2-1.43.59L10.3 9.45l-7.72 7.72c-.78.78-.78 2.05 0 2.83L4 21.41c.39.39.9.59 1.41.59.51 0 1.02-.2 1.41-.59l7.78-7.78 2.81-2.81c.8-.78.8-2.07 0-2.86zM5.41 20L4 18.59l7.72-7.72 1.47 1.35L5.41 20z\"/>\n",
              "  </svg>\n",
              "      </button>\n",
              "      \n",
              "  <style>\n",
              "    .colab-df-container {\n",
              "      display:flex;\n",
              "      flex-wrap:wrap;\n",
              "      gap: 12px;\n",
              "    }\n",
              "\n",
              "    .colab-df-convert {\n",
              "      background-color: #E8F0FE;\n",
              "      border: none;\n",
              "      border-radius: 50%;\n",
              "      cursor: pointer;\n",
              "      display: none;\n",
              "      fill: #1967D2;\n",
              "      height: 32px;\n",
              "      padding: 0 0 0 0;\n",
              "      width: 32px;\n",
              "    }\n",
              "\n",
              "    .colab-df-convert:hover {\n",
              "      background-color: #E2EBFA;\n",
              "      box-shadow: 0px 1px 2px rgba(60, 64, 67, 0.3), 0px 1px 3px 1px rgba(60, 64, 67, 0.15);\n",
              "      fill: #174EA6;\n",
              "    }\n",
              "\n",
              "    [theme=dark] .colab-df-convert {\n",
              "      background-color: #3B4455;\n",
              "      fill: #D2E3FC;\n",
              "    }\n",
              "\n",
              "    [theme=dark] .colab-df-convert:hover {\n",
              "      background-color: #434B5C;\n",
              "      box-shadow: 0px 1px 3px 1px rgba(0, 0, 0, 0.15);\n",
              "      filter: drop-shadow(0px 1px 2px rgba(0, 0, 0, 0.3));\n",
              "      fill: #FFFFFF;\n",
              "    }\n",
              "  </style>\n",
              "\n",
              "      <script>\n",
              "        const buttonEl =\n",
              "          document.querySelector('#df-341bee03-4d72-4306-8d19-0530c6578241 button.colab-df-convert');\n",
              "        buttonEl.style.display =\n",
              "          google.colab.kernel.accessAllowed ? 'block' : 'none';\n",
              "\n",
              "        async function convertToInteractive(key) {\n",
              "          const element = document.querySelector('#df-341bee03-4d72-4306-8d19-0530c6578241');\n",
              "          const dataTable =\n",
              "            await google.colab.kernel.invokeFunction('convertToInteractive',\n",
              "                                                     [key], {});\n",
              "          if (!dataTable) return;\n",
              "\n",
              "          const docLinkHtml = 'Like what you see? Visit the ' +\n",
              "            '<a target=\"_blank\" href=https://colab.research.google.com/notebooks/data_table.ipynb>data table notebook</a>'\n",
              "            + ' to learn more about interactive tables.';\n",
              "          element.innerHTML = '';\n",
              "          dataTable['output_type'] = 'display_data';\n",
              "          await google.colab.output.renderOutput(dataTable, element);\n",
              "          const docLink = document.createElement('div');\n",
              "          docLink.innerHTML = docLinkHtml;\n",
              "          element.appendChild(docLink);\n",
              "        }\n",
              "      </script>\n",
              "    </div>\n",
              "  </div>\n",
              "  "
            ]
          },
          "metadata": {},
          "execution_count": 6
        }
      ]
    },
    {
      "cell_type": "markdown",
      "source": [
        "### Zipf's Law"
      ],
      "metadata": {
        "id": "bqDI2XwvIfLt"
      }
    },
    {
      "cell_type": "code",
      "source": [
        "import matplotlib.pyplot as plt\n",
        "from collections import Counter\n",
        "from nltk.tokenize import TweetTokenizer\n",
        "import numpy as np\n",
        "Sentences = [df['Sentence'].values[i] for i in range(len(df))]\n",
        "tok = TweetTokenizer()\n",
        "arr = np.array([tok.tokenize(x) for x in Sentences])\n",
        "arr = [ x for X in arr for x in X]\n",
        "c = Counter(arr)\n",
        "d = pd.DataFrame(c, index=['occurrences']).transpose().reset_index()\n",
        "d.columns=['word', 'occurences']\n",
        "  # Computing frequencies instead of occurences\n",
        "nb_total = d.occurences.sum()\n",
        "d['freq'] = d.occurences.apply(lambda x: x/nb_total)\n",
        "  # Sorting by frequency, most frequent word at the top of the df\n",
        "d = d.sort_values('freq', ascending=False)\n",
        "plt.figure()\n",
        "plt.grid()\n",
        "plt.xscale('log')  # Using log scale\n",
        "plt.yscale('log')  # Using log scale\n",
        "plt.xlabel('log(rank)')\n",
        "plt.ylabel('log(frequency)')\n",
        "plt.title(\"Tokenizer : {0}\".format(tok))\n",
        "x = list(range(d.shape[0]))\n",
        "plt.plot(x, d.freq)\n",
        "plt.show()"
      ],
      "metadata": {
        "id": "ZGo-qtpo6iK-",
        "colab": {
          "base_uri": "https://localhost:8080/",
          "height": 354
        },
        "outputId": "35788c7b-31ac-43b6-83d9-71e5b47f25f0"
      },
      "execution_count": null,
      "outputs": [
        {
          "output_type": "stream",
          "name": "stderr",
          "text": [
            "/usr/local/lib/python3.7/dist-packages/ipykernel_launcher.py:7: VisibleDeprecationWarning: Creating an ndarray from ragged nested sequences (which is a list-or-tuple of lists-or-tuples-or ndarrays with different lengths or shapes) is deprecated. If you meant to do this, you must specify 'dtype=object' when creating the ndarray.\n",
            "  import sys\n"
          ]
        },
        {
          "output_type": "display_data",
          "data": {
            "text/plain": [
              "<Figure size 432x288 with 1 Axes>"
            ],
            "image/png": "[encoded data removed]"
          },
          "metadata": {
            "needs_background": "light"
          }
        }
      ]
    },
    {
      "cell_type": "markdown",
      "source": [
        "### Keeping only nouns and adjectives to plot occurences of words\n"
      ],
      "metadata": {
        "id": "F4-Pt3U9IyVo"
      }
    },
    {
      "cell_type": "code",
      "source": [
        "import nltk\n",
        "nltk.download('averaged_perceptron_tagger')\n",
        "d['type'] = nltk.pos_tag(list(d.word))\n",
        "d['type'] = d.apply(lambda r : r['type'][1], axis=1)\n",
        "d"
      ],
      "metadata": {
        "colab": {
          "base_uri": "https://localhost:8080/",
          "height": 493
        },
        "id": "GP4Hd3G1JAOk",
        "outputId": "eaf94bd8-1d00-4914-82df-8eb1c5f9b21f"
      },
      "execution_count": null,
      "outputs": [
        {
          "output_type": "stream",
          "name": "stdout",
          "text": [
            "[nltk_data] Downloading package averaged_perceptron_tagger to\n",
            "[nltk_data]     /root/nltk_data...\n",
            "[nltk_data]   Package averaged_perceptron_tagger is already up-to-\n",
            "[nltk_data]       date!\n"
          ]
        },
        {
          "output_type": "execute_result",
          "data": {
            "text/plain": [
              "              word  occurences      freq  type\n",
              "27               .        5508  0.047638     .\n",
              "24             the        4708  0.040719    DT\n",
              "23               ,        4702  0.040667     ,\n",
              "8               of        3200  0.027676    IN\n",
              "4               in        2749  0.023776    IN\n",
              "...            ...         ...       ...   ...\n",
              "6937   Communities           1  0.000009  NNPS\n",
              "6936        Search           1  0.000009   NNP\n",
              "6935      Location           1  0.000009   NNP\n",
              "6934       Skanssi           1  0.000009   NNP\n",
              "12728        241.1           1  0.000009    CD\n",
              "\n",
              "[12729 rows x 4 columns]"
            ],
            "text/html": [
              "\n",
              "  <div id=\"df-1e7665f5-b8ec-4490-824f-6b96bf14432f\">\n",
              "    <div class=\"colab-df-container\">\n",
              "      <div>\n",
              "<style scoped>\n",
              "    .dataframe tbody tr th:only-of-type {\n",
              "        vertical-align: middle;\n",
              "    }\n",
              "\n",
              "    .dataframe tbody tr th {\n",
              "        vertical-align: top;\n",
              "    }\n",
              "\n",
              "    .dataframe thead th {\n",
              "        text-align: right;\n",
              "    }\n",
              "</style>\n",
              "<table border=\"1\" class=\"dataframe\">\n",
              "  <thead>\n",
              "    <tr style=\"text-align: right;\">\n",
              "      <th></th>\n",
              "      <th>word</th>\n",
              "      <th>occurences</th>\n",
              "      <th>freq</th>\n",
              "      <th>type</th>\n",
              "    </tr>\n",
              "  </thead>\n",
              "  <tbody>\n",
              "    <tr>\n",
              "      <th>27</th>\n",
              "      <td>.</td>\n",
              "      <td>5508</td>\n",
              "      <td>0.047638</td>\n",
              "      <td>.</td>\n",
              "    </tr>\n",
              "    <tr>\n",
              "      <th>24</th>\n",
              "      <td>the</td>\n",
              "      <td>4708</td>\n",
              "      <td>0.040719</td>\n",
              "      <td>DT</td>\n",
              "    </tr>\n",
              "    <tr>\n",
              "      <th>23</th>\n",
              "      <td>,</td>\n",
              "      <td>4702</td>\n",
              "      <td>0.040667</td>\n",
              "      <td>,</td>\n",
              "    </tr>\n",
              "    <tr>\n",
              "      <th>8</th>\n",
              "      <td>of</td>\n",
              "      <td>3200</td>\n",
              "      <td>0.027676</td>\n",
              "      <td>IN</td>\n",
              "    </tr>\n",
              "    <tr>\n",
              "      <th>4</th>\n",
              "      <td>in</td>\n",
              "      <td>2749</td>\n",
              "      <td>0.023776</td>\n",
              "      <td>IN</td>\n",
              "    </tr>\n",
              "    <tr>\n",
              "      <th>...</th>\n",
              "      <td>...</td>\n",
              "      <td>...</td>\n",
              "      <td>...</td>\n",
              "      <td>...</td>\n",
              "    </tr>\n",
              "    <tr>\n",
              "      <th>6937</th>\n",
              "      <td>Communities</td>\n",
              "      <td>1</td>\n",
              "      <td>0.000009</td>\n",
              "      <td>NNPS</td>\n",
              "    </tr>\n",
              "    <tr>\n",
              "      <th>6936</th>\n",
              "      <td>Search</td>\n",
              "      <td>1</td>\n",
              "      <td>0.000009</td>\n",
              "      <td>NNP</td>\n",
              "    </tr>\n",
              "    <tr>\n",
              "      <th>6935</th>\n",
              "      <td>Location</td>\n",
              "      <td>1</td>\n",
              "      <td>0.000009</td>\n",
              "      <td>NNP</td>\n",
              "    </tr>\n",
              "    <tr>\n",
              "      <th>6934</th>\n",
              "      <td>Skanssi</td>\n",
              "      <td>1</td>\n",
              "      <td>0.000009</td>\n",
              "      <td>NNP</td>\n",
              "    </tr>\n",
              "    <tr>\n",
              "      <th>12728</th>\n",
              "      <td>241.1</td>\n",
              "      <td>1</td>\n",
              "      <td>0.000009</td>\n",
              "      <td>CD</td>\n",
              "    </tr>\n",
              "  </tbody>\n",
              "</table>\n",
              "<p>12729 rows × 4 columns</p>\n",
              "</div>\n",
              "      <button class=\"colab-df-convert\" onclick=\"convertToInteractive('df-1e7665f5-b8ec-4490-824f-6b96bf14432f')\"\n",
              "              title=\"Convert this dataframe to an interactive table.\"\n",
              "              style=\"display:none;\">\n",
              "        \n",
              "  <svg xmlns=\"http://www.w3.org/2000/svg\" height=\"24px\"viewBox=\"0 0 24 24\"\n",
              "       width=\"24px\">\n",
              "    <path d=\"M0 0h24v24H0V0z\" fill=\"none\"/>\n",
              "    <path d=\"M18.56 5.44l.94 2.06.94-2.06 2.06-.94-2.06-.94-.94-2.06-.94 2.06-2.06.94zm-11 1L8.5 8.5l.94-2.06 2.06-.94-2.06-.94L8.5 2.5l-.94 2.06-2.06.94zm10 10l.94 2.06.94-2.06 2.06-.94-2.06-.94-.94-2.06-.94 2.06-2.06.94z\"/><path d=\"M17.41 7.96l-1.37-1.37c-.4-.4-.92-.59-1.43-.59-.52 0-1.04.2-1.43.59L10.3 9.45l-7.72 7.72c-.78.78-.78 2.05 0 2.83L4 21.41c.39.39.9.59 1.41.59.51 0 1.02-.2 1.41-.59l7.78-7.78 2.81-2.81c.8-.78.8-2.07 0-2.86zM5.41 20L4 18.59l7.72-7.72 1.47 1.35L5.41 20z\"/>\n",
              "  </svg>\n",
              "      </button>\n",
              "      \n",
              "  <style>\n",
              "    .colab-df-container {\n",
              "      display:flex;\n",
              "      flex-wrap:wrap;\n",
              "      gap: 12px;\n",
              "    }\n",
              "\n",
              "    .colab-df-convert {\n",
              "      background-color: #E8F0FE;\n",
              "      border: none;\n",
              "      border-radius: 50%;\n",
              "      cursor: pointer;\n",
              "      display: none;\n",
              "      fill: #1967D2;\n",
              "      height: 32px;\n",
              "      padding: 0 0 0 0;\n",
              "      width: 32px;\n",
              "    }\n",
              "\n",
              "    .colab-df-convert:hover {\n",
              "      background-color: #E2EBFA;\n",
              "      box-shadow: 0px 1px 2px rgba(60, 64, 67, 0.3), 0px 1px 3px 1px rgba(60, 64, 67, 0.15);\n",
              "      fill: #174EA6;\n",
              "    }\n",
              "\n",
              "    [theme=dark] .colab-df-convert {\n",
              "      background-color: #3B4455;\n",
              "      fill: #D2E3FC;\n",
              "    }\n",
              "\n",
              "    [theme=dark] .colab-df-convert:hover {\n",
              "      background-color: #434B5C;\n",
              "      box-shadow: 0px 1px 3px 1px rgba(0, 0, 0, 0.15);\n",
              "      filter: drop-shadow(0px 1px 2px rgba(0, 0, 0, 0.3));\n",
              "      fill: #FFFFFF;\n",
              "    }\n",
              "  </style>\n",
              "\n",
              "      <script>\n",
              "        const buttonEl =\n",
              "          document.querySelector('#df-1e7665f5-b8ec-4490-824f-6b96bf14432f button.colab-df-convert');\n",
              "        buttonEl.style.display =\n",
              "          google.colab.kernel.accessAllowed ? 'block' : 'none';\n",
              "\n",
              "        async function convertToInteractive(key) {\n",
              "          const element = document.querySelector('#df-1e7665f5-b8ec-4490-824f-6b96bf14432f');\n",
              "          const dataTable =\n",
              "            await google.colab.kernel.invokeFunction('convertToInteractive',\n",
              "                                                     [key], {});\n",
              "          if (!dataTable) return;\n",
              "\n",
              "          const docLinkHtml = 'Like what you see? Visit the ' +\n",
              "            '<a target=\"_blank\" href=https://colab.research.google.com/notebooks/data_table.ipynb>data table notebook</a>'\n",
              "            + ' to learn more about interactive tables.';\n",
              "          element.innerHTML = '';\n",
              "          dataTable['output_type'] = 'display_data';\n",
              "          await google.colab.output.renderOutput(dataTable, element);\n",
              "          const docLink = document.createElement('div');\n",
              "          docLink.innerHTML = docLinkHtml;\n",
              "          element.appendChild(docLink);\n",
              "        }\n",
              "      </script>\n",
              "    </div>\n",
              "  </div>\n",
              "  "
            ]
          },
          "metadata": {},
          "execution_count": 16
        }
      ]
    },
    {
      "cell_type": "code",
      "source": [
        "d_clean = d[(d['type'].str[0].isin(['N', 'J'])) & (d['word'] != 's')]"
      ],
      "metadata": {
        "id": "mssiJi5piNWH"
      },
      "execution_count": null,
      "outputs": []
    },
    {
      "cell_type": "markdown",
      "source": [
        "### WordCloud representation of words occurences"
      ],
      "metadata": {
        "id": "t8MEPdxLJAYH"
      }
    },
    {
      "cell_type": "code",
      "source": [
        "from wordcloud import WordCloud\n",
        "word_count_dict = d_clean.set_index('word')[['occurences']].to_dict()['occurences']\n",
        "plt.figure(figsize=(10,10))\n",
        "wc = WordCloud(background_color=\"white\", max_words=1000)\n",
        "wc.generate_from_frequencies(word_count_dict)\n",
        "plt.clf()\n",
        "plt.imshow(wc)\n",
        "plt.axis('off')\n",
        "plt.show()"
      ],
      "metadata": {
        "colab": {
          "base_uri": "https://localhost:8080/",
          "height": 310
        },
        "id": "GR1dfR_fefkc",
        "outputId": "5dbdaf71-5830-4407-aa4d-fbecded7b4a9"
      },
      "execution_count": null,
      "outputs": [
        {
          "output_type": "display_data",
          "data": {
            "text/plain": [
              "<Figure size 720x720 with 1 Axes>"
            ],
            "image/png": "[encoded data removed]"
          },
          "metadata": {
            "needs_background": "light"
          }
        }
      ]
    },
    {
      "cell_type": "markdown",
      "source": [
        "### Bar Plot of most frequent words"
      ],
      "metadata": {
        "id": "tRTY0WNnJFh8"
      }
    },
    {
      "cell_type": "code",
      "source": [
        "plt.figure(figsize=(10,10))\n",
        "top = 25\n",
        "popular_words = sorted(word_count_dict, key = word_count_dict.get, reverse = True)\n",
        "#popular_words_nonstop = [w for w in popular_words if w not in stopwords.words(\"english\")]\n",
        "plt.barh(range(top), [word_count_dict[w] for w in reversed(popular_words[0:top])])\n",
        "plt.yticks([x for x in range(top)], reversed(popular_words[0:top]))\n",
        "#plt.title(title)\n",
        "plt.show()"
      ],
      "metadata": {
        "colab": {
          "base_uri": "https://localhost:8080/",
          "height": 592
        },
        "id": "HT6RvUPiizs7",
        "outputId": "731458d0-c435-4d62-a6a5-2261c008b91a"
      },
      "execution_count": null,
      "outputs": [
        {
          "output_type": "display_data",
          "data": {
            "text/plain": [
              "<Figure size 720x720 with 1 Axes>"
            ],
            "image/png": "[encoded data removed]"
          },
          "metadata": {
            "needs_background": "light"
          }
        }
      ]
    },
    {
      "cell_type": "markdown",
      "source": [
        "### Inbalanced data : **604** negative, **2872** neutral and **1363** positive"
      ],
      "metadata": {
        "id": "oxJU7TBqJyRB"
      }
    },
    {
      "cell_type": "code",
      "source": [
        "df['Sentiment'].value_counts().plot.bar(rot=0)"
      ],
      "metadata": {
        "colab": {
          "base_uri": "https://localhost:8080/",
          "height": 285
        },
        "id": "S2mSq3egjOUb",
        "outputId": "c573d141-23df-4768-f7a7-e88b816bf6c2"
      },
      "execution_count": null,
      "outputs": [
        {
          "output_type": "execute_result",
          "data": {
            "text/plain": [
              "<matplotlib.axes._subplots.AxesSubplot at 0x7fbd0c1b0e10>"
            ]
          },
          "metadata": {},
          "execution_count": 20
        },
        {
          "output_type": "display_data",
          "data": {
            "text/plain": [
              "<Figure size 432x288 with 1 Axes>"
            ],
            "image/png": "[encoded data removed]"
          },
          "metadata": {
            "needs_background": "light"
          }
        }
      ]
    },
    {
      "cell_type": "markdown",
      "source": [
        "### Checking if words are connoted \n",
        "*scale = (occurences in negative reviews + occurences in positive reviews)/(total of occurences)*"
      ],
      "metadata": {
        "id": "UxjAAix1KJMI"
      }
    },
    {
      "cell_type": "code",
      "source": [
        "test = df.copy()\n",
        "test['Sentence'] = [tok.tokenize(x) for x in Sentences]\n",
        "test_bis = test.apply(lambda x: pd.Series(x['Sentence']),axis=1).stack().reset_index(level=1, drop=True)\n",
        "test_bis.name = 'Sentence'\n",
        "test = test.drop('Sentence', axis=1).join(test_bis)\n",
        "test['Notation'] = test['Sentiment']\n",
        "count_df = test.groupby(['Sentence', 'Sentiment']).count().reset_index()\n",
        "count_df['pond'] = count_df.apply(lambda x : x['Sentiment']*x['Notation'],axis=1)\n",
        "count_df = count_df.groupby('Sentence').sum().drop(count_df.columns[1], axis=1)\n",
        "count_df['scale'] = count_df.apply(lambda x : x['pond']/x['Notation'], axis=1)\n",
        "count_df = count_df.drop(['pond'],axis=1).rename(columns={count_df.columns[0]:'Count'})\n",
        "d['scale'] = list(count_df.loc[list(d.word)]['scale'])\n",
        "d"
      ],
      "metadata": {
        "colab": {
          "base_uri": "https://localhost:8080/",
          "height": 424
        },
        "id": "PytHDeTmszYf",
        "outputId": "d2c1b2bb-4aad-4be9-8137-5f7c650fd724"
      },
      "execution_count": null,
      "outputs": [
        {
          "output_type": "execute_result",
          "data": {
            "text/plain": [
              "              word  occurences      freq  type     scale\n",
              "27               .        5508  0.047638     .  0.155229\n",
              "24             the        4708  0.040719    DT  0.138700\n",
              "23               ,        4702  0.040667     ,  0.161846\n",
              "8               of        3200  0.027676    IN  0.127188\n",
              "4               in        2749  0.023776    IN  0.173518\n",
              "...            ...         ...       ...   ...       ...\n",
              "6937   Communities           1  0.000009  NNPS  1.000000\n",
              "6936        Search           1  0.000009   NNP  1.000000\n",
              "6935      Location           1  0.000009   NNP  1.000000\n",
              "6934       Skanssi           1  0.000009   NNP  1.000000\n",
              "12728        241.1           1  0.000009    CD -1.000000\n",
              "\n",
              "[12729 rows x 5 columns]"
            ],
            "text/html": [
              "\n",
              "  <div id=\"df-509e13df-9ec4-4d2c-ac19-36683e2678d6\">\n",
              "    <div class=\"colab-df-container\">\n",
              "      <div>\n",
              "<style scoped>\n",
              "    .dataframe tbody tr th:only-of-type {\n",
              "        vertical-align: middle;\n",
              "    }\n",
              "\n",
              "    .dataframe tbody tr th {\n",
              "        vertical-align: top;\n",
              "    }\n",
              "\n",
              "    .dataframe thead th {\n",
              "        text-align: right;\n",
              "    }\n",
              "</style>\n",
              "<table border=\"1\" class=\"dataframe\">\n",
              "  <thead>\n",
              "    <tr style=\"text-align: right;\">\n",
              "      <th></th>\n",
              "      <th>word</th>\n",
              "      <th>occurences</th>\n",
              "      <th>freq</th>\n",
              "      <th>type</th>\n",
              "      <th>scale</th>\n",
              "    </tr>\n",
              "  </thead>\n",
              "  <tbody>\n",
              "    <tr>\n",
              "      <th>27</th>\n",
              "      <td>.</td>\n",
              "      <td>5508</td>\n",
              "      <td>0.047638</td>\n",
              "      <td>.</td>\n",
              "      <td>0.155229</td>\n",
              "    </tr>\n",
              "    <tr>\n",
              "      <th>24</th>\n",
              "      <td>the</td>\n",
              "      <td>4708</td>\n",
              "      <td>0.040719</td>\n",
              "      <td>DT</td>\n",
              "      <td>0.138700</td>\n",
              "    </tr>\n",
              "    <tr>\n",
              "      <th>23</th>\n",
              "      <td>,</td>\n",
              "      <td>4702</td>\n",
              "      <td>0.040667</td>\n",
              "      <td>,</td>\n",
              "      <td>0.161846</td>\n",
              "    </tr>\n",
              "    <tr>\n",
              "      <th>8</th>\n",
              "      <td>of</td>\n",
              "      <td>3200</td>\n",
              "      <td>0.027676</td>\n",
              "      <td>IN</td>\n",
              "      <td>0.127188</td>\n",
              "    </tr>\n",
              "    <tr>\n",
              "      <th>4</th>\n",
              "      <td>in</td>\n",
              "      <td>2749</td>\n",
              "      <td>0.023776</td>\n",
              "      <td>IN</td>\n",
              "      <td>0.173518</td>\n",
              "    </tr>\n",
              "    <tr>\n",
              "      <th>...</th>\n",
              "      <td>...</td>\n",
              "      <td>...</td>\n",
              "      <td>...</td>\n",
              "      <td>...</td>\n",
              "      <td>...</td>\n",
              "    </tr>\n",
              "    <tr>\n",
              "      <th>6937</th>\n",
              "      <td>Communities</td>\n",
              "      <td>1</td>\n",
              "      <td>0.000009</td>\n",
              "      <td>NNPS</td>\n",
              "      <td>1.000000</td>\n",
              "    </tr>\n",
              "    <tr>\n",
              "      <th>6936</th>\n",
              "      <td>Search</td>\n",
              "      <td>1</td>\n",
              "      <td>0.000009</td>\n",
              "      <td>NNP</td>\n",
              "      <td>1.000000</td>\n",
              "    </tr>\n",
              "    <tr>\n",
              "      <th>6935</th>\n",
              "      <td>Location</td>\n",
              "      <td>1</td>\n",
              "      <td>0.000009</td>\n",
              "      <td>NNP</td>\n",
              "      <td>1.000000</td>\n",
              "    </tr>\n",
              "    <tr>\n",
              "      <th>6934</th>\n",
              "      <td>Skanssi</td>\n",
              "      <td>1</td>\n",
              "      <td>0.000009</td>\n",
              "      <td>NNP</td>\n",
              "      <td>1.000000</td>\n",
              "    </tr>\n",
              "    <tr>\n",
              "      <th>12728</th>\n",
              "      <td>241.1</td>\n",
              "      <td>1</td>\n",
              "      <td>0.000009</td>\n",
              "      <td>CD</td>\n",
              "      <td>-1.000000</td>\n",
              "    </tr>\n",
              "  </tbody>\n",
              "</table>\n",
              "<p>12729 rows × 5 columns</p>\n",
              "</div>\n",
              "      <button class=\"colab-df-convert\" onclick=\"convertToInteractive('df-509e13df-9ec4-4d2c-ac19-36683e2678d6')\"\n",
              "              title=\"Convert this dataframe to an interactive table.\"\n",
              "              style=\"display:none;\">\n",
              "        \n",
              "  <svg xmlns=\"http://www.w3.org/2000/svg\" height=\"24px\"viewBox=\"0 0 24 24\"\n",
              "       width=\"24px\">\n",
              "    <path d=\"M0 0h24v24H0V0z\" fill=\"none\"/>\n",
              "    <path d=\"M18.56 5.44l.94 2.06.94-2.06 2.06-.94-2.06-.94-.94-2.06-.94 2.06-2.06.94zm-11 1L8.5 8.5l.94-2.06 2.06-.94-2.06-.94L8.5 2.5l-.94 2.06-2.06.94zm10 10l.94 2.06.94-2.06 2.06-.94-2.06-.94-.94-2.06-.94 2.06-2.06.94z\"/><path d=\"M17.41 7.96l-1.37-1.37c-.4-.4-.92-.59-1.43-.59-.52 0-1.04.2-1.43.59L10.3 9.45l-7.72 7.72c-.78.78-.78 2.05 0 2.83L4 21.41c.39.39.9.59 1.41.59.51 0 1.02-.2 1.41-.59l7.78-7.78 2.81-2.81c.8-.78.8-2.07 0-2.86zM5.41 20L4 18.59l7.72-7.72 1.47 1.35L5.41 20z\"/>\n",
              "  </svg>\n",
              "      </button>\n",
              "      \n",
              "  <style>\n",
              "    .colab-df-container {\n",
              "      display:flex;\n",
              "      flex-wrap:wrap;\n",
              "      gap: 12px;\n",
              "    }\n",
              "\n",
              "    .colab-df-convert {\n",
              "      background-color: #E8F0FE;\n",
              "      border: none;\n",
              "      border-radius: 50%;\n",
              "      cursor: pointer;\n",
              "      display: none;\n",
              "      fill: #1967D2;\n",
              "      height: 32px;\n",
              "      padding: 0 0 0 0;\n",
              "      width: 32px;\n",
              "    }\n",
              "\n",
              "    .colab-df-convert:hover {\n",
              "      background-color: #E2EBFA;\n",
              "      box-shadow: 0px 1px 2px rgba(60, 64, 67, 0.3), 0px 1px 3px 1px rgba(60, 64, 67, 0.15);\n",
              "      fill: #174EA6;\n",
              "    }\n",
              "\n",
              "    [theme=dark] .colab-df-convert {\n",
              "      background-color: #3B4455;\n",
              "      fill: #D2E3FC;\n",
              "    }\n",
              "\n",
              "    [theme=dark] .colab-df-convert:hover {\n",
              "      background-color: #434B5C;\n",
              "      box-shadow: 0px 1px 3px 1px rgba(0, 0, 0, 0.15);\n",
              "      filter: drop-shadow(0px 1px 2px rgba(0, 0, 0, 0.3));\n",
              "      fill: #FFFFFF;\n",
              "    }\n",
              "  </style>\n",
              "\n",
              "      <script>\n",
              "        const buttonEl =\n",
              "          document.querySelector('#df-509e13df-9ec4-4d2c-ac19-36683e2678d6 button.colab-df-convert');\n",
              "        buttonEl.style.display =\n",
              "          google.colab.kernel.accessAllowed ? 'block' : 'none';\n",
              "\n",
              "        async function convertToInteractive(key) {\n",
              "          const element = document.querySelector('#df-509e13df-9ec4-4d2c-ac19-36683e2678d6');\n",
              "          const dataTable =\n",
              "            await google.colab.kernel.invokeFunction('convertToInteractive',\n",
              "                                                     [key], {});\n",
              "          if (!dataTable) return;\n",
              "\n",
              "          const docLinkHtml = 'Like what you see? Visit the ' +\n",
              "            '<a target=\"_blank\" href=https://colab.research.google.com/notebooks/data_table.ipynb>data table notebook</a>'\n",
              "            + ' to learn more about interactive tables.';\n",
              "          element.innerHTML = '';\n",
              "          dataTable['output_type'] = 'display_data';\n",
              "          await google.colab.output.renderOutput(dataTable, element);\n",
              "          const docLink = document.createElement('div');\n",
              "          docLink.innerHTML = docLinkHtml;\n",
              "          element.appendChild(docLink);\n",
              "        }\n",
              "      </script>\n",
              "    </div>\n",
              "  </div>\n",
              "  "
            ]
          },
          "metadata": {},
          "execution_count": 23
        }
      ]
    },
    {
      "cell_type": "code",
      "source": [
        "d_anal = d[d.occurences > 10]"
      ],
      "metadata": {
        "id": "VBXKib9J0dHf"
      },
      "execution_count": null,
      "outputs": []
    },
    {
      "cell_type": "code",
      "source": [
        "len(d_anal)"
      ],
      "metadata": {
        "colab": {
          "base_uri": "https://localhost:8080/"
        },
        "id": "Z-YjgsLmtDRM",
        "outputId": "39fa2b00-e455-4d06-b032-898ad3a4e2e0"
      },
      "execution_count": null,
      "outputs": [
        {
          "output_type": "execute_result",
          "data": {
            "text/plain": [
              "1276"
            ]
          },
          "metadata": {},
          "execution_count": 26
        }
      ]
    },
    {
      "cell_type": "markdown",
      "source": [
        "Checking correlation between connotation of words and ranking in fequency. We could indeed assume that more a word occur, the more it is connoted as neutral. We see with the following figure that frequent word have are conoted positive or negative. We also see that on average words are conoted around 0.2. It could be explained by the unbalanced data"
      ],
      "metadata": {
        "id": "FYZPdDpoK-6d"
      }
    },
    {
      "cell_type": "code",
      "source": [
        "x = np.linspace(0,len(d_anal),len(d_anal))\n",
        "plt.plot(x,d_anal.scale)"
      ],
      "metadata": {
        "colab": {
          "base_uri": "https://localhost:8080/",
          "height": 282
        },
        "id": "fokMWwXC0wZD",
        "outputId": "db224a62-1732-414b-ca9c-de232e5f277b"
      },
      "execution_count": null,
      "outputs": [
        {
          "output_type": "execute_result",
          "data": {
            "text/plain": [
              "[<matplotlib.lines.Line2D at 0x7fbd0b519f90>]"
            ]
          },
          "metadata": {},
          "execution_count": 29
        },
        {
          "output_type": "display_data",
          "data": {
            "text/plain": [
              "<Figure size 432x288 with 1 Axes>"
            ],
            "image/png": "[encoded data removed]"
          },
          "metadata": {
            "needs_background": "light"
          }
        }
      ]
    },
    {
      "cell_type": "code",
      "source": [
        "d_anal = d_anal.sort_values(by=['scale'],ascending='False')\n",
        "d_anal"
      ],
      "metadata": {
        "colab": {
          "base_uri": "https://localhost:8080/",
          "height": 424
        },
        "id": "HJVI5YYgzWVA",
        "outputId": "70344407-7058-464b-ef5a-5275f9484c09"
      },
      "execution_count": null,
      "outputs": [
        {
          "output_type": "execute_result",
          "data": {
            "text/plain": [
              "              word  occurences      freq type     scale\n",
              "11343      warning          11  0.000095  VBG -1.000000\n",
              "4690   temporarily          14  0.000121   RB -0.928571\n",
              "5133           lay          11  0.000095  VBD -0.909091\n",
              "617           down          95  0.000822   IN -0.852632\n",
              "535      decreased          79  0.000683   JJ -0.835443\n",
              "...            ...         ...       ...  ...       ...\n",
              "3084       awarded          35  0.000303  VBN  0.914286\n",
              "3550     efficient          12  0.000104   JJ  0.916667\n",
              "879           grew          34  0.000294  VBD  0.970588\n",
              "3467      improved          21  0.000182   JJ  1.000000\n",
              "3279      narrowed          17  0.000147   JJ  1.000000\n",
              "\n",
              "[1276 rows x 5 columns]"
            ],
            "text/html": [
              "\n",
              "  <div id=\"df-db3746fa-19b1-4aa6-907f-c8897aad7589\">\n",
              "    <div class=\"colab-df-container\">\n",
              "      <div>\n",
              "<style scoped>\n",
              "    .dataframe tbody tr th:only-of-type {\n",
              "        vertical-align: middle;\n",
              "    }\n",
              "\n",
              "    .dataframe tbody tr th {\n",
              "        vertical-align: top;\n",
              "    }\n",
              "\n",
              "    .dataframe thead th {\n",
              "        text-align: right;\n",
              "    }\n",
              "</style>\n",
              "<table border=\"1\" class=\"dataframe\">\n",
              "  <thead>\n",
              "    <tr style=\"text-align: right;\">\n",
              "      <th></th>\n",
              "      <th>word</th>\n",
              "      <th>occurences</th>\n",
              "      <th>freq</th>\n",
              "      <th>type</th>\n",
              "      <th>scale</th>\n",
              "    </tr>\n",
              "  </thead>\n",
              "  <tbody>\n",
              "    <tr>\n",
              "      <th>11343</th>\n",
              "      <td>warning</td>\n",
              "      <td>11</td>\n",
              "      <td>0.000095</td>\n",
              "      <td>VBG</td>\n",
              "      <td>-1.000000</td>\n",
              "    </tr>\n",
              "    <tr>\n",
              "      <th>4690</th>\n",
              "      <td>temporarily</td>\n",
              "      <td>14</td>\n",
              "      <td>0.000121</td>\n",
              "      <td>RB</td>\n",
              "      <td>-0.928571</td>\n",
              "    </tr>\n",
              "    <tr>\n",
              "      <th>5133</th>\n",
              "      <td>lay</td>\n",
              "      <td>11</td>\n",
              "      <td>0.000095</td>\n",
              "      <td>VBD</td>\n",
              "      <td>-0.909091</td>\n",
              "    </tr>\n",
              "    <tr>\n",
              "      <th>617</th>\n",
              "      <td>down</td>\n",
              "      <td>95</td>\n",
              "      <td>0.000822</td>\n",
              "      <td>IN</td>\n",
              "      <td>-0.852632</td>\n",
              "    </tr>\n",
              "    <tr>\n",
              "      <th>535</th>\n",
              "      <td>decreased</td>\n",
              "      <td>79</td>\n",
              "      <td>0.000683</td>\n",
              "      <td>JJ</td>\n",
              "      <td>-0.835443</td>\n",
              "    </tr>\n",
              "    <tr>\n",
              "      <th>...</th>\n",
              "      <td>...</td>\n",
              "      <td>...</td>\n",
              "      <td>...</td>\n",
              "      <td>...</td>\n",
              "      <td>...</td>\n",
              "    </tr>\n",
              "    <tr>\n",
              "      <th>3084</th>\n",
              "      <td>awarded</td>\n",
              "      <td>35</td>\n",
              "      <td>0.000303</td>\n",
              "      <td>VBN</td>\n",
              "      <td>0.914286</td>\n",
              "    </tr>\n",
              "    <tr>\n",
              "      <th>3550</th>\n",
              "      <td>efficient</td>\n",
              "      <td>12</td>\n",
              "      <td>0.000104</td>\n",
              "      <td>JJ</td>\n",
              "      <td>0.916667</td>\n",
              "    </tr>\n",
              "    <tr>\n",
              "      <th>879</th>\n",
              "      <td>grew</td>\n",
              "      <td>34</td>\n",
              "      <td>0.000294</td>\n",
              "      <td>VBD</td>\n",
              "      <td>0.970588</td>\n",
              "    </tr>\n",
              "    <tr>\n",
              "      <th>3467</th>\n",
              "      <td>improved</td>\n",
              "      <td>21</td>\n",
              "      <td>0.000182</td>\n",
              "      <td>JJ</td>\n",
              "      <td>1.000000</td>\n",
              "    </tr>\n",
              "    <tr>\n",
              "      <th>3279</th>\n",
              "      <td>narrowed</td>\n",
              "      <td>17</td>\n",
              "      <td>0.000147</td>\n",
              "      <td>JJ</td>\n",
              "      <td>1.000000</td>\n",
              "    </tr>\n",
              "  </tbody>\n",
              "</table>\n",
              "<p>1276 rows × 5 columns</p>\n",
              "</div>\n",
              "      <button class=\"colab-df-convert\" onclick=\"convertToInteractive('df-db3746fa-19b1-4aa6-907f-c8897aad7589')\"\n",
              "              title=\"Convert this dataframe to an interactive table.\"\n",
              "              style=\"display:none;\">\n",
              "        \n",
              "  <svg xmlns=\"http://www.w3.org/2000/svg\" height=\"24px\"viewBox=\"0 0 24 24\"\n",
              "       width=\"24px\">\n",
              "    <path d=\"M0 0h24v24H0V0z\" fill=\"none\"/>\n",
              "    <path d=\"M18.56 5.44l.94 2.06.94-2.06 2.06-.94-2.06-.94-.94-2.06-.94 2.06-2.06.94zm-11 1L8.5 8.5l.94-2.06 2.06-.94-2.06-.94L8.5 2.5l-.94 2.06-2.06.94zm10 10l.94 2.06.94-2.06 2.06-.94-2.06-.94-.94-2.06-.94 2.06-2.06.94z\"/><path d=\"M17.41 7.96l-1.37-1.37c-.4-.4-.92-.59-1.43-.59-.52 0-1.04.2-1.43.59L10.3 9.45l-7.72 7.72c-.78.78-.78 2.05 0 2.83L4 21.41c.39.39.9.59 1.41.59.51 0 1.02-.2 1.41-.59l7.78-7.78 2.81-2.81c.8-.78.8-2.07 0-2.86zM5.41 20L4 18.59l7.72-7.72 1.47 1.35L5.41 20z\"/>\n",
              "  </svg>\n",
              "      </button>\n",
              "      \n",
              "  <style>\n",
              "    .colab-df-container {\n",
              "      display:flex;\n",
              "      flex-wrap:wrap;\n",
              "      gap: 12px;\n",
              "    }\n",
              "\n",
              "    .colab-df-convert {\n",
              "      background-color: #E8F0FE;\n",
              "      border: none;\n",
              "      border-radius: 50%;\n",
              "      cursor: pointer;\n",
              "      display: none;\n",
              "      fill: #1967D2;\n",
              "      height: 32px;\n",
              "      padding: 0 0 0 0;\n",
              "      width: 32px;\n",
              "    }\n",
              "\n",
              "    .colab-df-convert:hover {\n",
              "      background-color: #E2EBFA;\n",
              "      box-shadow: 0px 1px 2px rgba(60, 64, 67, 0.3), 0px 1px 3px 1px rgba(60, 64, 67, 0.15);\n",
              "      fill: #174EA6;\n",
              "    }\n",
              "\n",
              "    [theme=dark] .colab-df-convert {\n",
              "      background-color: #3B4455;\n",
              "      fill: #D2E3FC;\n",
              "    }\n",
              "\n",
              "    [theme=dark] .colab-df-convert:hover {\n",
              "      background-color: #434B5C;\n",
              "      box-shadow: 0px 1px 3px 1px rgba(0, 0, 0, 0.15);\n",
              "      filter: drop-shadow(0px 1px 2px rgba(0, 0, 0, 0.3));\n",
              "      fill: #FFFFFF;\n",
              "    }\n",
              "  </style>\n",
              "\n",
              "      <script>\n",
              "        const buttonEl =\n",
              "          document.querySelector('#df-db3746fa-19b1-4aa6-907f-c8897aad7589 button.colab-df-convert');\n",
              "        buttonEl.style.display =\n",
              "          google.colab.kernel.accessAllowed ? 'block' : 'none';\n",
              "\n",
              "        async function convertToInteractive(key) {\n",
              "          const element = document.querySelector('#df-db3746fa-19b1-4aa6-907f-c8897aad7589');\n",
              "          const dataTable =\n",
              "            await google.colab.kernel.invokeFunction('convertToInteractive',\n",
              "                                                     [key], {});\n",
              "          if (!dataTable) return;\n",
              "\n",
              "          const docLinkHtml = 'Like what you see? Visit the ' +\n",
              "            '<a target=\"_blank\" href=https://colab.research.google.com/notebooks/data_table.ipynb>data table notebook</a>'\n",
              "            + ' to learn more about interactive tables.';\n",
              "          element.innerHTML = '';\n",
              "          dataTable['output_type'] = 'display_data';\n",
              "          await google.colab.output.renderOutput(dataTable, element);\n",
              "          const docLink = document.createElement('div');\n",
              "          docLink.innerHTML = docLinkHtml;\n",
              "          element.appendChild(docLink);\n",
              "        }\n",
              "      </script>\n",
              "    </div>\n",
              "  </div>\n",
              "  "
            ]
          },
          "metadata": {},
          "execution_count": 30
        }
      ]
    },
    {
      "cell_type": "code",
      "source": [
        "d_anal.head(20) #the most negatively conoted words"
      ],
      "metadata": {
        "colab": {
          "base_uri": "https://localhost:8080/",
          "height": 677
        },
        "id": "ucugGqP83173",
        "outputId": "cccd9972-bf18-4686-cb44-cedbf333d09e"
      },
      "execution_count": null,
      "outputs": [
        {
          "output_type": "execute_result",
          "data": {
            "text/plain": [
              "              word  occurences      freq type     scale\n",
              "11343      warning          11  0.000095  VBG -1.000000\n",
              "4690   temporarily          14  0.000121   RB -0.928571\n",
              "5133           lay          11  0.000095  VBD -0.909091\n",
              "617           down          95  0.000822   IN -0.852632\n",
              "535      decreased          79  0.000683   JJ -0.835443\n",
              "858           fell          55  0.000476  VBD -0.800000\n",
              "3581       dropped          15  0.000130  VBD -0.800000\n",
              "3346         lower          39  0.000337  JJR -0.666667\n",
              "36             off          35  0.000303   RP -0.657143\n",
              "8644      lay-offs          17  0.000147   JJ -0.647059\n",
              "2779          fall          14  0.000121   NN -0.642857\n",
              "1098      declined          16  0.000138  VBD -0.625000\n",
              "7851           cut          22  0.000190   NN -0.590909\n",
              "3586          jobs          17  0.000147  NNS -0.588235\n",
              "5348         below          17  0.000147   IN -0.588235\n",
              "4578       Scanfil          26  0.000225  NNP -0.576923\n",
              "2731     temporary          18  0.000156   JJ -0.555556\n",
              "50         workers          13  0.000112  NNS -0.538462\n",
              "5152    employment          12  0.000104   NN -0.500000\n",
              "2829         staff          32  0.000277   NN -0.500000"
            ],
            "text/html": [
              "\n",
              "  <div id=\"df-06d3db6b-9bd5-49c6-8df9-826feff3be97\">\n",
              "    <div class=\"colab-df-container\">\n",
              "      <div>\n",
              "<style scoped>\n",
              "    .dataframe tbody tr th:only-of-type {\n",
              "        vertical-align: middle;\n",
              "    }\n",
              "\n",
              "    .dataframe tbody tr th {\n",
              "        vertical-align: top;\n",
              "    }\n",
              "\n",
              "    .dataframe thead th {\n",
              "        text-align: right;\n",
              "    }\n",
              "</style>\n",
              "<table border=\"1\" class=\"dataframe\">\n",
              "  <thead>\n",
              "    <tr style=\"text-align: right;\">\n",
              "      <th></th>\n",
              "      <th>word</th>\n",
              "      <th>occurences</th>\n",
              "      <th>freq</th>\n",
              "      <th>type</th>\n",
              "      <th>scale</th>\n",
              "    </tr>\n",
              "  </thead>\n",
              "  <tbody>\n",
              "    <tr>\n",
              "      <th>11343</th>\n",
              "      <td>warning</td>\n",
              "      <td>11</td>\n",
              "      <td>0.000095</td>\n",
              "      <td>VBG</td>\n",
              "      <td>-1.000000</td>\n",
              "    </tr>\n",
              "    <tr>\n",
              "      <th>4690</th>\n",
              "      <td>temporarily</td>\n",
              "      <td>14</td>\n",
              "      <td>0.000121</td>\n",
              "      <td>RB</td>\n",
              "      <td>-0.928571</td>\n",
              "    </tr>\n",
              "    <tr>\n",
              "      <th>5133</th>\n",
              "      <td>lay</td>\n",
              "      <td>11</td>\n",
              "      <td>0.000095</td>\n",
              "      <td>VBD</td>\n",
              "      <td>-0.909091</td>\n",
              "    </tr>\n",
              "    <tr>\n",
              "      <th>617</th>\n",
              "      <td>down</td>\n",
              "      <td>95</td>\n",
              "      <td>0.000822</td>\n",
              "      <td>IN</td>\n",
              "      <td>-0.852632</td>\n",
              "    </tr>\n",
              "    <tr>\n",
              "      <th>535</th>\n",
              "      <td>decreased</td>\n",
              "      <td>79</td>\n",
              "      <td>0.000683</td>\n",
              "      <td>JJ</td>\n",
              "      <td>-0.835443</td>\n",
              "    </tr>\n",
              "    <tr>\n",
              "      <th>858</th>\n",
              "      <td>fell</td>\n",
              "      <td>55</td>\n",
              "      <td>0.000476</td>\n",
              "      <td>VBD</td>\n",
              "      <td>-0.800000</td>\n",
              "    </tr>\n",
              "    <tr>\n",
              "      <th>3581</th>\n",
              "      <td>dropped</td>\n",
              "      <td>15</td>\n",
              "      <td>0.000130</td>\n",
              "      <td>VBD</td>\n",
              "      <td>-0.800000</td>\n",
              "    </tr>\n",
              "    <tr>\n",
              "      <th>3346</th>\n",
              "      <td>lower</td>\n",
              "      <td>39</td>\n",
              "      <td>0.000337</td>\n",
              "      <td>JJR</td>\n",
              "      <td>-0.666667</td>\n",
              "    </tr>\n",
              "    <tr>\n",
              "      <th>36</th>\n",
              "      <td>off</td>\n",
              "      <td>35</td>\n",
              "      <td>0.000303</td>\n",
              "      <td>RP</td>\n",
              "      <td>-0.657143</td>\n",
              "    </tr>\n",
              "    <tr>\n",
              "      <th>8644</th>\n",
              "      <td>lay-offs</td>\n",
              "      <td>17</td>\n",
              "      <td>0.000147</td>\n",
              "      <td>JJ</td>\n",
              "      <td>-0.647059</td>\n",
              "    </tr>\n",
              "    <tr>\n",
              "      <th>2779</th>\n",
              "      <td>fall</td>\n",
              "      <td>14</td>\n",
              "      <td>0.000121</td>\n",
              "      <td>NN</td>\n",
              "      <td>-0.642857</td>\n",
              "    </tr>\n",
              "    <tr>\n",
              "      <th>1098</th>\n",
              "      <td>declined</td>\n",
              "      <td>16</td>\n",
              "      <td>0.000138</td>\n",
              "      <td>VBD</td>\n",
              "      <td>-0.625000</td>\n",
              "    </tr>\n",
              "    <tr>\n",
              "      <th>7851</th>\n",
              "      <td>cut</td>\n",
              "      <td>22</td>\n",
              "      <td>0.000190</td>\n",
              "      <td>NN</td>\n",
              "      <td>-0.590909</td>\n",
              "    </tr>\n",
              "    <tr>\n",
              "      <th>3586</th>\n",
              "      <td>jobs</td>\n",
              "      <td>17</td>\n",
              "      <td>0.000147</td>\n",
              "      <td>NNS</td>\n",
              "      <td>-0.588235</td>\n",
              "    </tr>\n",
              "    <tr>\n",
              "      <th>5348</th>\n",
              "      <td>below</td>\n",
              "      <td>17</td>\n",
              "      <td>0.000147</td>\n",
              "      <td>IN</td>\n",
              "      <td>-0.588235</td>\n",
              "    </tr>\n",
              "    <tr>\n",
              "      <th>4578</th>\n",
              "      <td>Scanfil</td>\n",
              "      <td>26</td>\n",
              "      <td>0.000225</td>\n",
              "      <td>NNP</td>\n",
              "      <td>-0.576923</td>\n",
              "    </tr>\n",
              "    <tr>\n",
              "      <th>2731</th>\n",
              "      <td>temporary</td>\n",
              "      <td>18</td>\n",
              "      <td>0.000156</td>\n",
              "      <td>JJ</td>\n",
              "      <td>-0.555556</td>\n",
              "    </tr>\n",
              "    <tr>\n",
              "      <th>50</th>\n",
              "      <td>workers</td>\n",
              "      <td>13</td>\n",
              "      <td>0.000112</td>\n",
              "      <td>NNS</td>\n",
              "      <td>-0.538462</td>\n",
              "    </tr>\n",
              "    <tr>\n",
              "      <th>5152</th>\n",
              "      <td>employment</td>\n",
              "      <td>12</td>\n",
              "      <td>0.000104</td>\n",
              "      <td>NN</td>\n",
              "      <td>-0.500000</td>\n",
              "    </tr>\n",
              "    <tr>\n",
              "      <th>2829</th>\n",
              "      <td>staff</td>\n",
              "      <td>32</td>\n",
              "      <td>0.000277</td>\n",
              "      <td>NN</td>\n",
              "      <td>-0.500000</td>\n",
              "    </tr>\n",
              "  </tbody>\n",
              "</table>\n",
              "</div>\n",
              "      <button class=\"colab-df-convert\" onclick=\"convertToInteractive('df-06d3db6b-9bd5-49c6-8df9-826feff3be97')\"\n",
              "              title=\"Convert this dataframe to an interactive table.\"\n",
              "              style=\"display:none;\">\n",
              "        \n",
              "  <svg xmlns=\"http://www.w3.org/2000/svg\" height=\"24px\"viewBox=\"0 0 24 24\"\n",
              "       width=\"24px\">\n",
              "    <path d=\"M0 0h24v24H0V0z\" fill=\"none\"/>\n",
              "    <path d=\"M18.56 5.44l.94 2.06.94-2.06 2.06-.94-2.06-.94-.94-2.06-.94 2.06-2.06.94zm-11 1L8.5 8.5l.94-2.06 2.06-.94-2.06-.94L8.5 2.5l-.94 2.06-2.06.94zm10 10l.94 2.06.94-2.06 2.06-.94-2.06-.94-.94-2.06-.94 2.06-2.06.94z\"/><path d=\"M17.41 7.96l-1.37-1.37c-.4-.4-.92-.59-1.43-.59-.52 0-1.04.2-1.43.59L10.3 9.45l-7.72 7.72c-.78.78-.78 2.05 0 2.83L4 21.41c.39.39.9.59 1.41.59.51 0 1.02-.2 1.41-.59l7.78-7.78 2.81-2.81c.8-.78.8-2.07 0-2.86zM5.41 20L4 18.59l7.72-7.72 1.47 1.35L5.41 20z\"/>\n",
              "  </svg>\n",
              "      </button>\n",
              "      \n",
              "  <style>\n",
              "    .colab-df-container {\n",
              "      display:flex;\n",
              "      flex-wrap:wrap;\n",
              "      gap: 12px;\n",
              "    }\n",
              "\n",
              "    .colab-df-convert {\n",
              "      background-color: #E8F0FE;\n",
              "      border: none;\n",
              "      border-radius: 50%;\n",
              "      cursor: pointer;\n",
              "      display: none;\n",
              "      fill: #1967D2;\n",
              "      height: 32px;\n",
              "      padding: 0 0 0 0;\n",
              "      width: 32px;\n",
              "    }\n",
              "\n",
              "    .colab-df-convert:hover {\n",
              "      background-color: #E2EBFA;\n",
              "      box-shadow: 0px 1px 2px rgba(60, 64, 67, 0.3), 0px 1px 3px 1px rgba(60, 64, 67, 0.15);\n",
              "      fill: #174EA6;\n",
              "    }\n",
              "\n",
              "    [theme=dark] .colab-df-convert {\n",
              "      background-color: #3B4455;\n",
              "      fill: #D2E3FC;\n",
              "    }\n",
              "\n",
              "    [theme=dark] .colab-df-convert:hover {\n",
              "      background-color: #434B5C;\n",
              "      box-shadow: 0px 1px 3px 1px rgba(0, 0, 0, 0.15);\n",
              "      filter: drop-shadow(0px 1px 2px rgba(0, 0, 0, 0.3));\n",
              "      fill: #FFFFFF;\n",
              "    }\n",
              "  </style>\n",
              "\n",
              "      <script>\n",
              "        const buttonEl =\n",
              "          document.querySelector('#df-06d3db6b-9bd5-49c6-8df9-826feff3be97 button.colab-df-convert');\n",
              "        buttonEl.style.display =\n",
              "          google.colab.kernel.accessAllowed ? 'block' : 'none';\n",
              "\n",
              "        async function convertToInteractive(key) {\n",
              "          const element = document.querySelector('#df-06d3db6b-9bd5-49c6-8df9-826feff3be97');\n",
              "          const dataTable =\n",
              "            await google.colab.kernel.invokeFunction('convertToInteractive',\n",
              "                                                     [key], {});\n",
              "          if (!dataTable) return;\n",
              "\n",
              "          const docLinkHtml = 'Like what you see? Visit the ' +\n",
              "            '<a target=\"_blank\" href=https://colab.research.google.com/notebooks/data_table.ipynb>data table notebook</a>'\n",
              "            + ' to learn more about interactive tables.';\n",
              "          element.innerHTML = '';\n",
              "          dataTable['output_type'] = 'display_data';\n",
              "          await google.colab.output.renderOutput(dataTable, element);\n",
              "          const docLink = document.createElement('div');\n",
              "          docLink.innerHTML = docLinkHtml;\n",
              "          element.appendChild(docLink);\n",
              "        }\n",
              "      </script>\n",
              "    </div>\n",
              "  </div>\n",
              "  "
            ]
          },
          "metadata": {},
          "execution_count": 31
        }
      ]
    },
    {
      "cell_type": "code",
      "source": [
        "d_anal.tail(20) #the most positively connoted words"
      ],
      "metadata": {
        "colab": {
          "base_uri": "https://localhost:8080/",
          "height": 677
        },
        "id": "EP9-hf_j3-6v",
        "outputId": "7d75ebd6-ed0a-45bb-91f5-17d2c49851a1"
      },
      "execution_count": null,
      "outputs": [
        {
          "output_type": "execute_result",
          "data": {
            "text/plain": [
              "              word  occurences      freq type     scale\n",
              "944         Africa          12  0.000104  NNP  0.750000\n",
              "59        increase         100  0.000865   VB  0.750000\n",
              "545    partnership          12  0.000104   NN  0.750000\n",
              "3007          good          24  0.000208   JJ  0.750000\n",
              "203         signed          75  0.000649  VBD  0.760000\n",
              "3026          able          17  0.000147   JJ  0.764706\n",
              "64         improve          22  0.000190   VB  0.772727\n",
              "164     strengthen          16  0.000138   NN  0.812500\n",
              "1042          Both          22  0.000190  NNP  0.818182\n",
              "424           rise          17  0.000147   NN  0.823529\n",
              "1043  respectively          24  0.000208   RB  0.833333\n",
              "2855      positive          28  0.000242   JJ  0.857143\n",
              "4297       pleased          14  0.000121  VBD  0.857143\n",
              "144           rose         101  0.000874  VBD  0.881188\n",
              "3042           won          34  0.000294  VBN  0.911765\n",
              "3084       awarded          35  0.000303  VBN  0.914286\n",
              "3550     efficient          12  0.000104   JJ  0.916667\n",
              "879           grew          34  0.000294  VBD  0.970588\n",
              "3467      improved          21  0.000182   JJ  1.000000\n",
              "3279      narrowed          17  0.000147   JJ  1.000000"
            ],
            "text/html": [
              "\n",
              "  <div id=\"df-1fab459c-80fc-49c0-b2d8-5c350f33d164\">\n",
              "    <div class=\"colab-df-container\">\n",
              "      <div>\n",
              "<style scoped>\n",
              "    .dataframe tbody tr th:only-of-type {\n",
              "        vertical-align: middle;\n",
              "    }\n",
              "\n",
              "    .dataframe tbody tr th {\n",
              "        vertical-align: top;\n",
              "    }\n",
              "\n",
              "    .dataframe thead th {\n",
              "        text-align: right;\n",
              "    }\n",
              "</style>\n",
              "<table border=\"1\" class=\"dataframe\">\n",
              "  <thead>\n",
              "    <tr style=\"text-align: right;\">\n",
              "      <th></th>\n",
              "      <th>word</th>\n",
              "      <th>occurences</th>\n",
              "      <th>freq</th>\n",
              "      <th>type</th>\n",
              "      <th>scale</th>\n",
              "    </tr>\n",
              "  </thead>\n",
              "  <tbody>\n",
              "    <tr>\n",
              "      <th>944</th>\n",
              "      <td>Africa</td>\n",
              "      <td>12</td>\n",
              "      <td>0.000104</td>\n",
              "      <td>NNP</td>\n",
              "      <td>0.750000</td>\n",
              "    </tr>\n",
              "    <tr>\n",
              "      <th>59</th>\n",
              "      <td>increase</td>\n",
              "      <td>100</td>\n",
              "      <td>0.000865</td>\n",
              "      <td>VB</td>\n",
              "      <td>0.750000</td>\n",
              "    </tr>\n",
              "    <tr>\n",
              "      <th>545</th>\n",
              "      <td>partnership</td>\n",
              "      <td>12</td>\n",
              "      <td>0.000104</td>\n",
              "      <td>NN</td>\n",
              "      <td>0.750000</td>\n",
              "    </tr>\n",
              "    <tr>\n",
              "      <th>3007</th>\n",
              "      <td>good</td>\n",
              "      <td>24</td>\n",
              "      <td>0.000208</td>\n",
              "      <td>JJ</td>\n",
              "      <td>0.750000</td>\n",
              "    </tr>\n",
              "    <tr>\n",
              "      <th>203</th>\n",
              "      <td>signed</td>\n",
              "      <td>75</td>\n",
              "      <td>0.000649</td>\n",
              "      <td>VBD</td>\n",
              "      <td>0.760000</td>\n",
              "    </tr>\n",
              "    <tr>\n",
              "      <th>3026</th>\n",
              "      <td>able</td>\n",
              "      <td>17</td>\n",
              "      <td>0.000147</td>\n",
              "      <td>JJ</td>\n",
              "      <td>0.764706</td>\n",
              "    </tr>\n",
              "    <tr>\n",
              "      <th>64</th>\n",
              "      <td>improve</td>\n",
              "      <td>22</td>\n",
              "      <td>0.000190</td>\n",
              "      <td>VB</td>\n",
              "      <td>0.772727</td>\n",
              "    </tr>\n",
              "    <tr>\n",
              "      <th>164</th>\n",
              "      <td>strengthen</td>\n",
              "      <td>16</td>\n",
              "      <td>0.000138</td>\n",
              "      <td>NN</td>\n",
              "      <td>0.812500</td>\n",
              "    </tr>\n",
              "    <tr>\n",
              "      <th>1042</th>\n",
              "      <td>Both</td>\n",
              "      <td>22</td>\n",
              "      <td>0.000190</td>\n",
              "      <td>NNP</td>\n",
              "      <td>0.818182</td>\n",
              "    </tr>\n",
              "    <tr>\n",
              "      <th>424</th>\n",
              "      <td>rise</td>\n",
              "      <td>17</td>\n",
              "      <td>0.000147</td>\n",
              "      <td>NN</td>\n",
              "      <td>0.823529</td>\n",
              "    </tr>\n",
              "    <tr>\n",
              "      <th>1043</th>\n",
              "      <td>respectively</td>\n",
              "      <td>24</td>\n",
              "      <td>0.000208</td>\n",
              "      <td>RB</td>\n",
              "      <td>0.833333</td>\n",
              "    </tr>\n",
              "    <tr>\n",
              "      <th>2855</th>\n",
              "      <td>positive</td>\n",
              "      <td>28</td>\n",
              "      <td>0.000242</td>\n",
              "      <td>JJ</td>\n",
              "      <td>0.857143</td>\n",
              "    </tr>\n",
              "    <tr>\n",
              "      <th>4297</th>\n",
              "      <td>pleased</td>\n",
              "      <td>14</td>\n",
              "      <td>0.000121</td>\n",
              "      <td>VBD</td>\n",
              "      <td>0.857143</td>\n",
              "    </tr>\n",
              "    <tr>\n",
              "      <th>144</th>\n",
              "      <td>rose</td>\n",
              "      <td>101</td>\n",
              "      <td>0.000874</td>\n",
              "      <td>VBD</td>\n",
              "      <td>0.881188</td>\n",
              "    </tr>\n",
              "    <tr>\n",
              "      <th>3042</th>\n",
              "      <td>won</td>\n",
              "      <td>34</td>\n",
              "      <td>0.000294</td>\n",
              "      <td>VBN</td>\n",
              "      <td>0.911765</td>\n",
              "    </tr>\n",
              "    <tr>\n",
              "      <th>3084</th>\n",
              "      <td>awarded</td>\n",
              "      <td>35</td>\n",
              "      <td>0.000303</td>\n",
              "      <td>VBN</td>\n",
              "      <td>0.914286</td>\n",
              "    </tr>\n",
              "    <tr>\n",
              "      <th>3550</th>\n",
              "      <td>efficient</td>\n",
              "      <td>12</td>\n",
              "      <td>0.000104</td>\n",
              "      <td>JJ</td>\n",
              "      <td>0.916667</td>\n",
              "    </tr>\n",
              "    <tr>\n",
              "      <th>879</th>\n",
              "      <td>grew</td>\n",
              "      <td>34</td>\n",
              "      <td>0.000294</td>\n",
              "      <td>VBD</td>\n",
              "      <td>0.970588</td>\n",
              "    </tr>\n",
              "    <tr>\n",
              "      <th>3467</th>\n",
              "      <td>improved</td>\n",
              "      <td>21</td>\n",
              "      <td>0.000182</td>\n",
              "      <td>JJ</td>\n",
              "      <td>1.000000</td>\n",
              "    </tr>\n",
              "    <tr>\n",
              "      <th>3279</th>\n",
              "      <td>narrowed</td>\n",
              "      <td>17</td>\n",
              "      <td>0.000147</td>\n",
              "      <td>JJ</td>\n",
              "      <td>1.000000</td>\n",
              "    </tr>\n",
              "  </tbody>\n",
              "</table>\n",
              "</div>\n",
              "      <button class=\"colab-df-convert\" onclick=\"convertToInteractive('df-1fab459c-80fc-49c0-b2d8-5c350f33d164')\"\n",
              "              title=\"Convert this dataframe to an interactive table.\"\n",
              "              style=\"display:none;\">\n",
              "        \n",
              "  <svg xmlns=\"http://www.w3.org/2000/svg\" height=\"24px\"viewBox=\"0 0 24 24\"\n",
              "       width=\"24px\">\n",
              "    <path d=\"M0 0h24v24H0V0z\" fill=\"none\"/>\n",
              "    <path d=\"M18.56 5.44l.94 2.06.94-2.06 2.06-.94-2.06-.94-.94-2.06-.94 2.06-2.06.94zm-11 1L8.5 8.5l.94-2.06 2.06-.94-2.06-.94L8.5 2.5l-.94 2.06-2.06.94zm10 10l.94 2.06.94-2.06 2.06-.94-2.06-.94-.94-2.06-.94 2.06-2.06.94z\"/><path d=\"M17.41 7.96l-1.37-1.37c-.4-.4-.92-.59-1.43-.59-.52 0-1.04.2-1.43.59L10.3 9.45l-7.72 7.72c-.78.78-.78 2.05 0 2.83L4 21.41c.39.39.9.59 1.41.59.51 0 1.02-.2 1.41-.59l7.78-7.78 2.81-2.81c.8-.78.8-2.07 0-2.86zM5.41 20L4 18.59l7.72-7.72 1.47 1.35L5.41 20z\"/>\n",
              "  </svg>\n",
              "      </button>\n",
              "      \n",
              "  <style>\n",
              "    .colab-df-container {\n",
              "      display:flex;\n",
              "      flex-wrap:wrap;\n",
              "      gap: 12px;\n",
              "    }\n",
              "\n",
              "    .colab-df-convert {\n",
              "      background-color: #E8F0FE;\n",
              "      border: none;\n",
              "      border-radius: 50%;\n",
              "      cursor: pointer;\n",
              "      display: none;\n",
              "      fill: #1967D2;\n",
              "      height: 32px;\n",
              "      padding: 0 0 0 0;\n",
              "      width: 32px;\n",
              "    }\n",
              "\n",
              "    .colab-df-convert:hover {\n",
              "      background-color: #E2EBFA;\n",
              "      box-shadow: 0px 1px 2px rgba(60, 64, 67, 0.3), 0px 1px 3px 1px rgba(60, 64, 67, 0.15);\n",
              "      fill: #174EA6;\n",
              "    }\n",
              "\n",
              "    [theme=dark] .colab-df-convert {\n",
              "      background-color: #3B4455;\n",
              "      fill: #D2E3FC;\n",
              "    }\n",
              "\n",
              "    [theme=dark] .colab-df-convert:hover {\n",
              "      background-color: #434B5C;\n",
              "      box-shadow: 0px 1px 3px 1px rgba(0, 0, 0, 0.15);\n",
              "      filter: drop-shadow(0px 1px 2px rgba(0, 0, 0, 0.3));\n",
              "      fill: #FFFFFF;\n",
              "    }\n",
              "  </style>\n",
              "\n",
              "      <script>\n",
              "        const buttonEl =\n",
              "          document.querySelector('#df-1fab459c-80fc-49c0-b2d8-5c350f33d164 button.colab-df-convert');\n",
              "        buttonEl.style.display =\n",
              "          google.colab.kernel.accessAllowed ? 'block' : 'none';\n",
              "\n",
              "        async function convertToInteractive(key) {\n",
              "          const element = document.querySelector('#df-1fab459c-80fc-49c0-b2d8-5c350f33d164');\n",
              "          const dataTable =\n",
              "            await google.colab.kernel.invokeFunction('convertToInteractive',\n",
              "                                                     [key], {});\n",
              "          if (!dataTable) return;\n",
              "\n",
              "          const docLinkHtml = 'Like what you see? Visit the ' +\n",
              "            '<a target=\"_blank\" href=https://colab.research.google.com/notebooks/data_table.ipynb>data table notebook</a>'\n",
              "            + ' to learn more about interactive tables.';\n",
              "          element.innerHTML = '';\n",
              "          dataTable['output_type'] = 'display_data';\n",
              "          await google.colab.output.renderOutput(dataTable, element);\n",
              "          const docLink = document.createElement('div');\n",
              "          docLink.innerHTML = docLinkHtml;\n",
              "          element.appendChild(docLink);\n",
              "        }\n",
              "      </script>\n",
              "    </div>\n",
              "  </div>\n",
              "  "
            ]
          },
          "metadata": {},
          "execution_count": 32
        }
      ]
    },
    {
      "cell_type": "markdown",
      "source": [
        "Nous allons utiliser un vecteur de type \"Bag-of-Words\" (BoW), contenant les comptes de chaque mot (indépendamment de leur ordre d'occurrence) dans le document. \n",
        "\n",
        "Si nous considérons l'ensemble de tous les mots apparaissant dans nos $T$ documents d'apprentissage, que nous notons $V$ (Vocabulaire), nous pouvons créer **un index**, qui est une bijection associant à chaque $w$ mot un entier, qui sera sa position dans $V$. \n",
        "\n",
        "Ainsi, pour un document extrait d'un ensemble de documents contenant $|V|$ mots différents, une représentation BoW sera un vecteur de taille $|V|$, dont la valeur à l'index d'un mot $w$ sera son nombre d'occurrences dans le document. \n",
        "\n",
        "Nous pouvons utiliser la classe **CountVectorizer** de scikit-learn pour obtenir ces représentations :"
      ],
      "metadata": {
        "id": "WY5AEL1Ftgc2"
      }
    },
    {
      "cell_type": "code",
      "source": [
        "from sklearn.model_selection import train_test_split\n",
        "train_texts_splt, val_texts, train_labels_splt, val_labels = train_test_split(df['Sentence'], df['Sentiment'], test_size=.2)"
      ],
      "metadata": {
        "id": "oOIPf_RrtPdq"
      },
      "execution_count": null,
      "outputs": []
    },
    {
      "cell_type": "code",
      "source": [
        "# Create and fit the vectorizer to the training data\n",
        "vectorizer = CountVectorizer()\n",
        "\n",
        "train_bow = vectorizer.fit_transform(train_texts_splt)\n",
        "\n",
        "print(vectorizer.get_feature_names())\n",
        "train_bow.toarray()"
      ],
      "metadata": {
        "colab": {
          "base_uri": "https://localhost:8080/"
        },
        "id": "mPAiKsWRtPjE",
        "outputId": "a0264dfe-7476-4ef1-dd0a-daffe1fe80ae"
      },
      "execution_count": null,
      "outputs": [
        {
          "output_type": "stream",
          "name": "stderr",
          "text": [
            "/usr/local/lib/python3.7/dist-packages/sklearn/utils/deprecation.py:87: FutureWarning: Function get_feature_names is deprecated; get_feature_names is deprecated in 1.0 and will be removed in 1.2. Please use get_feature_names_out instead.\n",
            "  warnings.warn(msg, category=FutureWarning)\n"
          ]
        },
        {
          "output_type": "stream",
          "name": "stdout",
          "text": [
            "['00', '000', '000063', '002', '0025', '003', '007', '008', '01', '0101138', '012', '0187274', '019', '02', '023', '029', '03', '030', '031', '035', '04', '045', '046', '047', '0491', '05', '052', '06', '060', '063', '064', '067', '07', '070', '0711', '0762', '08', '084', '087', '089', '09', '094', '0941', '10', '100', '1000', '100mn', '101', '102', '1023', '103', '104', '105', '106', '107', '108', '109mn', '10mn', '10th', '11', '110', '111', '1112', '112', '113', '114', '115', '116', '117', '117mn', '118', '119', '11m', '12', '120', '1200', '121', '122', '124', '125', '127', '128', '129', '12mp', '12th', '13', '130', '131', '131000', '132', '133', '134', '135', '137', '139', '14', '140', '141', '1411', '142', '143', '145', '147', '149', '15', '150', '150mn', '151', '152', '154', '155', '156', '158', '159', '15mn', '15th', '15us', '16', '160', '161', '162', '163', '164', '1649', '165', '167', '168', '169', '16mn', '17', '170', '172', '173', '1744900', '175', '1750', '176', '177mn', '179mn', '17m', '17mn', '18', '180', '180mn', '182', '184', '185', '1858', '186', '1862', '187', '188', '188mn', '189', '18mn', '18th', '19', '190', '190mn', '191', '1910', '192', '1923', '193', '1930s', '194', '1944757', '1954', '196', '1964', '1966', '1968', '1973', '1978', '197mn', '1983', '1985', '1987', '1989', '1990s', '1994', '1995', '1996', '1997', '1998', '1999', '19mn', '1bn', '1st', '20', '200', '2000', '2001', '2002', '2003', '2003a', '2004', '2004b', '2005', '2006', '2007', '2007a', '2008', '2008publication', '2009', '201', '2010', '2011', '2012', '2013', '2014', '2015', '2016', '2017', '205', '207', '20mn', '21', '210', '2100', '21032011', '211', '21179', '213', '21307', '215', '217', '218', '219', '22', '220', '221', '225', '229', '22us', '23', '23002', '2310', '232', '235', '236', '237', '239', '24', '240', '241', '2424', '244', '245', '246', '25', '250', '2500', '251', '252', '253', '256', '259', '25cm', '25mn', '26', '260', '2600', '2610', '262', '266', '27', '270', '275', '276', '2760', '27mn', '28', '280', '281', '282', '283', '284mn', '29', '290', '2900', '291', '292', '297', '298', '2982', '299', '2g', '2m', '2mn', '30', '300', '3000', '300mn', '302', '305', '307', '30bn', '30mn', '30s', '31', '310', '311', '318', '32', '320', '321', '322', '323', '328', '329', '33', '330', '331', '332', '334', '335', '337', '34', '342', '343', '347', '35', '350', '3539', '355', '358', '3588', '36', '360', '364', '365', '369', '36m', '37', '370', '371', '377', '38', '380', '383', '384', '385', '386', '388', '39', '3931', '3932', '395', '397', '398', '3bn', '3c', '3d', '3g', '3gsm', '3i', '3mn', '3pl', '3q', '40', '400', '400mn', '401', '402', '408', '409', '41', '410', '414', '42', '420', '421', '425', '43', '430', '432', '435', '438', '44', '441', '442', '445', '44million', '45', '450', '452', '455', '457', '458', '46', '460', '462', '463', '467', '47', '470', '473', '474', '48', '480', '483', '487', '49', '492', '495', '496', '497', '498', '4bn', '4g', '4mn', '4q', '4w', '50', '500', '501', '505', '50mn', '50mw', '51', '513', '518', '52', '520', '523', '525', '526', '529', '53', '530', '5320xm', '534', '537', '538', '53mn', '54', '540', '544', '55', '5500', '553', '554', '556', '56', '561', '566', '569', '57', '5700', '571', '575', '576', '578', '579', '58', '580', '5800', '585', '585us', '587', '59', '591', '5mn', '60', '600', '600050', '600mn', '608', '609', '60mn', '61', '6110', '612', '6120', '6131', '61us', '62', '620', '6201', '6210', '6220', '623', '626', '627', '628', '63', '630', '6300', '634', '63mn', '64', '640', '645', '65', '650', '655', '659', '65mn', '66', '661', '664', '665', '666', '669', '67', '670', '673', '678', '68', '680', '685', '686', '687', '69', '691', '694', '696', '6m', '6mn', '70', '700', '705', '706', '70mn', '70s', '71', '710', '711', '7162', '718', '72', '720', '73', '730', '7327', '733', '734', '74', '740', '7400', '743', '745', '75', '750', '754', '755', '7597', '75cm', '76', '760', '763mn', '767', '768', '769', '77', '775', '777', '779', '78', '780', '784', '786', '79', '792', '80', '800', '8002', '800dwt', '801', '8029', '803', '805', '80mn', '81', '813', '814', '817198', '82', '823', '825mn', '827', '829', '83', '830', '8342', '84', '845', '849', '85', '850', '853', '854', '854m', '85mn', '86', '860', '862', '87', '877417', '878', '879', '88', '884', '885', '89', '890us', '891', '8gb', '8mn', '8th', '90', '900', '901', '906', '91', '910', '915', '916', '92', '927', '93', '934', '936', '94', '945', '949', '95', '950mn', '953', '96', '960', '964', '9663', '97', '970', '98', '983', '985', '987', '99', '998', 'a1', 'a330', 'a350', 'aaland', 'aalborg', 'aalto', 'aava', 'aazhang', 'ab', 'abb', 'abbott', 'aberration', 'abilities', 'ability', 'able', 'abn', 'aboavista', 'about', 'above', 'abp', 'abramov', 'abramovich', 'abroad', 'absorption', 'ac', 'ac800', 'acacia', 'acanb', 'acando', 'accelerate', 'accelerated', 'acceptance', 'accepted', 'access', 'accessories', 'accident', 'accommodate', 'accommodation', 'accomplish', 'accomplishing', 'accordance', 'according', 'accordingly', 'account', 'accounted', 'accounting', 'accounts', 'accumulate', 'accumulated', 'acg1v', 'achieve', 'achieved', 'acid', 'acknowledged', 'acquire', 'acquired', 'acquirer', 'acquires', 'acquiring', 'acquisition', 'acquisitions', 'acquitted', 'across', 'acs', 'act', 'acted', 'acting', 'action', 'actions', 'activate', 'activated', 'activating', 'activation', 'active', 'actively', 'activeness', 'activities', 'activity', 'actors', 'acts', 'actual', 'actually', 'ad', 'adac', 'adak', 'adams', 'adanac', 'adaptation', 'adapter', 'adate', 'add', 'added', 'addiction', 'adding', 'addition', 'additional', 'additionally', 'address', 'adds', 'addus', 'adequacy', 'adequate', 'adidas', 'adjacent', 'adjust', 'adjusted', 'adjusting', 'adjustment', 'adjustments', 'administered', 'administration', 'administrative', 'administrators', 'admired', 'adopting', 'adp', 'adpnews', 'adr', 'adult', 'advance', 'advanced', 'advantage', 'advantages', 'advertised', 'advertisements', 'advertisers', 'advertising', 'advise', 'advised', 'advisors', 'advisory', 'aero', 'aeronautic', 'afe1v', 'affairs', 'affarsvarlden', 'affect', 'affected', 'affecting', 'affecto', 'affectogenimap', 'affordable', 'aforementioned', 'africa', 'africaand', 'african', 'after', 'afternoon', 'afx', 'ag', 'again', 'against', 'age', 'agency', 'agenda', 'agent', 'agents', 'aggregate', 'aggregator', 'aggressively', 'agj', 'agm', 'ago', 'agreed', 'agreeing', 'agreement', 'agreements', 'agrees', 'agricultural', 'agriculture', 'agro', 'ahead', 'ahl1v', 'ahlstrom', 'ahms', 'aho', 'ahola', 'ahold', 'ahvenainen', 'ailing', 'ailments', 'ailus', 'aim', 'aimed', 'aiming', 'aims', 'air', 'airbaltic', 'airbus', 'aircraft', 'airline', 'airlines', 'airport', 'airports', 'airspace', 'airtel', 'airvana', 'aker', 'aktav', 'aktia', 'alaj', 'alakoski', 'alandsbanken', 'albat', 'albums', 'ald1v', 'aldata', 'aleksandri', 'aleksanterinkatu', 'alexander', 'alexandria', 'alfa', 'alfred', 'aligned', 'alike', 'alise', 'all', 'allocated', 'allocation', 'allonen', 'allotted', 'allow', 'allowance', 'allowed', 'allowing', 'allows', 'alloy', 'alloys', 'allure', 'alma', 'almost', 'aln1v', 'alone', 'along', 'alpine', 'alpro', 'already', 'also', 'altadis', 'altaienergosbyt', 'alteams', 'alter', 'alternately', 'alternative', 'alternatives', 'although', 'altia', 'altima', 'altimo', 'altogether', 'altona', 'altra', 'alumina', 'aluminij', 'aluminium', 'aluminum', 'alus', 'always', 'am', 'amanda', 'ambassador', 'ameas', 'amendment', 'amendments', 'amer', 'america', 'american', 'americas', 'amex', 'amid', 'ammonia', 'among', 'amount', 'amounted', 'amounting', 'amounts', 'amplifier', 'amplifiers', 'amro', 'amsterdam', 'an', 'analyses', 'analysis', 'analyst', 'analysts', 'analytics', 'analyzed', 'anasmotet', 'anchors', 'and', 'andalusia', 'andhra', 'andlinger', 'andrew', 'andrey', 'andrius', 'android', 'angeles', 'anglers', 'animal', 'anjalankoski', 'anne', 'anneli', 'anniversary', 'announce', 'announced', 'announcement', 'annual', 'annualised', 'annually', 'annulled', 'annum', 'anode', 'another', 'anrak', 'ansa', 'answer', 'answers', 'antenna', 'antennas', 'anti', 'antibody', 'anticipated', 'anticipates', 'antniemi', 'antonio', 'antti', 'anttila', 'antwerp', 'any', 'aol', 'apac', 'apart', 'apartment', 'apartments', 'apetit', 'apiece', 'apollo', 'apoteket', 'app', 'apparatus', 'apparent', 'appeal', 'appealing', 'appear', 'appears', 'applauded', 'apple', 'applicable', 'applicant', 'application', 'applications', 'applied', 'apply', 'applying', 'appoint', 'appointed', 'appointment', 'approach', 'approaches', 'appropriate', 'approval', 'approvals', 'approve', 'approved', 'approx', 'approximately', 'april', 'apsaugos', 'aptly', 'apwr', 'aqua', 'arab', 'arabia', 'arabized', 'arbidans', 'arcelormittal', 'archer', 'archicad', 'archipelago', 'architecture', 'are', 'area', 'areas', 'arena', 'areva', 'argentine', 'arguments', 'arm', 'arokarhu', 'around', 'arranged', 'arrangement', 'arrangements', 'arranging', 'art', 'artemis', 'artemyev', 'arthritis', 'article', 'articles', 'artistic', 'arto', 'arts', 'as', 'asa', 'ascs', 'asfaltti', 'ashley', 'ashutosh', 'asia', 'asian', 'aside', 'asimilar', 'ask', 'asked', 'asks', 'asm', 'asmi', 'asmobile', 'asokan', 'aspects', 'asphalt', 'aspo', 'aspocomp', 'aspokem', 'assembly', 'assessment', 'asset', 'assets', 'assigned', 'assignment', 'assist', 'assistance', 'assistants', 'associate', 'associated', 'associates', 'association', 'associations', 'assumed', 'assuming', 'assumption', 'assurance', 'astana', 'asthma', 'asx', 'at', 'at8', 'atec', 'atlas', 'atom', 'atomic', 'atria', 'attach', 'attached', 'attackers', 'attacks', 'attempt', 'attend', 'attention', 'attract', 'attractive', 'attributed', 'attributes', 'atul', 'auburn', 'audi', 'audio', 'audit', 'auditor', 'auditors', 'aug', 'august', 'aulasmaa', 'aura', 'aussage', 'austin', 'australia', 'australian', 'austria', 'austrian', 'authentic', 'authentication', 'authorisation', 'authorisations', 'authorise', 'authorised', 'authorities', 'authority', 'authorization', 'authorized', 'auto', 'automate', 'automates', 'automatically', 'automation', 'automobile', 'automotive', 'autonomous', 'autotank', 'autumn', 'av', 'availability', 'available', 'avalon', 'avc', 'avena', 'avenue', 'average', 'avesta', 'avestapolarit', 'avi', 'aviation', 'avista', 'avoid', 'awaited', 'award', 'awarded', 'awards', 'awareness', 'away', 'awkward', 'axa', 'axe', 'axes', 'axis', 'ayanambakkam', 'b2b', 'b2c', 'babcock', 'baber', 'babies', 'baby', 'back', 'backbone', 'backdrop', 'backed', 'backlog', 'backup', 'backups', 'bad', 'badly', 'bae', 'bag', 'bagdonas', 'bags', 'bahia', 'bahr', 'bahrain', 'baked', 'baker', 'bakery', 'bakman', 'bakosch', 'balance', 'balanced', 'baldauf', 'bali', 'ball', 'balti', 'baltic', 'baltica', 'baltics', 'baltimore', 'ban', 'band', 'bands', 'bangalore', 'bangkok', 'bank', 'banked', 'banking', 'banks', 'banned', 'bao', 'bar', 'barbeque', 'barc', 'barcelona', 'barclays', 'barents', 'bargaining', 'barges', 'barley', 'barleycorn', 'barrel', 'barrels', 'barstow', 'barum', 'bas1v', 'bascule', 'base', 'baseball', 'based', 'basel', 'basement', 'bases', 'basic', 'basis', 'basket', 'basketball', 'basware', 'batam', 'batch', 'bathroom', 'bathrooms', 'battery', 'bavaria', 'bavarian', 'bavelloni', 'bawag', 'bay', 'bbh', 'bbl', 'bcs', 'bctmp', 'be', 'beanie', 'bear', 'bearing', 'beat', 'beating', 'beatriz', 'beautifully', 'became', 'because', 'beckham', 'becky', 'become', 'becomes', 'becoming', 'bed', 'bedroom', 'beeinflussen', 'been', 'beer', 'beers', 'before', 'begin', 'beginner', 'beginning', 'begins', 'behalf', 'behavioural', 'behind', 'behnaam', 'beijing', 'being', 'belarus', 'beleaguered', 'belgian', 'belgium', 'believe', 'believes', 'belonging', 'below', 'beltton', 'belvedere', 'benches', 'benchmark', 'beneath', 'benecol', 'beneficial', 'beneficiaries', 'benefit', 'benefits', 'benefon', 'benelux', 'bentos', 'bergqvist', 'berlin', 'berling', 'bernhard', 'bertrand', 'beside', 'besides', 'best', 'bestseller', 'beta', 'beteiligungs', 'betoni', 'betonituote', 'better', 'between', 'beverage', 'beverages', 'beyond', 'bg', 'bhushan', 'bi', 'bia', 'bibs', 'bicentenary', 'bicycle', 'bid', 'bidders', 'bidding', 'bids', 'big', 'bigger', 'biggest', 'bilbao', 'bill', 'billing', 'billingham', 'billion', 'billionaire', 'bim', 'binding', 'bio', 'biocare', 'biodiesel', 'bioethanol', 'biofuel', 'biofuels', 'biographies', 'bioheapleaching', 'biohit', 'biological', 'biologicals', 'biomass', 'biotherapeutics', 'biotie', 'bioview', 'birch', 'birmingham', 'biscuits', 'bitmapped', 'bj', 'bjorn', 'bk', 'black', 'blackberry', 'blackstone', 'blaming', 'blast', 'blending', 'blind', 'bln', 'block', 'blocking', 'blog', 'blond', 'blood', 'bloomberg', 'blue', 'bluebird', 'bluegills', 'bluetooth', 'bluewin', 'blyk', 'bm4', 'bn', 'bnamericas', 'bnpp', 'bns', 'board', 'boardman', 'boards', 'boat', 'boaters', 'boats', 'bochum', 'bockum', 'bodies', 'body', 'bofa', 'boiler', 'bold', 'bond', 'bonds', 'boni', 'bonus', 'book', 'booked', 'booking', 'books', 'boomerang', 'boomeranger', 'boost', 'boosted', 'boosting', 'boot', 'boots', 'bordeaux', 'border', 'boring', 'borl', 'born', 'borrowers', 'bosch', 'bosnia', 'bosse', 'both', 'bothnia', 'botnia', 'bottle', 'bottled', 'bottles', 'bottom', 'bought', 'bounced', 'boute', 'bovine', 'bow', 'bower', 'box', 'boxboard', 'boxes', 'boy', 'boycotting', 'bp', 'bps', 'bracing', 'braking', 'branch', 'brand', 'branded', 'brands', 'brasil', 'brasiliensis', 'bratislava', 'bratsk', 'brazil', 'brazilian', 'bread', 'breadth', 'break', 'breakfast', 'breaking', 'breakup', 'breathe', 'breeze', 'brewer', 'breweries', 'brewers', 'brewerton', 'brewery', 'brian', 'bricks', 'bridge', 'bridges', 'bridgestone', 'brief', 'bright', 'bring', 'bringing', 'brings', 'brisk', 'brista', 'bristol', 'britain', 'british', 'brno', 'broad', 'broadband', 'broadcast', 'broadcasters', 'broadsheet', 'broke', 'broker', 'brokerage', 'brokers', 'broking', 'brothers', 'brought', 'browse', 'browser', 'browsing', 'bruk', 'brussels', 'bss', 'bts', 'btt', 'bucking', 'budapest', 'budget', 'buenavista', 'build', 'builders', 'building', 'buildings', 'builds', 'built', 'bukoba', 'bulgaria', 'bulk', 'bullet', 'bulletin', 'bullish', 'bullying', 'bunge', 'burdened', 'burning', 'burns', 'burrill', 'burt', 'burton', 'bus', 'buses', 'business', 'businesses', 'buster', 'but', 'button', 'buy', 'buyer', 'buying', 'buyout', 'buys', 'by', 'bylander', 'byline', 'bypasses', 'ca', 'cabin', 'cable', 'cables', 'cablevision', 'cableway', 'cabot', 'cad', 'cads', 'cakes', 'calafate', 'calais', 'calcination', 'calciners', 'calculate', 'calculated', 'calculates', 'calendar', 'calendered', 'calibrate', 'calibration', 'calif', 'california', 'call', 'called', 'caller', 'calls', 'came', 'cameco', 'camera', 'cameras', 'campaign', 'campaigns', 'campbell', 'campofrio', 'campomos', 'can', 'canada', 'canadian', 'canal', 'canceled', 'cancellation', 'cancer', 'candidates', 'canned', 'cannon', 'cant', 'canvas', 'cap', 'capabilities', 'capability', 'capable', 'capacities', 'capacitors', 'capacity', 'capcom', 'capita', 'capital', 'capitals', 'capitex', 'capman', 'caps', 'capture', 'captures', 'capturing', 'car', 'carbon', 'card', 'cardiovascular', 'cards', 'care', 'career', 'cargo', 'cargotec', 'carmaker', 'carolina', 'carpark', 'carriage', 'carried', 'carrier', 'carriers', 'carries', 'carrollton', 'carry', 'carrying', 'cars', 'cartaria', 'cartel', 'cash', 'casing', 'casper', 'castecka', 'castell', 'casting', 'castings', 'castle', 'casual', 'casualty', 'catalogues', 'catalysts', 'catalytic', 'catch', 'categorically', 'categories', 'categorization', 'category', 'catering', 'cause', 'caused', 'causing', 'cautious', 'caverion', 'cba', 'cbd', 'ccs', 'cd', 'cdli', 'cdp', 'cds', 'ce', 'cease', 'cee', 'ceilings', 'celebrates', 'cell', 'cellphone', 'cells', 'cellular', 'cellulose', 'celtnieciba', 'celular', 'celulose', 'cement', 'cencorp', 'cent', 'center', 'centers', 'centimeters', 'central', 'centralising', 'centralized', 'centrally', 'centre', 'centres', 'centric', 'cents', 'ceo', 'ceramic', 'ceramics', 'cerberus', 'cereals', 'certain', 'certainly', 'certification', 'certified', 'cessation', 'cet', 'cf2', 'cfo', 'cfr', 'cgcbv', 'chaim', 'chain', 'chains', 'chairman', 'chairmanship', 'challenge', 'challengers', 'challenges', 'challenging', 'chambers', 'chambersburg', 'chameleon', 'chance', 'chang', 'change', 'changed', 'changes', 'changing', 'changshu', 'channel', 'channels', 'chapter', 'characteristics', 'charge', 'charger', 'chargers', 'charges', 'charging', 'chargz', 'charlotte', 'chart', 'charter', 'chartered', 'charters', 'charting', 'chase', 'chassis', 'cheaper', 'cheapest', 'check', 'checked', 'checkpoint', 'cheerful', 'chelyabinsk', 'chemical', 'chemicals', 'chennai', 'chf', 'chic', 'chicago', 'chief', 'chikunov', 'children', 'chile', 'china', 'chinese', 'chip', 'chipping', 'chips', 'chirnside', 'chl', 'choice', 'cholesterol', 'choose', 'choosing', 'chopra', 'chore', 'chose', 'chosen', 'chp', 'christian', 'christine', 'christmas', 'christopher', 'chrome', 'chs', 'chu', 'chuck', 'churned', 'cidco', 'cider', 'ciders', 'cido', 'cincinnati', 'cinema', 'circle', 'circuit', 'circuits', 'circulating', 'circulation', 'cis', 'cision', 'citadele', 'cities', 'citigroup', 'citing', 'city', 'city24', 'citycon', 'citymarket', 'civil', 'cjsc', 'cl51', 'claiming', 'claims', 'clamps', 'clarify', 'clarity', 'class', 'classic', 'classified', 'clausen', 'clean', 'clear', 'clearer', 'clearly', 'clerical', 'click', 'clicked', 'clicking', 'client', 'clientele', 'clients', 'cliffton', 'climate', 'climbed', 'climber', 'climbers', 'clinical', 'close', 'closed', 'closely', 'closing', 'closure', 'clothes', 'clothing', 'cloud', 'club', 'cnc1v', 'co', 'co2', 'coagulant', 'coal', 'coast', 'coasters', 'coat', 'coated', 'coating', 'coatings', 'coaxial', 'cobalt', 'coca', 'cockroft', 'cocktail', 'code', 'coffee', 'cogeneration', 'cohen', 'coherent', 'coke', 'coker', 'cola', 'cold', 'collaborate', 'collaboration', 'collaborative', 'collar', 'collated', 'colleagues', 'collect', 'collection', 'collective', 'collects', 'collins', 'collisions', 'color', 'colorado', 'colorful', 'colors', 'colourful', 'columbia', 'com', 'combination', 'combine', 'combined', 'combines', 'combining', 'come', 'comes', 'comfort', 'comfortable', 'comfortably', 'coming', 'commanding', 'commence', 'commencing', 'comment', 'commented', 'commenting', 'comments', 'commerce', 'commercial', 'commercially', 'commission', 'commissioned', 'commissioner', 'commissioning', 'commit', 'commiting', 'commitment', 'commitments', 'commits', 'committed', 'committee', 'committees', 'commodities', 'common', 'communal', 'communicated', 'communication', 'communications', 'communities', 'community', 'compagnie', 'companies', 'companiesandmarkets', 'company', 'companys', 'comparable', 'comparatives', 'compare', 'compared', 'comparison', 'comparisons', 'compasses', 'compatible', 'compatriot', 'compensated', 'compensation', 'compete', 'competence', 'competency', 'competing', 'competition', 'competitions', 'competitive', 'competitiveness', 'competitor', 'competitors', 'compiling', 'complement', 'complemented', 'complements', 'complete', 'completed', 'completely', 'completes', 'completion', 'complex', 'complexity', 'comply', 'component', 'componenta', 'components', 'composite', 'composites', 'compounds', 'comprehensive', 'compression', 'compressors', 'comprise', 'comprises', 'comprising', 'comptel', 'compulsory', 'computer', 'computers', 'comtex', 'concentrate', 'concentrated', 'concentrating', 'concentrator', 'concept', 'conceptual', 'concern', 'concerned', 'concerning', 'concerns', 'conciliator', 'concluded', 'concludes', 'concrete', 'conditioning', 'conditions', 'condominiums', 'conduct', 'conducted', 'conducting', 'confectionery', 'conference', 'conferences', 'confidence', 'configuration', 'configured', 'confirmations', 'confirmed', 'conglomerate', 'congress', 'conjunction', 'connect', 'connection', 'connections', 'connectivity', 'connector', 'connects', 'consecutive', 'consensus', 'consent', 'consequence', 'conservative', 'consider', 'considerably', 'consideration', 'considered', 'considering', 'consist', 'consistency', 'consistent', 'consisting', 'consists', 'consolidate', 'consolidated', 'consolidating', 'consolidation', 'consolidations', 'consortium', 'conspiracy', 'constantly', 'constitute', 'constitutes', 'construct', 'constructed', 'construction', 'constructive', 'constructor', 'consulate', 'consultancy', 'consultant', 'consultation', 'consulting', 'consumer', 'consumers', 'consumption', 'contact', 'contacted', 'contacts', 'contain', 'container', 'contains', 'contempus', 'content', 'contented', 'contents', 'contextual', 'continental', 'continents', 'continually', 'continuation', 'continue', 'continued', 'continues', 'continuing', 'continuous', 'continuously', 'contract', 'contracted', 'contracting', 'contractor', 'contractors', 'contracts', 'contrary', 'contrast', 'contribute', 'contributed', 'contribution', 'control', 'controlled', 'controlling', 'controls', 'convenience', 'conveniences', 'convenient', 'converged', 'convergence', 'convergent', 'conversations', 'conversions', 'converted', 'converters', 'convertible', 'converting', 'conveying', 'convinced', 'convincing', 'cool', 'cooling', 'cooper', 'cooperate', 'cooperating', 'cooperation', 'cooperative', 'coordinate', 'coordinated', 'copenhagen', 'copper', 'copy', 'copying', 'copyright', 'coq', 'core', 'corners', 'cornerstones', 'corp', 'corporate', 'corporation', 'corporations', 'corrected', 'correlation', 'corrensponds', 'correspond', 'corresponding', 'correspondingly', 'corresponds', 'corroborate', 'corrupt', 'cosco', 'coscom', 'cosmetics', 'cost', 'costanza', 'costs', 'costumer', 'could', 'council', 'countdown', 'counter', 'counterpart', 'counties', 'countries', 'country', 'countryelements', 'counts', 'couple', 'coupled', 'course', 'court', 'courthouse', 'courtship', 'covenants', 'cover', 'coverage', 'covered', 'covering', 'covers', 'cowboy', 'cowie', 'cpps', 'cps', 'cra1v', 'crackers', 'crafts', 'cramo', 'crane', 'cranes', 'crash', 'cream', 'create', 'created', 'creates', 'creating', 'creation', 'creativity', 'credit', 'crews', 'crisis', 'critch', 'criteria', 'critical', 'criticised', 'criticising', 'crore', 'cross', 'crosscountry', 'crossing', 'crowns', 'crude', 'cruise', 'cruising', 'crushed', 'crushing', 'cry', 'crystals', 'cs', 'cses', 'cth1v', 'cto', 'cu', 'cuautitlan', 'cue', 'cukurova', 'cul', 'cultivation', 'culture', 'cumberland', 'cumulative', 'cup', 'curators', 'currencies', 'currency', 'current', 'currently', 'cursors', 'curve', 'cushion', 'custom', 'customer', 'customers', 'customised', 'customized', 'customs', 'cut', 'cutlery', 'cuts', 'cutting', 'cv', 'cvc', 'cvd', 'cvs', 'cw', 'cxe', 'cxe880', 'cybe', 'cybercom', 'cycle', 'cyclone', 'cymed', 'czech', 'dagens', 'daily', 'dairy', 'dalborg', 'dallas', 'damaged', 'damages', 'dampened', 'danish', 'dans', 'danske', 'dark', 'dart', 'dartford', 'darts', 'dash', 'data', 'database', 'date', 'dated', 'dates', 'daxtum', 'day', 'days', 'db', 'dc', 'dcs', 'dct', 'dcuc', 'dd', 'de', 'deadline', 'deal', 'dealer', 'dealers', 'deals', 'dean', 'debenture', 'debt', 'debut', 'dec', 'decade', 'decades', 'decaliters', 'december', 'decide', 'decided', 'decision', 'decisions', 'deck', 'declare', 'decline', 'declined', 'declining', 'decor', 'decoration', 'decorative', 'decrease', 'decreased', 'dedicated', 'deducted', 'deemed', 'deep', 'deepwater', 'deer', 'deere', 'defences', 'defense', 'defined', 'definitely', 'definitive', 'degefors', 'degeneration', 'degerfors', 'degree', 'delayed', 'delegation', 'delhaize', 'delhi', 'delight', 'delighted', 'delisted', 'deliver', 'delivered', 'deliveries', 'delivering', 'delivers', 'delivery', 'delta', 'demand', 'demanding', 'demographic', 'demolli', 'demonstrated', 'demonstrates', 'demonstrating', 'demonstration', 'demonstrations', 'den', 'denied', 'denies', 'denmark', 'denominated', 'density', 'dental', 'denver', 'depart', 'department', 'depend', 'depending', 'depends', 'deploy', 'deployment', 'deposit', 'depositary', 'depositor', 'deposits', 'depot', 'depots', 'depressed', 'depth', 'deputy', 'deramus', 'derive', 'derived', 'derives', 'deriving', 'derogating', 'desarrollo', 'described', 'design', 'designation', 'designed', 'designing', 'designs', 'desk', 'desktop', 'despite', 'destia', 'destinations', 'detached', 'detail', 'detailed', 'details', 'detect', 'detected', 'detection', 'detector', 'determined', 'determining', 'detroit', 'deutsche', 'deutschland', 'devalue', 'develop', 'developed', 'developer', 'developers', 'developing', 'development', 'develops', 'device', 'devices', 'diabetes', 'diagnosed', 'diagnostic', 'diagnostics', 'diagrid', 'dial', 'dialing', 'diameter', 'diapol', 'dictated', 'did', 'die', 'diego', 'diesel', 'dietz', 'differ', 'difference', 'different', 'differentiate', 'differs', 'difficult', 'difficulties', 'dig1v', 'digia', 'digicel', 'digital', 'digitalize', 'digitally', 'digitalmediaasia', 'dillon', 'diluted', 'dilution', 'dimensions', 'diminished', 'dinh', 'dinmukhamet', 'dinner', 'dinosaurs', 'dioxide', 'dip', 'direct', 'directed', 'directional', 'directionality', 'directly', 'director', 'directors', 'directory', 'disagree', 'disagreement', 'disappear', 'disappeared', 'disappointing', 'disappointment', 'discipline', 'disclaims', 'disclose', 'disclosed', 'disclosing', 'disclosure', 'discontinue', 'discontinued', 'discount', 'discounted', 'discovered', 'discuss', 'discussed', 'discussion', 'discussions', 'disease', 'dishes', 'disk', 'dismissed', 'display', 'displays', 'disposable', 'disposal', 'dispose', 'dispute', 'dissolve', 'dissolved', 'distance', 'distinct', 'distinctive', 'distinctly', 'distinguished', 'distributable', 'distribute', 'distributed', 'distributes', 'distribution', 'distributions', 'distributor', 'distributors', 'district', 'diversified', 'diversify', 'divest', 'divested', 'divestment', 'divests', 'divide', 'divided', 'dividend', 'dividends', 'division', 'divisions', 'djsi', 'dkk250', 'dma', 'dmasia', 'dna', 'dnb', 'do', 'docomo', 'doctors', 'document', 'documentation', 'documents', 'doering', 'does', 'dog', 'dogs', 'dohle', 'doing', 'dok', 'doktas', 'dokumculuk', 'dokumentori', 'dolce', 'dollar', 'dollars', 'domain', 'domestic', 'domestically', 'donate', 'donation', 'donations', 'done', 'dongguan', 'doobie', 'door', 'doors', 'dopplr', 'doprava', 'doring', 'dormus', 'dose', 'doses', 'dosing', 'double', 'doubled', 'doubles', 'doubling', 'douglas', 'dover', 'dovre', 'dow', 'down', 'downgraded', 'download', 'downloadable', 'downloading', 'downstream', 'downtown', 'downturns', 'dozen', 'dozens', 'drafted', 'dragged', 'dragonfly', 'dramatic', 'draught', 'drawn', 'dress', 'dried', 'drillisch', 'drink', 'drinks', 'drive', 'driven', 'driver', 'drivers', 'drives', 'driving', 'drop', 'dropped', 'dropping', 'drought', 'drug', 'dry', 'drying', 'dso1v', 'dt', 'dual', 'dubai', 'dubbed', 'dubna', 'duckburg', 'due', 'duet', 'dukat', 'dulai', 'dumping', 'durability', 'duration', 'durham', 'during', 'dutch', 'duties', 'duty', 'dwt', 'dyed', 'dyes', 'dynamic', 'dynamics', 'dz', 'e20', 'e300', 'e36', 'e45', 'e50', 'e51', 'e60', 'e61', 'e61i', 'e62', 'e63', 'e65', 'e658', 'e66', 'e7', 'e70', 'e71', 'e72', 'e90', 'ea', 'each', 'eads', 'eager', 'eagle', 'earlier', 'earliest', 'early', 'earned', 'earnings', 'easier', 'easiest', 'east', 'easter', 'eastern', 'easy', 'eat', 'eaten', 'eaton', 'eb', 'eberl', 'ebg1v', 'ebit', 'ebita', 'ebitda', 'ebrd', 'ebusiness', 'eco', 'economic', 'economically', 'economics', 'economy', 'ecosystem', 'ecuador', 'edgar', 'edge', 'edges', 'edging', 'edible', 'edita', 'editor', 'edmonds', 'education', 'ee', 'eek', 'eero', 'eesti', 'eet', 'effect', 'effected', 'effective', 'effectively', 'effectiveness', 'effects', 'efficiencies', 'efficiency', 'efficient', 'effluent', 'effort', 'efforts', 'efi', 'efo1v', 'efore', 'egeszsegbolt', 'egm', 'egypt', 'ehitus', 'eidesvik', 'eigener', 'eight', 'eighteen', 'eijkens', 'eila', 'einvoices', 'eiof', 'ekono', 'elaborated', 'elcoteq', 'elect', 'elected', 'election', 'elections', 'electric', 'electrical', 'electricity', 'electrification', 'electronic', 'electronically', 'electronics', 'electrowatt', 'elekter', 'elektrobit', 'elektros', 'elements', 'eletric', 'elevated', 'elevator', 'elevators', 'eli1v', 'eligible', 'eliiv', 'elimaki', 'elisa', 'elite', 'ell', 'eloholma', 'else', 'elsewhere', 'email', 'emailed', 'embarked', 'embroiled', 'emergency', 'emerging', 'emi', 'emirates', 'emission', 'emissions', 'emphasis', 'emphasised', 'emphasises', 'employ', 'employed', 'employee', 'employees', 'employer', 'employing', 'employment', 'employs', 'empresa', 'empt', 'emptive', 'empty', 'ems', 'emsa', 'emt', 'emtn', 'en', 'enable', 'enables', 'enabling', 'enclosed', 'encompassing', 'encourage', 'end', 'ended', 'ending', 'endorsement', 'endowment', 'ends', 'endustri', 'enefit', 'energia', 'energy', 'enexis', 'eng', 'engaged', 'engine', 'engineer', 'engineered', 'engineering', 'engineers', 'engines', 'english', 'enhance', 'enhanced', 'enhances', 'enhancing', 'enjoy', 'enough', 'enp', 'enso', 'ensure', 'ensuring', 'enter', 'entered', 'entering', 'enterprise', 'enterprises', 'enters', 'entertainment', 'enthusiasm', 'entice', 'entire', 'entirely', 'entirety', 'entities', 'entitle', 'entitled', 'entitlement', 'entitlements', 'entitles', 'entity', 'entreprenad', 'entreprenadmaskiner', 'entrepreneurs', 'entreprenor', 'entry', 'environment', 'environmental', 'environmentally', 'environments', 'envisaged', 'eoss', 'eou', 'epi', 'eps', 'eqt', 'equal', 'equipment', 'equipped', 'equities', 'equity', 'equivalent', 'equivalents', 'era', 'ercols', 'ercs', 'erdenet', 'erection', 'ergo', 'ergonomic', 'erh', 'eric', 'ericsson', 'eriksson', 'erkki', 'eronen', 'erp', 'errors', 'ervi', 'ervio', 'es', 'esa', 'escalator', 'escalators', 'esko', 'esl', 'espana', 'especially', 'espoo', 'essar', 'essent', 'essential', 'establish', 'established', 'establishes', 'establishing', 'establishment', 'estate', 'estimate', 'estimated', 'estimates', 'estimation', 'estonia', 'estonian', 'etc', 'etera', 'ethanol', 'ethibel', 'etteplan', 'etth', 'etuovi', 'eu', 'eua', 'eucalyptus', 'eukor', 'eur', 'eur0', 'eur1', 'eur10', 'eur107', 'eur108', 'eur11', 'eur111', 'eur1149', 'eur115m', 'eur116m', 'eur11m', 'eur12', 'eur120m', 'eur121m', 'eur125', 'eur127', 'eur12m', 'eur13', 'eur131', 'eur139m', 'eur14', 'eur143', 'eur15', 'eur150m', 'eur152', 'eur155', 'eur156', 'eur157', 'eur159', 'eur16', 'eur160m', 'eur167', 'eur16m', 'eur17', 'eur177', 'eur179', 'eur17m', 'eur18', 'eur182', 'eur19', 'eur193', 'eur196', 'eur1bn', 'eur2', 'eur20', 'eur201', 'eur20m', 'eur21', 'eur21m', 'eur22', 'eur23', 'eur24', 'eur25', 'eur259m', 'eur25m', 'eur26', 'eur27', 'eur27m', 'eur28', 'eur286m', 'eur29', 'eur297', 'eur29m', 'eur2m', 'eur3', 'eur30', 'eur300', 'eur30m', 'eur313', 'eur32', 'eur320', 'eur33', 'eur33m', 'eur35', 'eur360', 'eur36m', 'eur38', 'eur386', 'eur394', 'eur39m', 'eur3m', 'eur4', 'eur400m', 'eur40m', 'eur415', 'eur416', 'eur41m', 'eur42', 'eur422', 'eur42m', 'eur43', 'eur436', 'eur45m', 'eur46', 'eur46m', 'eur47', 'eur472m', 'eur484m', 'eur5', 'eur500', 'eur50m', 'eur510m', 'eur53m', 'eur55', 'eur550m', 'eur58', 'eur582', 'eur58m', 'eur598', 'eur59m', 'eur5m', 'eur6', 'eur609m', 'eur61', 'eur61m', 'eur62', 'eur63', 'eur634', 'eur647m', 'eur65', 'eur655', 'eur65m', 'eur69', 'eur6m', 'eur7', 'eur70m', 'eur73', 'eur732m', 'eur73m', 'eur74', 'eur74m', 'eur75m', 'eur7m', 'eur8', 'eur80m', 'eur86', 'eur860m', 'eur9', 'eur91', 'eur94m', 'eur97m', 'eur98m', 'eur995', 'euribor', 'euro', 'euro1', 'euro120', 'euro13', 'euro200', 'euro26', 'euro300', 'euro735', 'euro742', 'euro86', 'eurobond', 'eurochem', 'euronext', 'europe', 'european', 'europolitan', 'euros', 'ev', 'evaluation', 'evaporation', 'even', 'evening', 'event', 'events', 'ever', 'everest', 'every', 'everyday', 'everything', 'everywhere', 'evidence', 'evident', 'evidentiary', 'evil', 'evli', 'evp', 'evraz', 'exactly', 'examines', 'examining', 'example', 'exceeded', 'exceeds', 'excellence', 'excellent', 'excellently', 'except', 'excerpt', 'excess', 'excessive', 'exchange', 'exchanges', 'excise', 'excited', 'exciting', 'excluding', 'exclusive', 'execute', 'executed', 'executing', 'execution', 'executive', 'executives', 'exel', 'exempted', 'exempting', 'exercise', 'exercising', 'exert', 'exhibition', 'exist', 'existing', 'exists', 'exit', 'expand', 'expanded', 'expanding', 'expands', 'expansion', 'expect', 'expectations', 'expected', 'expecting', 'expects', 'expenditure', 'expenditures', 'expense', 'expenses', 'expensive', 'experience', 'experiences', 'experiencing', 'experimenting', 'expert', 'expertise', 'experts', 'expire', 'expired', 'expires', 'explained', 'explains', 'exploited', 'exploits', 'exploration', 'explore', 'explosively', 'expo', 'export', 'exported', 'exporters', 'exporting', 'exports', 'exposure', 'express', 'expression', 'expressly', 'ext', 'extend', 'extended', 'extending', 'extends', 'extension', 'extensive', 'extensively', 'exterior', 'external', 'extra', 'extract', 'extracted', 'extraction', 'extraordinary', 'extremely', 'extrusion', 'eye', 'fab', 'fabric', 'fabrication', 'fabrics', 'facades', 'face', 'facilitate', 'facilities', 'facility', 'facing', 'fact', 'factor', 'factories', 'factors', 'factory', 'faculty', 'failed', 'failure', 'fair', 'fairly', 'fall', 'fallen', 'faller', 'fallers', 'falling', 'falls', 'familiar', 'families', 'family', 'fancy', 'fantastic', 'fantuzzi', 'far', 'farm', 'farmer', 'farms', 'fashion', 'fast', 'fasten', 'faster', 'fastest', 'fat', 'fats', 'favor', 'favorable', 'favorite', 'favors', 'favourable', 'favourably', 'fcu', 'fears', 'feasibility', 'feasible', 'feature', 'featured', 'features', 'featuring', 'feb', 'february', 'federal', 'federation', 'fee', 'feed', 'feedback', 'feeder', 'feeders', 'feedstock', 'feedstocks', 'feel', 'feeling', 'feels', 'fees', 'feet', 'fell', 'femto', 'fencing', 'ferguson', 'ferries', 'ferro', 'ferry', 'ferryboats', 'fertilizer', 'fesco', 'few', 'fewer', 'fgvoip', 'fi', 'fia1s', 'fiber', 'fibers', 'fibre', 'fidelity', 'field', 'fields', 'fifth', 'fiftieth', 'fight', 'figure', 'figures', 'file', 'filed', 'files', 'filing', 'filippova', 'filling', 'film', 'filmiteollisuus', 'filter', 'filters', 'filtrates', 'filtration', 'fim', 'fimentor', 'final', 'finale', 'finalize', 'finalized', 'finance', 'financed', 'financement', 'finances', 'financial', 'financially', 'financialwire', 'financing', 'financings', 'finans', 'finbow', 'fincantieri', 'find', 'findest', 'finding', 'findings', 'fine', 'fined', 'finger', 'finieris', 'finish', 'finished', 'finisher', 'finishing', 'finlan', 'finland', 'finnair', 'finncomm', 'finnegans', 'finnfund', 'finnish', 'finnishness', 'finnlines', 'finns', 'finton', 'fire', 'fired', 'fireplace', 'fireplaces', 'firm', 'firmed', 'firms', 'first', 'firstalert', 'fisas', 'fiscal', 'fischer', 'fish', 'fisher', 'fishing', 'fiskars', 'fit', 'fitch', 'fitness', 'fits', 'fitzgerald', 'five', 'fixed', 'fixing', 'fki', 'fl', 'flag', 'flagging', 'flagship', 'flat', 'flavoured', 'fleet', 'flex', 'flexi', 'flexibility', 'flexible', 'flexibly', 'flies', 'flight', 'flights', 'floor', 'floorball', 'flooring', 'floorings', 'floors', 'floral', 'florida', 'flow', 'fluctuated', 'fluctuation', 'fluid', 'flurry', 'flykt', 'focus', 'focused', 'focuses', 'focusing', 'folded', 'folding', 'follow', 'followed', 'following', 'follows', 'follum', 'foncier', 'food', 'foods', 'foodservice', 'foot', 'footwear', 'for', 'force', 'forced', 'ford', 'forecast', 'forecasting', 'forecasts', 'foreign', 'foremost', 'foresees', 'forest', 'forestal', 'forestries', 'forestry', 'forests', 'forever', 'forging', 'fork', 'form', 'forma', 'formadehyde', 'formal', 'format', 'formation', 'formations', 'formed', 'former', 'formerly', 'forming', 'forms', 'formwork', 'forssa', 'forssan', 'forthcoming', 'fortum', 'fortuna', 'fortune', 'forum', 'forums', 'forward', 'forwarded', 'forwarders', 'forwarding', 'forwards', 'found', 'foundation', 'foundations', 'founded', 'foundries', 'four', 'fourth', 'fox', 'fr', 'fradkov', 'frame', 'framework', 'framing', 'franc', 'france', 'franchise', 'franchising', 'francisco', 'frank', 'frankfurt', 'franklin', 'fray', 'fredrik', 'free', 'freenet', 'freezing', 'frei', 'freight', 'fremantlemedia', 'french', 'frenzy', 'frequencies', 'frequency', 'fresh', 'friday', 'friedlander', 'friend', 'friendly', 'friends', 'friman', 'frn', 'frolov', 'from', 'front', 'fronts', 'frost', 'frozen', 'ft', 'ftse', 'fttb', 'ftth', 'fttx', 'fuel', 'fuelled', 'fuels', 'fujitsu', 'fulfil', 'fulfill', 'fulfilling', 'fulfillment', 'fulfilment', 'full', 'fully', 'fum1v', 'fun', 'function', 'functionalities', 'functionality', 'functioning', 'functions', 'fund', 'fundamentals', 'funded', 'funding', 'funds', 'furlough', 'furnace', 'furnaces', 'furniture', 'further', 'furthermore', 'furusund', 'future', 'futures', 'g2', 'g400', 'ga', 'gabbana', 'gage', 'gain', 'gained', 'gains', 'galeria', 'galerie', 'gallerix', 'galvan', 'gama', 'gambling', 'gambro', 'game', 'games', 'gaming', 'gansu', 'gantry', 'gap', 'garage', 'garden', 'gardening', 'garmin', 'garner', 'garry', 'gas', 'gasco', 'gasoline', 'gather', 'gathered', 'gave', 'gavrilov', 'gbx10', 'gdf', 'gdp', 'ge', 'gear', 'gearing', 'geberit', 'gemalto', 'general', 'generally', 'generate', 'generated', 'generates', 'generating', 'generation', 'generator', 'generators', 'genesis', 'genetically', 'genius', 'genuine', 'geo', 'geo1v', 'geographic', 'geographical', 'geographically', 'geographies', 'geometric', 'geometrically', 'george', 'geosentric', 'geosolutions', 'gerber', 'german', 'germany', 'get', 'getinge', 'gets', 'getting', 'ghana', 'ghz', 'giant', 'gibtelecom', 'gift', 'gilchrist', 'gill', 'girders', 'give', 'given', 'gives', 'giving', 'gla1v', 'glad', 'glasgow', 'glass', 'glasses', 'glassfiber', 'glassworldex', 'glaston', 'glichkeit', 'glisten', 'global', 'globally', 'globe', 'globes', 'gloriya', 'gloss', 'gmbh', 'gmo', 'gmt', 'go', 'goal', 'goals', 'goes', 'gogol', 'gohrsm', 'going', 'gold', 'golden', 'goldman', 'gone', 'good', 'goods', 'goodwill', 'goodyear', 'google', 'goran', 'gordon', 'gorelovo', 'got', 'gothenburg', 'gotta', 'governance', 'governed', 'governemtn', 'government', 'gprs', 'gps', 'graafiset', 'grabbing', 'grade', 'grades', 'grading', 'gradually', 'grain', 'gran', 'grand', 'granted', 'grants', 'grapevine', 'graphic', 'graphics', 'grappling', 'grate', 'gratuitous', 'graz', 'grc', 'great', 'greater', 'greatest', 'green', 'greensmith', 'grew', 'grid', 'grievance', 'grill', 'grimaldi', 'grinding', 'grip', 'grodno', 'gross', 'ground', 'grounds', 'group', 'groupe', 'groups', 'grow', 'growhow', 'growing', 'grown', 'grows', 'growth', 'grupe', 'gruppen', 'gs', 'gsk', 'gsm', 'guangdong', 'guard', 'guder', 'guidance', 'guide', 'guided', 'guides', 'guinea', 'gulf', 'gunpoint', 'gustav', 'gypsii', 'gypsum', 'h1', 'haakon', 'haapakoski', 'haavisto', 'hack', 'hackers', 'hacking', 'had', 'haikarainen', 'haiti', 'half', 'hall', 'hallberg', 'hallein', 'halonen', 'halted', 'halved', 'hame', 'hamina', 'hammaslaakarit', 'hampden', 'hampshire', 'hand', 'handelsbanken', 'handheld', 'handle', 'handled', 'handler', 'handlers', 'handles', 'handling', 'handoff', 'hands', 'handset', 'handsets', 'hang', 'hangasjarvi', 'hanko', 'hanna', 'hannaford', 'hanninen', 'hannu', 'hanoi', 'hans', 'hansen', 'hantila', 'hapoel', 'happen', 'happened', 'happening', 'happy', 'harald', 'harbor', 'harbour', 'hard', 'hardest', 'hardware', 'harju', 'harkonen', 'harness', 'harnosand', 'harold', 'harple', 'harri', 'hartford', 'harvester', 'harvesters', 'harvesting', 'has', 'hassela', 'hassinen', 'hasten', 'hat', 'hatch', 'haug', 'hauhio', 'hauling', 'hautaniemi', 'have', 'haven', 'having', 'hayward', 'hbos', 'hd', 'hdi', 'hdo', 'he', 'head', 'headbox', 'headcount', 'headed', 'heading', 'headline', 'headquarter', 'headquartered', 'headquarters', 'heads', 'health', 'healthcare', 'healthy', 'hear', 'heard', 'hearing', 'hearst', 'heart', 'heat', 'heated', 'heathrow', 'heating', 'heatmasters', 'heavily', 'heavy', 'hectare', 'hectares', 'hedging', 'height', 'heights', 'heikki', 'heindlmeyer', 'hel', 'helasto', 'held', 'helir', 'helisnki', 'helmets', 'helokunnas', 'help', 'helped', 'helping', 'helps', 'helsingin', 'helsinki', 'henning', 'henrik', 'henry', 'hepatitis', 'her', 'here', 'heritage', 'herttaassa', 'hervy', 'herzegovina', 'heterogenous', 'hevea', 'hfc', 'hi', 'hiab', 'hietanen', 'high', 'higher', 'highest', 'highlight', 'highlights', 'highly', 'highrises', 'highway', 'hiidenheimo', 'hilton', 'him', 'hintikka', 'hire', 'hired', 'hiring', 'his', 'historian', 'historic', 'history', 'hit', 'hitachi', 'hits', 'hitting', 'hitura', 'hk', 'hkscan', 'hkse', 'hle', 'hmi', 'hobby', 'hockey', 'hoist', 'hoists', 'hold', 'holder', 'holders', 'holding', 'holdings', 'holds', 'holiday', 'holidays', 'hollola', 'holmen', 'home', 'homeowners', 'homepage', 'homes', 'homeware', 'hong', 'hongmei', 'honka', 'honkajoki', 'honkamaa', 'honkarakenne', 'honolulu', 'honored', 'hook', 'hooked', 'hope', 'hoped', 'hopes', 'horizon', 'hormone', 'hornborg', 'hospitals', 'host', 'hosted', 'hostile', 'hosting', 'hot', 'hotel', 'hotels', 'hour', 'hours', 'house', 'housed', 'households', 'houses', 'housewares', 'housing', 'how', 'however', 'hoyer', 'hp', 'hsea', 'hspa', 'hss', 'html', 'hu', 'hualu', 'huge', 'huh', 'huhtam', 'huhtamaki', 'hull', 'human', 'humans', 'hundred', 'hung', 'hungary', 'hunting', 'hurt', 'hutchison', 'hybrid', 'hydraulics', 'hydro', 'hydrocarbon', 'hydrocarbons', 'hydrocopper', 'hydronic', 'hyun', 'hyundai', 'ia', 'ibm', 'ice', 'icelandair', 'icis', 'iconic', 'ict', 'icy', 'id', 'idea', 'ideal', 'ideally', 'ideas', 'identical', 'identification', 'identified', 'identifying', 'identity', 'idrisov', 'idzelis', 'ietf', 'if', 'ifrs', 'iggesunds', 'ignatius', 'ignored', 'igor', 'ii', 'iii', 'iittala', 'iivrcl', 'ilim', 'ilk2s', 'ilkka', 'ill', 'illustration', 'illustrators', 'ilmarinen', 'ils', 'ilyin', 'image', 'imaging', 'imalat', 'imap', 'immediate', 'immediately', 'immersive', 'impact', 'impacted', 'impacting', 'impacts', 'impairment', 'implement', 'implementation', 'implemented', 'implementing', 'implements', 'import', 'importance', 'important', 'imported', 'imports', 'impress', 'impressive', 'improve', 'improved', 'improvement', 'improvements', 'improves', 'improving', 'impulse', 'imputed', 'imsm', 'in', 'inaugural', 'inaugurated', 'inaugurates', 'inaugurating', 'inbound', 'inc', 'incap', 'ince', 'incident', 'inclination', 'include', 'included', 'includes', 'including', 'inclusion', 'inclusive', 'income', 'inconsistent', 'incorporates', 'incorporating', 'increase', 'increased', 'increases', 'increasing', 'increasingly', 'inculding', 'incur', 'incurred', 'independence', 'independent', 'independently', 'index', 'indexes', 'india', 'indian', 'indicate', 'indicated', 'indication', 'indicator', 'indicators', 'indigo', 'indital', 'individual', 'individualising', 'individually', 'individuals', 'indosat', 'industri', 'industria', 'industrial', 'industrialsql', 'industriekapital', 'industries', 'industry', 'inflatable', 'inflation', 'influence', 'info', 'inform', 'information', 'informed', 'infra', 'infrastructure', 'infrastructures', 'ing', 'ingen', 'ingerois', 'ingredient', 'ingredients', 'inha', 'inhibitor', 'initial', 'initially', 'initiate', 'initiated', 'initiating', 'initiative', 'initiatives', 'injection', 'ink', 'inked', 'inkinen', 'inking', 'innofactor', 'innova', 'innovar', 'innovation', 'innovational', 'innovationsmanagement', 'innovative', 'innovator', 'innovest', 'inorganic', 'input', 'inregard', 'inrikes', 'inside', 'insight', 'insights', 'insolvency', 'inspection', 'inspections', 'inspects', 'inspired', 'inspires', 'inspiring', 'install', 'installation', 'installed', 'installment', 'installs', 'instance', 'instead', 'insteel', 'institute', 'institution', 'institutional', 'institutions', 'instruction', 'instructional', 'instrument', 'instrumentation', 'instruments', 'insurance', 'insurer', 'insurers', 'intake', 'intangible', 'integrate', 'integrated', 'integrates', 'integration', 'intel', 'intellectual', 'intellibis', 'intelligence', 'intelligent', 'intellisync', 'intend', 'intended', 'intends', 'intensity', 'intensive', 'intent', 'intention', 'inter', 'interaction', 'interactions', 'interactive', 'interconnected', 'interconnection', 'interdigital', 'interest', 'interested', 'interesting', 'interests', 'interface', 'interfaces', 'interfax', 'interference', 'interim', 'interior', 'interiors', 'intermittently', 'internal', 'international', 'internationalised', 'internationally', 'internet', 'interoperability', 'interrupted', 'intertek', 'intervention', 'interview', 'into', 'intouch', 'intriguing', 'introduce', 'introduced', 'introduces', 'introducing', 'introduction', 'intubated', 'intuitive', 'invalid', 'invented', 'invention', 'inventor', 'inventories', 'inventors', 'inventory', 'inverters', 'invest', 'invested', 'investigate', 'investigated', 'investigation', 'investigators', 'investing', 'investlesprom', 'investment', 'investments', 'investor', 'investors', 'investrend', 'invitation', 'invitations', 'invite', 'invoice', 'invoices', 'invoicing', 'involve', 'involved', 'involves', 'involving', 'ionphase', 'ipad', 'iphone', 'ipo', 'iptv', 'ipv6', 'ir', 'ireland', 'irish', 'iron', 'irrevocable', 'irrevocably', 'is', 'ise', 'isk', 'islands', 'isms', 'iso', 'isoprene', 'isps', 'israel', 'israeli', 'issuance', 'issue', 'issued', 'issuer', 'issues', 'issuing', 'isto', 'it', 'ita', 'italahdenkatu', 'italian', 'italy', 'itella', 'item', 'items', 'iterating', 'itg', 'itikka', 'itkonen', 'itonut', 'its', 'itself', 'iv', 'ivarsson', 'ivd', 'ivrcl', 'ixonos', 'ja', 'jaakko', 'jacket', 'jackson', 'jacobs', 'jaemsaenkoski', 'jalo', 'jams', 'jan', 'janhonen', 'janis', 'janno', 'january', 'japan', 'japanese', 'jari', 'jarle', 'jarmo', 'jaroszowka', 'jarvenpaa', 'jarvinen', 'jason', 'java', 'jawad', 'jeambar', 'jeans', 'jeder', 'jens', 'jensen', 'jerusalem', 'jet', 'jets', 'jiang', 'jim', 'jimmy', 'jm', 'job', 'jobs', 'joe', 'johan', 'johanna', 'john', 'join', 'joined', 'joins', 'joint', 'jointly', 'jon', 'jones', 'jordan', 'jorgen', 'jorma', 'jortikka', 'jot', 'jouko', 'journalistic', 'journey', 'joyfully', 'jp', 'jpm', 'jpmorgan', 'judge', 'judgement', 'juergen', 'juha', 'juhani', 'jukka', 'jul', 'julia', 'july', 'jump', 'jumped', 'jun', 'junction', 'june', 'jung', 'juri', 'jussi', 'just', 'justin', 'justly', 'juuka', 'jyv', 'jyvaeskylae', 'jyvaskyla', 'kaaja', 'kaare', 'kaarstroem', 'kahonen', 'kai', 'kaido', 'kaisanlahti', 'kaivo', 'kalajoki', 'kaleva', 'kalinisky', 'kalkkuna', 'kallasvuo', 'kallio', 'kalmar', 'kalnapilio', 'kalnapilis', 'kaluga', 'kangasala', 'kansa', 'kansas', 'kapellskar', 'kapthing', 'kapuli', 'karachi', 'karara', 'karczewicz', 'karelia', 'karhinen', 'karhu', 'karhula', 'kari', 'kariniemi', 'karkkila', 'karlstad', 'karppinen', 'karputer', 'karttakeskus', 'karvinen', 'kasak', 'kasola', 'katajavuori', 'katzman', 'kauhajoki', 'kauhava', 'kauko', 'kaukomarkkinat', 'kaukopartio', 'kaunas', 'kauniskangas', 'kaunisvaara', 'kauno', 'kauppalehti', 'kaupthing', 'kaupunkin', 'kausta', 'kazakhstan', 'kazgiprotsvetmet', 'kci', 'kcr1v', 'kd', 'kdg', 'kebabs', 'kedia', 'keep', 'keiju', 'kellokoski', 'kemian', 'kemij', 'kemijoki', 'kemira', 'kennedy', 'kenneth', 'kept', 'kermansavi', 'kersberga', 'kershaw', 'kesbv', 'keskinen', 'kesko', 'keskuskatu', 'kevin', 'key', 'keyboard', 'keylogging', 'keyword', 'keywords', 'kft', 'kg', 'khanty', 'khopoli', 'kia', 'kick', 'kicking', 'kidnapped', 'kidnapping', 'kiikoinen', 'kiilto', 'kilograms', 'kilometers', 'kilometres', 'kilos', 'kim', 'kimmel', 'kimmo', 'kind', 'kindergarten', 'kinds', 'kiosk', 'kiran', 'kirkkonummi', 'kirsi', 'kiruna', 'kit', 'kitai', 'kitchen', 'kito', 'kitron', 'kivimeister', 'klo', 'km', 'knickerbockers', 'knight', 'knives', 'know', 'knowhow', 'knowledge', 'known', 'knows', 'koduextra', 'koff', 'koistinen', 'koivisto', 'kolkata', 'kolkhoznitsa', 'kolnp', 'kolorit', 'kone', 'konecranes', 'kong', 'kopijyva', 'korea', 'korean', 'korhonen', 'korpinen', 'korteniemi', 'koskinen', 'koskull', 'kospa', 'kostenlos', 'kostroma', 'kotka', 'koulutuskuntayhtyma', 'kpi', 'kra1v', 'kraft', 'kraftliner', 'krakeroy', 'kraski', 'krippl', 'krishna', 'krister', 'kroksberg', 'krona', 'kronor', 'krook', 'kroon', 'kroons', 'kuitu', 'kuitunen', 'kultalonkero', 'kuopio', 'kurkilahti', 'kurt', 'kustannus', 'kuula', 'kuzaj', 'kveyt', 'kw', 'ky', 'kyivstar', 'kylas', 'kymi', 'kymmene', 'kyro', 'kyrolainen', 'kyronsalmi', 'kyroskoski', 'laamanen', 'laasanen', 'laavainen', 'label', 'labels', 'labor', 'laboratories', 'laboratory', 'laborious', 'labs', 'ladle', 'laguardia', 'lahden', 'lahti', 'lahtinen', 'laid', 'laine', 'laisi', 'lake', 'lakeville', 'lakshmi', 'lamp', 'lampokasittely', 'land', 'landsbanken', 'lanebrook', 'lang', 'language', 'languages', 'lankapaja', 'lansio', 'lansivayla', 'lanxess', 'lapin', 'lappeenranta', 'large', 'largely', 'larger', 'largest', 'larox', 'lasse', 'lassi', 'lassila', 'last', 'lat1v', 'late', 'later', 'latest', 'latin', 'lats', 'latta', 'lattelecom', 'latter', 'latvenergo', 'latvia', 'latvian', 'latvijas', 'launch', 'launched', 'launches', 'launching', 'laut', 'law', 'lawmakers', 'laws', 'lay', 'layer', 'layers', 'laying', 'layoffs', 'lcc', 'lcd', 'le', 'leaching', 'lead', 'leader', 'leaders', 'leadership', 'leading', 'leads', 'leakage', 'lean', 'leaning', 'learn', 'learning', 'learns', 'leary', 'leasable', 'lease', 'leaseback', 'leased', 'leases', 'leasing', 'least', 'leave', 'leaves', 'leaving', 'led', 'lee', 'leed', 'left', 'legacy', 'legal', 'legrand', 'lehdentekijat', 'lehtiyhtyma', 'lehtonen', 'lei', 'leif', 'leipurin', 'leisure', 'lem1s', 'lember', 'lemcon', 'leminen', 'lemiste', 'lemmink', 'lemminkainen', 'lender', 'lenders', 'lending', 'lenenergo', 'length', 'leningrad', 'lennart', 'lennon', 'leskinen', 'less', 'let', 'lettable', 'letter', 'level', 'levels', 'leverage', 'lg', 'lgpl', 'lgu', 'liabilities', 'liability', 'liberty', 'libraries', 'library', 'licences', 'license', 'licenses', 'licensing', 'lidl', 'lidskoe', 'liechtenstein', 'lieksaare', 'lies', 'lietuva', 'lietuvos', 'life', 'lifecycle', 'lifestyle', 'lifetime', 'lifetree', 'lift', 'lifted', 'lifting', 'lifts', 'light', 'lighting', 'lightning', 'lights', 'lightsquared', 'lightweight', 'lihakombinaat', 'lihakunta', 'lihatoostus', 'lihir', 'liisa', 'like', 'likely', 'liljeholmen', 'limestone', 'limit', 'limited', 'limiting', 'limits', 'linde', 'linden', 'lindex', 'line', 'lines', 'lining', 'link', 'linked', 'linking', 'links', 'linkspans', 'lion', 'lions', 'liora', 'lip', 'liquefied', 'liquid', 'liquidated', 'liquide', 'liquidity', 'liquids', 'liquor', 'lisle', 'list', 'listed', 'listing', 'lists', 'litas', 'liter', 'literature', 'liters', 'lithuania', 'lithuanian', 'litres', 'litter', 'little', 'live', 'lived', 'living', 'lkab', 'll', 'llc', 'lmt', 'lng', 'lo', 'load', 'loader', 'loaders', 'loading', 'loan', 'loans', 'local', 'localisation', 'locally', 'locate', 'located', 'location', 'locations', 'locator', 'locatrix', 'locks', 'locomotive', 'lodged', 'log', 'logged', 'logistic', 'logistical', 'logistics', 'logo', 'logs', 'logset', 'london', 'long', 'longer', 'lonnfors', 'look', 'looking', 'lookout', 'looks', 'loose', 'lordi', 'lorry', 'los', 'loses', 'losing', 'loss', 'losses', 'lost', 'lot', 'lots', 'lotus', 'loudeac', 'loudeye', 'louis', 'love', 'lovely', 'low', 'lower', 'lowered', 'lowering', 'lowest', 'lows', 'loyal', 'loyalty', 'lp', 'lr', 'ls', 'lsc', 'lse', 'lt', 'ltd', 'lte', 'lubricants', 'luhr', 'lukkoexpert', 'lule', 'lulea', 'lulu', 'lumberman', 'lump', 'luna', 'lunch', 'lundberg', 'lundmark', 'lure', 'lures', 'lutterworth', 'luumaki', 'luxembourg', 'luxury', 'lxe', 'lynch', 'lynn', 'm2', 'm3', 'maarten', 'maaseudun', 'maatta', 'macgregor', 'machine', 'machinery', 'machines', 'macro', 'made', 'madison', 'maemo', 'magazine', 'magazines', 'magnet', 'magnetic', 'magnetite', 'magney', 'maihak', 'maihaniemi', 'maija', 'mail', 'mails', 'main', 'maine', 'maingate', 'mainly', 'mainor', 'mainstream', 'maintain', 'maintained', 'maintaining', 'maintains', 'maintenance', 'mainz', 'major', 'majority', 'make', 'makeover', 'maker', 'makers', 'makes', 'making', 'maks', 'makuisa', 'malaysia', 'malaysians', 'males', 'malinen', 'malkia', 'mall', 'maloney', 'maltider', 'malting', 'malware', 'mammila', 'man', 'manage', 'manageable', 'managed', 'management', 'manager', 'managers', 'manages', 'managing', 'manavigator', 'manchester', 'mandatory', 'manganese', 'manipulator', 'manner', 'mansi', 'mansner', 'mantsala', 'manty', 'mantyharju', 'manufacture', 'manufactured', 'manufacturer', 'manufacturers', 'manufactures', 'manufacturing', 'many', 'map', 'maple', 'mapping', 'maps', 'mara', 'marathon', 'marcel', 'march', 'marela', 'margareta', 'margarine', 'margin', 'margins', 'marieholm', 'marietta', 'marimekko', 'marina', 'marinated', 'marine', 'maritim', 'maritime', 'marjo', 'mark', 'marked', 'markedly', 'market', 'marketed', 'marketing', 'marketplace', 'marketplaces', 'markets', 'marketwatch', 'markings', 'markka', 'markku', 'marko', 'marks', 'marski', 'marta', 'martela', 'martin', 'martina', 'martinez', 'marttiini', 'marubeni', 'maruti', 'maruy', 'mascara', 'maskinservice', 'mass', 'master', 'mastercard', 'matador', 'matches', 'matching', 'material', 'materialise', 'materials', 'matka', 'matkatoimisto', 'matrix', 'mats', 'matter', 'matters', 'matti', 'mattila', 'mature', 'maturing', 'maturity', 'max', 'maximizes', 'maximum', 'maxis', 'may', 'maya', 'mayawas', 'mazzika', 'mba', 'mcc', 'mcdonald', 'mce', 'mcguire', 'md', 'meadville', 'meal', 'meals', 'mean', 'means', 'meant', 'meantime', 'meanwhile', 'measure', 'measured', 'measurement', 'measurements', 'measures', 'measuring', 'meat', 'mechanical', 'mechanically', 'mechanics', 'mechanizace', 'media', 'mediation', 'medical', 'mediterranean', 'medium', 'medvezhyegorsk', 'meego', 'meet', 'meeting', 'meetings', 'meets', 'mega', 'megafon', 'megapixel', 'megawatt', 'megawatts', 'meiklejohn', 'melngailis', 'melody', 'meltdown', 'melting', 'member', 'members', 'membership', 'memorandum', 'mena', 'mentioned', 'mentions', 'meo1v', 'mercator', 'merchant', 'merely', 'merge', 'merged', 'merger', 'mergers', 'merging', 'merisatama', 'merko', 'merrill', 'mertano', 'message', 'messages', 'messaging', 'met', 'metal', 'metallurgical', 'metals', 'meteorological', 'meteorology', 'meter', 'meters', 'method', 'methods', 'metre', 'metres', 'metric', 'metrics', 'metro', 'metropolitan', 'mets', 'metsa', 'metsaliitto', 'metsamasina', 'metso', 'meur', 'mexican', 'mexico', 'mezzanine', 'mformation', 'mg', 'mhi', 'mhs', 'mhz', 'mi', 'mich', 'michael', 'michelin', 'micro', 'microsoft', 'microwave', 'mid', 'middle', 'midnighttrader', 'mids', 'midwest', 'might', 'migration', 'mika', 'mikaapplication', 'mike', 'mikko', 'mikkonen', 'milan', 'mildly', 'milestone', 'mill', 'millhouse', 'millimetres', 'million', 'millions', 'mills', 'min', 'mind', 'mine', 'miner', 'minera', 'mineral', 'minerals', 'mines', 'miniature', 'minimize', 'mining', 'minister', 'ministerija', 'ministry', 'minn', 'minnetonka', 'minor', 'minority', 'minutes', 'mirabela', 'misleading', 'missouri', 'mistake', 'mitsubishi', 'mittal', 'mix', 'mixed', 'ml', 'mline', 'mln', 'mm', 'mmh', 'mmo1v', 'mms', 'mn', 'mnc', 'mo', 'mobile', 'mobileid', 'mobility', 'modal', 'model', 'modeling', 'modelling', 'models', 'modems', 'moderate', 'modern', 'modernisation', 'modes', 'modification', 'modify', 'modular', 'module', 'modules', 'mohammed', 'moisio', 'moisture', 'mold', 'molecule', 'molecules', 'molten', 'molub', 'molybdenum', 'moment', 'monate', 'monday', 'monetary', 'money', 'mongolia', 'monitor', 'monitoring', 'mono', 'monopoly', 'monospace', 'monster', 'montaj', 'month', 'monthly', 'months', 'moody', 'mooring', 'moorits', 'moran', 'more', 'moreover', 'morgan', 'morna', 'morning', 'morocco', 'moron', 'morris', 'mortar', 'mortgage', 'mortgages', 'morvillars', 'moscow', 'mosenergosbytbody', 'moskovia', 'mosmetro', 'most', 'mostar', 'mostly', 'motivate', 'motor', 'motorcyclist', 'motorcyclists', 'motorola', 'motors', 'mou', 'mount', 'mountain', 'mouse', 'movable', 'move', 'moved', 'movements', 'moventas', 'movies', 'moving', 'mpra', 'mr', 'ms', 'msn', 'mso', 'mssb', 'mt', 'mti', 'much', 'mud', 'mukkavilli', 'muling', 'multi', 'multifunctional', 'multilingual', 'multimedia', 'multimediacard', 'multinational', 'multiplayer', 'multiple', 'multiplying', 'multiradio', 'multistorey', 'mumbai', 'munich', 'municipal', 'municipalities', 'municipality', 'murmansk', 'mursula', 'museum', 'music', 'musoma', 'must', 'mustonen', 'mutual', 'mw', 'mwe', 'my', 'myllykoski', 'myllyla', 'myllypuro', 'mynet', 'n71', 'n72', 'n73', 'n75', 'n76', 'n77', 'n78', 'n79', 'n8', 'n80', 'n81', 'n82', 'n85', 'n92', 'n93', 'n931', 'n95', 'n96', 'nadarajah', 'nadu', 'nagoya', 'naimi', 'name', 'named', 'namely', 'names', 'namibia', 'naming', 'nancheng', 'nanjing', 'napoli', 'narrow', 'narrowed', 'narrows', 'narva', 'nasdaq', 'nastola', 'nasty', 'nation', 'national', 'nationally', 'nationwide', 'natlabs', 'natural', 'naturally', 'nau', 'naur', 'nav', 'navigability', 'navigation', 'navigator', 'navigators', 'navteq', 'ncc', 'nd', 'nda', 'ne', 'near', 'nearby', 'nearly', 'necessary', 'need', 'needed', 'needs', 'nefarious', 'negative', 'negotiate', 'negotiated', 'negotiating', 'negotiation', 'negotiations', 'neighborhood', 'neighboring', 'neither', 'nekilnojamas', 'nembv', 'neomarkka', 'nepal', 'neste', 'net', 'netanttila', 'netcom', 'neteller', 'netherlands', 'netweaver', 'network', 'networking', 'networks', 'neudorf', 'neutral', 'nevada', 'nevertheless', 'nevsky', 'new', 'newark', 'newcomer', 'newcomers', 'newest', 'newfound', 'newly', 'newpage', 'newport', 'news', 'newspaper', 'newspapers', 'newsprint', 'newsroom', 'newstex', 'newswire', 'newswires', 'nexbtl', 'next', 'neya', 'niam', 'niche', 'nickel', 'nicotine', 'nielsen', 'night', 'niiininoski', 'nike', 'nikkei', 'nils', 'nine', 'nitrates', 'nitrite', 'nitrogen', 'nivala', 'njastein', 'nl', 'nm', 'no', 'noa1v', 'nobel', 'nodes', 'noise', 'nok', 'nok1v', 'nokia', 'nokian', 'noma', 'nominal', 'nomination', 'non', 'nonbinding', 'noncore', 'nonwovens', 'noop', 'noora', 'nor', 'nord', 'nordalu', 'nordea', 'nordic', 'nordstjernan', 'norilsk', 'normal', 'normalises', 'normalized', 'normally', 'normandy', 'normark', 'normative', 'norske', 'norsun', 'nortel', 'north', 'northern', 'northernmost', 'northland', 'northwest', 'northwestern', 'norvestia', 'norway', 'norwegian', 'not', 'notably', 'note', 'noted', 'notes', 'nothing', 'notice', 'noticeable', 'notification', 'notified', 'noting', 'noud', 'nov', 'novator', 'novel', 'november', 'novotel', 'now', 'nsn', 'nsr', 'ntsb', 'ntt', 'nuclear', 'nuggets', 'number', 'numbers', 'numerous', 'nurminen', 'nurseries', 'nursing', 'nutritional', 'nutzfahrzeuge', 'nv', 'nwc', 'nyberg', 'nyman', 'nyrstar', 'nyse', 'oao', 'oasis', 'oats', 'objective', 'objectively', 'oblast', 'obligated', 'oblivion', 'oborniki', 'observations', 'observed', 'observes', 'obtained', 'occasion', 'occupancy', 'occupied', 'occupiers', 'occupy', 'occurring', 'och', 'oct', 'october', 'odd', 'odell', 'oefirstalert', 'oems', 'oesk', 'of', 'ofbodywhich', 'ofcramo', 'off', 'offenburg', 'offer', 'offered', 'offering', 'offerings', 'offers', 'office', 'officer', 'offices', 'official', 'officials', 'offs', 'offset', 'offshore', 'oflemminkainen', 'often', 'ogden', 'ohio', 'oil', 'oja', 'ojala', 'oka', 'okhta', 'okm1v', 'okmetic', 'oko', 'oksanen', 'olavi', 'old', 'older', 'oldest', 'oleg', 'olives', 'olkiluoto', 'olli', 'ollikainen', 'olvi', 'olympic', 'omeo', 'omitted', 'omx', 'omxn40', 'on', 'once', 'one', 'onemed', 'ones', 'ongoing', 'online', 'only', 'onstar', 'onto', 'onwards', 'ooo', 'op', 'open', 'opened', 'opening', 'opens', 'operate', 'operated', 'operates', 'operating', 'operation', 'operational', 'operations', 'operative', 'operator', 'operators', 'opinion', 'opinions', 'opk', 'opna', 'opportunities', 'opportunity', 'optical', 'optiflex', 'optimising', 'optimistic', 'optimistically', 'optimization', 'optimize', 'option', 'optionally', 'options', 'opus', 'or', 'oral', 'orange', 'oras', 'orascom', 'orchard', 'ordabasy', 'order', 'ordered', 'orders', 'ordinate', 'ore', 'organic', 'organically', 'organisational', 'organised', 'organization', 'organizations', 'organize', 'organized', 'orhangazi', 'oriental', 'oriented', 'origin', 'original', 'originally', 'originated', 'oriola', 'orion', 'orkola', 'ornamental', 'ornav', 'os', 'osaka', 'osakeyhti', 'oscar', 'osl', 'oslo', 'osmium', 'osmo', 'oss', 'ostrava', 'ostrobothnia', 'ostroleka', 'ostrom', 'osuuskauppa', 'osuuskunta', 'ote1v', 'oth', 'other', 'others', 'otherwise', 'otto', 'oulu', 'our', 'out', 'outbound', 'outcome', 'outdoor', 'outdoors', 'outfits', 'outlets', 'outlook', 'outokumpu', 'outotec', 'outperform', 'outplacement', 'output', 'outright', 'outside', 'outsource', 'outsourced', 'outsourcing', 'outstanding', 'ova', 'ovako', 'over', 'overall', 'overlaid', 'overlapping', 'overnight', 'oversupply', 'overtime', 'overview', 'ovi', 'owing', 'own', 'owned', 'owner', 'owners', 'ownership', 'owning', 'owns', 'oximeter', 'oxygen', 'oxyview', 'oy', 'oyj', 'oyname', 'pa', 'paatela', 'paavel', 'pacific', 'pack', 'package', 'packages', 'packaging', 'packed', 'packing', 'pacts', 'pad', 'page', 'pages', 'paid', 'paijat', 'paikallissanomat', 'painful', 'paint', 'painted', 'painting', 'paints', 'paivaniemi', 'pakistan', 'palace', 'paldiski', 'palfinger', 'palin', 'palm', 'palmberg', 'palvelut', 'pan', 'panama', 'panamax', 'panel', 'panels', 'panfish', 'panies', 'pankaj', 'pankki', 'panostaja', 'papa', 'papel', 'paper', 'paperboard', 'paperlinx', 'papers', 'papua', 'par', 'paradoxical', 'parallel', 'parameters', 'parchment', 'parent', 'paris', 'parity', 'park', 'parkano', 'parking', 'parks', 'parliament', 'parnu', 'parquet', 'part', 'partial', 'partially', 'participants', 'participate', 'participated', 'participates', 'participating', 'participation', 'particles', 'particular', 'particularly', 'parties', 'partihallsf', 'partihallsforbindelsen', 'partition', 'partly', 'partner', 'partnering', 'partners', 'partnership', 'partnerships', 'parts', 'party', 'parvi', 'pass', 'passages', 'passed', 'passenger', 'passengers', 'password', 'past', 'patch', 'patent', 'patented', 'patents', 'pates', 'path', 'pathana', 'pathological', 'patient', 'patients', 'patja', 'patricia', 'patrick', 'patrik', 'patronage', 'pattern', 'patterns', 'paul', 'paulig', 'pavara', 'pave', 'pay', 'payable', 'paychex', 'paying', 'payment', 'payments', 'payout', 'payroll', 'pays', 'pc', 'pcb', 'pcbs', 'pcmag', 'pct', 'pda', 'pde10', 'peab', 'pear', 'pearl', 'peat', 'pecs', 'pedestrian', 'pedestrianised', 'pedometers', 'peeling', 'peer', 'pehu', 'peigs', 'pekka', 'pekkarinen', 'pekoni', 'pellet', 'pelletizing', 'pellissier', 'pellonpaja', 'peltola', 'peltonen', 'pence', 'pending', 'pennies', 'pennsylvania', 'pensioenfonds', 'pension', 'pensionable', 'pensions', 'pentik', 'pentti', 'penttila', 'people', 'pequot', 'per', 'percent', 'percentage', 'percentages', 'perch', 'perfect', 'perform', 'performance', 'performed', 'period', 'periods', 'perkonoja', 'perlos', 'permanent', 'permanently', 'permission', 'permit', 'permitted', 'perpendiculars', 'persistently', 'person', 'personal', 'personnel', 'persons', 'perspective', 'perth', 'pertti', 'perttu', 'pervorouralsky', 'pesonen', 'pestka', 'pet', 'petcore', 'peter', 'petersburg', 'peterson', 'petition', 'petitions', 'petri', 'petrochemical', 'petrol', 'peugeot', 'pfizer', 'pharma', 'pharmaceutical', 'pharmaceuticals', 'pharmacies', 'pharmacodynamic', 'pharmacokinetic', 'pharmacy', 'phase', 'phases', 'phil', 'philadelphia', 'philippines', 'phillip', 'phoenix', 'phone', 'phonebook', 'phones', 'phosphate', 'phosphodiesterase', 'phosphorous', 'photo', 'photos', 'physical', 'piano', 'pick', 'picked', 'piece', 'pies', 'pietarsaari', 'pietiek', 'pietinalho', 'pig', 'piirainen', 'pilanesberg', 'piles', 'pilot', 'piloting', 'pine', 'pioneer', 'pioneering', 'pipe', 'pipeline', 'pipes', 'pipette', 'pipettes', 'pipettor', 'pipettors', 'pirelli', 'pirkka', 'pisa', 'pistachio', 'pit', 'pitching', 'pivo', 'pivotable', 'pkc', 'pkc1v', 'place', 'placed', 'placement', 'places', 'plains', 'plan', 'planned', 'planning', 'plans', 'plant', 'plants', 'plast', 'plastic', 'plastics', 'plate', 'platen', 'plates', 'platform', 'platforms', 'platinum', 'platts', 'play', 'playbook', 'played', 'player', 'players', 'plays', 'plaza', 'plc', 'plccompany', 'please', 'pleased', 'pleasurable', 'pledged', 'plot', 'plots', 'plumbing', 'plummeted', 'plunged', 'plus', 'plx', 'plyfa', 'plyland', 'plywood', 'pm', 'pnaas', 'pnabs', 'pntz', 'podcast', 'podlaska', 'poh1s', 'pohjantahti', 'pohjoa', 'pohjois', 'pohjola', 'pohjolan', 'point', 'pointing', 'points', 'poland', 'pole', 'poles', 'police', 'policies', 'policy', 'polish', 'politicians', 'polled', 'pollex', 'polya', 'polyolefin', 'polytechnic', 'polytechnics', 'pond', 'ponsse', 'ponten', 'pool', 'poor', 'poorest', 'pop', 'popular', 'popularity', 'population', 'pori', 'port', 'portal', 'portfolio', 'portion', 'ports', 'portsmouth', 'portti', 'portugal', 'porvoo', 'posed', 'poseidon', 'poser', 'position', 'positioned', 'positioning', 'positions', 'positive', 'possession', 'possibilities', 'possible', 'possibly', 'post', 'posted', 'postel', 'postimees', 'posting', 'postponement', 'potash', 'potato', 'potential', 'potentially', 'pots', 'poultry', 'pound', 'pounds', 'pourings', 'powder', 'power', 'powered', 'powerful', 'powerless', 'poy1v', 'poyry', 'poznan', 'ppmi', 'practically', 'practices', 'pradesh', 'praised', 'praises', 'pre', 'precedex', 'preceding', 'precincts', 'precipitation', 'precision', 'precor', 'predefined', 'predict', 'prefab', 'prefer', 'preference', 'preferred', 'preliminary', 'premature', 'premedia', 'premier', 'premises', 'premium', 'premiums', 'prepaid', 'preparation', 'prepare', 'prepared', 'prepares', 'preparing', 'presence', 'present', 'presentation', 'presentations', 'presented', 'presently', 'preserved', 'president', 'press', 'pressed', 'pressplate', 'pressure', 'pressuring', 'pressurized', 'pretax', 'pretty', 'prevailing', 'previous', 'previously', 'price', 'prices', 'pricing', 'priit', 'primarily', 'primary', 'prime', 'primer', 'principal', 'principally', 'print', 'printed', 'printing', 'prior', 'priority', 'privacy', 'private', 'privately', 'privatisation', 'privatization', 'pro', 'probably', 'problem', 'problems', 'procedure', 'procedures', 'proceed', 'proceeded', 'proceeds', 'process', 'processed', 'processes', 'processguide', 'processing', 'processor', 'procurement', 'produce', 'produced', 'producer', 'producers', 'produces', 'producing', 'product', 'production', 'productive', 'productivity', 'products', 'produkt', 'professional', 'professionals', 'profile', 'profiles', 'profiling', 'profit', 'profitability', 'profitable', 'profits', 'program', 'programming', 'programs', 'progress', 'progressed', 'proha', 'prohaska', 'prohibited', 'prohouse', 'project', 'projected', 'projections', 'projects', 'projektivuokraus', 'proline', 'prolongation', 'prolonged', 'prom', 'promise', 'promised', 'promising', 'promo', 'promote', 'promoting', 'promotion', 'proof', 'propeller', 'proper', 'properties', 'propertos', 'property', 'proportion', 'proposal', 'proposals', 'propose', 'proposed', 'proposes', 'proposition', 'proprietary', 'propulsion', 'prosecutor', 'prosition', 'prospect', 'prospects', 'prospectus', 'prosperous', 'protalix', 'protect', 'protection', 'protects', 'protein', 'proteins', 'protocol', 'protrusion', 'proud', 'prove', 'proved', 'proven', 'proves', 'provide', 'provided', 'provider', 'providers', 'provides', 'providing', 'province', 'proving', 'provision', 'provisional', 'provisioning', 'provisions', 'psoriasis', 'psv', 'pts', 'pty', 'publ', 'public', 'publication', 'publish', 'published', 'publisher', 'publishes', 'publishing', 'puljonki', 'pulkovo', 'pulp', 'pulpwood', 'pulse', 'punch', 'purchase', 'purchased', 'purchases', 'purchasing', 'pure', 'puro', 'purpose', 'purposes', 'purses', 'pursuant', 'pursue', 'pursues', 'pursuing', 'pursuit', 'push', 'pushed', 'pushers', 'put', 'putting', 'pvt', 'pyszny', 'q1', 'q2', 'q3', 'q400', 'qatar', 'qcs', 'qi', 'qingyuan', 'qpr', 'qpr1v', 'qt', 'qualcomm', 'qualified', 'qualities', 'quality', 'quantity', 'quartal', 'quarter', 'quarterended', 'quarterly', 'quarters', 'quarto', 'quatrocon', 'questions', 'quick', 'quickly', 'quite', 'quito', 'quitting', 'quote', 'quoted', 'ra', 'raab', 'raahe', 'rabbits', 'rabobank', 'rabochy', 'race', 'radar', 'radiation', 'radio', 'radiosonde', 'radomes', 'raffles', 'ragot', 'ragutis', 'raiffeisen', 'rail', 'railroad', 'railway', 'railways', 'rainbow', 'raise', 'raised', 'raisio', 'raiso', 'raivv', 'rakennuskonevuokraamo', 'rakvere', 'rally', 'ramirent', 'range', 'rangers', 'ranges', 'ranging', 'rani', 'rank', 'ranked', 'ranking', 'ranks', 'rannikkoseutu', 'rantakari', 'rantanen', 'rao', 'rap', 'rap1v', 'rapala', 'rapid', 'rapidly', 'ratasmaki', 'rate', 'rated', 'rates', 'rating', 'ratings', 'ratio', 'rationalization', 'rationalize', 'raty', 'rauma', 'rautakesko', 'rautakirja', 'rautalinko', 'rautaruukki', 'raute', 'raw', 'ray', 'rbff', 'rbindelsen', 'rbs', 'rcp', 're', 'reach', 'reached', 'reaching', 'reactive', 'reactors', 'read', 'reader', 'readers', 'readership', 'reading', 'ready', 'reaffirmed', 'real', 'realignment', 'realistic', 'realized', 'really', 'realprojekti', 'realtime', 'reason', 'reasonable', 'reasonably', 'reasons', 'rebuild', 'rebuilds', 'rebuilt', 'recalling', 'recalls', 'recari', 'receive', 'received', 'receives', 'receiving', 'recent', 'recently', 'recentlyvia', 'receptacles', 'reception', 'recession', 'recipient', 'recipients', 'recognize', 'recognized', 'recoil', 'recommencing', 'recommend', 'recommendable', 'recommendation', 'recommendations', 'record', 'recorded', 'recording', 'records', 'recover', 'recovered', 'recovers', 'recovery', 'recruit', 'recruited', 'recruitment', 'recruits', 'recurring', 'recycle', 'recycled', 'recycling', 'red', 'redeem', 'redeemed', 'redesigned', 'reding', 'redistribution', 'reduce', 'reduced', 'reduces', 'reducing', 'reduction', 'reductions', 'redundancies', 'redundant', 'reels', 'reference', 'refinance', 'refiner', 'refineries', 'refinery', 'refining', 'reflected', 'reflectors', 'reflects', 'reform', 'reftele', 'refunds', 'refurbish', 'refurbishing', 'refurbishment', 'refused', 'refuted', 'regal', 'regard', 'regarded', 'regarding', 'regeneration', 'regina', 'region', 'regional', 'regionally', 'regions', 'register', 'registered', 'registers', 'registration', 'regular', 'regulated', 'regulates', 'regulatory', 'rehabilitation', 'rehabilitative', 'rehu', 'reijo', 'reiljan', 'reimbursed', 'reinforced', 'reinforcement', 'reino', 'reisholz', 'reiterated', 'reiterates', 'rejected', 'reka', 'relacom', 'related', 'relates', 'relating', 'relation', 'relations', 'relationship', 'relationships', 'relative', 'relatively', 'release', 'released', 'releases', 'relevant', 'reliability', 'reliable', 'relocate', 'relocated', 'relocation', 'rely', 'remain', 'remainder', 'remained', 'remaining', 'remains', 'remarked', 'remind', 'remodeled', 'remote', 'remotely', 'removable', 'removal', 'removed', 'remuneration', 'renal', 'render', 'rendered', 'renesas', 'renew', 'renewable', 'renewables', 'renewal', 'renewed', 'reng', 'renison', 'renounce', 'renovate', 'renovation', 'rent', 'rentakran', 'rental', 'rentals', 'rents', 'renzo', 'reopen', 'reorganisation', 'reorganisations', 'reorganised', 'reorganizing', 'repaid', 'repairs', 'repay', 'repayment', 'repeals', 'repeated', 'repeating', 'repeats', 'replace', 'replaced', 'replacement', 'replaces', 'repo', 'report', 'reportable', 'reported', 'reportedly', 'reporters', 'reporting', 'reports', 'represent', 'representation', 'representative', 'representatives', 'represented', 'representing', 'represents', 'reproduction', 'republic', 'republication', 'repurchase', 'repurchased', 'repurchases', 'request', 'requesting', 'require', 'required', 'requirement', 'requirements', 'requires', 'research', 'reseller', 'reservation', 'reserve', 'reserved', 'reserves', 'resettlement', 'reshuffled', 'residence', 'resident', 'residential', 'residentialconstruction', 'residents', 'residues', 'resignation', 'resigned', 'resilience', 'resin', 'resolution', 'resolutions', 'resolve', 'resolved', 'resort', 'resorts', 'resource', 'resources', 'respect', 'respecta', 'respective', 'respectively', 'respiratory', 'responded', 'respondents', 'response', 'responsibilities', 'responsibility', 'responsible', 'responsibly', 'responsive', 'respublikos', 'rest', 'restart', 'restarting', 'restaurant', 'restaurants', 'resting', 'restoration', 'restraining', 'restricted', 'restrictions', 'restructured', 'restructuring', 'result', 'resulted', 'resulting', 'results', 'resurrect', 'retail', 'retailed', 'retailer', 'retailers', 'retailing', 'retain', 'retained', 'retaining', 'retire', 'retirement', 'retiring', 'retrofit', 'return', 'returned', 'returns', 'reuters', 'revamped', 'revealed', 'revenue', 'revenues', 'review', 'revise', 'revised', 'revolving', 'revs', 'reward', 'rewarded', 'rf', 'rfc', 'rfid', 'rheumatoid', 'rhine', 'rhubarb', 'rib', 'rice', 'rich', 'ridge', 'rifd', 'riga', 'right', 'rightfully', 'rights', 'rigid', 'rihko', 'riihim', 'rik', 'rim', 'rimvesta', 'ringman', 'rinkuskiai', 'rinne', 'rise', 'risen', 'risfelt', 'rising', 'risk', 'riskware', 'risto', 'rival', 'rivals', 'river', 'rk', 'rl', 'rmb8', 'rme', 'rmg', 'rmr1v', 'rn', 'road', 'roadmap', 'roads', 'roadway', 'robot', 'robust', 'roce', 'rock', 'rocketed', 'rockwell', 'rod', 'rods', 'roger', 'rohwedder', 'roi', 'role', 'roll', 'rolling', 'roman', 'romania', 'romanian', 'roof', 'room', 'rooms', 'ropax', 'roro', 'rory', 'rosa', 'rosberg', 'rose', 'rosen', 'rosendal', 'rosenlew', 'roshan', 'rostelecom', 'rotana', 'rotation', 'rotterdam', 'rough', 'roughly', 'round', 'roundtable', 'roundwood', 'route', 'routes', 'routine', 'routing', 'roving', 'royal', 'royalties', 'royalty', 'rpk', 'rpm', 'rs', 'rs310', 'rs35', 'rs40', 'rsa', 'rspo', 'rtch', 'rtg', 'rtkm', 'rtrks', 'rts', 'ru', 'rubber', 'rubin', 'rubles', 'rug1v', 'rugby', 'rugs', 'ruin', 'rukax', 'rule', 'rules', 'rumilly', 'rumors', 'run', 'runner', 'running', 'runs', 'runway', 'ruokatalo', 'ruselprom', 'rush', 'rushydro', 'russia', 'russian', 'rutav', 'ruukki', 'ruuska', 'ruutana', 'ruwais', 'rvi', 'rvr', 'ryymin', 's60', 'saa1v', 'saarelainen', 'saarinen', 'saarioinen', 'saavalainen', 'sabah', 'sabbatical', 'sabharwal', 'sac', 'sacanfil', 'sachs', 'sadam', 'safe', 'safely', 'safety', 'safran', 'saha', 'sahavaara', 'sahlberg', 'said', 'saigon', 'sailed', 'saimaa', 'saint', 'sakari', 'saku', 'sal1v', 'salaried', 'salary', 'salcomp', 'sale', 'sales', 'salmi', 'salminen', 'salo', 'salokannel', 'salomon', 'salonen', 'salonius', 'salt', 'saltonstall', 'samas', 'same', 'sami', 'sampo', 'samsung', 'samuel', 'san', 'sanayi', 'sanctuary', 'sandals', 'sandanger', 'sandberg', 'sandwich', 'sanitation', 'sankey', 'sanna', 'sanoma', 'sanomat', 'sanomawsoy', 'sanyo', 'sap', 'sappi', 'sarantel', 'saratovenergo', 'sardus', 'sare', 'sari', 'sarkamies', 'sas', 'sastamala', 'sat', 'satama', 'satellite', 'satin', 'satisfactorily', 'satisfied', 'satisfies', 'satlan', 'saturation', 'saudi', 'sauk', 'saunalahti', 'sausages', 'sav', 'savcor', 'save', 'saved', 'saving', 'savings', 'savo', 'savon', 'savonlinna', 'savvy', 'saw', 'sawmill', 'sawmills', 'sawn', 'say', 'saying', 'says', 'saysjouni', 'sbgrp', 'scaffolding', 'scala', 'scale', 'scan', 'scandic', 'scandinavia', 'scandinavian', 'scanfil', 'scania', 'scanned', 'scanning', 'scenario', 'scene', 'scf1v', 'scheck', 'scheduled', 'schedules', 'scheduling', 'scheme', 'schmardin', 'scholarship', 'school', 'schools', 'schuldschein', 'schulte', 'schultz', 'schultze', 'schwalm', 'sciard', 'science', 'sciences', 'scissors', 'scope', 'scopi', 'scorecard', 'scored', 'scoring', 'scotland', 'scott', 'scrap', 'screen', 'sculptural', 'sda1v', 'sdm', 'se', 'sea', 'seafoods', 'seal', 'sealed', 'seamless', 'search', 'searched', 'searching', 'seas', 'season', 'seasonal', 'seat', 'seats', 'seawind', 'seb', 'sechs', 'second', 'secondary', 'secretary', 'section', 'sections', 'sector', 'sectors', 'secure', 'secured', 'securing', 'securities', 'security', 'sedation', 'see', 'seeder', 'seek', 'seeking', 'seeks', 'seem', 'seemed', 'seems', 'seen', 'sees', 'segment', 'segments', 'segu', 'sehk', 'seinajoki', 'seismic', 'seitovirta', 'sek', 'sek1', 'sek150', 'sek25m', 'sek50m', 'sek6', 'sek70', 'sek72', 'sek90m', 'sel', 'select', 'selected', 'selection', 'selections', 'selects', 'self', 'sell', 'seller', 'sellers', 'selling', 'sells', 'semi', 'semiconductor', 'seminar', 'send', 'sending', 'seng', 'senior', 'sense', 'sensing', 'sensor', 'sent', 'sentera', 'sentiments', 'sentry', 'seoul', 'sep', 'sepa', 'separate', 'separated', 'separately', 'separating', 'separation', 'sepp', 'seppala', 'seppanen', 'seppo', 'sept', 'september', 'serbia', 'series', 'serve', 'served', 'server', 'servers', 'serves', 'service', 'services', 'servicing', 'serving', 'ses', 'session', 'sessions', 'set', 'sets', 'setting', 'settlement', 'seudun', 'seven', 'seventeen', 'seventh', 'several', 'sewed', 'sewer', 'sfd', 'sfi', 'sh', 'shad', 'shade', 'shadow', 'shale', 'shalkiya', 'shall', 'shanahan', 'shane', 'shanghai', 'shape', 'share', 'shareholder', 'shareholders', 'shareholding', 'shareholdings', 'sharepoint', 'shares', 'sharing', 'sharpest', 'sharply', 'shavlik', 'shb', 'she', 'sheds', 'sheet', 'sheets', 'sheffield', 'sheksna', 'shelf', 'shell', 'shelters', 'shelved', 'shenzhen', 'shielding', 'shift', 'shifted', 'shifts', 'shimano', 'ship', 'shipbuilder', 'shipbuilding', 'shipments', 'shipping', 'ships', 'shipyard', 'shipyards', 'shish', 'shivakumar', 'shoe', 'shooting', 'shop', 'shopped', 'shoppers', 'shopping', 'shops', 'shore', 'short', 'shortlisted', 'shot', 'shots', 'should', 'show', 'showcase', 'showed', 'shows', 'shrank', 'shse', 'shut', 'sick', 'side', 'siemens', 'sievi', 'sight', 'sign', 'signal', 'signaling', 'signature', 'signed', 'significance', 'significant', 'significantly', 'signifies', 'signing', 'signs', 'sihvo', 'sihvonen', 'siilinjarvi', 'silicon', 'silja', 'silva', 'silvennoinen', 'silver', 'sim', 'simdax', 'similar', 'simmons', 'simon', 'simonsen', 'simonson', 'simple', 'simplify', 'simply', 'simulating', 'simultaneously', 'sinappi', 'since', 'singapore', 'singer', 'single', 'singles', 'singulase', 'sinocast', 'sinter', 'sintered', 'sintering', 'sintra', 'sipponen', 'sirkka', 'sis', 'sister', 'site', 'sites', 'sitra', 'situated', 'situation', 'six', 'sizable', 'size', 'sized', 'sizes', 'sizing', 'sk', 'skaarer', 'skandinavian', 'skanssi', 'skat', 'skf', 'ski', 'skier', 'skiers', 'skiing', 'skilled', 'skin', 'skog', 'skogberg', 'skogster', 'sky', 'skyline', 'slash', 'slashed', 'slaughterhouse', 'slaughtering', 'slavery', 'slice', 'slid', 'slide', 'slight', 'slightly', 'slipped', 'slipping', 'slitting', 'slo', 'slogan', 'slovak', 'slovakia', 'slovenia', 'slow', 'slowed', 'slowing', 'sludge', 'slumped', 'small', 'smaller', 'smart', 'smartphone', 'smartphones', 'smelt', 'smelter', 'smith', 'smithfield', 'smoke', 'smoking', 'smooth', 'smoothly', 'sms', 'smt', 'sna', 'snacks', 'snag', 'snapper', 'snapshot', 'sneed', 'snow', 'snowfall', 'snp', 'so', 'soapstone', 'soared', 'soaring', 'social', 'society', 'sodium', 'sodra', 'sofa', 'soft', 'softball', 'software', 'sokonet', 'solar', 'sold', 'sole', 'solel', 'solely', 'solid', 'solidium', 'solids', 'solo', 'solteq', 'solution', 'solutions', 'solvency', 'somaxon', 'some', 'someone', 'something', 'somoncom', 'songs', 'sonoco', 'sony', 'soon', 'sophisticated', 'sorts', 'sotkamo', 'sought', 'sound', 'sounds', 'source', 'sourced', 'sources', 'sourcing', 'south', 'southaven', 'southeast', 'southeastern', 'southern', 'southfield', 'southwestern', 'soy', 'spa', 'space', 'spaces', 'spain', 'spanning', 'spare', 'sparebank', 'spark', 'sparks', 'spc', 'speaking', 'special', 'specialised', 'specialises', 'specialising', 'specialist', 'specialists', 'specialization', 'specialize', 'specialized', 'specialty', 'species', 'specific', 'specifically', 'specified', 'specifying', 'spectrum', 'speculative', 'speech', 'speed', 'speeded', 'speeds', 'spend', 'spending', 'spent', 'sphere', 'spin', 'spinning', 'spite', 'split', 'spoke', 'spokesman', 'spokesperson', 'spokeswoman', 'spolka', 'sponda', 'sponsoring', 'sponsors', 'sponsorship', 'sport', 'sporting', 'sports', 'spot', 'spots', 'spouts', 'spread', 'spreader', 'spring', 'spunlace', 'spyware', 'sq', 'square', 'sriperumbudur', 'srv', 'ss', 'ssh', 'ssl', 'st', 'st1', 'stabilisation', 'stabilise', 'stability', 'stable', 'stackers', 'stadtverwaltung', 'staff', 'staffers', 'stage', 'stages', 'stahlberg', 'stainless', 'stake', 'stakeholders', 'stakes', 'stamps', 'stan', 'standalone', 'standard', 'standardised', 'standards', 'standing', 'stands', 'stanley', 'star', 'stars', 'start', 'started', 'starting', 'starts', 'startup', 'state', 'stated', 'statement', 'statements', 'states', 'station', 'stationery', 'stations', 'statistical', 'statistics', 'status', 'statutory', 'stavebni', 'stay', 'stead', 'steadily', 'steady', 'stealing', 'sted', 'steek', 'steel', 'steelmaker', 'steers', 'stefan', 'stemming', 'stena', 'step', 'steps', 'stereotyping', 'sterling', 'sterv', 'steve', 'stewart', 'stichting', 'sticks', 'stig', 'still', 'sto', 'stock', 'stockholm', 'stockmann', 'stocks', 'stone', 'stonegate', 'stonesoft', 'stood', 'stop', 'stopped', 'stora', 'storage', 'store', 'stored', 'storengy', 'stores', 'storey', 'storing', 'storm', 'storms', 'story', 'stoves', 'stoxx', 'strait', 'stranded', 'strapping', 'strategic', 'strategy', 'strawberry', 'stream', 'streaming', 'streamline', 'streamlined', 'streamlining', 'streams', 'street', 'strelny', 'strength', 'strengthen', 'strengthened', 'strengthening', 'strengthens', 'strengths', 'stressful', 'stretches', 'stricter', 'strictest', 'strictly', 'strike', 'strips', 'stroi', 'strong', 'stronger', 'strongest', 'strongly', 'structural', 'structure', 'structures', 'struggled', 'struggling', 'stt', 'stuck', 'students', 'studies', 'study', 'studying', 'stuk', 'stx', 'style', 'styled', 'sub', 'subcontractor', 'subcontractors', 'subdivision', 'subject', 'subjects', 'submitted', 'subordinated', 'subscribe', 'subscribed', 'subscriber', 'subscribers', 'subscription', 'subscriptions', 'subsequent', 'subsidiaries', 'subsidiary', 'subsidy', 'substantial', 'substantially', 'substations', 'suburb', 'suburban', 'suburbs', 'succeed', 'succeeded', 'success', 'successful', 'successfully', 'successor', 'such', 'suction', 'sue', 'suez', 'suffered', 'suffering', 'sufficient', 'sufix', 'suggest', 'suihko', 'suisse', 'suistio', 'suitable', 'suite', 'suited', 'sukhraj', 'sulfide', 'sullivan', 'sulphuric', 'sum', 'sumatra', 'summary', 'summed', 'summer', 'summit', 'sun', 'sunk', 'sunrise', 'suomalainen', 'suomen', 'suomi', 'suominen', 'suomo', 'suonenjoen', 'suovaniemi', 'super', 'supercalendered', 'superior', 'supermarket', 'supermarkets', 'supermercado', 'superstructures', 'supervise', 'supervision', 'supervisor', 'supervisory', 'supplemented', 'supplements', 'supplied', 'supplier', 'suppliers', 'supplies', 'supply', 'supplying', 'support', 'supported', 'supporting', 'supports', 'supposed', 'surcharges', 'sure', 'surf', 'surface', 'surfaces', 'surfeit', 'surfers', 'surfing', 'surged', 'surmises', 'surpass', 'surpassing', 'surrounding', 'surveillance', 'survey', 'surveyed', 'suspect', 'suspected', 'suspend', 'sustainability', 'sustainable', 'suunto', 'suur', 'suutari', 'suv', 'suy1v', 'sveikatos', 'svenska', 'svensson', 'sverige', 'sveza', 'svp', 'svyazinvest', 'svyturys', 'swaps', 'swedbank', 'sweden', 'swedish', 'swing', 'swiss', 'switch', 'switchboard', 'switzerland', 'swot', 'swung', 'symbian', 'symbol', 'symphony', 'syndicate', 'syndicated', 'syndication', 'synergies', 'synergy', 'synonymous', 'synosia', 'syrj', 'sysopen', 'systeemitiimi', 'system', 'systemhaus', 'systems', 't2', 'tablet', 'tablets', 'tabloid', 'tackle', 'tafks', 'tag', 'tahdet', 'tahko', 'tail', 'tailgate', 'tailgates', 'tailor', 'tailored', 'taiwan', 'takanen', 'take', 'taken', 'takeover', 'takes', 'taking', 'takoma', 'talentum', 'talermo', 'talk', 'talks', 'tallink', 'tallinn', 'tallinna', 'tallon', 'talo', 'talotekniikka', 'taloustutkimus', 'talv', 'talvik', 'talvivaara', 'tambov', 'tameer', 'tamfelt', 'tamglass', 'tamil', 'tammela', 'tamminen', 'tampere', 'taneli', 'tank', 'tanker', 'tankers', 'tanks', 'tanzania', 'tap', 'tapani', 'tape', 'tapeks', 'tapes', 'tapings', 'tapio', 'tapiola', 'tapped', 'tapro', 'tapuli', 'target', 'targeted', 'targeting', 'targets', 'tarmo', 'tasb', 'tase', 'task', 'tasks', 'tass', 'tastes', 'tata', 'tatu', 'tauras', 'tauro', 'tax', 'taxes', 'taxpayers', 'tb', 'tco', 'tdd', 'team', 'teaming', 'teams', 'tec1v', 'tech', 'technical', 'technip', 'techno', 'technological', 'technologically', 'technologies', 'technology', 'technoparks', 'technopolis', 'tecnomen', 'tecnomens', 'tecnopolis', 'tecnotree', 'tectia', 'teenagers', 'teho', 'tehtaat', 'tekes', 'tekla', 'tekmanni', 'teknos', 'teks', 'tel', 'telanne', 'telco', 'telcontar', 'tele', 'tele2', 'telecom', 'telecominvest', 'telecomms', 'telecommunications', 'telecoms', 'telecomworldwire', 'telekom', 'telematics', 'telemig', 'telenor', 'telephone', 'teleste', 'television', 'telia', 'teliasonera', 'telko', 'tellabs', 'telling', 'tells', 'telpak', 'tem1v', 'temporarily', 'temporary', 'ten', 'tenant', 'tenants', 'tender', 'tendering', 'tens', 'tenth', 'tents', 'teollisuuden', 'teppo', 'term', 'terminal', 'terminals', 'terminate', 'terminated', 'termination', 'terminations', 'terms', 'terrain', 'territories', 'territory', 'terrorized', 'tesisleri', 'tesoro', 'test', 'testament', 'tester', 'testing', 'tests', 'teterboro', 'tetroxide', 'teus', 'teva', 'tex', 'texas', 'text', 'textile', 'textiles', 'tgk', 'thailand', 'than', 'thank', 'thanks', 'that', 'the', 'theagreement', 'thebault', 'thegps', 'their', 'thelatest', 'them', 'themes', 'then', 'theodosopoulos', 'therapeutic', 'therapeutics', 'therapies', 'there', 'therefore', 'therein', 'thermal', 'these', 'thesecond', 'they', 'theyre', 'thicker', 'thieves', 'thin', 'thing', 'things', 'think', 'thinner', 'third', 'thirds', 'thirteen', 'thirty', 'this', 'thomas', 'thomson', 'thorwoste', 'those', 'though', 'thousand', 'thousands', 'threat', 'threatening', 'three', 'through', 'throughout', 'throughput', 'thursday', 'thus', 'ticaret', 'tidningar', 'tie', 'tie1v', 'tielinja', 'tier', 'tieto', 'tietoenator', 'tight', 'tightened', 'tightening', 'tii1v', 'tiimari', 'tik1v', 'tikanoja', 'tikkakoski', 'tikkurila', 'tiled', 'till', 'tim', 'timber', 'timberjack', 'time', 'timeless', 'times', 'timetable', 'timo', 'tinyurls', 'tip', 'tips', 'tire', 'tires', 'tissue', 'title', 'tiusanen', 'tj', 'tkk', 'tlsn', 'tlt1v', 'tm', 'tmls', 'tn', 'to', 'tobacco', 'today', 'together', 'toilets', 'toivola', 'tokyo', 'told', 'tolerated', 'tom', 'tomas', 'tomi', 'tommi', 'tomorrow', 'tomsk', 'tomtom', 'ton', 'tonne', 'tonnes', 'tons', 'too', 'took', 'tool', 'toolonlahti', 'tools', 'top', 'topic', 'topical', 'toppled', 'tops', 'toptronics', 'tornio', 'tornstrom', 'tortue', 'toshiba', 'tosno', 'total', 'totaled', 'totaling', 'totalled', 'totalling', 'totally', 'totals', 'touch', 'touches', 'tough', 'tougher', 'tour', 'tourists', 'tournaments', 'toward', 'towards', 'tower', 'town', 'toxic', 'tps1v', 'trace', 'traceability', 'traced', 'traces', 'track', 'tracker', 'tracking', 'trade', 'traded', 'tradeka', 'trademark', 'trademarks', 'trader', 'trades', 'trading', 'tradition', 'traditional', 'traditions', 'traffic', 'trail', 'trailer', 'trailers', 'train', 'trained', 'trainee', 'trainers', 'training', 'trains', 'transaction', 'transactions', 'transfer', 'transferred', 'transferring', 'transit', 'transmission', 'transplace', 'transport', 'transportation', 'transported', 'transports', 'travel', 'traveler', 'traveling', 'travellers', 'treasury', 'treating', 'treatment', 'treatments', 'treats', 'trebles', 'tree', 'trees', 'tremendous', 'trend', 'trends', 'trh1v', 'trial', 'trials', 'tried', 'trilateral', 'trim', 'tripled', 'trojan', 'trojans', 'trouble', 'troubles', 'trout', 'truck', 'trucks', 'true', 'truly', 'trust', 'try', 'trygvesta', 'trying', 'tse', 'tt', 'ttm1v', 'tubes', 'tuesday', 'tuija', 'tukka', 'tulevaisuus', 'tulikivi', 'tulla', 'tulonen', 'tumkur', 'tummy', 'tune', 'tunnel', 'tuomas', 'tuomo', 'turbine', 'turbo', 'turkcell', 'turkey', 'turkish', 'turku', 'turn', 'turned', 'turning', 'turnkey', 'turnover', 'turntable', 'turtas', 'turun', 'tusa', 'tutkimuksen', 'tv', 'tvo', 'tvs', 'tweeple', 'tweets', 'twelve', 'twenty', 'twh', 'twice', 'twig', 'twist', 'two', 'twofold', 'tyo', 'type', 'types', 'typical', 'typically', 'tyre', 'tyred', 'tyres', 'tyrv', 'tyrvaan', 'tyumen', 'uab', 'uae', 'ubs', 'ucell', 'ues', 'ufa', 'ufj', 'ugglarp', 'uh', 'ui', 'uio', 'uk', 'ukmerge', 'ukonaho', 'ukraine', 'ulitsa', 'ultra', 'ultrascan', 'umbrella', 'umbrellas', 'umo', 'umts', 'umts900', 'unanimous', 'unbanked', 'unbelievably', 'unbroken', 'unc', 'uncertainties', 'uncertainty', 'unchanged', 'uncoated', 'uncommonly', 'unconfirmed', 'und', 'under', 'underground', 'underlying', 'underperf', 'understand', 'understanding', 'undertaken', 'undertaking', 'underutilisation', 'underweight', 'underwent', 'undisclosed', 'undisturbed', 'unibrew', 'unicom', 'uniglass', 'unikko', 'unilever', 'unimilk', 'union', 'uniontown', 'unique', 'unit', 'unite', 'united', 'uniting', 'units', 'universal', 'universities', 'university', 'unknown', 'unless', 'unlike', 'unlimited', 'unlisted', 'unloader', 'unmanned', 'unnamed', 'unr1v', 'unsecured', 'unstable', 'until', 'unveil', 'unveiled', 'up', 'update', 'updated', 'updates', 'upfront', 'upgrade', 'upgraded', 'upgrades', 'upgrading', 'uplift', 'upload', 'upm', 'upm1v', 'upon', 'uponor', 'ups', 'upset', 'upstaged', 'upstream', 'uranium', 'urban', 'urbanizing', 'urbano', 'url', 'urls', 'uruguay', 'uruguayan', 'us', 'usa', 'usage', 'usd', 'usd1', 'usd12', 'usd12m', 'usd2', 'usd213m', 'usd3', 'usd4', 'usd5', 'usd6m', 'usd90', 'use', 'used', 'user', 'users', 'uses', 'using', 'usko', 'usmanov', 'usp', 'ustjug', 'usual', 'usually', 'utenos', 'utilisation', 'utilises', 'utilising', 'utility', 'utilizing', 'utm', 'uusimaki', 'uutiset', 'uutislehti', 'uwe', 'uzbek', 'va', 'vaahto', 'vaalipalvelu', 'vaasa', 'vac1v', 'vacancy', 'vacant', 'vacon', 'vacuum', 'vahur', 'vaias', 'vaisala', 'valdor', 'valga', 'valid', 'validating', 'validation', 'valio', 'valkama', 'valkeakoski', 'valley', 'valmet', 'valuable', 'valuation', 'value', 'valued', 'values', 'valve', 'valves', 'van', 'vana', 'vantaa', 'vantaan', 'vantage', 'vap', 'varesvuo', 'variety', 'various', 'varkaus', 'varma', 'varpaisj', 'vartan', 'vary', 'vas', 'vasantha', 'vashi', 'vast', 'vat', 'vauramo', 'vcp', 'vdw', 've', 'veda', 'veeger', 'vegetable', 'vegetables', 'vehicle', 'vehicles', 'vehvil', 'vehvilainen', 'veidekke', 'veikko', 'veil', 'vekka', 'veli', 'veliky', 'velta', 'vendor', 'vendors', 'veneer', 'venezuel', 'ventilated', 'venture', 'ventures', 'ver', 'veracel', 'verbund', 'verifying', 'verizon', 'version', 'versions', 'versus', 'vertical', 'very', 'vesa', 'vessel', 'vessels', 'via', 'viable', 'vianor', 'vibe', 'vibrocompactors', 'vice', 'vicinity', 'victoria', 'video', 'videos', 'vietnam', 'view', 'viewed', 'viewing', 'viewpoint', 'views', 'viiala', 'viii', 'viitasaari', 'viking', 'village', 'vilo', 'vimpelcom', 'vimpeli', 'vinachem', 'vintage', 'virala', 'virent', 'virgin', 'virkkala', 'viro', 'virpi', 'virsuliskes', 'virtual', 'viruses', 'visa', 'viscaria', 'vishakapatnam', 'visibility', 'visible', 'vision', 'visit', 'visited', 'visitors', 'visits', 'vista', 'visual', 'vitamin', 'vitim', 'vivid', 'vizag', 'vladimir', 'vladivostok', 'vmc', 'vnh', 'vocal', 'vocollect', 'vodafone', 'voice', 'voiced', 'voicemail', 'voima', 'volkswagen', 'vologda', 'volotinen', 'voltage', 'volume', 'volumes', 'volunteers', 'volvo', 'von', 'vorota', 'vosstaniya', 'vostok', 'vote', 'votes', 'voting', 'votorantim', 'vp', 'vpn', 'vr', 'vsevolozhsk', 'vtb24', 'vtm', 'vuolteenaho', 'vuosaari', 'vv', 'vwr', 'wafer', 'wafers', 'wages', 'wagon', 'wahlroos', 'wait', 'waiting', 'waiving', 'walby', 'walden', 'walker', 'walking', 'wall', 'wallhamn', 'walls', 'walter', 'walvis', 'want', 'wants', 'wap', 'warehouse', 'warehousing', 'warmly', 'warned', 'warner', 'warning', 'warnings', 'warrant', 'warrants', 'warranty', 'warsaw', 'wartsila', 'was', 'washable', 'washington', 'waste', 'wastes', 'wat1s', 'watch', 'watching', 'watchtower', 'water', 'waterborne', 'watermarks', 'waterqueen', 'waters', 'watertight', 'wave', 'way', 'wayne', 'ways', 'wcdma', 'we', 'weak', 'weakened', 'weakening', 'weaker', 'weaknesses', 'weather', 'weatherdeck', 'web', 'webcast', 'weber', 'weblogs', 'website', 'weckstr', 'wednesday', 'week', 'weekday', 'weekend', 'weekly', 'weeks', 'weert', 'weighing', 'weighs', 'weight', 'weighted', 'welcome', 'welcomes', 'welding', 'welfare', 'well', 'wellness', 'welsh', 'wenchong', 'went', 'were', 'west', 'westend', 'westerlund', 'western', 'westpac', 'westphalia', 'westward', 'wet', 'what', 'wheat', 'when', 'where', 'whereas', 'whereby', 'wherever', 'whether', 'which', 'while', 'whilst', 'white', 'whitefield', 'whitehall', 'who', 'whole', 'wholesale', 'wholesaler', 'wholesalers', 'wholly', 'whom', 'whose', 'why', 'wide', 'widen', 'widened', 'wider', 'width', 'wife', 'wig', 'wig20', 'wiio', 'wiklof', 'will', 'williams', 'williamson', 'willich', 'willingness', 'wilson', 'wimax', 'win', 'wind', 'winded', 'winders', 'window', 'windows', 'winds', 'winner', 'winning', 'winnings', 'wins', 'wintek', 'winter', 'wipes', 'wipro', 'wire', 'wireless', 'wirsam', 'wish', 'wishes', 'with', 'withdrawn', 'within', 'without', 'withviking', 'wo', 'wolf', 'women', 'won', 'wonderful', 'wonderware', 'wood', 'wooden', 'woodlock', 'woodworking', 'wording', 'wore', 'work', 'workday', 'worked', 'worker', 'workers', 'workflow', 'workflows', 'workforce', 'workforse', 'working', 'workout', 'works', 'workshop', 'workshops', 'world', 'worldwide', 'worm', 'worn', 'worried', 'worrying', 'worse', 'worth', 'would', 'write', 'writer', 'written', 'wrote', 'wrt1v', 'wt4090', 'wtc', 'wwd', 'www', 'wynne', 'wysockiego', 'x201a', 'x20ac', 'xdsl', 'xfn', 'xns1v', 'xpower', 'xpress', 'xvi', 'ya', 'yahoo', 'yakima', 'yamskogo', 'yankov', 'yara', 'yard', 'yards', 'yaroslavl', 'yea', 'year', 'yearly', 'years', 'yellow', 'yen', 'yesterday', 'yet', 'yhtym', 'yhtyma', 'yield', 'yiliang', 'yinhe', 'yit', 'yitgroup', 'yliopistonrinne', 'ylivieska', 'yokohama', 'york', 'you', 'young', 'your', 'youtube', 'yr', 'yry', 'ystok', 'yty1v', 'yuval', 'yvonne', 'z6xx', 'zahariev', 'zain', 'zainalabedin', 'zao', 'zapadnye', 'zealand', 'zepro', 'zgody', 'zinc', 'zip', 'zoltan', 'zone', 'zoo', 'zte', 'zu', 'æcom', 'æcs', 'æl', 'òhikauppa', 'òinen', 'òjoki', 'òkel', 'òki', 'òl', 'òliitto', 'òlt', 'òmeri', 'òn', 'ònekoski', 'ònen', 'ònge', 'ònnen', 'ònsi', 'òrnits', 'òrtsil', 'òrvi', 'òsein', 'òskyl', 'òtehuolto', 'ûeur']\n"
          ]
        },
        {
          "output_type": "execute_result",
          "data": {
            "text/plain": [
              "array([[0, 0, 0, ..., 0, 0, 0],\n",
              "       [1, 0, 0, ..., 0, 0, 0],\n",
              "       [0, 0, 0, ..., 0, 0, 0],\n",
              "       ...,\n",
              "       [0, 0, 0, ..., 0, 0, 0],\n",
              "       [0, 0, 0, ..., 0, 0, 0],\n",
              "       [0, 0, 0, ..., 0, 0, 0]])"
            ]
          },
          "metadata": {},
          "execution_count": 35
        }
      ]
    },
    {
      "cell_type": "code",
      "source": [
        "valid_bow = vectorizer.transform(val_texts)"
      ],
      "metadata": {
        "id": "AEt8J9xonTdt"
      },
      "execution_count": null,
      "outputs": []
    },
    {
      "cell_type": "code",
      "source": [
        "from sklearn.naive_bayes import MultinomialNB\n",
        "clf = MultinomialNB()\n",
        "clf.fit(train_bow, train_labels_splt)\n",
        "y_test_pred = clf.predict(valid_bow)"
      ],
      "metadata": {
        "id": "XXQugVvVtmiv"
      },
      "execution_count": null,
      "outputs": []
    },
    {
      "cell_type": "code",
      "source": [
        "cm = confusion_matrix(val_labels,y_test_pred, labels = clf.classes_)\n",
        "disp = ConfusionMatrixDisplay(confusion_matrix = cm, display_labels=clf.classes_)\n",
        "disp.plot()\n",
        "plt.show()"
      ],
      "metadata": {
        "colab": {
          "base_uri": "https://localhost:8080/",
          "height": 280
        },
        "id": "D8Egix9Gtmko",
        "outputId": "dc8f0d9c-edc2-475a-b2da-9662c1a0fee6"
      },
      "execution_count": null,
      "outputs": [
        {
          "output_type": "display_data",
          "data": {
            "text/plain": [
              "<Figure size 432x288 with 2 Axes>"
            ],
            "image/png": "[encoded data removed]"
          },
          "metadata": {
            "needs_background": "light"
          }
        }
      ]
    },
    {
      "cell_type": "code",
      "source": [
        "print(classification_report(val_labels,y_test_pred, labels = clf.classes_))"
      ],
      "metadata": {
        "colab": {
          "base_uri": "https://localhost:8080/"
        },
        "id": "CS6Ta7_4tmmz",
        "outputId": "40a4de83-1c2a-481b-fa7f-951a2f094a59"
      },
      "execution_count": null,
      "outputs": [
        {
          "output_type": "stream",
          "name": "stdout",
          "text": [
            "              precision    recall  f1-score   support\n",
            "\n",
            "          -1       0.78      0.46      0.58       122\n",
            "           0       0.77      0.90      0.83       566\n",
            "           1       0.65      0.54      0.59       280\n",
            "\n",
            "    accuracy                           0.74       968\n",
            "   macro avg       0.73      0.63      0.67       968\n",
            "weighted avg       0.73      0.74      0.73       968\n",
            "\n"
          ]
        }
      ]
    },
    {
      "cell_type": "code",
      "source": [
        ""
      ],
      "metadata": {
        "id": "EVb6s_VLvLcU"
      },
      "execution_count": null,
      "outputs": []
    },
    {
      "cell_type": "markdown",
      "source": [
        "### Amélioration des représentations\n",
        "\n",
        "Principalement, les arguments de la classe vectorizer vont nous permettre de changer facilement la façon dont nos données textuelles sont représentées. On peut essayer de travailler sur les représentations *Bag-of-words* :\n",
        "   \n",
        "#### On évite de prendre en compte les mots trop fréquents :\n",
        "\n",
        "On peut utiliser l'argument max_df=1.0 pour modifier la quantité de mots pris en compte. \n",
        "\n",
        "#### On peut essayer différentes granularités :\n",
        "\n",
        "Plutôt que de compter uniquement les mots, nous pouvons compter des séquences de mots - limitées en taille, bien sûr. \n",
        "Nous appelons une séquence de $n$ mots un $n$-gramme : essayons d'utiliser des 2 et 3-grammes (bi- et trigrammes).\n",
        "Nous pouvons également essayer d'utiliser des séquences de caractères au lieu de séquences de mots."
      ],
      "metadata": {
        "id": "1BsKMfhouhVk"
      }
    },
    {
      "cell_type": "code",
      "source": [
        "pipeline_base = Pipeline([\n",
        "    ('vect', CountVectorizer(max_features=30000, analyzer='word', stop_words=None)),\n",
        "    ('clf', MultinomialNB()),\n",
        "])\n",
        "# Fit and test the pipeline\n",
        "pipeline_base.fit(train_texts_splt,train_labels_splt)\n",
        "y_test1_pred = pipeline_base.predict(val_texts)"
      ],
      "metadata": {
        "id": "Fi1IqRoltmrh"
      },
      "execution_count": null,
      "outputs": []
    },
    {
      "cell_type": "code",
      "source": [
        "print(classification_report(val_labels,y_test1_pred))"
      ],
      "metadata": {
        "colab": {
          "base_uri": "https://localhost:8080/"
        },
        "id": "4xaCMYOhtmtP",
        "outputId": "85b4c5f3-6cdd-4ca4-baa0-008fec15edb5"
      },
      "execution_count": null,
      "outputs": [
        {
          "output_type": "stream",
          "name": "stdout",
          "text": [
            "              precision    recall  f1-score   support\n",
            "\n",
            "          -1       0.78      0.46      0.58       122\n",
            "           0       0.77      0.90      0.83       566\n",
            "           1       0.65      0.54      0.59       280\n",
            "\n",
            "    accuracy                           0.74       968\n",
            "   macro avg       0.73      0.63      0.67       968\n",
            "weighted avg       0.73      0.74      0.73       968\n",
            "\n"
          ]
        }
      ]
    },
    {
      "cell_type": "code",
      "source": [
        "# Bigrams\n",
        "pipeline_base = Pipeline([\n",
        "    ('vect', CountVectorizer(max_features=30000, analyzer='word',ngram_range=(1, 2), stop_words=None)),\n",
        "    ('clf', MultinomialNB()),\n",
        "])\n",
        "pipeline_base.fit(train_texts_splt,train_labels_splt)\n",
        "y_test1_pred = pipeline_base.predict(val_texts)\n",
        "print(classification_report(val_labels,y_test1_pred))"
      ],
      "metadata": {
        "colab": {
          "base_uri": "https://localhost:8080/"
        },
        "id": "-LzwXfA1tmop",
        "outputId": "74a51f2d-8b24-4c79-9233-bf347c3f9345"
      },
      "execution_count": null,
      "outputs": [
        {
          "output_type": "stream",
          "name": "stdout",
          "text": [
            "              precision    recall  f1-score   support\n",
            "\n",
            "          -1       0.84      0.42      0.56       122\n",
            "           0       0.75      0.92      0.83       566\n",
            "           1       0.68      0.53      0.60       280\n",
            "\n",
            "    accuracy                           0.74       968\n",
            "   macro avg       0.76      0.62      0.66       968\n",
            "weighted avg       0.74      0.74      0.73       968\n",
            "\n"
          ]
        }
      ]
    },
    {
      "cell_type": "code",
      "source": [
        "# Trigrams\n",
        "pipeline_base = Pipeline([\n",
        "    ('vect', CountVectorizer(max_features=30000, analyzer='word',ngram_range=(1, 3), stop_words=None)),\n",
        "    ('clf', MultinomialNB()),\n",
        "])\n",
        "pipeline_base.fit(train_texts_splt,train_labels_splt)\n",
        "y_test1_pred = pipeline_base.predict(val_texts)\n",
        "print(classification_report(val_labels,y_test1_pred))"
      ],
      "metadata": {
        "colab": {
          "base_uri": "https://localhost:8080/"
        },
        "id": "edaLsCPNvQrr",
        "outputId": "2b5db349-2026-46c4-97c3-512a825cb791"
      },
      "execution_count": null,
      "outputs": [
        {
          "output_type": "stream",
          "name": "stdout",
          "text": [
            "              precision    recall  f1-score   support\n",
            "\n",
            "          -1       0.85      0.47      0.60       122\n",
            "           0       0.75      0.93      0.83       566\n",
            "           1       0.72      0.52      0.60       280\n",
            "\n",
            "    accuracy                           0.75       968\n",
            "   macro avg       0.77      0.64      0.68       968\n",
            "weighted avg       0.75      0.75      0.73       968\n",
            "\n"
          ]
        }
      ]
    },
    {
      "cell_type": "code",
      "source": [
        "# Characters\n",
        "pipeline_base = Pipeline([\n",
        "    ('vect', CountVectorizer(max_features=30000, analyzer='char', stop_words=None)),\n",
        "    ('clf', MultinomialNB()),\n",
        "])\n",
        "# Fit and test the pipeline\n",
        "pipeline_base.fit(train_texts_splt,train_labels_splt)\n",
        "y_test1_pred = pipeline_base.predict(val_texts)\n",
        "print(classification_report(val_labels,y_test1_pred))\n"
      ],
      "metadata": {
        "colab": {
          "base_uri": "https://localhost:8080/"
        },
        "id": "sU-jyKlOvVp1",
        "outputId": "03132da2-3a18-464d-b432-4a3e1f23752a"
      },
      "execution_count": null,
      "outputs": [
        {
          "output_type": "stream",
          "name": "stdout",
          "text": [
            "              precision    recall  f1-score   support\n",
            "\n",
            "          -1       0.27      0.48      0.34       122\n",
            "           0       0.68      0.80      0.73       566\n",
            "           1       0.43      0.12      0.19       280\n",
            "\n",
            "    accuracy                           0.56       968\n",
            "   macro avg       0.46      0.47      0.42       968\n",
            "weighted avg       0.55      0.56      0.53       968\n",
            "\n"
          ]
        }
      ]
    },
    {
      "cell_type": "markdown",
      "source": [
        "### Tf-idf\n",
        "\n",
        "Il s'agit du produit de la fréquence du terme (TF) et de sa fréquence inverse dans les documents (IDF).\n",
        "Cette méthode est généralement utilisée pour mesurer l'importance d'un terme $i$ dans un document $j$ par rapport au reste du corpus, à partir d'une matrice d'occurrences $ mots \\times documents$. Ainsi, pour une matrice $\\mathbf{T}$ de $|V|$ termes et $D$ documents :\n",
        "$$\\text{TF}(T, w, d) = \\frac{T_{w,d}}{\\sum_{w'=1}^{|V|} T_{w',d}}$$\n",
        "\n",
        "$$\\text{IDF}(T, w) = \\log(\\frac{D}{|d|})$$ avec : d tel que  $$T_{w,d} > 0$$\n",
        "\n",
        "$$\\text{TF-IDF}(T, w, d) = \\text{TF}(X, w, d) \\cdot \\text{IDF}(T, w)$$\n",
        "\n",
        "On peut l'adapter à notre cas en considérant que le contexte du deuxième mot est le document. Cependant, le TF-IDF est généralement mieux adapté aux matrices de faible densité, car il pénalisera les termes qui apparaissent dans une grande partie des documents. "
      ],
      "metadata": {
        "id": "4aKJBscov8C2"
      }
    },
    {
      "cell_type": "code",
      "source": [
        "# Fit and test a pipeline with tf-idf\n",
        "pipeline_base_tf_idf = Pipeline([\n",
        "    ('vect', CountVectorizer(max_features=30000, analyzer='word', stop_words=None)),\n",
        "    ('tfid', TfidfTransformer()),\n",
        "    ('clf', MultinomialNB()),  \n",
        "])\n",
        "pipeline_base_tf_idf.fit(train_texts_splt,train_labels_splt)\n",
        "y_test1_pred = pipeline_base_tf_idf.predict(val_texts)\n",
        "print(classification_report(val_labels,y_test1_pred))"
      ],
      "metadata": {
        "colab": {
          "base_uri": "https://localhost:8080/"
        },
        "id": "vVYxa3HjvpvL",
        "outputId": "711fbc2a-d5e2-4779-8867-cf018d187270"
      },
      "execution_count": null,
      "outputs": [
        {
          "output_type": "stream",
          "name": "stdout",
          "text": [
            "              precision    recall  f1-score   support\n",
            "\n",
            "          -1       1.00      0.02      0.05       122\n",
            "           0       0.66      0.99      0.79       566\n",
            "           1       0.66      0.29      0.40       280\n",
            "\n",
            "    accuracy                           0.66       968\n",
            "   macro avg       0.77      0.43      0.41       968\n",
            "weighted avg       0.70      0.66      0.58       968\n",
            "\n"
          ]
        }
      ]
    },
    {
      "cell_type": "markdown",
      "source": [
        "## Dense Representations \n",
        "\n",
        "## Embeddings de mots : Représentations distribuées via l'hypothèse distributionnelle \n",
        "\n",
        "**Objectif** : Nous allons essayer d'obtenir des Dense Representations  (en tant que vecteurs de nombres réels) de mots (et éventuellement de phrases).\n",
        "\n",
        "Un mot peut être caractérisé par les mots qui l'accompagnent, via le comptage des cooccurrences. Deux mots ayant un sens similaire auront une distribution contextuelle similaire et sont donc plus susceptibles d'apparaître dans des contextes similaires. Cette hypothèse peut être utilisée pour justifier l'application des statistiques à la sémantique (extraction d'information, analyse sémantique). Elle permet également une certaine forme de généralisation : nous pouvons supposer que les informations dont nous disposons sur un mot seront généralisées aux mots ayant une distribution similaire. \n",
        "\n",
        "L'objectif est d'obtenir des représentations distribuées afin d'être en mesure de:\n",
        "- Réaliser directement une analyse de surface sémantique.\n",
        "- L'utiliser comme source d'information pour d'autres modèles et applications liés au langage, notamment pour l'analyse des sentiments. \n"
      ],
      "metadata": {
        "id": "XAHTVq05zKA9"
      }
    },
    {
      "cell_type": "markdown",
      "source": [
        "## Getting representations: counts of occurrences and co-occurrences\n",
        "\n",
        "## Obtenir des représentations : comptages d'occurrences et de co-occurrences\n",
        "\n",
        "Supposons que nous ayons un corpus contenant $T$ mots différents. Nous allons construire une matrice $\\mathbf{M}$ de taille $T \\times T$ qui contiendra le nombre de cooccurrences entre les mots.\n",
        "\n",
        "Nous pouvons choisir d'utiliser différentes échelles : le document, la phrase, le groupe nominal, ou simplement une fenêtre de $k$ mots, selon l'information que nous voulons capturer.\n",
        "\n",
        "\n",
        "- Comment quantifier l'importance des comptages ? \n",
        "\n",
        "Par exemple, on peut donner un poids décroissant à une cooccurrence en fonction de la distance entre les deux mots concernés ($\\frac{1}{d+1}$ pour une séparation de $d$ mots)."
      ],
      "metadata": {
        "id": "2nTrqboZzNub"
      }
    },
    {
      "cell_type": "markdown",
      "source": [
        "Pour commencer, nous allons implémenter séparément une fonction renvoyant le vocabulaire. Il faudra ici pouvoir contrôler sa taille, soit en indiquant un nombre maximum de mots, soit un nombre minimum d'occurrences pour prendre en compte les mots. On ajoute, à la fin, un mot \"inconnu\" qui remplacera tous les mots qui ne figurent pas dans notre vocabulaire \"limité\". "
      ],
      "metadata": {
        "id": "AbHhC53IzQna"
      }
    },
    {
      "cell_type": "code",
      "source": [
        "def vocabulary(corpus, count_threshold=1, voc_threshold=0):\n",
        "    # Count word in voc\n",
        "    word_counts = {}\n",
        "    for review in corpus:\n",
        "        sent = word_tokenize(review)\n",
        "        for word in sent:\n",
        "            if word in word_counts:\n",
        "                word_counts[word] += 1\n",
        "            else:\n",
        "                word_counts[word] = 1\n",
        "    # We store the length of word_counts\n",
        "    word_total_number = len(word_counts)\n",
        "    \n",
        "    filtered_word_counts = {} \n",
        "    filtered_word_counts[\"UNK\"] = 0\n",
        "    for key in word_counts:\n",
        "        if len(filtered_word_counts) == voc_threshold:\n",
        "            break\n",
        "        else:\n",
        "            if word_counts[key] >= count_threshold:\n",
        "                filtered_word_counts[key] = word_counts[key]\n",
        "            else:\n",
        "                filtered_word_counts[\"UNK\"] += word_counts[key]\n",
        "    \n",
        "    # Vocabulary_word_counts\n",
        "    vocabulary_word_counts = {k: v for k, v in sorted(filtered_word_counts.items(), key=lambda item: -item[1])}\n",
        "    a = vocabulary_word_counts['UNK']\n",
        "    del vocabulary_word_counts['UNK']\n",
        "    vocabulary = {list(vocabulary_word_counts.keys())[i]: i for i in range(len(vocabulary_word_counts))}\n",
        "    vocabulary['UNK'] = len(vocabulary)\n",
        "    vocabulary_word_counts['UNK'] = 0\n",
        "    # Vocabulary   \n",
        "    \n",
        "    return vocabulary, vocabulary_word_counts"
      ],
      "metadata": {
        "id": "PwjHRtjTzTbI"
      },
      "execution_count": null,
      "outputs": []
    },
    {
      "cell_type": "markdown",
      "source": [
        "La fonction prend en entrée le corpus (une liste de chaînes de caractères, correspondant aux documents/sentences) et un vocabulaire, ainsi que la taille de la fenêtre de contexte."
      ],
      "metadata": {
        "id": "BGNYPlzqzeXT"
      }
    },
    {
      "cell_type": "code",
      "source": [
        "import nltk\n",
        "nltk.download('punkt')\n",
        "vocab_5k, word_counts_5k = vocabulary(df['Sentence'], 0, 3000)"
      ],
      "metadata": {
        "colab": {
          "base_uri": "https://localhost:8080/"
        },
        "id": "nuU77rghzTh5",
        "outputId": "fff55a4d-78a9-4ac9-8dae-8cfc23ffe60e"
      },
      "execution_count": null,
      "outputs": [
        {
          "output_type": "stream",
          "name": "stdout",
          "text": [
            "[nltk_data] Downloading package punkt to /root/nltk_data...\n",
            "[nltk_data]   Unzipping tokenizers/punkt.zip.\n"
          ]
        }
      ]
    },
    {
      "cell_type": "markdown",
      "source": [
        "## Sentiment Analysis \n",
        "Nous allons maintenant utiliser ces représentations pour l'analyse des sentiments. \n",
        "Le modèle de base, comme précédemment, sera construit en deux étapes :\n",
        "- Une fonction permettant d'obtenir des représentations vectorielles des critiques, à partir du texte, du vocabulaire, et des représentations vectorielles des mots. \n",
        "- Un classificateur prendra ces représentations en entrée et fera une prédiction. Pour cela, nous pouvons d'abord utiliser la régression logistique LogisticRegression de scikit-learn"
      ],
      "metadata": {
        "id": "8dSnnD3fzvu_"
      }
    },
    {
      "cell_type": "code",
      "source": [
        "def sentence_representations(texts, vocabulary, embeddings, np_func=np.sum):\n",
        "    representations = np.zeros( [len(texts), embeddings.shape[1]]) #Initialization\n",
        "    emb_UNK = embeddings[vocabulary['UNK']] #We got here the UNK word\n",
        "    for line, sent in enumerate(texts):\n",
        "        sent = word_tokenize(sent) # list of the words of the sentence\n",
        "        for word in sent:\n",
        "            if word in vocabulary:\n",
        "                representations[line] += embeddings[vocabulary[word]]                                \n",
        "            else:\n",
        "                representations[line] += emb_UNK\n",
        "    return representations"
      ],
      "metadata": {
        "id": "S1NsNaVavqHk"
      },
      "execution_count": null,
      "outputs": []
    },
    {
      "cell_type": "code",
      "source": [
        "vocab_5k, word_counts_5k = vocabulary(train_texts_splt, 0, 5000)"
      ],
      "metadata": {
        "id": "hs868mvUz2pL"
      },
      "execution_count": null,
      "outputs": []
    },
    {
      "cell_type": "code",
      "source": [
        ""
      ],
      "metadata": {
        "id": "m-zrFFU70BNY"
      },
      "execution_count": null,
      "outputs": []
    },
    {
      "cell_type": "markdown",
      "source": [
        "## GloveEmbeddings"
      ],
      "metadata": {
        "id": "-3cEcQJq0Dp4"
      }
    },
    {
      "cell_type": "code",
      "source": [
        "%cd /content/drive/MyDrive/Colab Notebooks/NLP/NLP"
      ],
      "metadata": {
        "colab": {
          "base_uri": "https://localhost:8080/"
        },
        "id": "ThgLwBk_0jyF",
        "outputId": "d69ddd94-3165-42e5-99d7-3135c56e6cbe"
      },
      "execution_count": null,
      "outputs": [
        {
          "output_type": "stream",
          "name": "stdout",
          "text": [
            "/content/drive/MyDrive/Colab Notebooks/NLP/NLP\n"
          ]
        }
      ]
    },
    {
      "cell_type": "code",
      "source": [
        "import gensim.downloader as api\n",
        "loaded_glove_model = api.load(\"glove-wiki-gigaword-300\")\n",
        "loaded_glove_embeddings = loaded_glove_model.vectors\n",
        "path = \"listeindex.xlsx\"\n",
        "index = pd.read_excel(path)\n"
      ],
      "metadata": {
        "id": "W4nMRJU00BRB"
      },
      "execution_count": null,
      "outputs": []
    },
    {
      "cell_type": "code",
      "source": [
        "liste_index = index[0]"
      ],
      "metadata": {
        "id": "VL064Yil0BU2"
      },
      "execution_count": null,
      "outputs": []
    },
    {
      "cell_type": "code",
      "source": [
        "def get_glove_voc_and_embeddings(glove_model):\n",
        "    voc = {word : index for word, index in enumerate(liste_index)}\n",
        "    voc['UNK'] = len(voc)\n",
        "    embeddings = glove_model.vectors\n",
        "    return voc, embeddings\n",
        "\n",
        "def get_glove_adapted_embeddings(glove_model, input_voc):\n",
        "    keys = {i: liste_index.get(w, None) for w, i in input_voc.items()}\n",
        "    index_dict = {i: key for i, key in keys.items() if key is not None}\n",
        "    embeddings = np.zeros((len(input_voc),glove_model.vectors.shape[1]))\n",
        "    for i, ind in index_dict.items():\n",
        "        embeddings[i] = glove_model.vectors[ind]\n",
        "    return embeddings"
      ],
      "metadata": {
        "id": "xm903Mi90BW1"
      },
      "execution_count": null,
      "outputs": []
    },
    {
      "cell_type": "code",
      "source": [
        "loaded_glove_voc, loaded_glove_embeddings = get_glove_voc_and_embeddings(loaded_glove_model)\n",
        "GloveEmbeddings = get_glove_adapted_embeddings(loaded_glove_model, vocab_5k)\n",
        "train_rep = sentence_representations(train_texts_splt, vocab_5k, GloveEmbeddings)\n",
        "val_rep = sentence_representations(val_texts, vocab_5k, GloveEmbeddings)\n",
        "# Fit the classifier on the transformed training data and test it on the transformed validation data\n",
        "log_reg = LogisticRegression(solver ='newton-cg')\n",
        "log_reg.fit(train_rep,train_labels_splt)\n",
        "predic_rep = log_reg.predict(val_rep)\n",
        "#score_1 = log_reg.score(val_labels.T, predic_rep.T)\n",
        "cm = confusion_matrix(val_labels,predic_rep, labels = clf.classes_)\n",
        "disp = ConfusionMatrixDisplay(confusion_matrix = cm, display_labels=clf.classes_)\n",
        "disp.plot()\n",
        "disp1 = disp\n",
        "plt.show()"
      ],
      "metadata": {
        "colab": {
          "base_uri": "https://localhost:8080/",
          "height": 279
        },
        "id": "PgoEdDwK0BYX",
        "outputId": "477b7996-9d49-4523-c457-6868d713f104"
      },
      "execution_count": null,
      "outputs": [
        {
          "output_type": "display_data",
          "data": {
            "text/plain": [
              "<Figure size 432x288 with 2 Axes>"
            ],
            "image/png": "[encoded data removed]"
          },
          "metadata": {
            "needs_background": "light"
          }
        }
      ]
    },
    {
      "cell_type": "code",
      "source": [
        "print(classification_report(val_labels,predic_rep))"
      ],
      "metadata": {
        "colab": {
          "base_uri": "https://localhost:8080/"
        },
        "id": "j_Xe2hEM00qe",
        "outputId": "0aaaded6-838e-4eda-b2e8-a4d4b6318eaf"
      },
      "execution_count": null,
      "outputs": [
        {
          "output_type": "stream",
          "name": "stdout",
          "text": [
            "              precision    recall  f1-score   support\n",
            "\n",
            "          -1       0.00      0.00      0.00       122\n",
            "           0       0.58      1.00      0.74       566\n",
            "           1       0.00      0.00      0.00       280\n",
            "\n",
            "    accuracy                           0.58       968\n",
            "   macro avg       0.19      0.33      0.25       968\n",
            "weighted avg       0.34      0.58      0.43       968\n",
            "\n"
          ]
        },
        {
          "output_type": "stream",
          "name": "stderr",
          "text": [
            "/usr/local/lib/python3.7/dist-packages/sklearn/metrics/_classification.py:1318: UndefinedMetricWarning: Precision and F-score are ill-defined and being set to 0.0 in labels with no predicted samples. Use `zero_division` parameter to control this behavior.\n",
            "  _warn_prf(average, modifier, msg_start, len(result))\n",
            "/usr/local/lib/python3.7/dist-packages/sklearn/metrics/_classification.py:1318: UndefinedMetricWarning: Precision and F-score are ill-defined and being set to 0.0 in labels with no predicted samples. Use `zero_division` parameter to control this behavior.\n",
            "  _warn_prf(average, modifier, msg_start, len(result))\n",
            "/usr/local/lib/python3.7/dist-packages/sklearn/metrics/_classification.py:1318: UndefinedMetricWarning: Precision and F-score are ill-defined and being set to 0.0 in labels with no predicted samples. Use `zero_division` parameter to control this behavior.\n",
            "  _warn_prf(average, modifier, msg_start, len(result))\n"
          ]
        }
      ]
    },
    {
      "cell_type": "code",
      "source": [
        ""
      ],
      "metadata": {
        "id": "lHV1jBDw08EB"
      },
      "execution_count": null,
      "outputs": []
    },
    {
      "cell_type": "code",
      "source": [
        ""
      ],
      "metadata": {
        "id": "5JpDA4Pz08GM"
      },
      "execution_count": null,
      "outputs": []
    },
    {
      "cell_type": "code",
      "source": [
        ""
      ],
      "metadata": {
        "id": "OCcR6LDH08IJ"
      },
      "execution_count": null,
      "outputs": []
    },
    {
      "cell_type": "markdown",
      "source": [
        "## SVDEmbeddings"
      ],
      "metadata": {
        "id": "klonee4f0-yA"
      }
    },
    {
      "cell_type": "code",
      "source": [
        "def co_occurence_matrix(corpus, vocabulary, window=0, distance_weighting=False):\n",
        "    \"\"\"\n",
        "    Params:\n",
        "        corpus (list of list of strings): corpus of sentences\n",
        "        vocabulary (dictionary): words to use in the matrix\n",
        "        window (int): size of the context window; when 0, the context is the whole sentence\n",
        "        distance_weighting (bool): indicates if we use a weight depending on the distance between words for co-oc counts\n",
        "    Returns:\n",
        "        matrix (array of size (len(vocabulary), len(vocabulary))): the co-oc matrix, using the same ordering as the vocabulary given in input    \n",
        "    \"\"\" \n",
        "    l = len(vocabulary)\n",
        "    M = np.zeros((l,l))\n",
        "    for review in corpus:\n",
        "        # Get the sentence\n",
        "        sent = word_tokenize(review)\n",
        "        # Obtain the indexes of the words in the sentence from the vocabulary \n",
        "        sent_idx = [] \n",
        "        for word in sent:\n",
        "            try:\n",
        "                sent_idx.append(vocabulary[word])\n",
        "            except KeyError:\n",
        "                sent_idx.append(vocabulary['UNK'])\n",
        "        # Go through the indexes and add 1 / dist(i,j) to M[i,j] if words of index i and j appear in the same window\n",
        "        for i, idx_i in enumerate(sent_idx):\n",
        "            # If we consider a limited context:\n",
        "            if window > 0:\n",
        "                # Create a list containing the indexes that are on the left of the current index 'idx_i'\n",
        "                if i-window<0:\n",
        "                    pos_min = 0\n",
        "                else :\n",
        "                    pos_min = i-window\n",
        "                l_ctx_idx = [sent_idx[j] for j in range(pos_min, i)]\n",
        "            # If the context is the entire document:\n",
        "            else:\n",
        "                # The list containing the left context is easier to create\n",
        "                if i ==0:\n",
        "                    l_ctx_idx = []\n",
        "                else:\n",
        "                    l_ctx_idx = [sent_idx[ind] for ind in range(i)] \n",
        "            # Go through the list and update M[i,j]:    \n",
        "            for j, idx_j in enumerate(l_ctx_idx):\n",
        "                if distance_weighting:\n",
        "                    weight = 1/(len(l_ctx_idx)-j)\n",
        "                else:\n",
        "                    weight = 1.0\n",
        "                M[idx_i, idx_j] += weight\n",
        "                M[idx_j, idx_i] += weight \n",
        "    return M"
      ],
      "metadata": {
        "id": "-U9w92Zw08K2"
      },
      "execution_count": null,
      "outputs": []
    },
    {
      "cell_type": "code",
      "source": [
        "M5dist = co_occurence_matrix(train_texts_splt, vocab_5k, window=5, distance_weighting=True)\n",
        "#M20 = co_occurence_matrix(train_texts_splt, vocab_5k, window=20, distance_weighting=False)\n",
        "from sklearn.decomposition import TruncatedSVD\n",
        "svd = TruncatedSVD(n_components=300)\n",
        "SVDEmbeddings = svd.fit_transform(M5dist)\n",
        "print(SVDEmbeddings.shape)\n",
        "#SVDEmbeddings[vocab_5k['UNK']]"
      ],
      "metadata": {
        "colab": {
          "base_uri": "https://localhost:8080/"
        },
        "id": "iPHj1gnC1DDI",
        "outputId": "8bed061a-ac58-4a9b-8440-bad54813af5f"
      },
      "execution_count": null,
      "outputs": [
        {
          "output_type": "stream",
          "name": "stdout",
          "text": [
            "(5000, 300)\n"
          ]
        }
      ]
    },
    {
      "cell_type": "code",
      "source": [
        "train_rep = sentence_representations(train_texts_splt, vocab_5k, SVDEmbeddings) #SVDEmbeddings \n",
        "val_rep = sentence_representations(val_texts, vocab_5k, SVDEmbeddings)\n",
        "log_reg = LogisticRegression(solver ='newton-cg')\n",
        "log_reg.fit(train_rep,train_labels_splt)\n",
        "predic_rep = log_reg.predict(val_rep)\n",
        "cm = confusion_matrix(val_labels,predic_rep, labels = clf.classes_)\n",
        "b = cm\n",
        "disp = ConfusionMatrixDisplay(confusion_matrix = cm, display_labels=clf.classes_)\n",
        "disp.plot()\n",
        "disp2 = disp\n",
        "plt.show()\n",
        "print(classification_report(val_labels,predic_rep))"
      ],
      "metadata": {
        "colab": {
          "base_uri": "https://localhost:8080/",
          "height": 507
        },
        "id": "fuSCYTtk08M0",
        "outputId": "16303861-095e-4ee4-f463-6cc92b45cc93"
      },
      "execution_count": null,
      "outputs": [
        {
          "output_type": "stream",
          "name": "stderr",
          "text": [
            "/usr/local/lib/python3.7/dist-packages/sklearn/utils/optimize.py:212: ConvergenceWarning: newton-cg failed to converge. Increase the number of iterations.\n",
            "  ConvergenceWarning,\n"
          ]
        },
        {
          "output_type": "display_data",
          "data": {
            "text/plain": [
              "<Figure size 432x288 with 2 Axes>"
            ],
            "image/png": "[encoded data removed]"
          },
          "metadata": {
            "needs_background": "light"
          }
        },
        {
          "output_type": "stream",
          "name": "stdout",
          "text": [
            "              precision    recall  f1-score   support\n",
            "\n",
            "          -1       0.62      0.45      0.52       122\n",
            "           0       0.74      0.84      0.79       566\n",
            "           1       0.61      0.50      0.55       280\n",
            "\n",
            "    accuracy                           0.69       968\n",
            "   macro avg       0.65      0.60      0.62       968\n",
            "weighted avg       0.68      0.69      0.68       968\n",
            "\n"
          ]
        }
      ]
    },
    {
      "cell_type": "code",
      "source": [
        ""
      ],
      "metadata": {
        "id": "yyBOz8xZ1NFp"
      },
      "execution_count": null,
      "outputs": []
    },
    {
      "cell_type": "code",
      "source": [
        ""
      ],
      "metadata": {
        "id": "nTfy-CHj1NHs"
      },
      "execution_count": null,
      "outputs": []
    },
    {
      "cell_type": "code",
      "source": [
        ""
      ],
      "metadata": {
        "id": "e03o2NZn1NLl"
      },
      "execution_count": null,
      "outputs": []
    },
    {
      "cell_type": "code",
      "source": [
        "import torch\n",
        "import torch.nn as nn\n",
        "import torch.nn.functional as F\n",
        "\n",
        "import numpy as np"
      ],
      "metadata": {
        "id": "lAE7XLWoBToK"
      },
      "execution_count": null,
      "outputs": []
    },
    {
      "cell_type": "code",
      "source": [
        "! pip install datasets\n",
        "! pip install transformers\n",
        "! pip install torchinfo"
      ],
      "metadata": {
        "colab": {
          "base_uri": "https://localhost:8080/"
        },
        "id": "xWlP6V2qPgDj",
        "outputId": "7a20205a-7da2-47a1-f68f-7445aed8fcca"
      },
      "execution_count": null,
      "outputs": [
        {
          "output_type": "stream",
          "name": "stdout",
          "text": [
            "Collecting datasets\n",
            "  Downloading datasets-2.1.0-py3-none-any.whl (325 kB)\n",
            "\u001b[?25l\r\u001b[K     |█                               | 10 kB 32.4 MB/s eta 0:00:01\r\u001b[K     |██                              | 20 kB 38.8 MB/s eta 0:00:01\r\u001b[K     |███                             | 30 kB 23.9 MB/s eta 0:00:01\r\u001b[K     |████                            | 40 kB 13.6 MB/s eta 0:00:01\r\u001b[K     |█████                           | 51 kB 12.5 MB/s eta 0:00:01\r\u001b[K     |██████                          | 61 kB 14.6 MB/s eta 0:00:01\r\u001b[K     |███████                         | 71 kB 14.2 MB/s eta 0:00:01\r\u001b[K     |████████                        | 81 kB 13.6 MB/s eta 0:00:01\r\u001b[K     |█████████                       | 92 kB 15.0 MB/s eta 0:00:01\r\u001b[K     |██████████                      | 102 kB 13.8 MB/s eta 0:00:01\r\u001b[K     |███████████                     | 112 kB 13.8 MB/s eta 0:00:01\r\u001b[K     |████████████                    | 122 kB 13.8 MB/s eta 0:00:01\r\u001b[K     |█████████████                   | 133 kB 13.8 MB/s eta 0:00:01\r\u001b[K     |██████████████                  | 143 kB 13.8 MB/s eta 0:00:01\r\u001b[K     |███████████████                 | 153 kB 13.8 MB/s eta 0:00:01\r\u001b[K     |████████████████▏               | 163 kB 13.8 MB/s eta 0:00:01\r\u001b[K     |█████████████████▏              | 174 kB 13.8 MB/s eta 0:00:01\r\u001b[K     |██████████████████▏             | 184 kB 13.8 MB/s eta 0:00:01\r\u001b[K     |███████████████████▏            | 194 kB 13.8 MB/s eta 0:00:01\r\u001b[K     |████████████████████▏           | 204 kB 13.8 MB/s eta 0:00:01\r\u001b[K     |█████████████████████▏          | 215 kB 13.8 MB/s eta 0:00:01\r\u001b[K     |██████████████████████▏         | 225 kB 13.8 MB/s eta 0:00:01\r\u001b[K     |███████████████████████▏        | 235 kB 13.8 MB/s eta 0:00:01\r\u001b[K     |████████████████████████▏       | 245 kB 13.8 MB/s eta 0:00:01\r\u001b[K     |█████████████████████████▏      | 256 kB 13.8 MB/s eta 0:00:01\r\u001b[K     |██████████████████████████▏     | 266 kB 13.8 MB/s eta 0:00:01\r\u001b[K     |███████████████████████████▏    | 276 kB 13.8 MB/s eta 0:00:01\r\u001b[K     |████████████████████████████▏   | 286 kB 13.8 MB/s eta 0:00:01\r\u001b[K     |█████████████████████████████▏  | 296 kB 13.8 MB/s eta 0:00:01\r\u001b[K     |██████████████████████████████▏ | 307 kB 13.8 MB/s eta 0:00:01\r\u001b[K     |███████████████████████████████▏| 317 kB 13.8 MB/s eta 0:00:01\r\u001b[K     |████████████████████████████████| 325 kB 13.8 MB/s \n",
            "\u001b[?25hCollecting huggingface-hub<1.0.0,>=0.1.0\n",
            "  Downloading huggingface_hub-0.5.1-py3-none-any.whl (77 kB)\n",
            "\u001b[?25l\r\u001b[K     |████▏                           | 10 kB 36.8 MB/s eta 0:00:01\r\u001b[K     |████████▍                       | 20 kB 37.3 MB/s eta 0:00:01\r\u001b[K     |████████████▋                   | 30 kB 42.4 MB/s eta 0:00:01\r\u001b[K     |████████████████▉               | 40 kB 48.6 MB/s eta 0:00:01\r\u001b[K     |█████████████████████           | 51 kB 53.2 MB/s eta 0:00:01\r\u001b[K     |█████████████████████████▎      | 61 kB 58.6 MB/s eta 0:00:01\r\u001b[K     |█████████████████████████████▌  | 71 kB 62.3 MB/s eta 0:00:01\r\u001b[K     |████████████████████████████████| 77 kB 7.8 MB/s \n",
            "\u001b[?25hRequirement already satisfied: pandas in /usr/local/lib/python3.7/dist-packages (from datasets) (1.3.5)\n",
            "Collecting xxhash\n",
            "  Downloading xxhash-3.0.0-cp37-cp37m-manylinux_2_17_x86_64.manylinux2014_x86_64.whl (212 kB)\n",
            "\u001b[K     |████████████████████████████████| 212 kB 88.8 MB/s \n",
            "\u001b[?25hRequirement already satisfied: multiprocess in /usr/local/lib/python3.7/dist-packages (from datasets) (0.70.12.2)\n",
            "Collecting aiohttp\n",
            "  Downloading aiohttp-3.8.1-cp37-cp37m-manylinux_2_5_x86_64.manylinux1_x86_64.manylinux_2_12_x86_64.manylinux2010_x86_64.whl (1.1 MB)\n",
            "\u001b[K     |████████████████████████████████| 1.1 MB 75.0 MB/s \n",
            "\u001b[?25hCollecting responses<0.19\n",
            "  Downloading responses-0.18.0-py3-none-any.whl (38 kB)\n",
            "Requirement already satisfied: numpy>=1.17 in /usr/local/lib/python3.7/dist-packages (from datasets) (1.21.6)\n",
            "Requirement already satisfied: tqdm>=4.62.1 in /usr/local/lib/python3.7/dist-packages (from datasets) (4.64.0)\n",
            "Requirement already satisfied: dill in /usr/local/lib/python3.7/dist-packages (from datasets) (0.3.4)\n",
            "Collecting fsspec[http]>=2021.05.0\n",
            "  Downloading fsspec-2022.3.0-py3-none-any.whl (136 kB)\n",
            "\u001b[K     |████████████████████████████████| 136 kB 78.2 MB/s \n",
            "\u001b[?25hRequirement already satisfied: pyarrow>=5.0.0 in /usr/local/lib/python3.7/dist-packages (from datasets) (6.0.1)\n",
            "Requirement already satisfied: importlib-metadata in /usr/local/lib/python3.7/dist-packages (from datasets) (4.11.3)\n",
            "Requirement already satisfied: packaging in /usr/local/lib/python3.7/dist-packages (from datasets) (21.3)\n",
            "Requirement already satisfied: requests>=2.19.0 in /usr/local/lib/python3.7/dist-packages (from datasets) (2.23.0)\n",
            "Requirement already satisfied: filelock in /usr/local/lib/python3.7/dist-packages (from huggingface-hub<1.0.0,>=0.1.0->datasets) (3.6.0)\n",
            "Requirement already satisfied: pyyaml in /usr/local/lib/python3.7/dist-packages (from huggingface-hub<1.0.0,>=0.1.0->datasets) (3.13)\n",
            "Requirement already satisfied: typing-extensions>=3.7.4.3 in /usr/local/lib/python3.7/dist-packages (from huggingface-hub<1.0.0,>=0.1.0->datasets) (4.1.1)\n",
            "Requirement already satisfied: pyparsing!=3.0.5,>=2.0.2 in /usr/local/lib/python3.7/dist-packages (from packaging->datasets) (3.0.8)\n",
            "Requirement already satisfied: urllib3!=1.25.0,!=1.25.1,<1.26,>=1.21.1 in /usr/local/lib/python3.7/dist-packages (from requests>=2.19.0->datasets) (1.24.3)\n",
            "Requirement already satisfied: certifi>=2017.4.17 in /usr/local/lib/python3.7/dist-packages (from requests>=2.19.0->datasets) (2021.10.8)\n",
            "Requirement already satisfied: chardet<4,>=3.0.2 in /usr/local/lib/python3.7/dist-packages (from requests>=2.19.0->datasets) (3.0.4)\n",
            "Requirement already satisfied: idna<3,>=2.5 in /usr/local/lib/python3.7/dist-packages (from requests>=2.19.0->datasets) (2.10)\n",
            "Collecting urllib3!=1.25.0,!=1.25.1,<1.26,>=1.21.1\n",
            "  Downloading urllib3-1.25.11-py2.py3-none-any.whl (127 kB)\n",
            "\u001b[K     |████████████████████████████████| 127 kB 86.1 MB/s \n",
            "\u001b[?25hCollecting multidict<7.0,>=4.5\n",
            "  Downloading multidict-6.0.2-cp37-cp37m-manylinux_2_17_x86_64.manylinux2014_x86_64.whl (94 kB)\n",
            "\u001b[K     |████████████████████████████████| 94 kB 3.8 MB/s \n",
            "\u001b[?25hRequirement already satisfied: attrs>=17.3.0 in /usr/local/lib/python3.7/dist-packages (from aiohttp->datasets) (21.4.0)\n",
            "Collecting async-timeout<5.0,>=4.0.0a3\n",
            "  Downloading async_timeout-4.0.2-py3-none-any.whl (5.8 kB)\n",
            "Collecting frozenlist>=1.1.1\n",
            "  Downloading frozenlist-1.3.0-cp37-cp37m-manylinux_2_5_x86_64.manylinux1_x86_64.manylinux_2_17_x86_64.manylinux2014_x86_64.whl (144 kB)\n",
            "\u001b[K     |████████████████████████████████| 144 kB 81.9 MB/s \n",
            "\u001b[?25hCollecting asynctest==0.13.0\n",
            "  Downloading asynctest-0.13.0-py3-none-any.whl (26 kB)\n",
            "Collecting yarl<2.0,>=1.0\n",
            "  Downloading yarl-1.7.2-cp37-cp37m-manylinux_2_5_x86_64.manylinux1_x86_64.manylinux_2_12_x86_64.manylinux2010_x86_64.whl (271 kB)\n",
            "\u001b[K     |████████████████████████████████| 271 kB 71.6 MB/s \n",
            "\u001b[?25hRequirement already satisfied: charset-normalizer<3.0,>=2.0 in /usr/local/lib/python3.7/dist-packages (from aiohttp->datasets) (2.0.12)\n",
            "Collecting aiosignal>=1.1.2\n",
            "  Downloading aiosignal-1.2.0-py3-none-any.whl (8.2 kB)\n",
            "Requirement already satisfied: zipp>=0.5 in /usr/local/lib/python3.7/dist-packages (from importlib-metadata->datasets) (3.8.0)\n",
            "Requirement already satisfied: python-dateutil>=2.7.3 in /usr/local/lib/python3.7/dist-packages (from pandas->datasets) (2.8.2)\n",
            "Requirement already satisfied: pytz>=2017.3 in /usr/local/lib/python3.7/dist-packages (from pandas->datasets) (2022.1)\n",
            "Requirement already satisfied: six>=1.5 in /usr/local/lib/python3.7/dist-packages (from python-dateutil>=2.7.3->pandas->datasets) (1.15.0)\n",
            "Installing collected packages: multidict, frozenlist, yarl, urllib3, asynctest, async-timeout, aiosignal, fsspec, aiohttp, xxhash, responses, huggingface-hub, datasets\n",
            "  Attempting uninstall: urllib3\n",
            "    Found existing installation: urllib3 1.24.3\n",
            "    Uninstalling urllib3-1.24.3:\n",
            "      Successfully uninstalled urllib3-1.24.3\n",
            "\u001b[31mERROR: pip's dependency resolver does not currently take into account all the packages that are installed. This behaviour is the source of the following dependency conflicts.\n",
            "datascience 0.10.6 requires folium==0.2.1, but you have folium 0.8.3 which is incompatible.\u001b[0m\n",
            "Successfully installed aiohttp-3.8.1 aiosignal-1.2.0 async-timeout-4.0.2 asynctest-0.13.0 datasets-2.1.0 frozenlist-1.3.0 fsspec-2022.3.0 huggingface-hub-0.5.1 multidict-6.0.2 responses-0.18.0 urllib3-1.25.11 xxhash-3.0.0 yarl-1.7.2\n",
            "Collecting transformers\n",
            "  Downloading transformers-4.18.0-py3-none-any.whl (4.0 MB)\n",
            "\u001b[K     |████████████████████████████████| 4.0 MB 15.0 MB/s \n",
            "\u001b[?25hCollecting tokenizers!=0.11.3,<0.13,>=0.11.1\n",
            "  Downloading tokenizers-0.12.1-cp37-cp37m-manylinux_2_12_x86_64.manylinux2010_x86_64.whl (6.6 MB)\n",
            "\u001b[K     |████████████████████████████████| 6.6 MB 59.0 MB/s \n",
            "\u001b[?25hRequirement already satisfied: requests in /usr/local/lib/python3.7/dist-packages (from transformers) (2.23.0)\n",
            "Collecting pyyaml>=5.1\n",
            "  Downloading PyYAML-6.0-cp37-cp37m-manylinux_2_5_x86_64.manylinux1_x86_64.manylinux_2_12_x86_64.manylinux2010_x86_64.whl (596 kB)\n",
            "\u001b[K     |████████████████████████████████| 596 kB 70.4 MB/s \n",
            "\u001b[?25hRequirement already satisfied: packaging>=20.0 in /usr/local/lib/python3.7/dist-packages (from transformers) (21.3)\n",
            "Requirement already satisfied: tqdm>=4.27 in /usr/local/lib/python3.7/dist-packages (from transformers) (4.64.0)\n",
            "Requirement already satisfied: filelock in /usr/local/lib/python3.7/dist-packages (from transformers) (3.6.0)\n",
            "Requirement already satisfied: huggingface-hub<1.0,>=0.1.0 in /usr/local/lib/python3.7/dist-packages (from transformers) (0.5.1)\n",
            "Requirement already satisfied: regex!=2019.12.17 in /usr/local/lib/python3.7/dist-packages (from transformers) (2019.12.20)\n",
            "Requirement already satisfied: importlib-metadata in /usr/local/lib/python3.7/dist-packages (from transformers) (4.11.3)\n",
            "Requirement already satisfied: numpy>=1.17 in /usr/local/lib/python3.7/dist-packages (from transformers) (1.21.6)\n",
            "Collecting sacremoses\n",
            "  Downloading sacremoses-0.0.49-py3-none-any.whl (895 kB)\n",
            "\u001b[K     |████████████████████████████████| 895 kB 74.5 MB/s \n",
            "\u001b[?25hRequirement already satisfied: typing-extensions>=3.7.4.3 in /usr/local/lib/python3.7/dist-packages (from huggingface-hub<1.0,>=0.1.0->transformers) (4.1.1)\n",
            "Requirement already satisfied: pyparsing!=3.0.5,>=2.0.2 in /usr/local/lib/python3.7/dist-packages (from packaging>=20.0->transformers) (3.0.8)\n",
            "Requirement already satisfied: zipp>=0.5 in /usr/local/lib/python3.7/dist-packages (from importlib-metadata->transformers) (3.8.0)\n",
            "Requirement already satisfied: idna<3,>=2.5 in /usr/local/lib/python3.7/dist-packages (from requests->transformers) (2.10)\n",
            "Requirement already satisfied: urllib3!=1.25.0,!=1.25.1,<1.26,>=1.21.1 in /usr/local/lib/python3.7/dist-packages (from requests->transformers) (1.25.11)\n",
            "Requirement already satisfied: certifi>=2017.4.17 in /usr/local/lib/python3.7/dist-packages (from requests->transformers) (2021.10.8)\n",
            "Requirement already satisfied: chardet<4,>=3.0.2 in /usr/local/lib/python3.7/dist-packages (from requests->transformers) (3.0.4)\n",
            "Requirement already satisfied: joblib in /usr/local/lib/python3.7/dist-packages (from sacremoses->transformers) (1.1.0)\n",
            "Requirement already satisfied: six in /usr/local/lib/python3.7/dist-packages (from sacremoses->transformers) (1.15.0)\n",
            "Requirement already satisfied: click in /usr/local/lib/python3.7/dist-packages (from sacremoses->transformers) (7.1.2)\n",
            "Installing collected packages: pyyaml, tokenizers, sacremoses, transformers\n",
            "  Attempting uninstall: pyyaml\n",
            "    Found existing installation: PyYAML 3.13\n",
            "    Uninstalling PyYAML-3.13:\n",
            "      Successfully uninstalled PyYAML-3.13\n",
            "Successfully installed pyyaml-6.0 sacremoses-0.0.49 tokenizers-0.12.1 transformers-4.18.0\n",
            "Collecting torchinfo\n",
            "  Downloading torchinfo-1.6.5-py3-none-any.whl (21 kB)\n",
            "Installing collected packages: torchinfo\n",
            "Successfully installed torchinfo-1.6.5\n"
          ]
        }
      ]
    },
    {
      "cell_type": "code",
      "source": [
        "import torch\n",
        "from datasets import load_dataset\n",
        "from tqdm import tqdm\n",
        "import nltk\n",
        "from gensim.models.phrases import Phrases, Phraser\n",
        "from nltk.tokenize import TreebankWordTokenizer, TweetTokenizer\n",
        "import pandas as pd\n",
        "from termcolor import colored\n",
        "from collections import Counter"
      ],
      "metadata": {
        "id": "kARSXrhdPhSU"
      },
      "execution_count": null,
      "outputs": []
    },
    {
      "cell_type": "markdown",
      "source": [
        "### Using FastText pre trained vectors "
      ],
      "metadata": {
        "id": "AETvoCxzNCFX"
      }
    },
    {
      "cell_type": "code",
      "source": [
        "from torchtext.vocab import GloVe, vocab, FastText\n",
        "\n",
        "pretrained_vectors = FastText(language='en')"
      ],
      "metadata": {
        "id": "jckm_8N4BTqe"
      },
      "execution_count": null,
      "outputs": []
    },
    {
      "cell_type": "code",
      "source": [
        "from torchtext.vocab import GloVe, FastText, vocab\n",
        "\n",
        "pretrained_vocab = vocab(pretrained_vectors.stoi)\n",
        "unk_token = \"<unk>\"\n",
        "unk_index = 0\n",
        "pad_token = '<pad>'\n",
        "pad_index = 1\n",
        "pretrained_vocab.insert_token(\"<unk>\",unk_index)\n",
        "pretrained_vocab.insert_token(\"<pad>\", pad_index)\n",
        "#this is necessary otherwise it will throw runtime error if OOV token is queried \n",
        "pretrained_vocab.set_default_index(unk_index)\n",
        "pretrained_embeddings = pretrained_vectors.vectors\n",
        "pretrained_embeddings = torch.cat((torch.zeros(1,pretrained_embeddings.shape[1]),pretrained_embeddings))\n",
        "pretrained_embeddings.size()"
      ],
      "metadata": {
        "colab": {
          "base_uri": "https://localhost:8080/"
        },
        "id": "CVwQhrO4FZO0",
        "outputId": "226c4b1c-e9e0-4b93-9c4a-fb2b63d8db9a"
      },
      "execution_count": null,
      "outputs": [
        {
          "output_type": "execute_result",
          "data": {
            "text/plain": [
              "torch.Size([2519371, 300])"
            ]
          },
          "metadata": {},
          "execution_count": 13
        }
      ]
    },
    {
      "cell_type": "code",
      "source": [
        "df = df.drop(columns = df.columns[1])\n",
        "df.columns = ['text','label']\n",
        "df"
      ],
      "metadata": {
        "colab": {
          "base_uri": "https://localhost:8080/",
          "height": 424
        },
        "id": "Vgou_GGYXjnR",
        "outputId": "3208a072-cc31-4da3-b719-7eb2f63175ec"
      },
      "execution_count": null,
      "outputs": [
        {
          "output_type": "execute_result",
          "data": {
            "text/plain": [
              "                                                   text  label\n",
              "0     Technopolis plans to develop in stages an area...      0\n",
              "1     The international electronic industry company ...     -1\n",
              "2     With the new production plant the company woul...      1\n",
              "3     According to the company 's updated strategy f...      1\n",
              "4     FINANCING OF ASPOCOMP 'S GROWTH Aspocomp is ag...      1\n",
              "...                                                 ...    ...\n",
              "4840  LONDON MarketWatch -- Share prices ended lower...     -1\n",
              "4841  Rinkuskiai 's beer sales fell by 6.5 per cent ...      0\n",
              "4842  Operating profit fell to EUR 35.4 mn from EUR ...     -1\n",
              "4843  Net sales of the Paper segment decreased to EU...     -1\n",
              "4844  Sales in Finland decreased by 10.5 % in Januar...     -1\n",
              "\n",
              "[4839 rows x 2 columns]"
            ],
            "text/html": [
              "\n",
              "  <div id=\"df-c5484024-0165-46cd-89eb-79ec9fd87b84\">\n",
              "    <div class=\"colab-df-container\">\n",
              "      <div>\n",
              "<style scoped>\n",
              "    .dataframe tbody tr th:only-of-type {\n",
              "        vertical-align: middle;\n",
              "    }\n",
              "\n",
              "    .dataframe tbody tr th {\n",
              "        vertical-align: top;\n",
              "    }\n",
              "\n",
              "    .dataframe thead th {\n",
              "        text-align: right;\n",
              "    }\n",
              "</style>\n",
              "<table border=\"1\" class=\"dataframe\">\n",
              "  <thead>\n",
              "    <tr style=\"text-align: right;\">\n",
              "      <th></th>\n",
              "      <th>text</th>\n",
              "      <th>label</th>\n",
              "    </tr>\n",
              "  </thead>\n",
              "  <tbody>\n",
              "    <tr>\n",
              "      <th>0</th>\n",
              "      <td>Technopolis plans to develop in stages an area...</td>\n",
              "      <td>0</td>\n",
              "    </tr>\n",
              "    <tr>\n",
              "      <th>1</th>\n",
              "      <td>The international electronic industry company ...</td>\n",
              "      <td>-1</td>\n",
              "    </tr>\n",
              "    <tr>\n",
              "      <th>2</th>\n",
              "      <td>With the new production plant the company woul...</td>\n",
              "      <td>1</td>\n",
              "    </tr>\n",
              "    <tr>\n",
              "      <th>3</th>\n",
              "      <td>According to the company 's updated strategy f...</td>\n",
              "      <td>1</td>\n",
              "    </tr>\n",
              "    <tr>\n",
              "      <th>4</th>\n",
              "      <td>FINANCING OF ASPOCOMP 'S GROWTH Aspocomp is ag...</td>\n",
              "      <td>1</td>\n",
              "    </tr>\n",
              "    <tr>\n",
              "      <th>...</th>\n",
              "      <td>...</td>\n",
              "      <td>...</td>\n",
              "    </tr>\n",
              "    <tr>\n",
              "      <th>4840</th>\n",
              "      <td>LONDON MarketWatch -- Share prices ended lower...</td>\n",
              "      <td>-1</td>\n",
              "    </tr>\n",
              "    <tr>\n",
              "      <th>4841</th>\n",
              "      <td>Rinkuskiai 's beer sales fell by 6.5 per cent ...</td>\n",
              "      <td>0</td>\n",
              "    </tr>\n",
              "    <tr>\n",
              "      <th>4842</th>\n",
              "      <td>Operating profit fell to EUR 35.4 mn from EUR ...</td>\n",
              "      <td>-1</td>\n",
              "    </tr>\n",
              "    <tr>\n",
              "      <th>4843</th>\n",
              "      <td>Net sales of the Paper segment decreased to EU...</td>\n",
              "      <td>-1</td>\n",
              "    </tr>\n",
              "    <tr>\n",
              "      <th>4844</th>\n",
              "      <td>Sales in Finland decreased by 10.5 % in Januar...</td>\n",
              "      <td>-1</td>\n",
              "    </tr>\n",
              "  </tbody>\n",
              "</table>\n",
              "<p>4839 rows × 2 columns</p>\n",
              "</div>\n",
              "      <button class=\"colab-df-convert\" onclick=\"convertToInteractive('df-c5484024-0165-46cd-89eb-79ec9fd87b84')\"\n",
              "              title=\"Convert this dataframe to an interactive table.\"\n",
              "              style=\"display:none;\">\n",
              "        \n",
              "  <svg xmlns=\"http://www.w3.org/2000/svg\" height=\"24px\"viewBox=\"0 0 24 24\"\n",
              "       width=\"24px\">\n",
              "    <path d=\"M0 0h24v24H0V0z\" fill=\"none\"/>\n",
              "    <path d=\"M18.56 5.44l.94 2.06.94-2.06 2.06-.94-2.06-.94-.94-2.06-.94 2.06-2.06.94zm-11 1L8.5 8.5l.94-2.06 2.06-.94-2.06-.94L8.5 2.5l-.94 2.06-2.06.94zm10 10l.94 2.06.94-2.06 2.06-.94-2.06-.94-.94-2.06-.94 2.06-2.06.94z\"/><path d=\"M17.41 7.96l-1.37-1.37c-.4-.4-.92-.59-1.43-.59-.52 0-1.04.2-1.43.59L10.3 9.45l-7.72 7.72c-.78.78-.78 2.05 0 2.83L4 21.41c.39.39.9.59 1.41.59.51 0 1.02-.2 1.41-.59l7.78-7.78 2.81-2.81c.8-.78.8-2.07 0-2.86zM5.41 20L4 18.59l7.72-7.72 1.47 1.35L5.41 20z\"/>\n",
              "  </svg>\n",
              "      </button>\n",
              "      \n",
              "  <style>\n",
              "    .colab-df-container {\n",
              "      display:flex;\n",
              "      flex-wrap:wrap;\n",
              "      gap: 12px;\n",
              "    }\n",
              "\n",
              "    .colab-df-convert {\n",
              "      background-color: #E8F0FE;\n",
              "      border: none;\n",
              "      border-radius: 50%;\n",
              "      cursor: pointer;\n",
              "      display: none;\n",
              "      fill: #1967D2;\n",
              "      height: 32px;\n",
              "      padding: 0 0 0 0;\n",
              "      width: 32px;\n",
              "    }\n",
              "\n",
              "    .colab-df-convert:hover {\n",
              "      background-color: #E2EBFA;\n",
              "      box-shadow: 0px 1px 2px rgba(60, 64, 67, 0.3), 0px 1px 3px 1px rgba(60, 64, 67, 0.15);\n",
              "      fill: #174EA6;\n",
              "    }\n",
              "\n",
              "    [theme=dark] .colab-df-convert {\n",
              "      background-color: #3B4455;\n",
              "      fill: #D2E3FC;\n",
              "    }\n",
              "\n",
              "    [theme=dark] .colab-df-convert:hover {\n",
              "      background-color: #434B5C;\n",
              "      box-shadow: 0px 1px 3px 1px rgba(0, 0, 0, 0.15);\n",
              "      filter: drop-shadow(0px 1px 2px rgba(0, 0, 0, 0.3));\n",
              "      fill: #FFFFFF;\n",
              "    }\n",
              "  </style>\n",
              "\n",
              "      <script>\n",
              "        const buttonEl =\n",
              "          document.querySelector('#df-c5484024-0165-46cd-89eb-79ec9fd87b84 button.colab-df-convert');\n",
              "        buttonEl.style.display =\n",
              "          google.colab.kernel.accessAllowed ? 'block' : 'none';\n",
              "\n",
              "        async function convertToInteractive(key) {\n",
              "          const element = document.querySelector('#df-c5484024-0165-46cd-89eb-79ec9fd87b84');\n",
              "          const dataTable =\n",
              "            await google.colab.kernel.invokeFunction('convertToInteractive',\n",
              "                                                     [key], {});\n",
              "          if (!dataTable) return;\n",
              "\n",
              "          const docLinkHtml = 'Like what you see? Visit the ' +\n",
              "            '<a target=\"_blank\" href=https://colab.research.google.com/notebooks/data_table.ipynb>data table notebook</a>'\n",
              "            + ' to learn more about interactive tables.';\n",
              "          element.innerHTML = '';\n",
              "          dataTable['output_type'] = 'display_data';\n",
              "          await google.colab.output.renderOutput(dataTable, element);\n",
              "          const docLink = document.createElement('div');\n",
              "          docLink.innerHTML = docLinkHtml;\n",
              "          element.appendChild(docLink);\n",
              "        }\n",
              "      </script>\n",
              "    </div>\n",
              "  </div>\n",
              "  "
            ]
          },
          "metadata": {},
          "execution_count": 14
        }
      ]
    },
    {
      "cell_type": "markdown",
      "source": [
        "Splitting the data in train, test and evaluation datasets (80%, 10% and 10%)"
      ],
      "metadata": {
        "id": "cCHUombkMwiJ"
      }
    },
    {
      "cell_type": "code",
      "source": [
        "df_resampled = pd.concat([df[df.label !=0], df[df.label == 0].sample(n=1363)]).reset_index(drop=True)\n",
        "df_resampled"
      ],
      "metadata": {
        "colab": {
          "base_uri": "https://localhost:8080/",
          "height": 424
        },
        "id": "MC_A173DT9u0",
        "outputId": "f1d80bfc-0982-4134-a110-501e95134f7a"
      },
      "execution_count": null,
      "outputs": [
        {
          "output_type": "execute_result",
          "data": {
            "text/plain": [
              "                                                   text  label\n",
              "0     The international electronic industry company ...     -1\n",
              "1     With the new production plant the company woul...      1\n",
              "2     According to the company 's updated strategy f...      1\n",
              "3     FINANCING OF ASPOCOMP 'S GROWTH Aspocomp is ag...      1\n",
              "4     For the last quarter of 2010 , Componenta 's n...      1\n",
              "...                                                 ...    ...\n",
              "3325  The contract includes design , construction , ...      0\n",
              "3326  4 January 2011 - Finnish media company Alma Me...      0\n",
              "3327  May 29 , 2010 ( CompaniesandMarkets.com delive...      0\n",
              "3328  The company 's objective is to offer the best ...      0\n",
              "3329  The energy shot is packed in a 100-millilitre ...      0\n",
              "\n",
              "[3330 rows x 2 columns]"
            ],
            "text/html": [
              "\n",
              "  <div id=\"df-4aeb7259-f83d-4db8-bbf0-3cd5ddd96bf1\">\n",
              "    <div class=\"colab-df-container\">\n",
              "      <div>\n",
              "<style scoped>\n",
              "    .dataframe tbody tr th:only-of-type {\n",
              "        vertical-align: middle;\n",
              "    }\n",
              "\n",
              "    .dataframe tbody tr th {\n",
              "        vertical-align: top;\n",
              "    }\n",
              "\n",
              "    .dataframe thead th {\n",
              "        text-align: right;\n",
              "    }\n",
              "</style>\n",
              "<table border=\"1\" class=\"dataframe\">\n",
              "  <thead>\n",
              "    <tr style=\"text-align: right;\">\n",
              "      <th></th>\n",
              "      <th>text</th>\n",
              "      <th>label</th>\n",
              "    </tr>\n",
              "  </thead>\n",
              "  <tbody>\n",
              "    <tr>\n",
              "      <th>0</th>\n",
              "      <td>The international electronic industry company ...</td>\n",
              "      <td>-1</td>\n",
              "    </tr>\n",
              "    <tr>\n",
              "      <th>1</th>\n",
              "      <td>With the new production plant the company woul...</td>\n",
              "      <td>1</td>\n",
              "    </tr>\n",
              "    <tr>\n",
              "      <th>2</th>\n",
              "      <td>According to the company 's updated strategy f...</td>\n",
              "      <td>1</td>\n",
              "    </tr>\n",
              "    <tr>\n",
              "      <th>3</th>\n",
              "      <td>FINANCING OF ASPOCOMP 'S GROWTH Aspocomp is ag...</td>\n",
              "      <td>1</td>\n",
              "    </tr>\n",
              "    <tr>\n",
              "      <th>4</th>\n",
              "      <td>For the last quarter of 2010 , Componenta 's n...</td>\n",
              "      <td>1</td>\n",
              "    </tr>\n",
              "    <tr>\n",
              "      <th>...</th>\n",
              "      <td>...</td>\n",
              "      <td>...</td>\n",
              "    </tr>\n",
              "    <tr>\n",
              "      <th>3325</th>\n",
              "      <td>The contract includes design , construction , ...</td>\n",
              "      <td>0</td>\n",
              "    </tr>\n",
              "    <tr>\n",
              "      <th>3326</th>\n",
              "      <td>4 January 2011 - Finnish media company Alma Me...</td>\n",
              "      <td>0</td>\n",
              "    </tr>\n",
              "    <tr>\n",
              "      <th>3327</th>\n",
              "      <td>May 29 , 2010 ( CompaniesandMarkets.com delive...</td>\n",
              "      <td>0</td>\n",
              "    </tr>\n",
              "    <tr>\n",
              "      <th>3328</th>\n",
              "      <td>The company 's objective is to offer the best ...</td>\n",
              "      <td>0</td>\n",
              "    </tr>\n",
              "    <tr>\n",
              "      <th>3329</th>\n",
              "      <td>The energy shot is packed in a 100-millilitre ...</td>\n",
              "      <td>0</td>\n",
              "    </tr>\n",
              "  </tbody>\n",
              "</table>\n",
              "<p>3330 rows × 2 columns</p>\n",
              "</div>\n",
              "      <button class=\"colab-df-convert\" onclick=\"convertToInteractive('df-4aeb7259-f83d-4db8-bbf0-3cd5ddd96bf1')\"\n",
              "              title=\"Convert this dataframe to an interactive table.\"\n",
              "              style=\"display:none;\">\n",
              "        \n",
              "  <svg xmlns=\"http://www.w3.org/2000/svg\" height=\"24px\"viewBox=\"0 0 24 24\"\n",
              "       width=\"24px\">\n",
              "    <path d=\"M0 0h24v24H0V0z\" fill=\"none\"/>\n",
              "    <path d=\"M18.56 5.44l.94 2.06.94-2.06 2.06-.94-2.06-.94-.94-2.06-.94 2.06-2.06.94zm-11 1L8.5 8.5l.94-2.06 2.06-.94-2.06-.94L8.5 2.5l-.94 2.06-2.06.94zm10 10l.94 2.06.94-2.06 2.06-.94-2.06-.94-.94-2.06-.94 2.06-2.06.94z\"/><path d=\"M17.41 7.96l-1.37-1.37c-.4-.4-.92-.59-1.43-.59-.52 0-1.04.2-1.43.59L10.3 9.45l-7.72 7.72c-.78.78-.78 2.05 0 2.83L4 21.41c.39.39.9.59 1.41.59.51 0 1.02-.2 1.41-.59l7.78-7.78 2.81-2.81c.8-.78.8-2.07 0-2.86zM5.41 20L4 18.59l7.72-7.72 1.47 1.35L5.41 20z\"/>\n",
              "  </svg>\n",
              "      </button>\n",
              "      \n",
              "  <style>\n",
              "    .colab-df-container {\n",
              "      display:flex;\n",
              "      flex-wrap:wrap;\n",
              "      gap: 12px;\n",
              "    }\n",
              "\n",
              "    .colab-df-convert {\n",
              "      background-color: #E8F0FE;\n",
              "      border: none;\n",
              "      border-radius: 50%;\n",
              "      cursor: pointer;\n",
              "      display: none;\n",
              "      fill: #1967D2;\n",
              "      height: 32px;\n",
              "      padding: 0 0 0 0;\n",
              "      width: 32px;\n",
              "    }\n",
              "\n",
              "    .colab-df-convert:hover {\n",
              "      background-color: #E2EBFA;\n",
              "      box-shadow: 0px 1px 2px rgba(60, 64, 67, 0.3), 0px 1px 3px 1px rgba(60, 64, 67, 0.15);\n",
              "      fill: #174EA6;\n",
              "    }\n",
              "\n",
              "    [theme=dark] .colab-df-convert {\n",
              "      background-color: #3B4455;\n",
              "      fill: #D2E3FC;\n",
              "    }\n",
              "\n",
              "    [theme=dark] .colab-df-convert:hover {\n",
              "      background-color: #434B5C;\n",
              "      box-shadow: 0px 1px 3px 1px rgba(0, 0, 0, 0.15);\n",
              "      filter: drop-shadow(0px 1px 2px rgba(0, 0, 0, 0.3));\n",
              "      fill: #FFFFFF;\n",
              "    }\n",
              "  </style>\n",
              "\n",
              "      <script>\n",
              "        const buttonEl =\n",
              "          document.querySelector('#df-4aeb7259-f83d-4db8-bbf0-3cd5ddd96bf1 button.colab-df-convert');\n",
              "        buttonEl.style.display =\n",
              "          google.colab.kernel.accessAllowed ? 'block' : 'none';\n",
              "\n",
              "        async function convertToInteractive(key) {\n",
              "          const element = document.querySelector('#df-4aeb7259-f83d-4db8-bbf0-3cd5ddd96bf1');\n",
              "          const dataTable =\n",
              "            await google.colab.kernel.invokeFunction('convertToInteractive',\n",
              "                                                     [key], {});\n",
              "          if (!dataTable) return;\n",
              "\n",
              "          const docLinkHtml = 'Like what you see? Visit the ' +\n",
              "            '<a target=\"_blank\" href=https://colab.research.google.com/notebooks/data_table.ipynb>data table notebook</a>'\n",
              "            + ' to learn more about interactive tables.';\n",
              "          element.innerHTML = '';\n",
              "          dataTable['output_type'] = 'display_data';\n",
              "          await google.colab.output.renderOutput(dataTable, element);\n",
              "          const docLink = document.createElement('div');\n",
              "          docLink.innerHTML = docLinkHtml;\n",
              "          element.appendChild(docLink);\n",
              "        }\n",
              "      </script>\n",
              "    </div>\n",
              "  </div>\n",
              "  "
            ]
          },
          "metadata": {},
          "execution_count": 39
        }
      ]
    },
    {
      "cell_type": "code",
      "source": [
        "df_binary = df[df.label != 0].reset_index(drop=True)\n",
        "df_binary"
      ],
      "metadata": {
        "colab": {
          "base_uri": "https://localhost:8080/",
          "height": 424
        },
        "id": "WkknPvizW926",
        "outputId": "65b6a548-7042-49af-e21e-1d64bcc49973"
      },
      "execution_count": null,
      "outputs": [
        {
          "output_type": "execute_result",
          "data": {
            "text/plain": [
              "                                                   text  label\n",
              "0     The international electronic industry company ...     -1\n",
              "1     With the new production plant the company woul...      1\n",
              "2     According to the company 's updated strategy f...      1\n",
              "3     FINANCING OF ASPOCOMP 'S GROWTH Aspocomp is ag...      1\n",
              "4     For the last quarter of 2010 , Componenta 's n...      1\n",
              "...                                                 ...    ...\n",
              "1962  HELSINKI Thomson Financial - Shares in Cargote...     -1\n",
              "1963  LONDON MarketWatch -- Share prices ended lower...     -1\n",
              "1964  Operating profit fell to EUR 35.4 mn from EUR ...     -1\n",
              "1965  Net sales of the Paper segment decreased to EU...     -1\n",
              "1966  Sales in Finland decreased by 10.5 % in Januar...     -1\n",
              "\n",
              "[1967 rows x 2 columns]"
            ],
            "text/html": [
              "\n",
              "  <div id=\"df-5719185f-a95a-4c82-8b27-912702e31602\">\n",
              "    <div class=\"colab-df-container\">\n",
              "      <div>\n",
              "<style scoped>\n",
              "    .dataframe tbody tr th:only-of-type {\n",
              "        vertical-align: middle;\n",
              "    }\n",
              "\n",
              "    .dataframe tbody tr th {\n",
              "        vertical-align: top;\n",
              "    }\n",
              "\n",
              "    .dataframe thead th {\n",
              "        text-align: right;\n",
              "    }\n",
              "</style>\n",
              "<table border=\"1\" class=\"dataframe\">\n",
              "  <thead>\n",
              "    <tr style=\"text-align: right;\">\n",
              "      <th></th>\n",
              "      <th>text</th>\n",
              "      <th>label</th>\n",
              "    </tr>\n",
              "  </thead>\n",
              "  <tbody>\n",
              "    <tr>\n",
              "      <th>0</th>\n",
              "      <td>The international electronic industry company ...</td>\n",
              "      <td>-1</td>\n",
              "    </tr>\n",
              "    <tr>\n",
              "      <th>1</th>\n",
              "      <td>With the new production plant the company woul...</td>\n",
              "      <td>1</td>\n",
              "    </tr>\n",
              "    <tr>\n",
              "      <th>2</th>\n",
              "      <td>According to the company 's updated strategy f...</td>\n",
              "      <td>1</td>\n",
              "    </tr>\n",
              "    <tr>\n",
              "      <th>3</th>\n",
              "      <td>FINANCING OF ASPOCOMP 'S GROWTH Aspocomp is ag...</td>\n",
              "      <td>1</td>\n",
              "    </tr>\n",
              "    <tr>\n",
              "      <th>4</th>\n",
              "      <td>For the last quarter of 2010 , Componenta 's n...</td>\n",
              "      <td>1</td>\n",
              "    </tr>\n",
              "    <tr>\n",
              "      <th>...</th>\n",
              "      <td>...</td>\n",
              "      <td>...</td>\n",
              "    </tr>\n",
              "    <tr>\n",
              "      <th>1962</th>\n",
              "      <td>HELSINKI Thomson Financial - Shares in Cargote...</td>\n",
              "      <td>-1</td>\n",
              "    </tr>\n",
              "    <tr>\n",
              "      <th>1963</th>\n",
              "      <td>LONDON MarketWatch -- Share prices ended lower...</td>\n",
              "      <td>-1</td>\n",
              "    </tr>\n",
              "    <tr>\n",
              "      <th>1964</th>\n",
              "      <td>Operating profit fell to EUR 35.4 mn from EUR ...</td>\n",
              "      <td>-1</td>\n",
              "    </tr>\n",
              "    <tr>\n",
              "      <th>1965</th>\n",
              "      <td>Net sales of the Paper segment decreased to EU...</td>\n",
              "      <td>-1</td>\n",
              "    </tr>\n",
              "    <tr>\n",
              "      <th>1966</th>\n",
              "      <td>Sales in Finland decreased by 10.5 % in Januar...</td>\n",
              "      <td>-1</td>\n",
              "    </tr>\n",
              "  </tbody>\n",
              "</table>\n",
              "<p>1967 rows × 2 columns</p>\n",
              "</div>\n",
              "      <button class=\"colab-df-convert\" onclick=\"convertToInteractive('df-5719185f-a95a-4c82-8b27-912702e31602')\"\n",
              "              title=\"Convert this dataframe to an interactive table.\"\n",
              "              style=\"display:none;\">\n",
              "        \n",
              "  <svg xmlns=\"http://www.w3.org/2000/svg\" height=\"24px\"viewBox=\"0 0 24 24\"\n",
              "       width=\"24px\">\n",
              "    <path d=\"M0 0h24v24H0V0z\" fill=\"none\"/>\n",
              "    <path d=\"M18.56 5.44l.94 2.06.94-2.06 2.06-.94-2.06-.94-.94-2.06-.94 2.06-2.06.94zm-11 1L8.5 8.5l.94-2.06 2.06-.94-2.06-.94L8.5 2.5l-.94 2.06-2.06.94zm10 10l.94 2.06.94-2.06 2.06-.94-2.06-.94-.94-2.06-.94 2.06-2.06.94z\"/><path d=\"M17.41 7.96l-1.37-1.37c-.4-.4-.92-.59-1.43-.59-.52 0-1.04.2-1.43.59L10.3 9.45l-7.72 7.72c-.78.78-.78 2.05 0 2.83L4 21.41c.39.39.9.59 1.41.59.51 0 1.02-.2 1.41-.59l7.78-7.78 2.81-2.81c.8-.78.8-2.07 0-2.86zM5.41 20L4 18.59l7.72-7.72 1.47 1.35L5.41 20z\"/>\n",
              "  </svg>\n",
              "      </button>\n",
              "      \n",
              "  <style>\n",
              "    .colab-df-container {\n",
              "      display:flex;\n",
              "      flex-wrap:wrap;\n",
              "      gap: 12px;\n",
              "    }\n",
              "\n",
              "    .colab-df-convert {\n",
              "      background-color: #E8F0FE;\n",
              "      border: none;\n",
              "      border-radius: 50%;\n",
              "      cursor: pointer;\n",
              "      display: none;\n",
              "      fill: #1967D2;\n",
              "      height: 32px;\n",
              "      padding: 0 0 0 0;\n",
              "      width: 32px;\n",
              "    }\n",
              "\n",
              "    .colab-df-convert:hover {\n",
              "      background-color: #E2EBFA;\n",
              "      box-shadow: 0px 1px 2px rgba(60, 64, 67, 0.3), 0px 1px 3px 1px rgba(60, 64, 67, 0.15);\n",
              "      fill: #174EA6;\n",
              "    }\n",
              "\n",
              "    [theme=dark] .colab-df-convert {\n",
              "      background-color: #3B4455;\n",
              "      fill: #D2E3FC;\n",
              "    }\n",
              "\n",
              "    [theme=dark] .colab-df-convert:hover {\n",
              "      background-color: #434B5C;\n",
              "      box-shadow: 0px 1px 3px 1px rgba(0, 0, 0, 0.15);\n",
              "      filter: drop-shadow(0px 1px 2px rgba(0, 0, 0, 0.3));\n",
              "      fill: #FFFFFF;\n",
              "    }\n",
              "  </style>\n",
              "\n",
              "      <script>\n",
              "        const buttonEl =\n",
              "          document.querySelector('#df-5719185f-a95a-4c82-8b27-912702e31602 button.colab-df-convert');\n",
              "        buttonEl.style.display =\n",
              "          google.colab.kernel.accessAllowed ? 'block' : 'none';\n",
              "\n",
              "        async function convertToInteractive(key) {\n",
              "          const element = document.querySelector('#df-5719185f-a95a-4c82-8b27-912702e31602');\n",
              "          const dataTable =\n",
              "            await google.colab.kernel.invokeFunction('convertToInteractive',\n",
              "                                                     [key], {});\n",
              "          if (!dataTable) return;\n",
              "\n",
              "          const docLinkHtml = 'Like what you see? Visit the ' +\n",
              "            '<a target=\"_blank\" href=https://colab.research.google.com/notebooks/data_table.ipynb>data table notebook</a>'\n",
              "            + ' to learn more about interactive tables.';\n",
              "          element.innerHTML = '';\n",
              "          dataTable['output_type'] = 'display_data';\n",
              "          await google.colab.output.renderOutput(dataTable, element);\n",
              "          const docLink = document.createElement('div');\n",
              "          docLink.innerHTML = docLinkHtml;\n",
              "          element.appendChild(docLink);\n",
              "        }\n",
              "      </script>\n",
              "    </div>\n",
              "  </div>\n",
              "  "
            ]
          },
          "metadata": {},
          "execution_count": 77
        }
      ]
    },
    {
      "cell_type": "code",
      "source": [
        "def conv_2(x) : \n",
        "  if x ==-1 : \n",
        "    return(0)\n",
        "  else : \n",
        "    return(x)\n",
        "df_binary['label'] = df_binary.apply(lambda r : conv_2(r['label']), axis=1)\n",
        "df_binary"
      ],
      "metadata": {
        "colab": {
          "base_uri": "https://localhost:8080/",
          "height": 424
        },
        "id": "GjLk2J50ZqOG",
        "outputId": "0099d857-a22e-4faa-af66-9591784be978"
      },
      "execution_count": null,
      "outputs": [
        {
          "output_type": "execute_result",
          "data": {
            "text/plain": [
              "                                                   text  label\n",
              "0     The international electronic industry company ...      0\n",
              "1     With the new production plant the company woul...      1\n",
              "2     According to the company 's updated strategy f...      1\n",
              "3     FINANCING OF ASPOCOMP 'S GROWTH Aspocomp is ag...      1\n",
              "4     For the last quarter of 2010 , Componenta 's n...      1\n",
              "...                                                 ...    ...\n",
              "1962  HELSINKI Thomson Financial - Shares in Cargote...      0\n",
              "1963  LONDON MarketWatch -- Share prices ended lower...      0\n",
              "1964  Operating profit fell to EUR 35.4 mn from EUR ...      0\n",
              "1965  Net sales of the Paper segment decreased to EU...      0\n",
              "1966  Sales in Finland decreased by 10.5 % in Januar...      0\n",
              "\n",
              "[1967 rows x 2 columns]"
            ],
            "text/html": [
              "\n",
              "  <div id=\"df-9afc5bfb-2840-4f70-938b-53f0b489a407\">\n",
              "    <div class=\"colab-df-container\">\n",
              "      <div>\n",
              "<style scoped>\n",
              "    .dataframe tbody tr th:only-of-type {\n",
              "        vertical-align: middle;\n",
              "    }\n",
              "\n",
              "    .dataframe tbody tr th {\n",
              "        vertical-align: top;\n",
              "    }\n",
              "\n",
              "    .dataframe thead th {\n",
              "        text-align: right;\n",
              "    }\n",
              "</style>\n",
              "<table border=\"1\" class=\"dataframe\">\n",
              "  <thead>\n",
              "    <tr style=\"text-align: right;\">\n",
              "      <th></th>\n",
              "      <th>text</th>\n",
              "      <th>label</th>\n",
              "    </tr>\n",
              "  </thead>\n",
              "  <tbody>\n",
              "    <tr>\n",
              "      <th>0</th>\n",
              "      <td>The international electronic industry company ...</td>\n",
              "      <td>0</td>\n",
              "    </tr>\n",
              "    <tr>\n",
              "      <th>1</th>\n",
              "      <td>With the new production plant the company woul...</td>\n",
              "      <td>1</td>\n",
              "    </tr>\n",
              "    <tr>\n",
              "      <th>2</th>\n",
              "      <td>According to the company 's updated strategy f...</td>\n",
              "      <td>1</td>\n",
              "    </tr>\n",
              "    <tr>\n",
              "      <th>3</th>\n",
              "      <td>FINANCING OF ASPOCOMP 'S GROWTH Aspocomp is ag...</td>\n",
              "      <td>1</td>\n",
              "    </tr>\n",
              "    <tr>\n",
              "      <th>4</th>\n",
              "      <td>For the last quarter of 2010 , Componenta 's n...</td>\n",
              "      <td>1</td>\n",
              "    </tr>\n",
              "    <tr>\n",
              "      <th>...</th>\n",
              "      <td>...</td>\n",
              "      <td>...</td>\n",
              "    </tr>\n",
              "    <tr>\n",
              "      <th>1962</th>\n",
              "      <td>HELSINKI Thomson Financial - Shares in Cargote...</td>\n",
              "      <td>0</td>\n",
              "    </tr>\n",
              "    <tr>\n",
              "      <th>1963</th>\n",
              "      <td>LONDON MarketWatch -- Share prices ended lower...</td>\n",
              "      <td>0</td>\n",
              "    </tr>\n",
              "    <tr>\n",
              "      <th>1964</th>\n",
              "      <td>Operating profit fell to EUR 35.4 mn from EUR ...</td>\n",
              "      <td>0</td>\n",
              "    </tr>\n",
              "    <tr>\n",
              "      <th>1965</th>\n",
              "      <td>Net sales of the Paper segment decreased to EU...</td>\n",
              "      <td>0</td>\n",
              "    </tr>\n",
              "    <tr>\n",
              "      <th>1966</th>\n",
              "      <td>Sales in Finland decreased by 10.5 % in Januar...</td>\n",
              "      <td>0</td>\n",
              "    </tr>\n",
              "  </tbody>\n",
              "</table>\n",
              "<p>1967 rows × 2 columns</p>\n",
              "</div>\n",
              "      <button class=\"colab-df-convert\" onclick=\"convertToInteractive('df-9afc5bfb-2840-4f70-938b-53f0b489a407')\"\n",
              "              title=\"Convert this dataframe to an interactive table.\"\n",
              "              style=\"display:none;\">\n",
              "        \n",
              "  <svg xmlns=\"http://www.w3.org/2000/svg\" height=\"24px\"viewBox=\"0 0 24 24\"\n",
              "       width=\"24px\">\n",
              "    <path d=\"M0 0h24v24H0V0z\" fill=\"none\"/>\n",
              "    <path d=\"M18.56 5.44l.94 2.06.94-2.06 2.06-.94-2.06-.94-.94-2.06-.94 2.06-2.06.94zm-11 1L8.5 8.5l.94-2.06 2.06-.94-2.06-.94L8.5 2.5l-.94 2.06-2.06.94zm10 10l.94 2.06.94-2.06 2.06-.94-2.06-.94-.94-2.06-.94 2.06-2.06.94z\"/><path d=\"M17.41 7.96l-1.37-1.37c-.4-.4-.92-.59-1.43-.59-.52 0-1.04.2-1.43.59L10.3 9.45l-7.72 7.72c-.78.78-.78 2.05 0 2.83L4 21.41c.39.39.9.59 1.41.59.51 0 1.02-.2 1.41-.59l7.78-7.78 2.81-2.81c.8-.78.8-2.07 0-2.86zM5.41 20L4 18.59l7.72-7.72 1.47 1.35L5.41 20z\"/>\n",
              "  </svg>\n",
              "      </button>\n",
              "      \n",
              "  <style>\n",
              "    .colab-df-container {\n",
              "      display:flex;\n",
              "      flex-wrap:wrap;\n",
              "      gap: 12px;\n",
              "    }\n",
              "\n",
              "    .colab-df-convert {\n",
              "      background-color: #E8F0FE;\n",
              "      border: none;\n",
              "      border-radius: 50%;\n",
              "      cursor: pointer;\n",
              "      display: none;\n",
              "      fill: #1967D2;\n",
              "      height: 32px;\n",
              "      padding: 0 0 0 0;\n",
              "      width: 32px;\n",
              "    }\n",
              "\n",
              "    .colab-df-convert:hover {\n",
              "      background-color: #E2EBFA;\n",
              "      box-shadow: 0px 1px 2px rgba(60, 64, 67, 0.3), 0px 1px 3px 1px rgba(60, 64, 67, 0.15);\n",
              "      fill: #174EA6;\n",
              "    }\n",
              "\n",
              "    [theme=dark] .colab-df-convert {\n",
              "      background-color: #3B4455;\n",
              "      fill: #D2E3FC;\n",
              "    }\n",
              "\n",
              "    [theme=dark] .colab-df-convert:hover {\n",
              "      background-color: #434B5C;\n",
              "      box-shadow: 0px 1px 3px 1px rgba(0, 0, 0, 0.15);\n",
              "      filter: drop-shadow(0px 1px 2px rgba(0, 0, 0, 0.3));\n",
              "      fill: #FFFFFF;\n",
              "    }\n",
              "  </style>\n",
              "\n",
              "      <script>\n",
              "        const buttonEl =\n",
              "          document.querySelector('#df-9afc5bfb-2840-4f70-938b-53f0b489a407 button.colab-df-convert');\n",
              "        buttonEl.style.display =\n",
              "          google.colab.kernel.accessAllowed ? 'block' : 'none';\n",
              "\n",
              "        async function convertToInteractive(key) {\n",
              "          const element = document.querySelector('#df-9afc5bfb-2840-4f70-938b-53f0b489a407');\n",
              "          const dataTable =\n",
              "            await google.colab.kernel.invokeFunction('convertToInteractive',\n",
              "                                                     [key], {});\n",
              "          if (!dataTable) return;\n",
              "\n",
              "          const docLinkHtml = 'Like what you see? Visit the ' +\n",
              "            '<a target=\"_blank\" href=https://colab.research.google.com/notebooks/data_table.ipynb>data table notebook</a>'\n",
              "            + ' to learn more about interactive tables.';\n",
              "          element.innerHTML = '';\n",
              "          dataTable['output_type'] = 'display_data';\n",
              "          await google.colab.output.renderOutput(dataTable, element);\n",
              "          const docLink = document.createElement('div');\n",
              "          docLink.innerHTML = docLinkHtml;\n",
              "          element.appendChild(docLink);\n",
              "        }\n",
              "      </script>\n",
              "    </div>\n",
              "  </div>\n",
              "  "
            ]
          },
          "metadata": {},
          "execution_count": 78
        }
      ]
    },
    {
      "cell_type": "code",
      "source": [
        "import random\n",
        "\n",
        "mylist = [i for i in range(len(df))]\n",
        "random.shuffle(mylist)\n",
        "train_id = mylist[:int(0.8*len(df))]\n",
        "eval_id = mylist[int(0.8*len(df)):int(0.9*len(df))]\n",
        "test_id = mylist[int(0.9*len(df)):]"
      ],
      "metadata": {
        "id": "eDC4PoO75-CE"
      },
      "execution_count": null,
      "outputs": []
    },
    {
      "cell_type": "code",
      "source": [
        ""
      ],
      "metadata": {
        "id": "3TcJzV_0Uf5S"
      },
      "execution_count": null,
      "outputs": []
    },
    {
      "cell_type": "code",
      "source": [
        "\n",
        "train = df.iloc[train_id]\n",
        "eval = df.iloc[eval_id]\n",
        "test = df.iloc[test_id]"
      ],
      "metadata": {
        "id": "HqZ6cxEs345f"
      },
      "execution_count": null,
      "outputs": []
    },
    {
      "cell_type": "code",
      "source": [
        "\n",
        "mylist = [i for i in range(len(df_resampled))]\n",
        "random.shuffle(mylist)\n",
        "train_id = mylist[:int(0.8*len(df_resampled))]\n",
        "eval_id = mylist[int(0.8*len(df_resampled)):int(0.9*len(df_resampled))]\n",
        "test_id = mylist[int(0.9*len(df_resampled)):]"
      ],
      "metadata": {
        "id": "bQGHsZ5tNZzA"
      },
      "execution_count": null,
      "outputs": []
    },
    {
      "cell_type": "code",
      "source": [
        "train = df_resampled.iloc[train_id]\n",
        "eval = df_resampled.iloc[eval_id]\n",
        "test = df_resampled.iloc[test_id]"
      ],
      "metadata": {
        "id": "5ny9sM-gU6P0"
      },
      "execution_count": null,
      "outputs": []
    },
    {
      "cell_type": "code",
      "source": [
        ""
      ],
      "metadata": {
        "id": "Ty5rJb-KXHy6"
      },
      "execution_count": null,
      "outputs": []
    },
    {
      "cell_type": "code",
      "source": [
        "mylist = [i for i in range(len(df_binary))]\n",
        "random.shuffle(mylist)\n",
        "train_id = mylist[:int(0.8*len(df_binary))]\n",
        "eval_id = mylist[int(0.8*len(df_binary)):int(0.9*len(df_binary))]\n",
        "test_id = mylist[int(0.9*len(df_binary)):]"
      ],
      "metadata": {
        "id": "ttXCMeB-XH2A"
      },
      "execution_count": null,
      "outputs": []
    },
    {
      "cell_type": "code",
      "source": [
        "train = df_binary.iloc[train_id]\n",
        "eval = df_binary.iloc[eval_id]\n",
        "test = df_binary.iloc[test_id]"
      ],
      "metadata": {
        "id": "ciVLyu-yXUl6"
      },
      "execution_count": null,
      "outputs": []
    },
    {
      "cell_type": "markdown",
      "source": [
        "### Numerical Tokenisation of the datasets and creation of the dataset class and the dataloader for the training of the model"
      ],
      "metadata": {
        "id": "QsI1M4suNfLp"
      }
    },
    {
      "cell_type": "code",
      "source": [
        "import pyarrow as pa\n",
        "import pyarrow.dataset as ds\n",
        "import pandas as pd\n",
        "from datasets import Dataset\n",
        "\n",
        "\n",
        "### convert to Huggingface dataset\n",
        "train = Dataset(pa.Table.from_pandas(train)).remove_columns('__index_level_0__')\n",
        "eval = Dataset(pa.Table.from_pandas(eval)).remove_columns('__index_level_0__')\n",
        "test = Dataset(pa.Table.from_pandas(test)).remove_columns('__index_level_0__')"
      ],
      "metadata": {
        "id": "qPXmNjC_ShEv"
      },
      "execution_count": null,
      "outputs": []
    },
    {
      "cell_type": "code",
      "source": [
        "\n",
        "tok = TweetTokenizer()\n",
        "def tokenize_pad_numericalize(entry, vocab_stoi, max_length=20):\n",
        "  text = [ vocab_stoi[token] if token in vocab_stoi else vocab_stoi['<unk>'] for token in tok.tokenize(entry.lower())]\n",
        "  padded_text = None\n",
        "  if len(text) < max_length:   padded_text = text + [ vocab_stoi['<pad>'] for i in range(len(text), max_length) ] \n",
        "  elif len(text) > max_length: padded_text = text[:max_length]\n",
        "  else:                        padded_text = text\n",
        "  return padded_text\n",
        "\n",
        "def tokenize_all(entries, vocab_stoi):\n",
        "  res = {}\n",
        "  res['text'] = [tokenize_pad_numericalize(entry, vocab_stoi, max_length=200) for entry in entries['text']]\n",
        "  res['label'] = entries['label']\n",
        "  return res"
      ],
      "metadata": {
        "id": "2AMsdiyKDIx2"
      },
      "execution_count": null,
      "outputs": []
    },
    {
      "cell_type": "code",
      "source": [
        "train = train.map(lambda e: tokenize_all(e, pretrained_vocab.get_stoi()), batched=True)\n",
        "eval = eval.map(lambda e: tokenize_all(e, pretrained_vocab.get_stoi()), batched=True)\n",
        "test = test.map(lambda e: tokenize_all(e, pretrained_vocab.get_stoi()), batched=True)\n"
      ],
      "metadata": {
        "colab": {
          "base_uri": "https://localhost:8080/",
          "height": 113,
          "referenced_widgets": [
            "941c23934155499d97053d8a8ae1d026",
            "a8778229aeee4877b45dfb25935d38a8",
            "8480fc0c275941df9b1e023079609556",
            "f5c5bf8a9821456c921ebd03f655f338",
            "9f83ad9402e74dac8ff4d6475178618a",
            "937c726e28214114a713bddfe3f4340c",
            "0cac42ee0d904b649c83f491101fcfe6",
            "05aae09da6f04575b10d32239528950d",
            "b4722d099f084e71ba553920938b4ea1",
            "c4d4e12c41d44024988f7549fb64390c",
            "da0c526507f74a6fb0a1e1788ea83edf",
            "f22d66f61c824b928e6a090e44c8ef56",
            "b81f9a91947b460b983039d6650aaf93",
            "7339080371c24b1988166b3a21358cfd",
            "7b86c116521e4837987e0aa7320af05c",
            "a0f548297df140ce8845b2c6ee30be62",
            "699dc003852245f9903e665c42e0b9af",
            "a2c0e4ae1a1344489df0737a08b8cdec",
            "eb2dfa3699dc498491cd474d81898979",
            "df18835c014f4fd1b7d39c6cff106017",
            "e67805b37c9d412bb811937973556d2f",
            "3ac6c01853824d1f992473633778df05",
            "ed97bb4577874fe2a01a189bf5d0c693",
            "5e36647a11074d368c902757ce0c068e",
            "ce134c64c373434a9f8ea30680e9ab1b",
            "6a3e28a0b86d4e998236a404c14ff65c",
            "d4fd6866a5c74d82a65acd0a4c026cd5",
            "e2c01f9cab744f67b6d79df9c402244b",
            "02e02b00edf8434b8e03db3bdb5c2904",
            "69661e35102c49368d39a278d15ab0ef",
            "edefba8012434286aa38e474150146ab",
            "122a238a2f1d4ab2b8c0a946286e11d8",
            "353449290ff64dd5bd8f107aae40d3e4"
          ]
        },
        "id": "qom4sS_DPu6-",
        "outputId": "0f7a817b-fe03-4857-bddf-660def713a2f"
      },
      "execution_count": null,
      "outputs": [
        {
          "output_type": "display_data",
          "data": {
            "text/plain": [
              "  0%|          | 0/2 [00:00<?, ?ba/s]"
            ],
            "application/vnd.jupyter.widget-view+json": {
              "version_major": 2,
              "version_minor": 0,
              "model_id": "941c23934155499d97053d8a8ae1d026"
            }
          },
          "metadata": {}
        },
        {
          "output_type": "display_data",
          "data": {
            "text/plain": [
              "  0%|          | 0/1 [00:00<?, ?ba/s]"
            ],
            "application/vnd.jupyter.widget-view+json": {
              "version_major": 2,
              "version_minor": 0,
              "model_id": "f22d66f61c824b928e6a090e44c8ef56"
            }
          },
          "metadata": {}
        },
        {
          "output_type": "display_data",
          "data": {
            "text/plain": [
              "  0%|          | 0/1 [00:00<?, ?ba/s]"
            ],
            "application/vnd.jupyter.widget-view+json": {
              "version_major": 2,
              "version_minor": 0,
              "model_id": "ed97bb4577874fe2a01a189bf5d0c693"
            }
          },
          "metadata": {}
        }
      ]
    },
    {
      "cell_type": "code",
      "source": [
        ""
      ],
      "metadata": {
        "id": "MEVtC6zfeWI_"
      },
      "execution_count": null,
      "outputs": []
    },
    {
      "cell_type": "code",
      "source": [
        "from torch.utils.data import Dataset\n",
        "import numpy as np\n",
        "\n",
        "class ReviewDataset(Dataset):\n",
        "    def __init__(self, data, args):\n",
        "      # args is a dict, a nice way to share the global arguments (even accross multiple files)\n",
        "      self.args = args\n",
        "      self.data = data\n",
        "\n",
        "    def __len__(self):\n",
        "      return len(self.data)\n",
        "    \n",
        "    def __getitem__(self, idx):\n",
        "      item = {\n",
        "          \"text\": np.array(self.data[idx]['text']),\n",
        "          \"label\": np.array(self.data[idx]['label'])\n",
        "      }\n",
        "      # warning: if you put   self.data['text'][idx]    it will take A LOT of time...\n",
        "      ## The following code would take forever just to print next(iter(train_loader))['text'].shape\n",
        "      # item = {\n",
        "      #     \"text\": np.array(self.data['text'][idx]),\n",
        "      #     \"label\": np.array(self.data['label'][idx])\n",
        "      # }\n",
        "      return item"
      ],
      "metadata": {
        "id": "yi8dZeazC5xT"
      },
      "execution_count": null,
      "outputs": []
    },
    {
      "cell_type": "code",
      "source": [
        "# Create DataLoader\n",
        "from torch.utils.data import DataLoader\n",
        "args = {'bsize': 64}\n",
        "train_loader = DataLoader(ReviewDataset(train, args), batch_size=64, num_workers=2, shuffle=True, drop_last=True)\n",
        "val_loader   = DataLoader(ReviewDataset(eval, args), batch_size=64, num_workers=2, shuffle=True, drop_last=True)\n",
        "test_loader  = DataLoader(ReviewDataset(test, args), batch_size=64, num_workers=2, shuffle=True, drop_last=True)"
      ],
      "metadata": {
        "id": "wnu3lyZiDAq3"
      },
      "execution_count": null,
      "outputs": []
    },
    {
      "cell_type": "markdown",
      "source": [
        "### Definition of the model "
      ],
      "metadata": {
        "id": "iW-AP7ObNu6V"
      }
    },
    {
      "cell_type": "code",
      "source": [
        "class Classifier(nn.Module):\n",
        "    \n",
        "    #define all the layers used in model\n",
        "    def __init__(self, hidden_dim, num_layers, \n",
        "                 embedding_dim=300, dropout = 0.2, vec = pretrained_vectors.vectors):\n",
        "        super().__init__()\n",
        "        self.ebd = torch.nn.Embedding.from_pretrained(vec, freeze=True)\n",
        "        self.lstm = nn.LSTM(embedding_dim, hidden_dim, batch_first=True)\n",
        "        self.linear = nn.Linear(hidden_dim, 3)\n",
        "        self.dropout = nn.Dropout(0.2)        \n",
        "        #activation function\n",
        "        self.act = nn.Softmax()\n",
        "        \n",
        "    def forward(self, x):#, l):\n",
        "        x = self.ebd(x)\n",
        "        x = self.dropout(x)\n",
        "        #x_pack = pack_padded_sequence(x, l, batch_first=True)\n",
        "\n",
        "        lstm_out, (ht, ct) = self.lstm(x)#x_pack)\n",
        "        dense_outputs=self.linear(ht[-1])\n",
        "        #Final activation function\n",
        "        outputs=self.act(dense_outputs)\n",
        "        return outputs"
      ],
      "metadata": {
        "id": "-3DVg3DEkQ5H"
      },
      "execution_count": null,
      "outputs": []
    },
    {
      "cell_type": "code",
      "source": [
        "output_size = 3\n",
        "hidden_dim = 256\n",
        "num_layers = 2\n",
        "\n",
        "net = Classifier(hidden_dim,num_layers)\n",
        "print(net)"
      ],
      "metadata": {
        "id": "TvQoPK4fEaH5",
        "colab": {
          "base_uri": "https://localhost:8080/"
        },
        "outputId": "a7318f74-a663-4cf3-9360-d96d91ca0a9e"
      },
      "execution_count": null,
      "outputs": [
        {
          "output_type": "stream",
          "name": "stdout",
          "text": [
            "Classifier(\n",
            "  (ebd): Embedding(2519370, 300)\n",
            "  (lstm): LSTM(300, 256, batch_first=True)\n",
            "  (linear): Linear(in_features=256, out_features=3, bias=True)\n",
            "  (dropout): Dropout(p=0.2, inplace=False)\n",
            "  (act): Softmax(dim=None)\n",
            ")\n"
          ]
        }
      ]
    },
    {
      "cell_type": "code",
      "source": [
        "# loss and optimization functions\n",
        "lr=0.001\n",
        "\n",
        "criterion = nn.CrossEntropyLoss()\n",
        "optimizer = torch.optim.Adam(net.parameters(), lr=lr)\n"
      ],
      "metadata": {
        "id": "DKJeIzfpEc7Z"
      },
      "execution_count": null,
      "outputs": []
    },
    {
      "cell_type": "code",
      "source": [
        "train_on_gpu=torch.cuda.is_available()"
      ],
      "metadata": {
        "id": "E3DThtyu30NK"
      },
      "execution_count": null,
      "outputs": []
    },
    {
      "cell_type": "code",
      "source": [
        "device = torch.device(\"cuda\" if torch.cuda.is_available() else \"cpu\")\n"
      ],
      "metadata": {
        "id": "GqwUxCKa4L14"
      },
      "execution_count": null,
      "outputs": []
    },
    {
      "cell_type": "code",
      "source": [
        "# training params\n",
        "\n",
        "epochs = 10 \n",
        "\n",
        "counter = 0\n",
        "print_every = 100\n",
        "clip=5 # gradient clipping\n",
        "train_on_gpu = True\n",
        "# move model to GPU, if available\n",
        "net = net.to(device)\n",
        "batch_size = 64\n",
        "net.train()\n",
        "# train for some number of epochs\n",
        "for e in range(epochs):\n",
        "    # batch loop\n",
        "    for x in train_loader:\n",
        "        counter += 1\n",
        "        inputs = x['text'].to(device) \n",
        "        labels = x['label'].to(device)\n",
        "        labels = labels + torch.ones(batch_size).to(device)\n",
        "        # zero accumulated gradients\n",
        "        net.zero_grad()\n",
        "\n",
        "        # get the output from the model\n",
        "        output = net(inputs)\n",
        "\n",
        "        # calculate the loss and perform backprop\n",
        "        loss = criterion(output, labels.to(int))\n",
        "        loss.backward()\n",
        "        # `clip_grad_norm` helps prevent the exploding gradient problem in RNNs / LSTMs.\n",
        "        nn.utils.clip_grad_norm_(net.parameters(), clip)\n",
        "        optimizer.step()\n",
        "\n",
        "        # loss stats\n",
        "        if counter % print_every == 0:\n",
        "            # Get validation loss\n",
        "            val_losses = []\n",
        "            net.eval()\n",
        "            for x in val_loader:\n",
        "\n",
        "                # Creating new variables for the hidden state, otherwise\n",
        "                # we'd backprop through the entire training history\n",
        "\n",
        "                inputs = x['text'].to(device) \n",
        "                labels = x['label'].to(device)\n",
        "                labels = labels + torch.ones(batch_size).to(device)\n",
        "                output = net(inputs)\n",
        "                val_loss = criterion(output, labels.to(int))\n",
        "\n",
        "                val_losses.append(val_loss.item())\n",
        "\n",
        "            net.train()\n",
        "            print(\"Epoch: {}/{}...\".format(e+1, epochs),\n",
        "                  \"Step: {}...\".format(counter),\n",
        "                  \"Loss: {:.6f}...\".format(loss.item()),\n",
        "                  \"Val Loss: {:.6f}\".format(np.mean(val_losses)))"
      ],
      "metadata": {
        "colab": {
          "base_uri": "https://localhost:8080/"
        },
        "id": "_snUlK-_xuiv",
        "outputId": "59b88e29-a069-4c65-c070-0bf021cc1e32"
      },
      "execution_count": null,
      "outputs": [
        {
          "output_type": "stream",
          "name": "stderr",
          "text": [
            "/usr/local/lib/python3.7/dist-packages/ipykernel_launcher.py:23: UserWarning: Implicit dimension choice for softmax has been deprecated. Change the call to include dim=X as an argument.\n"
          ]
        },
        {
          "output_type": "stream",
          "name": "stdout",
          "text": [
            "Epoch: 2/10... Step: 100... Loss: 0.926441... Val Loss: 0.946529\n",
            "Epoch: 4/10... Step: 200... Loss: 0.895200... Val Loss: 0.962145\n",
            "Epoch: 5/10... Step: 300... Loss: 0.863992... Val Loss: 0.957678\n",
            "Epoch: 7/10... Step: 400... Loss: 0.973315... Val Loss: 0.964341\n",
            "Epoch: 9/10... Step: 500... Loss: 1.003965... Val Loss: 0.955302\n",
            "Epoch: 10/10... Step: 600... Loss: 0.983430... Val Loss: 0.952376\n"
          ]
        }
      ]
    },
    {
      "cell_type": "markdown",
      "source": [
        "The loss is not satisfying "
      ],
      "metadata": {
        "id": "ec_o2dHTO-EK"
      }
    },
    {
      "cell_type": "code",
      "source": [
        "# Get test data loss and accuracy\n",
        "\n",
        "test_losses = [] # track loss\n",
        "num_correct = 0\n",
        "acc_it = []\n",
        "pred = []\n",
        "true = []\n",
        "\n",
        "# init hidden state\n",
        "\n",
        "net.eval()\n",
        "# iterate over test data\n",
        "for x in test_loader:\n",
        "\n",
        "    # Creating new variables for the hidden state, otherwise\n",
        "    # we'd backprop through the entire training history\n",
        "\n",
        "    inputs = x['text'].to(device) \n",
        "    labels = x['label'].to(device) \n",
        "    labels = labels + torch.ones(batch_size).to(device)\n",
        "    # get predicted outputs\n",
        "    output = net(inputs)\n",
        "    \n",
        "    # calculate loss\n",
        "    test_loss = criterion(output, labels.to(int))\n",
        "    test_losses.append(test_loss.item())\n",
        "    \n",
        "    # convert output probabilities to predicted class (0 or 1)\n",
        "    #pred = torch.round(output.squeeze())  # rounds to the nearest integer\n",
        "    _, tag_seq  = torch.max(output, 1)\n",
        "    correct = (tag_seq.flatten() == labels.flatten()).float().sum()\n",
        "    acc = correct / labels.flatten().size(0)\n",
        "    acc_it.append(acc.item())\n",
        "    pred.append(tag_seq)\n",
        "    true.append(labels)\n",
        "    \n",
        "    \n",
        "    # compare predictions to true label\n",
        "    \"\"\"\n",
        "    correct_tensor = pred.eq(labels.float().view_as(pred))\n",
        "    correct = np.squeeze(correct_tensor.numpy()) if not train_on_gpu else np.squeeze(correct_tensor.cpu().numpy())\n",
        "    num_correct += np.sum(correct)\n",
        "    \"\"\"\n",
        "\n",
        "\n",
        "# -- stats! -- ##\n",
        "# avg test loss\n",
        "print(\"Test loss: {:.3f}\".format(np.mean(test_losses)))\n",
        "\n",
        "# accuracy over all test data\n",
        "acc_it_avg = sum(acc_it)/len(acc_it)\n",
        "print(\"Test accuracy: {:.3f}\".format(acc_it_avg))"
      ],
      "metadata": {
        "id": "HmGKf85EEqTO",
        "colab": {
          "base_uri": "https://localhost:8080/"
        },
        "outputId": "88c5953f-8e11-4e85-a4e1-1b53ef339aaa"
      },
      "execution_count": null,
      "outputs": [
        {
          "output_type": "stream",
          "name": "stdout",
          "text": [
            "Test loss: 0.992\n",
            "Test accuracy: 0.551\n"
          ]
        },
        {
          "output_type": "stream",
          "name": "stderr",
          "text": [
            "/usr/local/lib/python3.7/dist-packages/ipykernel_launcher.py:23: UserWarning: Implicit dimension choice for softmax has been deprecated. Change the call to include dim=X as an argument.\n"
          ]
        }
      ]
    },
    {
      "cell_type": "markdown",
      "source": [
        "On the test dataset, only one on two newspapers are accurately labelised. Actually the model only predicts neutral reviews"
      ],
      "metadata": {
        "id": "KbnGLmB8PO3_"
      }
    },
    {
      "cell_type": "markdown",
      "source": [
        "We train on a resampled dataset (df_resampled) so that we have as much neutral review as negative or positive. But we get the same result"
      ],
      "metadata": {
        "id": "PBtFn37z5EiI"
      }
    },
    {
      "cell_type": "code",
      "source": [
        "# training params\n",
        "\n",
        "epochs = 50 \n",
        "\n",
        "counter = 0\n",
        "print_every = 100\n",
        "clip=5 # gradient clipping\n",
        "train_on_gpu = True\n",
        "# move model to GPU, if available\n",
        "net = net.to(device)\n",
        "batch_size = 64\n",
        "net.train()\n",
        "# train for some number of epochs\n",
        "for e in range(epochs):\n",
        "    # batch loop\n",
        "    for x in train_loader:\n",
        "        counter += 1\n",
        "        inputs = x['text'].to(device) \n",
        "        labels = x['label'].to(device)\n",
        "        labels = labels + torch.ones(batch_size).to(device)\n",
        "        # zero accumulated gradients\n",
        "        net.zero_grad()\n",
        "\n",
        "        # get the output from the model\n",
        "        output = net(inputs)\n",
        "\n",
        "        # calculate the loss and perform backprop\n",
        "        loss = criterion(output, labels.to(int))\n",
        "        loss.backward()\n",
        "        # `clip_grad_norm` helps prevent the exploding gradient problem in RNNs / LSTMs.\n",
        "        nn.utils.clip_grad_norm_(net.parameters(), clip)\n",
        "        optimizer.step()\n",
        "\n",
        "        # loss stats\n",
        "        if counter % print_every == 0:\n",
        "            # Get validation loss\n",
        "            val_losses = []\n",
        "            net.eval()\n",
        "            for x in val_loader:\n",
        "\n",
        "                # Creating new variables for the hidden state, otherwise\n",
        "                # we'd backprop through the entire training history\n",
        "\n",
        "                inputs = x['text'].to(device) \n",
        "                labels = x['label'].to(device)\n",
        "                labels = labels + torch.ones(batch_size).to(device)\n",
        "                output = net(inputs)\n",
        "                val_loss = criterion(output, labels.to(int))\n",
        "\n",
        "                val_losses.append(val_loss.item())\n",
        "\n",
        "            net.train()\n",
        "            print(\"Epoch: {}/{}...\".format(e+1, epochs),\n",
        "                  \"Step: {}...\".format(counter),\n",
        "                  \"Loss: {:.6f}...\".format(loss.item()),\n",
        "                  \"Val Loss: {:.6f}\".format(np.mean(val_losses)))"
      ],
      "metadata": {
        "colab": {
          "base_uri": "https://localhost:8080/"
        },
        "id": "v4A58E4_7E-5",
        "outputId": "7f1f3fe3-c2eb-4aa8-adf5-20f0eda7a9db"
      },
      "execution_count": null,
      "outputs": [
        {
          "output_type": "stream",
          "name": "stderr",
          "text": [
            "/usr/local/lib/python3.7/dist-packages/ipykernel_launcher.py:22: UserWarning: Implicit dimension choice for softmax has been deprecated. Change the call to include dim=X as an argument.\n"
          ]
        },
        {
          "output_type": "stream",
          "name": "stdout",
          "text": [
            "Epoch: 3/50... Step: 100... Loss: 1.083536... Val Loss: 1.070102\n",
            "Epoch: 5/50... Step: 200... Loss: 1.036499... Val Loss: 1.066715\n",
            "Epoch: 8/50... Step: 300... Loss: 1.038913... Val Loss: 1.062677\n",
            "Epoch: 10/50... Step: 400... Loss: 1.058747... Val Loss: 1.068225\n",
            "Epoch: 13/50... Step: 500... Loss: 1.071079... Val Loss: 1.066801\n",
            "Epoch: 15/50... Step: 600... Loss: 1.026606... Val Loss: 1.066457\n",
            "Epoch: 18/50... Step: 700... Loss: 1.083856... Val Loss: 1.064767\n",
            "Epoch: 20/50... Step: 800... Loss: 1.030178... Val Loss: 1.067742\n",
            "Epoch: 22/50... Step: 900... Loss: 0.997261... Val Loss: 1.067462\n",
            "Epoch: 25/50... Step: 1000... Loss: 1.046435... Val Loss: 1.061598\n",
            "Epoch: 27/50... Step: 1100... Loss: 1.058415... Val Loss: 1.066404\n",
            "Epoch: 30/50... Step: 1200... Loss: 1.059492... Val Loss: 1.062730\n",
            "Epoch: 32/50... Step: 1300... Loss: 1.045597... Val Loss: 1.065701\n",
            "Epoch: 35/50... Step: 1400... Loss: 1.019871... Val Loss: 1.066632\n",
            "Epoch: 37/50... Step: 1500... Loss: 1.047309... Val Loss: 1.065052\n",
            "Epoch: 40/50... Step: 1600... Loss: 1.052769... Val Loss: 1.062924\n",
            "Epoch: 42/50... Step: 1700... Loss: 1.024287... Val Loss: 1.067843\n",
            "Epoch: 44/50... Step: 1800... Loss: 1.024008... Val Loss: 1.068040\n",
            "Epoch: 47/50... Step: 1900... Loss: 1.024305... Val Loss: 1.067617\n",
            "Epoch: 49/50... Step: 2000... Loss: 1.044207... Val Loss: 1.067709\n"
          ]
        }
      ]
    },
    {
      "cell_type": "code",
      "source": [
        "# Get test data loss and accuracy\n",
        "\n",
        "test_losses = [] # track loss\n",
        "num_correct = 0\n",
        "acc_it = []\n",
        "pred = []\n",
        "true = []\n",
        "\n",
        "# init hidden state\n",
        "\n",
        "net.eval()\n",
        "# iterate over test data\n",
        "for x in test_loader:\n",
        "\n",
        "    # Creating new variables for the hidden state, otherwise\n",
        "    # we'd backprop through the entire training history\n",
        "\n",
        "    inputs = x['text'].to(device) \n",
        "    labels = x['label'].to(device) \n",
        "    labels = labels + torch.ones(batch_size).to(device)\n",
        "    # get predicted outputs\n",
        "    output = net(inputs)\n",
        "    \n",
        "    # calculate loss\n",
        "    test_loss = criterion(output, labels.to(int))\n",
        "    test_losses.append(test_loss.item())\n",
        "    \n",
        "    # convert output probabilities to predicted class (0 or 1)\n",
        "    #pred = torch.round(output.squeeze())  # rounds to the nearest integer\n",
        "    _, tag_seq  = torch.max(output, 1)\n",
        "    correct = (tag_seq.flatten() == labels.flatten()).float().sum()\n",
        "    acc = correct / labels.flatten().size(0)\n",
        "    acc_it.append(acc.item())\n",
        "    pred.append(tag_seq)\n",
        "    true.append(labels)\n",
        "    \n",
        "    \n",
        "    # compare predictions to true label\n",
        "    \"\"\"\n",
        "    correct_tensor = pred.eq(labels.float().view_as(pred))\n",
        "    correct = np.squeeze(correct_tensor.numpy()) if not train_on_gpu else np.squeeze(correct_tensor.cpu().numpy())\n",
        "    num_correct += np.sum(correct)\n",
        "    \"\"\"\n",
        "\n",
        "\n",
        "# -- stats! -- ##\n",
        "# avg test loss\n",
        "print(\"Test loss: {:.3f}\".format(np.mean(test_losses)))\n",
        "\n",
        "# accuracy over all test data\n",
        "acc_it_avg = sum(acc_it)/len(acc_it)\n",
        "print(\"Test accuracy: {:.3f}\".format(acc_it_avg))"
      ],
      "metadata": {
        "colab": {
          "base_uri": "https://localhost:8080/"
        },
        "id": "dPT83tQyPFVN",
        "outputId": "fe245ee7-604c-4901-cf5b-303387000fd0"
      },
      "execution_count": null,
      "outputs": [
        {
          "output_type": "stream",
          "name": "stdout",
          "text": [
            "Test loss: 1.057\n",
            "Test accuracy: 0.372\n"
          ]
        },
        {
          "output_type": "stream",
          "name": "stderr",
          "text": [
            "/usr/local/lib/python3.7/dist-packages/ipykernel_launcher.py:22: UserWarning: Implicit dimension choice for softmax has been deprecated. Change the call to include dim=X as an argument.\n"
          ]
        }
      ]
    },
    {
      "cell_type": "code",
      "source": [
        "tag_seq"
      ],
      "metadata": {
        "colab": {
          "base_uri": "https://localhost:8080/"
        },
        "id": "AZFlqTLHPFX1",
        "outputId": "eccbeed2-fd62-4cb0-f1f4-26c9d02a194e"
      },
      "execution_count": null,
      "outputs": [
        {
          "output_type": "execute_result",
          "data": {
            "text/plain": [
              "tensor([2, 2, 2, 2, 2, 2, 2, 2, 2, 2, 2, 2, 2, 2, 2, 2, 2, 2, 2, 2, 2, 2, 2, 2,\n",
              "        2, 2, 2, 2, 2, 2, 2, 2, 2, 2, 2, 2, 2, 2, 2, 2, 2, 2, 2, 2, 2, 2, 2, 2,\n",
              "        2, 2, 2, 2, 2, 2, 2, 2, 2, 2, 2, 2, 2, 2, 2, 2], device='cuda:0')"
            ]
          },
          "metadata": {},
          "execution_count": 56
        }
      ]
    },
    {
      "cell_type": "markdown",
      "source": [
        "We train on a data with only Negative and positive reviews (df_binary), we take a different model (SentimentRNN) and take a binary cross entropy. But we also get the same result"
      ],
      "metadata": {
        "id": "rnM56rdW5RxO"
      }
    },
    {
      "cell_type": "code",
      "source": [
        "import torch.nn as nn\n",
        "\n",
        "class SentimentRNN(nn.Module):\n",
        "    \"\"\"\n",
        "    The RNN model that will be used to perform Sentiment analysis.\n",
        "    \"\"\"\n",
        "\n",
        "    def __init__(self, output_size, hidden_dim, n_layers, vec = pretrained_vectors.vectors, embedding_dim=300, drop_prob=0.5):\n",
        "        \"\"\"\n",
        "        Initialize the model by setting up the layers.\n",
        "        \"\"\"\n",
        "        super(SentimentRNN, self).__init__()\n",
        "\n",
        "        self.output_size = output_size\n",
        "        self.n_layers = n_layers\n",
        "        self.hidden_dim = hidden_dim\n",
        "        \n",
        "        # embedding and LSTM layers\n",
        "        #self.embedding = nn.Embedding(vocab_size, embedding_dim)\n",
        "        self.ebd = torch.nn.Embedding.from_pretrained(vec, freeze=True)\n",
        "        self.lstm = nn.LSTM(embedding_dim, hidden_dim, n_layers,\n",
        "                            dropout=drop_prob, batch_first=True)\n",
        "        \n",
        "        # dropout layer\n",
        "        self.dropout = nn.Dropout(0.3)\n",
        "        \n",
        "        # linear and sigmoid layer\n",
        "        self.fc = nn.Linear(hidden_dim, output_size)\n",
        "        self.sig = nn.Softmax(dim=1)\n",
        "\n",
        "    def forward(self, x, hidden):\n",
        "        \"\"\"\n",
        "        Perform a forward pass of our model on some input and hidden state.\n",
        "        \"\"\"\n",
        "        batch_size = x.size(0)\n",
        "        \n",
        "        # embeddings and lstm_out\n",
        "        embeds = self.ebd(x)\n",
        "        lstm_out, hidden = self.lstm(embeds, hidden)\n",
        "        \n",
        "        # stack up lstm outputs\n",
        "        lstm_out = lstm_out.contiguous().view(-1, self.hidden_dim)\n",
        "        \n",
        "        # dropout and fully connected layer\n",
        "        out = self.dropout(lstm_out)\n",
        "        out = self.fc(out)\n",
        "        \n",
        "        # sigmoid function\n",
        "        sig_out = self.sig(out)\n",
        "        \n",
        "        # reshape to be batch_size first\n",
        "        sig_out = sig_out.view(batch_size, -1)\n",
        "        sig_out = sig_out[:, -1] # get last batch of labels\n",
        "        \n",
        "        # return last sigmoid output and hidden state\n",
        "        return sig_out, hidden\n",
        "    \n",
        "    \n",
        "    def init_hidden(self, batch_size):\n",
        "        ''' Initializes hidden state '''\n",
        "        # Create two new tensors with sizes n_layers x batch_size x hidden_dim,\n",
        "        # initialized to zero, for hidden state and cell state of LSTM\n",
        "        weight = next(self.parameters()).data\n",
        "        \n",
        "        if(train_on_gpu):\n",
        "          hidden = (weight.new(self.n_layers, batch_size, self.hidden_dim).zero_().cuda(),\n",
        "                   weight.new(self.n_layers, batch_size, self.hidden_dim).zero_().cuda())\n",
        "        else:\n",
        "          hidden = (weight.new(self.n_layers, batch_size, self.hidden_dim).zero_(),\n",
        "                   weight.new(self.n_layers, batch_size, self.hidden_dim).zero_())\n",
        "        \n",
        "        return hidden"
      ],
      "metadata": {
        "id": "Xgl6-SiVEVga"
      },
      "execution_count": null,
      "outputs": []
    },
    {
      "cell_type": "code",
      "source": [
        "output_size = 2\n",
        "hidden_dim = 256\n",
        "num_layers = 2\n",
        "\n",
        "net = SentimentRNN(hidden_dim,num_layers,output_size)\n",
        "print(net)"
      ],
      "metadata": {
        "colab": {
          "base_uri": "https://localhost:8080/"
        },
        "id": "BPksxVF88Can",
        "outputId": "8c07fc34-2fbf-449e-ab7b-57515a5b33dc"
      },
      "execution_count": null,
      "outputs": [
        {
          "output_type": "stream",
          "name": "stdout",
          "text": [
            "SentimentRNN(\n",
            "  (ebd): Embedding(2519370, 300)\n",
            "  (lstm): LSTM(300, 2, num_layers=2, batch_first=True, dropout=0.5)\n",
            "  (dropout): Dropout(p=0.3, inplace=False)\n",
            "  (fc): Linear(in_features=2, out_features=256, bias=True)\n",
            "  (sig): Softmax(dim=1)\n",
            ")\n"
          ]
        }
      ]
    },
    {
      "cell_type": "code",
      "source": [
        "lr=0.001\n",
        "\n",
        "criterion = nn.BCELoss()\n",
        "optimizer = torch.optim.Adam(net.parameters(), lr=lr)\n"
      ],
      "metadata": {
        "id": "BdKo-sc4-Bvj"
      },
      "execution_count": null,
      "outputs": []
    },
    {
      "cell_type": "code",
      "source": [
        "# training params\n",
        "\n",
        "epochs = 4 \n",
        "\n",
        "counter = 0\n",
        "print_every = 100\n",
        "clip=5 # gradient clipping\n",
        "\n",
        "# move model to GPU, if available\n",
        "net = net.to(device)\n",
        "\n",
        "net.train()\n",
        "# train for some number of epochs\n",
        "for e in range(epochs):\n",
        "    # initialize hidden state\n",
        "    h = net.init_hidden(batch_size)\n",
        "\n",
        "    # batch loop\n",
        "    for x in train_loader:\n",
        "\n",
        "        # Creating new variables for the hidden state, otherwise\n",
        "        # we'd backprop through the entire training history\n",
        "\n",
        "        inputs = x['text'].to(device) \n",
        "        labels = x['label'].to(device) \n",
        "        # Creating new variables for the hidden state, otherwise\n",
        "        # we'd backprop through the entire training history\n",
        "        h = tuple([each.data for each in h])\n",
        "\n",
        "        # zero accumulated gradients\n",
        "        net.zero_grad()\n",
        "\n",
        "        # get the output from the model\n",
        "        output, h = net(inputs, h)\n",
        "\n",
        "        # calculate the loss and perform backprop\n",
        "        loss = criterion(output.squeeze(), labels.float())\n",
        "        loss.backward()\n",
        "        # `clip_grad_norm` helps prevent the exploding gradient problem in RNNs / LSTMs.\n",
        "        nn.utils.clip_grad_norm_(net.parameters(), clip)\n",
        "        optimizer.step()\n",
        "\n",
        "        # loss stats\n",
        "        if counter % print_every == 0:\n",
        "            # Get validation loss\n",
        "            val_h = net.init_hidden(batch_size)\n",
        "            val_losses = []\n",
        "            net.eval()\n",
        "            for x in val_loader:\n",
        "\n",
        "                # Creating new variables for the hidden state, otherwise\n",
        "                # we'd backprop through the entire training history\n",
        "\n",
        "                inputs = x['text'].to(device) \n",
        "                labels = x['label'].to(device)\n",
        "                # Creating new variables for the hidden state, otherwise\n",
        "                # we'd backprop through the entire training history\n",
        "                val_h = tuple([each.data for each in val_h])\n",
        "                output, val_h = net(inputs, val_h)\n",
        "                val_loss = criterion(output.squeeze(), labels.float())\n",
        "\n",
        "                val_losses.append(val_loss.item())\n",
        "\n",
        "            net.train()\n",
        "            print(\"Epoch: {}/{}...\".format(e+1, epochs),\n",
        "                  \"Step: {}...\".format(counter),\n",
        "                  \"Loss: {:.6f}...\".format(loss.item()),\n",
        "                  \"Val Loss: {:.6f}\".format(np.mean(val_losses)))"
      ],
      "metadata": {
        "colab": {
          "base_uri": "https://localhost:8080/"
        },
        "id": "uRTE5UyWYNbV",
        "outputId": "9308e3ad-2680-4060-f171-765cf43c3ece"
      },
      "execution_count": null,
      "outputs": [
        {
          "output_type": "stream",
          "name": "stdout",
          "text": [
            "Epoch: 1/4... Step: 0... Loss: 3.810270... Val Loss: 3.732221\n",
            "Epoch: 1/4... Step: 0... Loss: 3.812211... Val Loss: 3.702864\n",
            "Epoch: 1/4... Step: 0... Loss: 3.735205... Val Loss: 3.726366\n",
            "Epoch: 1/4... Step: 0... Loss: 3.008893... Val Loss: 3.697213\n",
            "Epoch: 1/4... Step: 0... Loss: 3.095537... Val Loss: 3.694512\n",
            "Epoch: 1/4... Step: 0... Loss: 3.094783... Val Loss: 3.691863\n",
            "Epoch: 1/4... Step: 0... Loss: 3.483807... Val Loss: 3.689252\n",
            "Epoch: 1/4... Step: 0... Loss: 3.805353... Val Loss: 3.739238\n",
            "Epoch: 1/4... Step: 0... Loss: 3.564126... Val Loss: 3.736647\n",
            "Epoch: 1/4... Step: 0... Loss: 3.718052... Val Loss: 3.734080\n",
            "Epoch: 1/4... Step: 0... Loss: 3.475417... Val Loss: 3.652851\n",
            "Epoch: 1/4... Step: 0... Loss: 3.472919... Val Loss: 3.702828\n",
            "Epoch: 1/4... Step: 0... Loss: 3.318883... Val Loss: 3.700366\n",
            "Epoch: 1/4... Step: 0... Loss: 3.154859... Val Loss: 3.645583\n",
            "Epoch: 1/4... Step: 0... Loss: 3.618850... Val Loss: 3.695532\n",
            "Epoch: 1/4... Step: 0... Loss: 3.629460... Val Loss: 3.640843\n",
            "Epoch: 1/4... Step: 0... Loss: 3.461333... Val Loss: 3.664612\n",
            "Epoch: 1/4... Step: 0... Loss: 3.773505... Val Loss: 3.636118\n",
            "Epoch: 1/4... Step: 0... Loss: 3.385282... Val Loss: 3.659860\n",
            "Epoch: 1/4... Step: 0... Loss: 3.303319... Val Loss: 3.657506\n",
            "Epoch: 1/4... Step: 0... Loss: 3.998349... Val Loss: 3.655130\n",
            "Epoch: 1/4... Step: 0... Loss: 2.982562... Val Loss: 3.652777\n",
            "Epoch: 1/4... Step: 0... Loss: 3.452868... Val Loss: 3.676456\n",
            "Epoch: 1/4... Step: 0... Loss: 3.525227... Val Loss: 3.622069\n",
            "Epoch: 2/4... Step: 0... Loss: 3.522748... Val Loss: 3.619729\n",
            "Epoch: 2/4... Step: 0... Loss: 3.910160... Val Loss: 3.617362\n",
            "Epoch: 2/4... Step: 0... Loss: 3.521574... Val Loss: 3.640949\n",
            "Epoch: 2/4... Step: 0... Loss: 3.129649... Val Loss: 3.612634\n",
            "Epoch: 2/4... Step: 0... Loss: 3.440578... Val Loss: 3.610278\n",
            "Epoch: 2/4... Step: 0... Loss: 3.209667... Val Loss: 3.659747\n",
            "Epoch: 2/4... Step: 0... Loss: 3.592510... Val Loss: 3.631462\n",
            "Epoch: 2/4... Step: 0... Loss: 3.505200... Val Loss: 3.654941\n",
            "Epoch: 2/4... Step: 0... Loss: 3.352919... Val Loss: 3.600814\n",
            "Epoch: 2/4... Step: 0... Loss: 3.039129... Val Loss: 3.650120\n",
            "Epoch: 2/4... Step: 0... Loss: 3.500522... Val Loss: 3.621880\n",
            "Epoch: 2/4... Step: 0... Loss: 3.584064... Val Loss: 3.593658\n",
            "Epoch: 2/4... Step: 0... Loss: 3.581836... Val Loss: 3.591244\n",
            "Epoch: 2/4... Step: 0... Loss: 3.807047... Val Loss: 3.614569\n",
            "Epoch: 2/4... Step: 0... Loss: 3.260393... Val Loss: 3.586364\n",
            "Epoch: 2/4... Step: 0... Loss: 3.197909... Val Loss: 3.635418\n",
            "Epoch: 2/4... Step: 0... Loss: 3.563900... Val Loss: 3.632950\n",
            "Epoch: 2/4... Step: 0... Loss: 3.020670... Val Loss: 3.579101\n",
            "Epoch: 2/4... Step: 0... Loss: 3.185393... Val Loss: 3.602384\n",
            "Epoch: 2/4... Step: 0... Loss: 3.487460... Val Loss: 3.599959\n",
            "Epoch: 2/4... Step: 0... Loss: 3.478552... Val Loss: 3.648813\n",
            "Epoch: 2/4... Step: 0... Loss: 3.629708... Val Loss: 3.620694\n",
            "Epoch: 2/4... Step: 0... Loss: 3.016346... Val Loss: 3.618238\n",
            "Epoch: 2/4... Step: 0... Loss: 3.791402... Val Loss: 3.590164\n",
            "Epoch: 3/4... Step: 0... Loss: 3.386250... Val Loss: 3.613250\n",
            "Epoch: 3/4... Step: 0... Loss: 3.630883... Val Loss: 3.610732\n",
            "Epoch: 3/4... Step: 0... Loss: 2.851698... Val Loss: 3.557159\n",
            "Epoch: 3/4... Step: 0... Loss: 3.069810... Val Loss: 3.631252\n",
            "Epoch: 3/4... Step: 0... Loss: 3.621676... Val Loss: 3.577703\n",
            "Epoch: 3/4... Step: 0... Loss: 3.531345... Val Loss: 3.600660\n",
            "Epoch: 3/4... Step: 0... Loss: 3.463991... Val Loss: 3.598111\n",
            "Epoch: 3/4... Step: 0... Loss: 3.532454... Val Loss: 3.570105\n",
            "Epoch: 3/4... Step: 0... Loss: 3.769177... Val Loss: 3.542120\n",
            "Epoch: 3/4... Step: 0... Loss: 2.832641... Val Loss: 3.590427\n",
            "Epoch: 3/4... Step: 0... Loss: 3.057820... Val Loss: 3.537094\n",
            "Epoch: 3/4... Step: 0... Loss: 3.829965... Val Loss: 3.610667\n",
            "Epoch: 3/4... Step: 0... Loss: 3.680095... Val Loss: 3.582698\n",
            "Epoch: 3/4... Step: 0... Loss: 3.672543... Val Loss: 3.529405\n",
            "Epoch: 3/4... Step: 0... Loss: 3.061476... Val Loss: 3.552161\n",
            "Epoch: 3/4... Step: 0... Loss: 3.367506... Val Loss: 3.549582\n",
            "Epoch: 3/4... Step: 0... Loss: 3.135418... Val Loss: 3.547015\n",
            "Epoch: 3/4... Step: 0... Loss: 3.815901... Val Loss: 3.544409\n",
            "Epoch: 3/4... Step: 0... Loss: 2.899119... Val Loss: 3.541832\n",
            "Epoch: 3/4... Step: 0... Loss: 3.212461... Val Loss: 3.514048\n",
            "Epoch: 3/4... Step: 0... Loss: 2.972187... Val Loss: 3.511523\n",
            "Epoch: 3/4... Step: 0... Loss: 3.576811... Val Loss: 3.534163\n",
            "Epoch: 3/4... Step: 0... Loss: 3.500939... Val Loss: 3.506407\n",
            "Epoch: 3/4... Step: 0... Loss: 3.503389... Val Loss: 3.528980\n",
            "Epoch: 4/4... Step: 0... Loss: 3.800111... Val Loss: 3.501220\n",
            "Epoch: 4/4... Step: 0... Loss: 3.345533... Val Loss: 3.548833\n",
            "Epoch: 4/4... Step: 0... Loss: 3.038126... Val Loss: 3.546198\n",
            "Epoch: 4/4... Step: 0... Loss: 2.721311... Val Loss: 3.568659\n",
            "Epoch: 4/4... Step: 0... Loss: 3.405584... Val Loss: 3.540948\n",
            "Epoch: 4/4... Step: 0... Loss: 3.465833... Val Loss: 3.513235\n",
            "Epoch: 4/4... Step: 0... Loss: 3.171346... Val Loss: 3.510574\n",
            "Epoch: 4/4... Step: 0... Loss: 3.334529... Val Loss: 3.507910\n",
            "Epoch: 4/4... Step: 0... Loss: 3.323395... Val Loss: 3.505232\n",
            "Epoch: 4/4... Step: 0... Loss: 3.694629... Val Loss: 3.552424\n",
            "Epoch: 4/4... Step: 0... Loss: 3.091177... Val Loss: 3.474849\n",
            "Epoch: 4/4... Step: 0... Loss: 2.958631... Val Loss: 3.522029\n",
            "Epoch: 4/4... Step: 0... Loss: 3.547434... Val Loss: 3.569114\n",
            "Epoch: 4/4... Step: 0... Loss: 3.325106... Val Loss: 3.516598\n",
            "Epoch: 4/4... Step: 0... Loss: 3.229620... Val Loss: 3.538724\n",
            "Epoch: 4/4... Step: 0... Loss: 3.370808... Val Loss: 3.511095\n",
            "Epoch: 4/4... Step: 0... Loss: 3.829195... Val Loss: 3.483455\n",
            "Epoch: 4/4... Step: 0... Loss: 3.223606... Val Loss: 3.505450\n",
            "Epoch: 4/4... Step: 0... Loss: 3.142823... Val Loss: 3.527394\n",
            "Epoch: 4/4... Step: 0... Loss: 3.447291... Val Loss: 3.549275\n",
            "Epoch: 4/4... Step: 0... Loss: 3.439112... Val Loss: 3.472132\n",
            "Epoch: 4/4... Step: 0... Loss: 3.589867... Val Loss: 3.518674\n",
            "Epoch: 4/4... Step: 0... Loss: 3.296973... Val Loss: 3.491039\n",
            "Epoch: 4/4... Step: 0... Loss: 3.306269... Val Loss: 3.488139\n"
          ]
        }
      ]
    },
    {
      "cell_type": "code",
      "source": [
        ""
      ],
      "metadata": {
        "id": "lDYUpgWQ851F"
      },
      "execution_count": null,
      "outputs": []
    },
    {
      "cell_type": "code",
      "source": [
        ""
      ],
      "metadata": {
        "id": "Gg-uq-UB855G"
      },
      "execution_count": null,
      "outputs": []
    },
    {
      "cell_type": "code",
      "source": [
        ""
      ],
      "metadata": {
        "id": "PN-Olczx85__"
      },
      "execution_count": null,
      "outputs": []
    },
    {
      "cell_type": "code",
      "source": [
        "! pip install transformers"
      ],
      "metadata": {
        "colab": {
          "base_uri": "https://localhost:8080/"
        },
        "id": "nTRGI82g86EY",
        "outputId": "9c4595e6-ddbd-4555-dac9-ac1c36b23c48"
      },
      "execution_count": null,
      "outputs": [
        {
          "output_type": "stream",
          "name": "stdout",
          "text": [
            "Collecting transformers\n",
            "  Downloading transformers-4.18.0-py3-none-any.whl (4.0 MB)\n",
            "\u001b[K     |████████████████████████████████| 4.0 MB 5.1 MB/s \n",
            "\u001b[?25hRequirement already satisfied: numpy>=1.17 in /usr/local/lib/python3.7/dist-packages (from transformers) (1.21.6)\n",
            "Requirement already satisfied: filelock in /usr/local/lib/python3.7/dist-packages (from transformers) (3.6.0)\n",
            "Requirement already satisfied: requests in /usr/local/lib/python3.7/dist-packages (from transformers) (2.23.0)\n",
            "Collecting pyyaml>=5.1\n",
            "  Downloading PyYAML-6.0-cp37-cp37m-manylinux_2_5_x86_64.manylinux1_x86_64.manylinux_2_12_x86_64.manylinux2010_x86_64.whl (596 kB)\n",
            "\u001b[K     |████████████████████████████████| 596 kB 65.6 MB/s \n",
            "\u001b[?25hRequirement already satisfied: regex!=2019.12.17 in /usr/local/lib/python3.7/dist-packages (from transformers) (2019.12.20)\n",
            "Requirement already satisfied: importlib-metadata in /usr/local/lib/python3.7/dist-packages (from transformers) (4.11.3)\n",
            "Collecting huggingface-hub<1.0,>=0.1.0\n",
            "  Downloading huggingface_hub-0.5.1-py3-none-any.whl (77 kB)\n",
            "\u001b[K     |████████████████████████████████| 77 kB 6.5 MB/s \n",
            "\u001b[?25hRequirement already satisfied: packaging>=20.0 in /usr/local/lib/python3.7/dist-packages (from transformers) (21.3)\n",
            "Requirement already satisfied: tqdm>=4.27 in /usr/local/lib/python3.7/dist-packages (from transformers) (4.64.0)\n",
            "Collecting tokenizers!=0.11.3,<0.13,>=0.11.1\n",
            "  Downloading tokenizers-0.12.1-cp37-cp37m-manylinux_2_12_x86_64.manylinux2010_x86_64.whl (6.6 MB)\n",
            "\u001b[K     |████████████████████████████████| 6.6 MB 55.8 MB/s \n",
            "\u001b[?25hCollecting sacremoses\n",
            "  Downloading sacremoses-0.0.49-py3-none-any.whl (895 kB)\n",
            "\u001b[K     |████████████████████████████████| 895 kB 50.3 MB/s \n",
            "\u001b[?25hRequirement already satisfied: typing-extensions>=3.7.4.3 in /usr/local/lib/python3.7/dist-packages (from huggingface-hub<1.0,>=0.1.0->transformers) (4.2.0)\n",
            "Requirement already satisfied: pyparsing!=3.0.5,>=2.0.2 in /usr/local/lib/python3.7/dist-packages (from packaging>=20.0->transformers) (3.0.8)\n",
            "Requirement already satisfied: zipp>=0.5 in /usr/local/lib/python3.7/dist-packages (from importlib-metadata->transformers) (3.8.0)\n",
            "Requirement already satisfied: chardet<4,>=3.0.2 in /usr/local/lib/python3.7/dist-packages (from requests->transformers) (3.0.4)\n",
            "Requirement already satisfied: idna<3,>=2.5 in /usr/local/lib/python3.7/dist-packages (from requests->transformers) (2.10)\n",
            "Requirement already satisfied: urllib3!=1.25.0,!=1.25.1,<1.26,>=1.21.1 in /usr/local/lib/python3.7/dist-packages (from requests->transformers) (1.24.3)\n",
            "Requirement already satisfied: certifi>=2017.4.17 in /usr/local/lib/python3.7/dist-packages (from requests->transformers) (2021.10.8)\n",
            "Requirement already satisfied: six in /usr/local/lib/python3.7/dist-packages (from sacremoses->transformers) (1.15.0)\n",
            "Requirement already satisfied: click in /usr/local/lib/python3.7/dist-packages (from sacremoses->transformers) (7.1.2)\n",
            "Requirement already satisfied: joblib in /usr/local/lib/python3.7/dist-packages (from sacremoses->transformers) (1.1.0)\n",
            "Installing collected packages: pyyaml, tokenizers, sacremoses, huggingface-hub, transformers\n",
            "  Attempting uninstall: pyyaml\n",
            "    Found existing installation: PyYAML 3.13\n",
            "    Uninstalling PyYAML-3.13:\n",
            "      Successfully uninstalled PyYAML-3.13\n",
            "Successfully installed huggingface-hub-0.5.1 pyyaml-6.0 sacremoses-0.0.49 tokenizers-0.12.1 transformers-4.18.0\n"
          ]
        }
      ]
    },
    {
      "cell_type": "code",
      "source": [
        "! pip install tensorflow\n",
        "!pip install tensorflow_hub\n",
        "!pip install tensorflow_text"
      ],
      "metadata": {
        "colab": {
          "base_uri": "https://localhost:8080/"
        },
        "id": "E_Nswsro_OYR",
        "outputId": "3d05369c-5162-4ee8-986d-4bc5632fbdd3"
      },
      "execution_count": null,
      "outputs": [
        {
          "output_type": "stream",
          "name": "stdout",
          "text": [
            "Requirement already satisfied: tensorflow in /usr/local/lib/python3.7/dist-packages (2.8.0)\n",
            "Requirement already satisfied: numpy>=1.20 in /usr/local/lib/python3.7/dist-packages (from tensorflow) (1.21.6)\n",
            "Requirement already satisfied: astunparse>=1.6.0 in /usr/local/lib/python3.7/dist-packages (from tensorflow) (1.6.3)\n",
            "Requirement already satisfied: termcolor>=1.1.0 in /usr/local/lib/python3.7/dist-packages (from tensorflow) (1.1.0)\n",
            "Requirement already satisfied: absl-py>=0.4.0 in /usr/local/lib/python3.7/dist-packages (from tensorflow) (1.0.0)\n",
            "Requirement already satisfied: tensorflow-io-gcs-filesystem>=0.23.1 in /usr/local/lib/python3.7/dist-packages (from tensorflow) (0.24.0)\n",
            "Requirement already satisfied: protobuf>=3.9.2 in /usr/local/lib/python3.7/dist-packages (from tensorflow) (3.17.3)\n",
            "Requirement already satisfied: keras-preprocessing>=1.1.1 in /usr/local/lib/python3.7/dist-packages (from tensorflow) (1.1.2)\n",
            "Requirement already satisfied: keras<2.9,>=2.8.0rc0 in /usr/local/lib/python3.7/dist-packages (from tensorflow) (2.8.0)\n",
            "Requirement already satisfied: wrapt>=1.11.0 in /usr/local/lib/python3.7/dist-packages (from tensorflow) (1.14.0)\n",
            "Requirement already satisfied: opt-einsum>=2.3.2 in /usr/local/lib/python3.7/dist-packages (from tensorflow) (3.3.0)\n",
            "Requirement already satisfied: typing-extensions>=3.6.6 in /usr/local/lib/python3.7/dist-packages (from tensorflow) (4.2.0)\n",
            "Requirement already satisfied: grpcio<2.0,>=1.24.3 in /usr/local/lib/python3.7/dist-packages (from tensorflow) (1.44.0)\n",
            "Requirement already satisfied: gast>=0.2.1 in /usr/local/lib/python3.7/dist-packages (from tensorflow) (0.5.3)\n",
            "Requirement already satisfied: setuptools in /usr/local/lib/python3.7/dist-packages (from tensorflow) (57.4.0)\n",
            "Requirement already satisfied: tensorboard<2.9,>=2.8 in /usr/local/lib/python3.7/dist-packages (from tensorflow) (2.8.0)\n",
            "Requirement already satisfied: google-pasta>=0.1.1 in /usr/local/lib/python3.7/dist-packages (from tensorflow) (0.2.0)\n",
            "Requirement already satisfied: six>=1.12.0 in /usr/local/lib/python3.7/dist-packages (from tensorflow) (1.15.0)\n",
            "Requirement already satisfied: libclang>=9.0.1 in /usr/local/lib/python3.7/dist-packages (from tensorflow) (13.0.0)\n",
            "Requirement already satisfied: h5py>=2.9.0 in /usr/local/lib/python3.7/dist-packages (from tensorflow) (3.1.0)\n",
            "Requirement already satisfied: flatbuffers>=1.12 in /usr/local/lib/python3.7/dist-packages (from tensorflow) (2.0)\n",
            "Collecting tf-estimator-nightly==2.8.0.dev2021122109\n",
            "  Downloading tf_estimator_nightly-2.8.0.dev2021122109-py2.py3-none-any.whl (462 kB)\n",
            "\u001b[K     |████████████████████████████████| 462 kB 5.1 MB/s \n",
            "\u001b[?25hRequirement already satisfied: wheel<1.0,>=0.23.0 in /usr/local/lib/python3.7/dist-packages (from astunparse>=1.6.0->tensorflow) (0.37.1)\n",
            "Requirement already satisfied: cached-property in /usr/local/lib/python3.7/dist-packages (from h5py>=2.9.0->tensorflow) (1.5.2)\n",
            "Requirement already satisfied: markdown>=2.6.8 in /usr/local/lib/python3.7/dist-packages (from tensorboard<2.9,>=2.8->tensorflow) (3.3.6)\n",
            "Requirement already satisfied: tensorboard-data-server<0.7.0,>=0.6.0 in /usr/local/lib/python3.7/dist-packages (from tensorboard<2.9,>=2.8->tensorflow) (0.6.1)\n",
            "Requirement already satisfied: google-auth<3,>=1.6.3 in /usr/local/lib/python3.7/dist-packages (from tensorboard<2.9,>=2.8->tensorflow) (1.35.0)\n",
            "Requirement already satisfied: tensorboard-plugin-wit>=1.6.0 in /usr/local/lib/python3.7/dist-packages (from tensorboard<2.9,>=2.8->tensorflow) (1.8.1)\n",
            "Requirement already satisfied: requests<3,>=2.21.0 in /usr/local/lib/python3.7/dist-packages (from tensorboard<2.9,>=2.8->tensorflow) (2.23.0)\n",
            "Requirement already satisfied: werkzeug>=0.11.15 in /usr/local/lib/python3.7/dist-packages (from tensorboard<2.9,>=2.8->tensorflow) (1.0.1)\n",
            "Requirement already satisfied: google-auth-oauthlib<0.5,>=0.4.1 in /usr/local/lib/python3.7/dist-packages (from tensorboard<2.9,>=2.8->tensorflow) (0.4.6)\n",
            "Requirement already satisfied: cachetools<5.0,>=2.0.0 in /usr/local/lib/python3.7/dist-packages (from google-auth<3,>=1.6.3->tensorboard<2.9,>=2.8->tensorflow) (4.2.4)\n",
            "Requirement already satisfied: pyasn1-modules>=0.2.1 in /usr/local/lib/python3.7/dist-packages (from google-auth<3,>=1.6.3->tensorboard<2.9,>=2.8->tensorflow) (0.2.8)\n",
            "Requirement already satisfied: rsa<5,>=3.1.4 in /usr/local/lib/python3.7/dist-packages (from google-auth<3,>=1.6.3->tensorboard<2.9,>=2.8->tensorflow) (4.8)\n",
            "Requirement already satisfied: requests-oauthlib>=0.7.0 in /usr/local/lib/python3.7/dist-packages (from google-auth-oauthlib<0.5,>=0.4.1->tensorboard<2.9,>=2.8->tensorflow) (1.3.1)\n",
            "Requirement already satisfied: importlib-metadata>=4.4 in /usr/local/lib/python3.7/dist-packages (from markdown>=2.6.8->tensorboard<2.9,>=2.8->tensorflow) (4.11.3)\n",
            "Requirement already satisfied: zipp>=0.5 in /usr/local/lib/python3.7/dist-packages (from importlib-metadata>=4.4->markdown>=2.6.8->tensorboard<2.9,>=2.8->tensorflow) (3.8.0)\n",
            "Requirement already satisfied: pyasn1<0.5.0,>=0.4.6 in /usr/local/lib/python3.7/dist-packages (from pyasn1-modules>=0.2.1->google-auth<3,>=1.6.3->tensorboard<2.9,>=2.8->tensorflow) (0.4.8)\n",
            "Requirement already satisfied: urllib3!=1.25.0,!=1.25.1,<1.26,>=1.21.1 in /usr/local/lib/python3.7/dist-packages (from requests<3,>=2.21.0->tensorboard<2.9,>=2.8->tensorflow) (1.24.3)\n",
            "Requirement already satisfied: idna<3,>=2.5 in /usr/local/lib/python3.7/dist-packages (from requests<3,>=2.21.0->tensorboard<2.9,>=2.8->tensorflow) (2.10)\n",
            "Requirement already satisfied: certifi>=2017.4.17 in /usr/local/lib/python3.7/dist-packages (from requests<3,>=2.21.0->tensorboard<2.9,>=2.8->tensorflow) (2021.10.8)\n",
            "Requirement already satisfied: chardet<4,>=3.0.2 in /usr/local/lib/python3.7/dist-packages (from requests<3,>=2.21.0->tensorboard<2.9,>=2.8->tensorflow) (3.0.4)\n",
            "Requirement already satisfied: oauthlib>=3.0.0 in /usr/local/lib/python3.7/dist-packages (from requests-oauthlib>=0.7.0->google-auth-oauthlib<0.5,>=0.4.1->tensorboard<2.9,>=2.8->tensorflow) (3.2.0)\n",
            "Installing collected packages: tf-estimator-nightly\n",
            "Successfully installed tf-estimator-nightly-2.8.0.dev2021122109\n",
            "Requirement already satisfied: tensorflow_hub in /usr/local/lib/python3.7/dist-packages (0.12.0)\n",
            "Requirement already satisfied: numpy>=1.12.0 in /usr/local/lib/python3.7/dist-packages (from tensorflow_hub) (1.21.6)\n",
            "Requirement already satisfied: protobuf>=3.8.0 in /usr/local/lib/python3.7/dist-packages (from tensorflow_hub) (3.17.3)\n",
            "Requirement already satisfied: six>=1.9 in /usr/local/lib/python3.7/dist-packages (from protobuf>=3.8.0->tensorflow_hub) (1.15.0)\n",
            "Collecting tensorflow_text\n",
            "  Downloading tensorflow_text-2.8.2-cp37-cp37m-manylinux_2_12_x86_64.manylinux2010_x86_64.whl (4.9 MB)\n",
            "\u001b[K     |████████████████████████████████| 4.9 MB 5.1 MB/s \n",
            "\u001b[?25hRequirement already satisfied: tensorflow<2.9,>=2.8.0 in /usr/local/lib/python3.7/dist-packages (from tensorflow_text) (2.8.0)\n",
            "Requirement already satisfied: tensorflow-hub>=0.8.0 in /usr/local/lib/python3.7/dist-packages (from tensorflow_text) (0.12.0)\n",
            "Requirement already satisfied: h5py>=2.9.0 in /usr/local/lib/python3.7/dist-packages (from tensorflow<2.9,>=2.8.0->tensorflow_text) (3.1.0)\n",
            "Requirement already satisfied: keras-preprocessing>=1.1.1 in /usr/local/lib/python3.7/dist-packages (from tensorflow<2.9,>=2.8.0->tensorflow_text) (1.1.2)\n",
            "Requirement already satisfied: absl-py>=0.4.0 in /usr/local/lib/python3.7/dist-packages (from tensorflow<2.9,>=2.8.0->tensorflow_text) (1.0.0)\n",
            "Requirement already satisfied: tf-estimator-nightly==2.8.0.dev2021122109 in /usr/local/lib/python3.7/dist-packages (from tensorflow<2.9,>=2.8.0->tensorflow_text) (2.8.0.dev2021122109)\n",
            "Requirement already satisfied: libclang>=9.0.1 in /usr/local/lib/python3.7/dist-packages (from tensorflow<2.9,>=2.8.0->tensorflow_text) (13.0.0)\n",
            "Requirement already satisfied: numpy>=1.20 in /usr/local/lib/python3.7/dist-packages (from tensorflow<2.9,>=2.8.0->tensorflow_text) (1.21.6)\n",
            "Requirement already satisfied: typing-extensions>=3.6.6 in /usr/local/lib/python3.7/dist-packages (from tensorflow<2.9,>=2.8.0->tensorflow_text) (4.2.0)\n",
            "Requirement already satisfied: wrapt>=1.11.0 in /usr/local/lib/python3.7/dist-packages (from tensorflow<2.9,>=2.8.0->tensorflow_text) (1.14.0)\n",
            "Requirement already satisfied: astunparse>=1.6.0 in /usr/local/lib/python3.7/dist-packages (from tensorflow<2.9,>=2.8.0->tensorflow_text) (1.6.3)\n",
            "Requirement already satisfied: flatbuffers>=1.12 in /usr/local/lib/python3.7/dist-packages (from tensorflow<2.9,>=2.8.0->tensorflow_text) (2.0)\n",
            "Requirement already satisfied: tensorflow-io-gcs-filesystem>=0.23.1 in /usr/local/lib/python3.7/dist-packages (from tensorflow<2.9,>=2.8.0->tensorflow_text) (0.24.0)\n",
            "Requirement already satisfied: six>=1.12.0 in /usr/local/lib/python3.7/dist-packages (from tensorflow<2.9,>=2.8.0->tensorflow_text) (1.15.0)\n",
            "Requirement already satisfied: gast>=0.2.1 in /usr/local/lib/python3.7/dist-packages (from tensorflow<2.9,>=2.8.0->tensorflow_text) (0.5.3)\n",
            "Requirement already satisfied: keras<2.9,>=2.8.0rc0 in /usr/local/lib/python3.7/dist-packages (from tensorflow<2.9,>=2.8.0->tensorflow_text) (2.8.0)\n",
            "Requirement already satisfied: opt-einsum>=2.3.2 in /usr/local/lib/python3.7/dist-packages (from tensorflow<2.9,>=2.8.0->tensorflow_text) (3.3.0)\n",
            "Requirement already satisfied: google-pasta>=0.1.1 in /usr/local/lib/python3.7/dist-packages (from tensorflow<2.9,>=2.8.0->tensorflow_text) (0.2.0)\n",
            "Requirement already satisfied: protobuf>=3.9.2 in /usr/local/lib/python3.7/dist-packages (from tensorflow<2.9,>=2.8.0->tensorflow_text) (3.17.3)\n",
            "Requirement already satisfied: tensorboard<2.9,>=2.8 in /usr/local/lib/python3.7/dist-packages (from tensorflow<2.9,>=2.8.0->tensorflow_text) (2.8.0)\n",
            "Requirement already satisfied: setuptools in /usr/local/lib/python3.7/dist-packages (from tensorflow<2.9,>=2.8.0->tensorflow_text) (57.4.0)\n",
            "Requirement already satisfied: termcolor>=1.1.0 in /usr/local/lib/python3.7/dist-packages (from tensorflow<2.9,>=2.8.0->tensorflow_text) (1.1.0)\n",
            "Requirement already satisfied: grpcio<2.0,>=1.24.3 in /usr/local/lib/python3.7/dist-packages (from tensorflow<2.9,>=2.8.0->tensorflow_text) (1.44.0)\n",
            "Requirement already satisfied: wheel<1.0,>=0.23.0 in /usr/local/lib/python3.7/dist-packages (from astunparse>=1.6.0->tensorflow<2.9,>=2.8.0->tensorflow_text) (0.37.1)\n",
            "Requirement already satisfied: cached-property in /usr/local/lib/python3.7/dist-packages (from h5py>=2.9.0->tensorflow<2.9,>=2.8.0->tensorflow_text) (1.5.2)\n",
            "Requirement already satisfied: tensorboard-plugin-wit>=1.6.0 in /usr/local/lib/python3.7/dist-packages (from tensorboard<2.9,>=2.8->tensorflow<2.9,>=2.8.0->tensorflow_text) (1.8.1)\n",
            "Requirement already satisfied: google-auth<3,>=1.6.3 in /usr/local/lib/python3.7/dist-packages (from tensorboard<2.9,>=2.8->tensorflow<2.9,>=2.8.0->tensorflow_text) (1.35.0)\n",
            "Requirement already satisfied: werkzeug>=0.11.15 in /usr/local/lib/python3.7/dist-packages (from tensorboard<2.9,>=2.8->tensorflow<2.9,>=2.8.0->tensorflow_text) (1.0.1)\n",
            "Requirement already satisfied: google-auth-oauthlib<0.5,>=0.4.1 in /usr/local/lib/python3.7/dist-packages (from tensorboard<2.9,>=2.8->tensorflow<2.9,>=2.8.0->tensorflow_text) (0.4.6)\n",
            "Requirement already satisfied: requests<3,>=2.21.0 in /usr/local/lib/python3.7/dist-packages (from tensorboard<2.9,>=2.8->tensorflow<2.9,>=2.8.0->tensorflow_text) (2.23.0)\n",
            "Requirement already satisfied: tensorboard-data-server<0.7.0,>=0.6.0 in /usr/local/lib/python3.7/dist-packages (from tensorboard<2.9,>=2.8->tensorflow<2.9,>=2.8.0->tensorflow_text) (0.6.1)\n",
            "Requirement already satisfied: markdown>=2.6.8 in /usr/local/lib/python3.7/dist-packages (from tensorboard<2.9,>=2.8->tensorflow<2.9,>=2.8.0->tensorflow_text) (3.3.6)\n",
            "Requirement already satisfied: rsa<5,>=3.1.4 in /usr/local/lib/python3.7/dist-packages (from google-auth<3,>=1.6.3->tensorboard<2.9,>=2.8->tensorflow<2.9,>=2.8.0->tensorflow_text) (4.8)\n",
            "Requirement already satisfied: pyasn1-modules>=0.2.1 in /usr/local/lib/python3.7/dist-packages (from google-auth<3,>=1.6.3->tensorboard<2.9,>=2.8->tensorflow<2.9,>=2.8.0->tensorflow_text) (0.2.8)\n",
            "Requirement already satisfied: cachetools<5.0,>=2.0.0 in /usr/local/lib/python3.7/dist-packages (from google-auth<3,>=1.6.3->tensorboard<2.9,>=2.8->tensorflow<2.9,>=2.8.0->tensorflow_text) (4.2.4)\n",
            "Requirement already satisfied: requests-oauthlib>=0.7.0 in /usr/local/lib/python3.7/dist-packages (from google-auth-oauthlib<0.5,>=0.4.1->tensorboard<2.9,>=2.8->tensorflow<2.9,>=2.8.0->tensorflow_text) (1.3.1)\n",
            "Requirement already satisfied: importlib-metadata>=4.4 in /usr/local/lib/python3.7/dist-packages (from markdown>=2.6.8->tensorboard<2.9,>=2.8->tensorflow<2.9,>=2.8.0->tensorflow_text) (4.11.3)\n",
            "Requirement already satisfied: zipp>=0.5 in /usr/local/lib/python3.7/dist-packages (from importlib-metadata>=4.4->markdown>=2.6.8->tensorboard<2.9,>=2.8->tensorflow<2.9,>=2.8.0->tensorflow_text) (3.8.0)\n",
            "Requirement already satisfied: pyasn1<0.5.0,>=0.4.6 in /usr/local/lib/python3.7/dist-packages (from pyasn1-modules>=0.2.1->google-auth<3,>=1.6.3->tensorboard<2.9,>=2.8->tensorflow<2.9,>=2.8.0->tensorflow_text) (0.4.8)\n",
            "Requirement already satisfied: urllib3!=1.25.0,!=1.25.1,<1.26,>=1.21.1 in /usr/local/lib/python3.7/dist-packages (from requests<3,>=2.21.0->tensorboard<2.9,>=2.8->tensorflow<2.9,>=2.8.0->tensorflow_text) (1.24.3)\n",
            "Requirement already satisfied: chardet<4,>=3.0.2 in /usr/local/lib/python3.7/dist-packages (from requests<3,>=2.21.0->tensorboard<2.9,>=2.8->tensorflow<2.9,>=2.8.0->tensorflow_text) (3.0.4)\n",
            "Requirement already satisfied: certifi>=2017.4.17 in /usr/local/lib/python3.7/dist-packages (from requests<3,>=2.21.0->tensorboard<2.9,>=2.8->tensorflow<2.9,>=2.8.0->tensorflow_text) (2021.10.8)\n",
            "Requirement already satisfied: idna<3,>=2.5 in /usr/local/lib/python3.7/dist-packages (from requests<3,>=2.21.0->tensorboard<2.9,>=2.8->tensorflow<2.9,>=2.8.0->tensorflow_text) (2.10)\n",
            "Requirement already satisfied: oauthlib>=3.0.0 in /usr/local/lib/python3.7/dist-packages (from requests-oauthlib>=0.7.0->google-auth-oauthlib<0.5,>=0.4.1->tensorboard<2.9,>=2.8->tensorflow<2.9,>=2.8.0->tensorflow_text) (3.2.0)\n",
            "Installing collected packages: tensorflow-text\n",
            "Successfully installed tensorflow-text-2.8.2\n"
          ]
        }
      ]
    },
    {
      "cell_type": "code",
      "source": [
        "import tensorflow as tf\n",
        "import tensorflow_hub as hub\n",
        "from tensorflow.keras.optimizers import Adam\n",
        "import tensorflow_text\n",
        "import pandas as pd\n",
        "from sklearn.metrics import confusion_matrix, classification_report"
      ],
      "metadata": {
        "id": "BUb47jVmBBpi"
      },
      "execution_count": null,
      "outputs": []
    },
    {
      "cell_type": "code",
      "source": [
        "def build_classifier_model():\n",
        "    \n",
        "    text_input = tf.keras.layers.Input(\n",
        "        shape=(), dtype=tf.string, name='text')\n",
        "    \n",
        "    preprocessing_layer = hub.KerasLayer(\n",
        "        tfhub_handle_preprocess, name='preprocessing')\n",
        "    \n",
        "    encoder_inputs = preprocessing_layer(text_input)\n",
        "    encoder = hub.KerasLayer(\n",
        "        tfhub_handle_encoder, trainable=True, name='BERT_encoder')\n",
        "    \n",
        "    outputs = encoder(encoder_inputs)\n",
        "    net = outputs['pooled_output']\n",
        "    net = tf.keras.layers.Dropout(0.1)(net)\n",
        "    net = tf.keras.layers.Dense(\n",
        "        3, activation='softmax', name='classifier')(net)\n",
        "    model = tf.keras.Model(text_input, net)\n",
        "    \n",
        "    loss = tf.keras.losses.CategoricalCrossentropy(from_logits=True)\n",
        "    metric = tf.metrics.CategoricalAccuracy('accuracy')\n",
        "    optimizer = Adam(\n",
        "        learning_rate=5e-05, epsilon=1e-08, decay=0.01, clipnorm=1.0)\n",
        "    model.compile(\n",
        "        optimizer=optimizer, loss=loss, metrics=metric)\n",
        "    model.summary()\n",
        "    return model"
      ],
      "metadata": {
        "id": "QluQ2KMGBFxE"
      },
      "execution_count": null,
      "outputs": []
    },
    {
      "cell_type": "code",
      "source": [
        "tfhub_handle_encoder = \\\n",
        "    \"https://tfhub.dev/tensorflow/small_bert/bert_en_uncased_L-4_H-512_A-8/1\"\n",
        "tfhub_handle_preprocess = \\\n",
        "    \"https://tfhub.dev/tensorflow/bert_en_uncased_preprocess/3\""
      ],
      "metadata": {
        "id": "4jhhpE5JBOdS"
      },
      "execution_count": null,
      "outputs": []
    },
    {
      "cell_type": "code",
      "source": [
        "classifier_model = build_classifier_model()"
      ],
      "metadata": {
        "colab": {
          "base_uri": "https://localhost:8080/"
        },
        "id": "aBEAobZjBHf6",
        "outputId": "b030f664-99fc-4a2d-cf6b-d156a0c82faa"
      },
      "execution_count": null,
      "outputs": [
        {
          "output_type": "stream",
          "name": "stdout",
          "text": [
            "Model: \"model\"\n",
            "__________________________________________________________________________________________________\n",
            " Layer (type)                   Output Shape         Param #     Connected to                     \n",
            "==================================================================================================\n",
            " text (InputLayer)              [(None,)]            0           []                               \n",
            "                                                                                                  \n",
            " preprocessing (KerasLayer)     {'input_type_ids':   0           ['text[0][0]']                   \n",
            "                                (None, 128),                                                      \n",
            "                                 'input_mask': (Non                                               \n",
            "                                e, 128),                                                          \n",
            "                                 'input_word_ids':                                                \n",
            "                                (None, 128)}                                                      \n",
            "                                                                                                  \n",
            " BERT_encoder (KerasLayer)      {'default': (None,   28763649    ['preprocessing[0][0]',          \n",
            "                                512),                             'preprocessing[0][1]',          \n",
            "                                 'pooled_output': (               'preprocessing[0][2]']          \n",
            "                                None, 512),                                                       \n",
            "                                 'sequence_output':                                               \n",
            "                                 (None, 128, 512),                                                \n",
            "                                 'encoder_outputs':                                               \n",
            "                                 [(None, 128, 512),                                               \n",
            "                                 (None, 128, 512),                                                \n",
            "                                 (None, 128, 512),                                                \n",
            "                                 (None, 128, 512)]}                                               \n",
            "                                                                                                  \n",
            " dropout_38 (Dropout)           (None, 512)          0           ['BERT_encoder[0][5]']           \n",
            "                                                                                                  \n",
            " classifier (Dense)             (None, 3)            1539        ['dropout_38[0][0]']             \n",
            "                                                                                                  \n",
            "==================================================================================================\n",
            "Total params: 28,765,188\n",
            "Trainable params: 28,765,187\n",
            "Non-trainable params: 1\n",
            "__________________________________________________________________________________________________\n"
          ]
        }
      ]
    },
    {
      "cell_type": "code",
      "source": [
        "df"
      ],
      "metadata": {
        "colab": {
          "base_uri": "https://localhost:8080/",
          "height": 424
        },
        "id": "Gl5TO5e_BJ_y",
        "outputId": "a4bbccc1-9228-46bd-e029-4d839679ce21"
      },
      "execution_count": null,
      "outputs": [
        {
          "output_type": "execute_result",
          "data": {
            "text/plain": [
              "                                               Sentence  Sentiment\n",
              "0     Technopolis plans to develop in stages an area...          0\n",
              "1     The international electronic industry company ...         -1\n",
              "2     With the new production plant the company woul...          1\n",
              "3     According to the company 's updated strategy f...          1\n",
              "4     FINANCING OF ASPOCOMP 'S GROWTH Aspocomp is ag...          1\n",
              "...                                                 ...        ...\n",
              "4840  LONDON MarketWatch -- Share prices ended lower...         -1\n",
              "4841  Rinkuskiai 's beer sales fell by 6.5 per cent ...          0\n",
              "4842  Operating profit fell to EUR 35.4 mn from EUR ...         -1\n",
              "4843  Net sales of the Paper segment decreased to EU...         -1\n",
              "4844  Sales in Finland decreased by 10.5 % in Januar...         -1\n",
              "\n",
              "[4839 rows x 2 columns]"
            ],
            "text/html": [
              "\n",
              "  <div id=\"df-cbaae324-aa4d-4c1d-839a-512ad3418c0d\">\n",
              "    <div class=\"colab-df-container\">\n",
              "      <div>\n",
              "<style scoped>\n",
              "    .dataframe tbody tr th:only-of-type {\n",
              "        vertical-align: middle;\n",
              "    }\n",
              "\n",
              "    .dataframe tbody tr th {\n",
              "        vertical-align: top;\n",
              "    }\n",
              "\n",
              "    .dataframe thead th {\n",
              "        text-align: right;\n",
              "    }\n",
              "</style>\n",
              "<table border=\"1\" class=\"dataframe\">\n",
              "  <thead>\n",
              "    <tr style=\"text-align: right;\">\n",
              "      <th></th>\n",
              "      <th>Sentence</th>\n",
              "      <th>Sentiment</th>\n",
              "    </tr>\n",
              "  </thead>\n",
              "  <tbody>\n",
              "    <tr>\n",
              "      <th>0</th>\n",
              "      <td>Technopolis plans to develop in stages an area...</td>\n",
              "      <td>0</td>\n",
              "    </tr>\n",
              "    <tr>\n",
              "      <th>1</th>\n",
              "      <td>The international electronic industry company ...</td>\n",
              "      <td>-1</td>\n",
              "    </tr>\n",
              "    <tr>\n",
              "      <th>2</th>\n",
              "      <td>With the new production plant the company woul...</td>\n",
              "      <td>1</td>\n",
              "    </tr>\n",
              "    <tr>\n",
              "      <th>3</th>\n",
              "      <td>According to the company 's updated strategy f...</td>\n",
              "      <td>1</td>\n",
              "    </tr>\n",
              "    <tr>\n",
              "      <th>4</th>\n",
              "      <td>FINANCING OF ASPOCOMP 'S GROWTH Aspocomp is ag...</td>\n",
              "      <td>1</td>\n",
              "    </tr>\n",
              "    <tr>\n",
              "      <th>...</th>\n",
              "      <td>...</td>\n",
              "      <td>...</td>\n",
              "    </tr>\n",
              "    <tr>\n",
              "      <th>4840</th>\n",
              "      <td>LONDON MarketWatch -- Share prices ended lower...</td>\n",
              "      <td>-1</td>\n",
              "    </tr>\n",
              "    <tr>\n",
              "      <th>4841</th>\n",
              "      <td>Rinkuskiai 's beer sales fell by 6.5 per cent ...</td>\n",
              "      <td>0</td>\n",
              "    </tr>\n",
              "    <tr>\n",
              "      <th>4842</th>\n",
              "      <td>Operating profit fell to EUR 35.4 mn from EUR ...</td>\n",
              "      <td>-1</td>\n",
              "    </tr>\n",
              "    <tr>\n",
              "      <th>4843</th>\n",
              "      <td>Net sales of the Paper segment decreased to EU...</td>\n",
              "      <td>-1</td>\n",
              "    </tr>\n",
              "    <tr>\n",
              "      <th>4844</th>\n",
              "      <td>Sales in Finland decreased by 10.5 % in Januar...</td>\n",
              "      <td>-1</td>\n",
              "    </tr>\n",
              "  </tbody>\n",
              "</table>\n",
              "<p>4839 rows × 2 columns</p>\n",
              "</div>\n",
              "      <button class=\"colab-df-convert\" onclick=\"convertToInteractive('df-cbaae324-aa4d-4c1d-839a-512ad3418c0d')\"\n",
              "              title=\"Convert this dataframe to an interactive table.\"\n",
              "              style=\"display:none;\">\n",
              "        \n",
              "  <svg xmlns=\"http://www.w3.org/2000/svg\" height=\"24px\"viewBox=\"0 0 24 24\"\n",
              "       width=\"24px\">\n",
              "    <path d=\"M0 0h24v24H0V0z\" fill=\"none\"/>\n",
              "    <path d=\"M18.56 5.44l.94 2.06.94-2.06 2.06-.94-2.06-.94-.94-2.06-.94 2.06-2.06.94zm-11 1L8.5 8.5l.94-2.06 2.06-.94-2.06-.94L8.5 2.5l-.94 2.06-2.06.94zm10 10l.94 2.06.94-2.06 2.06-.94-2.06-.94-.94-2.06-.94 2.06-2.06.94z\"/><path d=\"M17.41 7.96l-1.37-1.37c-.4-.4-.92-.59-1.43-.59-.52 0-1.04.2-1.43.59L10.3 9.45l-7.72 7.72c-.78.78-.78 2.05 0 2.83L4 21.41c.39.39.9.59 1.41.59.51 0 1.02-.2 1.41-.59l7.78-7.78 2.81-2.81c.8-.78.8-2.07 0-2.86zM5.41 20L4 18.59l7.72-7.72 1.47 1.35L5.41 20z\"/>\n",
              "  </svg>\n",
              "      </button>\n",
              "      \n",
              "  <style>\n",
              "    .colab-df-container {\n",
              "      display:flex;\n",
              "      flex-wrap:wrap;\n",
              "      gap: 12px;\n",
              "    }\n",
              "\n",
              "    .colab-df-convert {\n",
              "      background-color: #E8F0FE;\n",
              "      border: none;\n",
              "      border-radius: 50%;\n",
              "      cursor: pointer;\n",
              "      display: none;\n",
              "      fill: #1967D2;\n",
              "      height: 32px;\n",
              "      padding: 0 0 0 0;\n",
              "      width: 32px;\n",
              "    }\n",
              "\n",
              "    .colab-df-convert:hover {\n",
              "      background-color: #E2EBFA;\n",
              "      box-shadow: 0px 1px 2px rgba(60, 64, 67, 0.3), 0px 1px 3px 1px rgba(60, 64, 67, 0.15);\n",
              "      fill: #174EA6;\n",
              "    }\n",
              "\n",
              "    [theme=dark] .colab-df-convert {\n",
              "      background-color: #3B4455;\n",
              "      fill: #D2E3FC;\n",
              "    }\n",
              "\n",
              "    [theme=dark] .colab-df-convert:hover {\n",
              "      background-color: #434B5C;\n",
              "      box-shadow: 0px 1px 3px 1px rgba(0, 0, 0, 0.15);\n",
              "      filter: drop-shadow(0px 1px 2px rgba(0, 0, 0, 0.3));\n",
              "      fill: #FFFFFF;\n",
              "    }\n",
              "  </style>\n",
              "\n",
              "      <script>\n",
              "        const buttonEl =\n",
              "          document.querySelector('#df-cbaae324-aa4d-4c1d-839a-512ad3418c0d button.colab-df-convert');\n",
              "        buttonEl.style.display =\n",
              "          google.colab.kernel.accessAllowed ? 'block' : 'none';\n",
              "\n",
              "        async function convertToInteractive(key) {\n",
              "          const element = document.querySelector('#df-cbaae324-aa4d-4c1d-839a-512ad3418c0d');\n",
              "          const dataTable =\n",
              "            await google.colab.kernel.invokeFunction('convertToInteractive',\n",
              "                                                     [key], {});\n",
              "          if (!dataTable) return;\n",
              "\n",
              "          const docLinkHtml = 'Like what you see? Visit the ' +\n",
              "            '<a target=\"_blank\" href=https://colab.research.google.com/notebooks/data_table.ipynb>data table notebook</a>'\n",
              "            + ' to learn more about interactive tables.';\n",
              "          element.innerHTML = '';\n",
              "          dataTable['output_type'] = 'display_data';\n",
              "          await google.colab.output.renderOutput(dataTable, element);\n",
              "          const docLink = document.createElement('div');\n",
              "          docLink.innerHTML = docLinkHtml;\n",
              "          element.appendChild(docLink);\n",
              "        }\n",
              "      </script>\n",
              "    </div>\n",
              "  </div>\n",
              "  "
            ]
          },
          "metadata": {},
          "execution_count": 25
        }
      ]
    },
    {
      "cell_type": "code",
      "source": [
        "from sklearn.model_selection import train_test_split"
      ],
      "metadata": {
        "id": "KA2yIBmXBa6f"
      },
      "execution_count": null,
      "outputs": []
    },
    {
      "cell_type": "code",
      "source": [
        "train_texts_splt, val_texts, train_labels_splt, val_labels = train_test_split(df['Sentence'] , df['Sentiment'], test_size=.2)\n",
        "df_train, df_test = pd.DataFrame([]),pd.DataFrame([])\n",
        "df_train['Sentence'], df_train['Sentiment'] = list(train_texts_splt), list(train_labels_splt)\n",
        "df_test['Sentence'], df_test['Sentiment']  = list(val_texts), list(val_labels)"
      ],
      "metadata": {
        "id": "ny5YPdQ9BU9Z"
      },
      "execution_count": null,
      "outputs": []
    },
    {
      "cell_type": "code",
      "source": [
        "train, valid = train_test_split(\n",
        "    df_train,\n",
        "    train_size=0.7,\n",
        "    random_state=0,\n",
        "    stratify=df_train['Sentiment'])\n",
        "y_train, X_train = \\\n",
        "    train['Sentiment'], train.drop(['Sentiment'], axis=1)\n",
        "y_valid, X_valid = \\\n",
        "    valid['Sentiment'], valid.drop(['Sentiment'], axis=1)\n",
        "y_train_c = tf.keras.utils.to_categorical(\n",
        "    y_train.astype('category').cat.codes.values, num_classes=3)\n",
        "y_valid_c = tf.keras.utils.to_categorical(\n",
        "    y_valid.astype('category').cat.codes.values, num_classes=3)"
      ],
      "metadata": {
        "id": "vVuVulkgBY0N"
      },
      "execution_count": null,
      "outputs": []
    },
    {
      "cell_type": "code",
      "source": [
        "history = classifier_model.fit(\n",
        "    x=X_train['Sentence'].values,\n",
        "    y=y_train_c,\n",
        "    validation_data=(X_valid['Sentence'].values, y_valid_c),\n",
        "    epochs=5)"
      ],
      "metadata": {
        "colab": {
          "base_uri": "https://localhost:8080/"
        },
        "id": "EL5a93LKBoV5",
        "outputId": "f9d971ad-8b01-4c1f-a33c-21c553f2d5c7"
      },
      "execution_count": null,
      "outputs": [
        {
          "output_type": "stream",
          "name": "stdout",
          "text": [
            "Epoch 1/5\n"
          ]
        },
        {
          "output_type": "stream",
          "name": "stderr",
          "text": [
            "/usr/local/lib/python3.7/dist-packages/tensorflow/python/util/dispatch.py:1082: UserWarning: \"`categorical_crossentropy` received `from_logits=True`, but the `output` argument was produced by a sigmoid or softmax activation and thus does not represent logits. Was this intended?\"\n",
            "  return dispatch_target(*args, **kwargs)\n"
          ]
        },
        {
          "output_type": "stream",
          "name": "stdout",
          "text": [
            "85/85 [==============================] - 27s 207ms/step - loss: 0.7302 - accuracy: 0.6729 - val_loss: 0.5924 - val_accuracy: 0.7444\n",
            "Epoch 2/5\n",
            "85/85 [==============================] - 19s 222ms/step - loss: 0.4651 - accuracy: 0.8084 - val_loss: 0.4502 - val_accuracy: 0.8098\n",
            "Epoch 3/5\n",
            "85/85 [==============================] - 17s 202ms/step - loss: 0.3330 - accuracy: 0.8675 - val_loss: 0.4396 - val_accuracy: 0.8253\n",
            "Epoch 4/5\n",
            "85/85 [==============================] - 18s 209ms/step - loss: 0.2739 - accuracy: 0.8874 - val_loss: 0.4482 - val_accuracy: 0.8322\n",
            "Epoch 5/5\n",
            "85/85 [==============================] - 17s 201ms/step - loss: 0.2187 - accuracy: 0.9133 - val_loss: 0.4588 - val_accuracy: 0.8382\n"
          ]
        }
      ]
    },
    {
      "cell_type": "code",
      "source": [
        "import seaborn as sns\n",
        "import matplotlib.pyplot as plt\n",
        "import numpy as np"
      ],
      "metadata": {
        "id": "eekSnDZ6BqXa"
      },
      "execution_count": null,
      "outputs": []
    },
    {
      "cell_type": "code",
      "source": [
        "sns.set()\n",
        "sns.set_context(\"paper\", font_scale=2) \n",
        "\n",
        "fig = plt.figure(figsize=(20,10))\n",
        "ax1 = fig.add_subplot(121)\n",
        "sns.lineplot(ax=ax1, data=history.history['accuracy'])\n",
        "sns.lineplot(ax=ax1, data=history.history['val_accuracy'])\n",
        "ax1.set(\n",
        "    title=f\"Model accuracy\",\n",
        "    xlabel=\"epoch\",\n",
        "    ylabel=\"accuracy\"\n",
        ")\n",
        "ax1.legend(['train', 'test'], loc='upper left')\n",
        "ax2 = fig.add_subplot(122)\n",
        "sns.lineplot(ax=ax2, data=history.history['loss'])\n",
        "sns.lineplot(ax=ax2, data=history.history['val_loss'])\n",
        "ax2.set(\n",
        "    title=f\"Model loss\",\n",
        "    xlabel=\"epoch\",\n",
        "    ylabel=\"loss\"\n",
        ")\n",
        "ax2.legend(['train', 'test'], loc='upper left')\n",
        "\n",
        "fig.tight_layout()\n",
        "plt.show(fig) "
      ],
      "metadata": {
        "colab": {
          "base_uri": "https://localhost:8080/",
          "height": 479
        },
        "id": "k5Y1p6coCCv-",
        "outputId": "01389fff-2c76-429c-bbe7-132727148d27"
      },
      "execution_count": null,
      "outputs": [
        {
          "output_type": "display_data",
          "data": {
            "text/plain": [
              "<Figure size 1440x720 with 2 Axes>"
            ],
            "image/png": "[encoded data removed]"
          },
          "metadata": {}
        }
      ]
    },
    {
      "cell_type": "code",
      "source": [
        "y_proba_bert = classifier_model.predict(df_test['Sentence'].values)\n",
        "y_pred_bert = np.argmax(y_proba_bert, axis=1)"
      ],
      "metadata": {
        "id": "6T4Fi1SBCDRI"
      },
      "execution_count": null,
      "outputs": []
    },
    {
      "cell_type": "code",
      "source": [
        "y_true = df_test['Sentiment'].astype('category').cat.codes.values\n",
        "target_names = ['Negative', 'Neutral', 'Positive']"
      ],
      "metadata": {
        "id": "TrJTtOLKCNM9"
      },
      "execution_count": null,
      "outputs": []
    },
    {
      "cell_type": "code",
      "source": [
        "cf_matrix = confusion_matrix(y_true, y_pred_bert)\n",
        "sns.heatmap(\n",
        "    cf_matrix/np.sum(cf_matrix),\n",
        "    annot=True, fmt='.2%', cmap='Blues',\n",
        "    xticklabels=target_names,\n",
        "    yticklabels=target_names)"
      ],
      "metadata": {
        "colab": {
          "base_uri": "https://localhost:8080/",
          "height": 295
        },
        "id": "yzmJV-IZCPO8",
        "outputId": "ad1f2284-e197-4d48-fe4b-6d56edf9ad18"
      },
      "execution_count": null,
      "outputs": [
        {
          "output_type": "execute_result",
          "data": {
            "text/plain": [
              "<matplotlib.axes._subplots.AxesSubplot at 0x7fae1d13b250>"
            ]
          },
          "metadata": {},
          "execution_count": 35
        },
        {
          "output_type": "display_data",
          "data": {
            "text/plain": [
              "<Figure size 432x288 with 2 Axes>"
            ],
            "image/png": "[encoded data removed]"
          },
          "metadata": {}
        }
      ]
    },
    {
      "cell_type": "code",
      "source": [
        ""
      ],
      "metadata": {
        "id": "iL2tawbJCQyE"
      },
      "execution_count": null,
      "outputs": []
    }
  ],
  "metadata": {
    "interpreter": {
      "hash": "aee8b7b246df8f9039afb4144a1f6fd8d2ca17a180786b69acc140d282b71a49"
    },
    "kernelspec": {
      "display_name": "Python 3.8.6 64-bit",
      "language": "python",
      "name": "python3"
    },
    "language_info": {
      "codemirror_mode": {
        "name": "ipython",
        "version": 3
      },
      "file_extension": ".py",
      "mimetype": "text/x-python",
      "name": "python",
      "nbconvert_exporter": "python",
      "pygments_lexer": "ipython3",
      "version": "3.8.6"
    },
    "orig_nbformat": 4,
    "colab": {
      "name": "NLP.ipynb",
      "provenance": [],
      "collapsed_sections": [],
      "machine_shape": "hm"
    },
    "widgets": {
      "application/vnd.jupyter.widget-state+json": {
        "941c23934155499d97053d8a8ae1d026": {
          "model_module": "@jupyter-widgets/controls",
          "model_name": "HBoxModel",
          "model_module_version": "1.5.0",
          "state": {
            "_dom_classes": [],
            "_model_module": "@jupyter-widgets/controls",
            "_model_module_version": "1.5.0",
            "_model_name": "HBoxModel",
            "_view_count": null,
            "_view_module": "@jupyter-widgets/controls",
            "_view_module_version": "1.5.0",
            "_view_name": "HBoxView",
            "box_style": "",
            "children": [
              "IPY_MODEL_a8778229aeee4877b45dfb25935d38a8",
              "IPY_MODEL_8480fc0c275941df9b1e023079609556",
              "IPY_MODEL_f5c5bf8a9821456c921ebd03f655f338"
            ],
            "layout": "IPY_MODEL_9f83ad9402e74dac8ff4d6475178618a"
          }
        },
        "a8778229aeee4877b45dfb25935d38a8": {
          "model_module": "@jupyter-widgets/controls",
          "model_name": "HTMLModel",
          "model_module_version": "1.5.0",
          "state": {
            "_dom_classes": [],
            "_model_module": "@jupyter-widgets/controls",
            "_model_module_version": "1.5.0",
            "_model_name": "HTMLModel",
            "_view_count": null,
            "_view_module": "@jupyter-widgets/controls",
            "_view_module_version": "1.5.0",
            "_view_name": "HTMLView",
            "description": "",
            "description_tooltip": null,
            "layout": "IPY_MODEL_937c726e28214114a713bddfe3f4340c",
            "placeholder": "​",
            "style": "IPY_MODEL_0cac42ee0d904b649c83f491101fcfe6",
            "value": "100%"
          }
        },
        "8480fc0c275941df9b1e023079609556": {
          "model_module": "@jupyter-widgets/controls",
          "model_name": "FloatProgressModel",
          "model_module_version": "1.5.0",
          "state": {
            "_dom_classes": [],
            "_model_module": "@jupyter-widgets/controls",
            "_model_module_version": "1.5.0",
            "_model_name": "FloatProgressModel",
            "_view_count": null,
            "_view_module": "@jupyter-widgets/controls",
            "_view_module_version": "1.5.0",
            "_view_name": "ProgressView",
            "bar_style": "success",
            "description": "",
            "description_tooltip": null,
            "layout": "IPY_MODEL_05aae09da6f04575b10d32239528950d",
            "max": 2,
            "min": 0,
            "orientation": "horizontal",
            "style": "IPY_MODEL_b4722d099f084e71ba553920938b4ea1",
            "value": 2
          }
        },
        "f5c5bf8a9821456c921ebd03f655f338": {
          "model_module": "@jupyter-widgets/controls",
          "model_name": "HTMLModel",
          "model_module_version": "1.5.0",
          "state": {
            "_dom_classes": [],
            "_model_module": "@jupyter-widgets/controls",
            "_model_module_version": "1.5.0",
            "_model_name": "HTMLModel",
            "_view_count": null,
            "_view_module": "@jupyter-widgets/controls",
            "_view_module_version": "1.5.0",
            "_view_name": "HTMLView",
            "description": "",
            "description_tooltip": null,
            "layout": "IPY_MODEL_c4d4e12c41d44024988f7549fb64390c",
            "placeholder": "​",
            "style": "IPY_MODEL_da0c526507f74a6fb0a1e1788ea83edf",
            "value": " 2/2 [00:06&lt;00:00,  3.03s/ba]"
          }
        },
        "9f83ad9402e74dac8ff4d6475178618a": {
          "model_module": "@jupyter-widgets/base",
          "model_name": "LayoutModel",
          "model_module_version": "1.2.0",
          "state": {
            "_model_module": "@jupyter-widgets/base",
            "_model_module_version": "1.2.0",
            "_model_name": "LayoutModel",
            "_view_count": null,
            "_view_module": "@jupyter-widgets/base",
            "_view_module_version": "1.2.0",
            "_view_name": "LayoutView",
            "align_content": null,
            "align_items": null,
            "align_self": null,
            "border": null,
            "bottom": null,
            "display": null,
            "flex": null,
            "flex_flow": null,
            "grid_area": null,
            "grid_auto_columns": null,
            "grid_auto_flow": null,
            "grid_auto_rows": null,
            "grid_column": null,
            "grid_gap": null,
            "grid_row": null,
            "grid_template_areas": null,
            "grid_template_columns": null,
            "grid_template_rows": null,
            "height": null,
            "justify_content": null,
            "justify_items": null,
            "left": null,
            "margin": null,
            "max_height": null,
            "max_width": null,
            "min_height": null,
            "min_width": null,
            "object_fit": null,
            "object_position": null,
            "order": null,
            "overflow": null,
            "overflow_x": null,
            "overflow_y": null,
            "padding": null,
            "right": null,
            "top": null,
            "visibility": null,
            "width": null
          }
        },
        "937c726e28214114a713bddfe3f4340c": {
          "model_module": "@jupyter-widgets/base",
          "model_name": "LayoutModel",
          "model_module_version": "1.2.0",
          "state": {
            "_model_module": "@jupyter-widgets/base",
            "_model_module_version": "1.2.0",
            "_model_name": "LayoutModel",
            "_view_count": null,
            "_view_module": "@jupyter-widgets/base",
            "_view_module_version": "1.2.0",
            "_view_name": "LayoutView",
            "align_content": null,
            "align_items": null,
            "align_self": null,
            "border": null,
            "bottom": null,
            "display": null,
            "flex": null,
            "flex_flow": null,
            "grid_area": null,
            "grid_auto_columns": null,
            "grid_auto_flow": null,
            "grid_auto_rows": null,
            "grid_column": null,
            "grid_gap": null,
            "grid_row": null,
            "grid_template_areas": null,
            "grid_template_columns": null,
            "grid_template_rows": null,
            "height": null,
            "justify_content": null,
            "justify_items": null,
            "left": null,
            "margin": null,
            "max_height": null,
            "max_width": null,
            "min_height": null,
            "min_width": null,
            "object_fit": null,
            "object_position": null,
            "order": null,
            "overflow": null,
            "overflow_x": null,
            "overflow_y": null,
            "padding": null,
            "right": null,
            "top": null,
            "visibility": null,
            "width": null
          }
        },
        "0cac42ee0d904b649c83f491101fcfe6": {
          "model_module": "@jupyter-widgets/controls",
          "model_name": "DescriptionStyleModel",
          "model_module_version": "1.5.0",
          "state": {
            "_model_module": "@jupyter-widgets/controls",
            "_model_module_version": "1.5.0",
            "_model_name": "DescriptionStyleModel",
            "_view_count": null,
            "_view_module": "@jupyter-widgets/base",
            "_view_module_version": "1.2.0",
            "_view_name": "StyleView",
            "description_width": ""
          }
        },
        "05aae09da6f04575b10d32239528950d": {
          "model_module": "@jupyter-widgets/base",
          "model_name": "LayoutModel",
          "model_module_version": "1.2.0",
          "state": {
            "_model_module": "@jupyter-widgets/base",
            "_model_module_version": "1.2.0",
            "_model_name": "LayoutModel",
            "_view_count": null,
            "_view_module": "@jupyter-widgets/base",
            "_view_module_version": "1.2.0",
            "_view_name": "LayoutView",
            "align_content": null,
            "align_items": null,
            "align_self": null,
            "border": null,
            "bottom": null,
            "display": null,
            "flex": null,
            "flex_flow": null,
            "grid_area": null,
            "grid_auto_columns": null,
            "grid_auto_flow": null,
            "grid_auto_rows": null,
            "grid_column": null,
            "grid_gap": null,
            "grid_row": null,
            "grid_template_areas": null,
            "grid_template_columns": null,
            "grid_template_rows": null,
            "height": null,
            "justify_content": null,
            "justify_items": null,
            "left": null,
            "margin": null,
            "max_height": null,
            "max_width": null,
            "min_height": null,
            "min_width": null,
            "object_fit": null,
            "object_position": null,
            "order": null,
            "overflow": null,
            "overflow_x": null,
            "overflow_y": null,
            "padding": null,
            "right": null,
            "top": null,
            "visibility": null,
            "width": null
          }
        },
        "b4722d099f084e71ba553920938b4ea1": {
          "model_module": "@jupyter-widgets/controls",
          "model_name": "ProgressStyleModel",
          "model_module_version": "1.5.0",
          "state": {
            "_model_module": "@jupyter-widgets/controls",
            "_model_module_version": "1.5.0",
            "_model_name": "ProgressStyleModel",
            "_view_count": null,
            "_view_module": "@jupyter-widgets/base",
            "_view_module_version": "1.2.0",
            "_view_name": "StyleView",
            "bar_color": null,
            "description_width": ""
          }
        },
        "c4d4e12c41d44024988f7549fb64390c": {
          "model_module": "@jupyter-widgets/base",
          "model_name": "LayoutModel",
          "model_module_version": "1.2.0",
          "state": {
            "_model_module": "@jupyter-widgets/base",
            "_model_module_version": "1.2.0",
            "_model_name": "LayoutModel",
            "_view_count": null,
            "_view_module": "@jupyter-widgets/base",
            "_view_module_version": "1.2.0",
            "_view_name": "LayoutView",
            "align_content": null,
            "align_items": null,
            "align_self": null,
            "border": null,
            "bottom": null,
            "display": null,
            "flex": null,
            "flex_flow": null,
            "grid_area": null,
            "grid_auto_columns": null,
            "grid_auto_flow": null,
            "grid_auto_rows": null,
            "grid_column": null,
            "grid_gap": null,
            "grid_row": null,
            "grid_template_areas": null,
            "grid_template_columns": null,
            "grid_template_rows": null,
            "height": null,
            "justify_content": null,
            "justify_items": null,
            "left": null,
            "margin": null,
            "max_height": null,
            "max_width": null,
            "min_height": null,
            "min_width": null,
            "object_fit": null,
            "object_position": null,
            "order": null,
            "overflow": null,
            "overflow_x": null,
            "overflow_y": null,
            "padding": null,
            "right": null,
            "top": null,
            "visibility": null,
            "width": null
          }
        },
        "da0c526507f74a6fb0a1e1788ea83edf": {
          "model_module": "@jupyter-widgets/controls",
          "model_name": "DescriptionStyleModel",
          "model_module_version": "1.5.0",
          "state": {
            "_model_module": "@jupyter-widgets/controls",
            "_model_module_version": "1.5.0",
            "_model_name": "DescriptionStyleModel",
            "_view_count": null,
            "_view_module": "@jupyter-widgets/base",
            "_view_module_version": "1.2.0",
            "_view_name": "StyleView",
            "description_width": ""
          }
        },
        "f22d66f61c824b928e6a090e44c8ef56": {
          "model_module": "@jupyter-widgets/controls",
          "model_name": "HBoxModel",
          "model_module_version": "1.5.0",
          "state": {
            "_dom_classes": [],
            "_model_module": "@jupyter-widgets/controls",
            "_model_module_version": "1.5.0",
            "_model_name": "HBoxModel",
            "_view_count": null,
            "_view_module": "@jupyter-widgets/controls",
            "_view_module_version": "1.5.0",
            "_view_name": "HBoxView",
            "box_style": "",
            "children": [
              "IPY_MODEL_b81f9a91947b460b983039d6650aaf93",
              "IPY_MODEL_7339080371c24b1988166b3a21358cfd",
              "IPY_MODEL_7b86c116521e4837987e0aa7320af05c"
            ],
            "layout": "IPY_MODEL_a0f548297df140ce8845b2c6ee30be62"
          }
        },
        "b81f9a91947b460b983039d6650aaf93": {
          "model_module": "@jupyter-widgets/controls",
          "model_name": "HTMLModel",
          "model_module_version": "1.5.0",
          "state": {
            "_dom_classes": [],
            "_model_module": "@jupyter-widgets/controls",
            "_model_module_version": "1.5.0",
            "_model_name": "HTMLModel",
            "_view_count": null,
            "_view_module": "@jupyter-widgets/controls",
            "_view_module_version": "1.5.0",
            "_view_name": "HTMLView",
            "description": "",
            "description_tooltip": null,
            "layout": "IPY_MODEL_699dc003852245f9903e665c42e0b9af",
            "placeholder": "​",
            "style": "IPY_MODEL_a2c0e4ae1a1344489df0737a08b8cdec",
            "value": "100%"
          }
        },
        "7339080371c24b1988166b3a21358cfd": {
          "model_module": "@jupyter-widgets/controls",
          "model_name": "FloatProgressModel",
          "model_module_version": "1.5.0",
          "state": {
            "_dom_classes": [],
            "_model_module": "@jupyter-widgets/controls",
            "_model_module_version": "1.5.0",
            "_model_name": "FloatProgressModel",
            "_view_count": null,
            "_view_module": "@jupyter-widgets/controls",
            "_view_module_version": "1.5.0",
            "_view_name": "ProgressView",
            "bar_style": "success",
            "description": "",
            "description_tooltip": null,
            "layout": "IPY_MODEL_eb2dfa3699dc498491cd474d81898979",
            "max": 1,
            "min": 0,
            "orientation": "horizontal",
            "style": "IPY_MODEL_df18835c014f4fd1b7d39c6cff106017",
            "value": 1
          }
        },
        "7b86c116521e4837987e0aa7320af05c": {
          "model_module": "@jupyter-widgets/controls",
          "model_name": "HTMLModel",
          "model_module_version": "1.5.0",
          "state": {
            "_dom_classes": [],
            "_model_module": "@jupyter-widgets/controls",
            "_model_module_version": "1.5.0",
            "_model_name": "HTMLModel",
            "_view_count": null,
            "_view_module": "@jupyter-widgets/controls",
            "_view_module_version": "1.5.0",
            "_view_name": "HTMLView",
            "description": "",
            "description_tooltip": null,
            "layout": "IPY_MODEL_e67805b37c9d412bb811937973556d2f",
            "placeholder": "​",
            "style": "IPY_MODEL_3ac6c01853824d1f992473633778df05",
            "value": " 1/1 [00:03&lt;00:00,  3.01s/ba]"
          }
        },
        "a0f548297df140ce8845b2c6ee30be62": {
          "model_module": "@jupyter-widgets/base",
          "model_name": "LayoutModel",
          "model_module_version": "1.2.0",
          "state": {
            "_model_module": "@jupyter-widgets/base",
            "_model_module_version": "1.2.0",
            "_model_name": "LayoutModel",
            "_view_count": null,
            "_view_module": "@jupyter-widgets/base",
            "_view_module_version": "1.2.0",
            "_view_name": "LayoutView",
            "align_content": null,
            "align_items": null,
            "align_self": null,
            "border": null,
            "bottom": null,
            "display": null,
            "flex": null,
            "flex_flow": null,
            "grid_area": null,
            "grid_auto_columns": null,
            "grid_auto_flow": null,
            "grid_auto_rows": null,
            "grid_column": null,
            "grid_gap": null,
            "grid_row": null,
            "grid_template_areas": null,
            "grid_template_columns": null,
            "grid_template_rows": null,
            "height": null,
            "justify_content": null,
            "justify_items": null,
            "left": null,
            "margin": null,
            "max_height": null,
            "max_width": null,
            "min_height": null,
            "min_width": null,
            "object_fit": null,
            "object_position": null,
            "order": null,
            "overflow": null,
            "overflow_x": null,
            "overflow_y": null,
            "padding": null,
            "right": null,
            "top": null,
            "visibility": null,
            "width": null
          }
        },
        "699dc003852245f9903e665c42e0b9af": {
          "model_module": "@jupyter-widgets/base",
          "model_name": "LayoutModel",
          "model_module_version": "1.2.0",
          "state": {
            "_model_module": "@jupyter-widgets/base",
            "_model_module_version": "1.2.0",
            "_model_name": "LayoutModel",
            "_view_count": null,
            "_view_module": "@jupyter-widgets/base",
            "_view_module_version": "1.2.0",
            "_view_name": "LayoutView",
            "align_content": null,
            "align_items": null,
            "align_self": null,
            "border": null,
            "bottom": null,
            "display": null,
            "flex": null,
            "flex_flow": null,
            "grid_area": null,
            "grid_auto_columns": null,
            "grid_auto_flow": null,
            "grid_auto_rows": null,
            "grid_column": null,
            "grid_gap": null,
            "grid_row": null,
            "grid_template_areas": null,
            "grid_template_columns": null,
            "grid_template_rows": null,
            "height": null,
            "justify_content": null,
            "justify_items": null,
            "left": null,
            "margin": null,
            "max_height": null,
            "max_width": null,
            "min_height": null,
            "min_width": null,
            "object_fit": null,
            "object_position": null,
            "order": null,
            "overflow": null,
            "overflow_x": null,
            "overflow_y": null,
            "padding": null,
            "right": null,
            "top": null,
            "visibility": null,
            "width": null
          }
        },
        "a2c0e4ae1a1344489df0737a08b8cdec": {
          "model_module": "@jupyter-widgets/controls",
          "model_name": "DescriptionStyleModel",
          "model_module_version": "1.5.0",
          "state": {
            "_model_module": "@jupyter-widgets/controls",
            "_model_module_version": "1.5.0",
            "_model_name": "DescriptionStyleModel",
            "_view_count": null,
            "_view_module": "@jupyter-widgets/base",
            "_view_module_version": "1.2.0",
            "_view_name": "StyleView",
            "description_width": ""
          }
        },
        "eb2dfa3699dc498491cd474d81898979": {
          "model_module": "@jupyter-widgets/base",
          "model_name": "LayoutModel",
          "model_module_version": "1.2.0",
          "state": {
            "_model_module": "@jupyter-widgets/base",
            "_model_module_version": "1.2.0",
            "_model_name": "LayoutModel",
            "_view_count": null,
            "_view_module": "@jupyter-widgets/base",
            "_view_module_version": "1.2.0",
            "_view_name": "LayoutView",
            "align_content": null,
            "align_items": null,
            "align_self": null,
            "border": null,
            "bottom": null,
            "display": null,
            "flex": null,
            "flex_flow": null,
            "grid_area": null,
            "grid_auto_columns": null,
            "grid_auto_flow": null,
            "grid_auto_rows": null,
            "grid_column": null,
            "grid_gap": null,
            "grid_row": null,
            "grid_template_areas": null,
            "grid_template_columns": null,
            "grid_template_rows": null,
            "height": null,
            "justify_content": null,
            "justify_items": null,
            "left": null,
            "margin": null,
            "max_height": null,
            "max_width": null,
            "min_height": null,
            "min_width": null,
            "object_fit": null,
            "object_position": null,
            "order": null,
            "overflow": null,
            "overflow_x": null,
            "overflow_y": null,
            "padding": null,
            "right": null,
            "top": null,
            "visibility": null,
            "width": null
          }
        },
        "df18835c014f4fd1b7d39c6cff106017": {
          "model_module": "@jupyter-widgets/controls",
          "model_name": "ProgressStyleModel",
          "model_module_version": "1.5.0",
          "state": {
            "_model_module": "@jupyter-widgets/controls",
            "_model_module_version": "1.5.0",
            "_model_name": "ProgressStyleModel",
            "_view_count": null,
            "_view_module": "@jupyter-widgets/base",
            "_view_module_version": "1.2.0",
            "_view_name": "StyleView",
            "bar_color": null,
            "description_width": ""
          }
        },
        "e67805b37c9d412bb811937973556d2f": {
          "model_module": "@jupyter-widgets/base",
          "model_name": "LayoutModel",
          "model_module_version": "1.2.0",
          "state": {
            "_model_module": "@jupyter-widgets/base",
            "_model_module_version": "1.2.0",
            "_model_name": "LayoutModel",
            "_view_count": null,
            "_view_module": "@jupyter-widgets/base",
            "_view_module_version": "1.2.0",
            "_view_name": "LayoutView",
            "align_content": null,
            "align_items": null,
            "align_self": null,
            "border": null,
            "bottom": null,
            "display": null,
            "flex": null,
            "flex_flow": null,
            "grid_area": null,
            "grid_auto_columns": null,
            "grid_auto_flow": null,
            "grid_auto_rows": null,
            "grid_column": null,
            "grid_gap": null,
            "grid_row": null,
            "grid_template_areas": null,
            "grid_template_columns": null,
            "grid_template_rows": null,
            "height": null,
            "justify_content": null,
            "justify_items": null,
            "left": null,
            "margin": null,
            "max_height": null,
            "max_width": null,
            "min_height": null,
            "min_width": null,
            "object_fit": null,
            "object_position": null,
            "order": null,
            "overflow": null,
            "overflow_x": null,
            "overflow_y": null,
            "padding": null,
            "right": null,
            "top": null,
            "visibility": null,
            "width": null
          }
        },
        "3ac6c01853824d1f992473633778df05": {
          "model_module": "@jupyter-widgets/controls",
          "model_name": "DescriptionStyleModel",
          "model_module_version": "1.5.0",
          "state": {
            "_model_module": "@jupyter-widgets/controls",
            "_model_module_version": "1.5.0",
            "_model_name": "DescriptionStyleModel",
            "_view_count": null,
            "_view_module": "@jupyter-widgets/base",
            "_view_module_version": "1.2.0",
            "_view_name": "StyleView",
            "description_width": ""
          }
        },
        "ed97bb4577874fe2a01a189bf5d0c693": {
          "model_module": "@jupyter-widgets/controls",
          "model_name": "HBoxModel",
          "model_module_version": "1.5.0",
          "state": {
            "_dom_classes": [],
            "_model_module": "@jupyter-widgets/controls",
            "_model_module_version": "1.5.0",
            "_model_name": "HBoxModel",
            "_view_count": null,
            "_view_module": "@jupyter-widgets/controls",
            "_view_module_version": "1.5.0",
            "_view_name": "HBoxView",
            "box_style": "",
            "children": [
              "IPY_MODEL_5e36647a11074d368c902757ce0c068e",
              "IPY_MODEL_ce134c64c373434a9f8ea30680e9ab1b",
              "IPY_MODEL_6a3e28a0b86d4e998236a404c14ff65c"
            ],
            "layout": "IPY_MODEL_d4fd6866a5c74d82a65acd0a4c026cd5"
          }
        },
        "5e36647a11074d368c902757ce0c068e": {
          "model_module": "@jupyter-widgets/controls",
          "model_name": "HTMLModel",
          "model_module_version": "1.5.0",
          "state": {
            "_dom_classes": [],
            "_model_module": "@jupyter-widgets/controls",
            "_model_module_version": "1.5.0",
            "_model_name": "HTMLModel",
            "_view_count": null,
            "_view_module": "@jupyter-widgets/controls",
            "_view_module_version": "1.5.0",
            "_view_name": "HTMLView",
            "description": "",
            "description_tooltip": null,
            "layout": "IPY_MODEL_e2c01f9cab744f67b6d79df9c402244b",
            "placeholder": "​",
            "style": "IPY_MODEL_02e02b00edf8434b8e03db3bdb5c2904",
            "value": "100%"
          }
        },
        "ce134c64c373434a9f8ea30680e9ab1b": {
          "model_module": "@jupyter-widgets/controls",
          "model_name": "FloatProgressModel",
          "model_module_version": "1.5.0",
          "state": {
            "_dom_classes": [],
            "_model_module": "@jupyter-widgets/controls",
            "_model_module_version": "1.5.0",
            "_model_name": "FloatProgressModel",
            "_view_count": null,
            "_view_module": "@jupyter-widgets/controls",
            "_view_module_version": "1.5.0",
            "_view_name": "ProgressView",
            "bar_style": "success",
            "description": "",
            "description_tooltip": null,
            "layout": "IPY_MODEL_69661e35102c49368d39a278d15ab0ef",
            "max": 1,
            "min": 0,
            "orientation": "horizontal",
            "style": "IPY_MODEL_edefba8012434286aa38e474150146ab",
            "value": 1
          }
        },
        "6a3e28a0b86d4e998236a404c14ff65c": {
          "model_module": "@jupyter-widgets/controls",
          "model_name": "HTMLModel",
          "model_module_version": "1.5.0",
          "state": {
            "_dom_classes": [],
            "_model_module": "@jupyter-widgets/controls",
            "_model_module_version": "1.5.0",
            "_model_name": "HTMLModel",
            "_view_count": null,
            "_view_module": "@jupyter-widgets/controls",
            "_view_module_version": "1.5.0",
            "_view_name": "HTMLView",
            "description": "",
            "description_tooltip": null,
            "layout": "IPY_MODEL_122a238a2f1d4ab2b8c0a946286e11d8",
            "placeholder": "​",
            "style": "IPY_MODEL_353449290ff64dd5bd8f107aae40d3e4",
            "value": " 1/1 [00:02&lt;00:00,  2.95s/ba]"
          }
        },
        "d4fd6866a5c74d82a65acd0a4c026cd5": {
          "model_module": "@jupyter-widgets/base",
          "model_name": "LayoutModel",
          "model_module_version": "1.2.0",
          "state": {
            "_model_module": "@jupyter-widgets/base",
            "_model_module_version": "1.2.0",
            "_model_name": "LayoutModel",
            "_view_count": null,
            "_view_module": "@jupyter-widgets/base",
            "_view_module_version": "1.2.0",
            "_view_name": "LayoutView",
            "align_content": null,
            "align_items": null,
            "align_self": null,
            "border": null,
            "bottom": null,
            "display": null,
            "flex": null,
            "flex_flow": null,
            "grid_area": null,
            "grid_auto_columns": null,
            "grid_auto_flow": null,
            "grid_auto_rows": null,
            "grid_column": null,
            "grid_gap": null,
            "grid_row": null,
            "grid_template_areas": null,
            "grid_template_columns": null,
            "grid_template_rows": null,
            "height": null,
            "justify_content": null,
            "justify_items": null,
            "left": null,
            "margin": null,
            "max_height": null,
            "max_width": null,
            "min_height": null,
            "min_width": null,
            "object_fit": null,
            "object_position": null,
            "order": null,
            "overflow": null,
            "overflow_x": null,
            "overflow_y": null,
            "padding": null,
            "right": null,
            "top": null,
            "visibility": null,
            "width": null
          }
        },
        "e2c01f9cab744f67b6d79df9c402244b": {
          "model_module": "@jupyter-widgets/base",
          "model_name": "LayoutModel",
          "model_module_version": "1.2.0",
          "state": {
            "_model_module": "@jupyter-widgets/base",
            "_model_module_version": "1.2.0",
            "_model_name": "LayoutModel",
            "_view_count": null,
            "_view_module": "@jupyter-widgets/base",
            "_view_module_version": "1.2.0",
            "_view_name": "LayoutView",
            "align_content": null,
            "align_items": null,
            "align_self": null,
            "border": null,
            "bottom": null,
            "display": null,
            "flex": null,
            "flex_flow": null,
            "grid_area": null,
            "grid_auto_columns": null,
            "grid_auto_flow": null,
            "grid_auto_rows": null,
            "grid_column": null,
            "grid_gap": null,
            "grid_row": null,
            "grid_template_areas": null,
            "grid_template_columns": null,
            "grid_template_rows": null,
            "height": null,
            "justify_content": null,
            "justify_items": null,
            "left": null,
            "margin": null,
            "max_height": null,
            "max_width": null,
            "min_height": null,
            "min_width": null,
            "object_fit": null,
            "object_position": null,
            "order": null,
            "overflow": null,
            "overflow_x": null,
            "overflow_y": null,
            "padding": null,
            "right": null,
            "top": null,
            "visibility": null,
            "width": null
          }
        },
        "02e02b00edf8434b8e03db3bdb5c2904": {
          "model_module": "@jupyter-widgets/controls",
          "model_name": "DescriptionStyleModel",
          "model_module_version": "1.5.0",
          "state": {
            "_model_module": "@jupyter-widgets/controls",
            "_model_module_version": "1.5.0",
            "_model_name": "DescriptionStyleModel",
            "_view_count": null,
            "_view_module": "@jupyter-widgets/base",
            "_view_module_version": "1.2.0",
            "_view_name": "StyleView",
            "description_width": ""
          }
        },
        "69661e35102c49368d39a278d15ab0ef": {
          "model_module": "@jupyter-widgets/base",
          "model_name": "LayoutModel",
          "model_module_version": "1.2.0",
          "state": {
            "_model_module": "@jupyter-widgets/base",
            "_model_module_version": "1.2.0",
            "_model_name": "LayoutModel",
            "_view_count": null,
            "_view_module": "@jupyter-widgets/base",
            "_view_module_version": "1.2.0",
            "_view_name": "LayoutView",
            "align_content": null,
            "align_items": null,
            "align_self": null,
            "border": null,
            "bottom": null,
            "display": null,
            "flex": null,
            "flex_flow": null,
            "grid_area": null,
            "grid_auto_columns": null,
            "grid_auto_flow": null,
            "grid_auto_rows": null,
            "grid_column": null,
            "grid_gap": null,
            "grid_row": null,
            "grid_template_areas": null,
            "grid_template_columns": null,
            "grid_template_rows": null,
            "height": null,
            "justify_content": null,
            "justify_items": null,
            "left": null,
            "margin": null,
            "max_height": null,
            "max_width": null,
            "min_height": null,
            "min_width": null,
            "object_fit": null,
            "object_position": null,
            "order": null,
            "overflow": null,
            "overflow_x": null,
            "overflow_y": null,
            "padding": null,
            "right": null,
            "top": null,
            "visibility": null,
            "width": null
          }
        },
        "edefba8012434286aa38e474150146ab": {
          "model_module": "@jupyter-widgets/controls",
          "model_name": "ProgressStyleModel",
          "model_module_version": "1.5.0",
          "state": {
            "_model_module": "@jupyter-widgets/controls",
            "_model_module_version": "1.5.0",
            "_model_name": "ProgressStyleModel",
            "_view_count": null,
            "_view_module": "@jupyter-widgets/base",
            "_view_module_version": "1.2.0",
            "_view_name": "StyleView",
            "bar_color": null,
            "description_width": ""
          }
        },
        "122a238a2f1d4ab2b8c0a946286e11d8": {
          "model_module": "@jupyter-widgets/base",
          "model_name": "LayoutModel",
          "model_module_version": "1.2.0",
          "state": {
            "_model_module": "@jupyter-widgets/base",
            "_model_module_version": "1.2.0",
            "_model_name": "LayoutModel",
            "_view_count": null,
            "_view_module": "@jupyter-widgets/base",
            "_view_module_version": "1.2.0",
            "_view_name": "LayoutView",
            "align_content": null,
            "align_items": null,
            "align_self": null,
            "border": null,
            "bottom": null,
            "display": null,
            "flex": null,
            "flex_flow": null,
            "grid_area": null,
            "grid_auto_columns": null,
            "grid_auto_flow": null,
            "grid_auto_rows": null,
            "grid_column": null,
            "grid_gap": null,
            "grid_row": null,
            "grid_template_areas": null,
            "grid_template_columns": null,
            "grid_template_rows": null,
            "height": null,
            "justify_content": null,
            "justify_items": null,
            "left": null,
            "margin": null,
            "max_height": null,
            "max_width": null,
            "min_height": null,
            "min_width": null,
            "object_fit": null,
            "object_position": null,
            "order": null,
            "overflow": null,
            "overflow_x": null,
            "overflow_y": null,
            "padding": null,
            "right": null,
            "top": null,
            "visibility": null,
            "width": null
          }
        },
        "353449290ff64dd5bd8f107aae40d3e4": {
          "model_module": "@jupyter-widgets/controls",
          "model_name": "DescriptionStyleModel",
          "model_module_version": "1.5.0",
          "state": {
            "_model_module": "@jupyter-widgets/controls",
            "_model_module_version": "1.5.0",
            "_model_name": "DescriptionStyleModel",
            "_view_count": null,
            "_view_module": "@jupyter-widgets/base",
            "_view_module_version": "1.2.0",
            "_view_name": "StyleView",
            "description_width": ""
          }
        }
      }
    },
    "accelerator": "GPU"
  },
  "nbformat": 4,
  "nbformat_minor": 0
}